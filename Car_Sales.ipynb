{
 "cells": [
  {
   "cell_type": "markdown",
   "metadata": {},
   "source": [
    "# What sells a car?\n",
    "\n",
    "In the following project we are going to analyze a data from Crankshaft List including advertisements for vehicles are published on the site in order to understand what factors influence the price of a vehicle. We will try to identify and omitt outliers in the data, fill or omitt missing values and then, investigate the correlation between car's type, age, mileage, condition, type of transmission or color with it's price, in the two most common vehicle types. "
   ]
  },
  {
   "cell_type": "markdown",
   "metadata": {},
   "source": [
    "## Initialization"
   ]
  },
  {
   "cell_type": "code",
   "execution_count": 1,
   "metadata": {},
   "outputs": [],
   "source": [
    "# Loading all the libraries\n",
    "import pandas as pd\n",
    "import matplotlib.pyplot as plt \n",
    "import datetime as dt\n",
    "import numpy as np\n",
    "import seaborn as sns"
   ]
  },
  {
   "cell_type": "markdown",
   "metadata": {},
   "source": [
    "### Load data"
   ]
  },
  {
   "cell_type": "code",
   "execution_count": 2,
   "metadata": {},
   "outputs": [],
   "source": [
    "# Load the data file into a DataFrame\n",
    "try:\n",
    "    df=pd.read_csv('C:/Users/NELLY/Downloads/vehicles_us.csv')\n",
    "except:\n",
    "    df=pd.read_csv('/datasets/vehicles_us.csv')\n",
    "original_df=df.copy()"
   ]
  },
  {
   "cell_type": "code",
   "execution_count": 3,
   "metadata": {},
   "outputs": [
    {
     "data": {
      "text/html": [
       "<div>\n",
       "<style scoped>\n",
       "    .dataframe tbody tr th:only-of-type {\n",
       "        vertical-align: middle;\n",
       "    }\n",
       "\n",
       "    .dataframe tbody tr th {\n",
       "        vertical-align: top;\n",
       "    }\n",
       "\n",
       "    .dataframe thead th {\n",
       "        text-align: right;\n",
       "    }\n",
       "</style>\n",
       "<table border=\"1\" class=\"dataframe\">\n",
       "  <thead>\n",
       "    <tr style=\"text-align: right;\">\n",
       "      <th></th>\n",
       "      <th>price</th>\n",
       "      <th>model_year</th>\n",
       "      <th>model</th>\n",
       "      <th>condition</th>\n",
       "      <th>cylinders</th>\n",
       "      <th>fuel</th>\n",
       "      <th>odometer</th>\n",
       "      <th>transmission</th>\n",
       "      <th>type</th>\n",
       "      <th>paint_color</th>\n",
       "      <th>is_4wd</th>\n",
       "      <th>date_posted</th>\n",
       "      <th>days_listed</th>\n",
       "    </tr>\n",
       "  </thead>\n",
       "  <tbody>\n",
       "    <tr>\n",
       "      <th>0</th>\n",
       "      <td>9400</td>\n",
       "      <td>2011.0</td>\n",
       "      <td>bmw x5</td>\n",
       "      <td>good</td>\n",
       "      <td>6.0</td>\n",
       "      <td>gas</td>\n",
       "      <td>145000.0</td>\n",
       "      <td>automatic</td>\n",
       "      <td>SUV</td>\n",
       "      <td>NaN</td>\n",
       "      <td>1.0</td>\n",
       "      <td>2018-06-23</td>\n",
       "      <td>19</td>\n",
       "    </tr>\n",
       "    <tr>\n",
       "      <th>1</th>\n",
       "      <td>25500</td>\n",
       "      <td>NaN</td>\n",
       "      <td>ford f-150</td>\n",
       "      <td>good</td>\n",
       "      <td>6.0</td>\n",
       "      <td>gas</td>\n",
       "      <td>88705.0</td>\n",
       "      <td>automatic</td>\n",
       "      <td>pickup</td>\n",
       "      <td>white</td>\n",
       "      <td>1.0</td>\n",
       "      <td>2018-10-19</td>\n",
       "      <td>50</td>\n",
       "    </tr>\n",
       "    <tr>\n",
       "      <th>2</th>\n",
       "      <td>5500</td>\n",
       "      <td>2013.0</td>\n",
       "      <td>hyundai sonata</td>\n",
       "      <td>like new</td>\n",
       "      <td>4.0</td>\n",
       "      <td>gas</td>\n",
       "      <td>110000.0</td>\n",
       "      <td>automatic</td>\n",
       "      <td>sedan</td>\n",
       "      <td>red</td>\n",
       "      <td>NaN</td>\n",
       "      <td>2019-02-07</td>\n",
       "      <td>79</td>\n",
       "    </tr>\n",
       "    <tr>\n",
       "      <th>3</th>\n",
       "      <td>1500</td>\n",
       "      <td>2003.0</td>\n",
       "      <td>ford f-150</td>\n",
       "      <td>fair</td>\n",
       "      <td>8.0</td>\n",
       "      <td>gas</td>\n",
       "      <td>NaN</td>\n",
       "      <td>automatic</td>\n",
       "      <td>pickup</td>\n",
       "      <td>NaN</td>\n",
       "      <td>NaN</td>\n",
       "      <td>2019-03-22</td>\n",
       "      <td>9</td>\n",
       "    </tr>\n",
       "    <tr>\n",
       "      <th>4</th>\n",
       "      <td>14900</td>\n",
       "      <td>2017.0</td>\n",
       "      <td>chrysler 200</td>\n",
       "      <td>excellent</td>\n",
       "      <td>4.0</td>\n",
       "      <td>gas</td>\n",
       "      <td>80903.0</td>\n",
       "      <td>automatic</td>\n",
       "      <td>sedan</td>\n",
       "      <td>black</td>\n",
       "      <td>NaN</td>\n",
       "      <td>2019-04-02</td>\n",
       "      <td>28</td>\n",
       "    </tr>\n",
       "    <tr>\n",
       "      <th>5</th>\n",
       "      <td>14990</td>\n",
       "      <td>2014.0</td>\n",
       "      <td>chrysler 300</td>\n",
       "      <td>excellent</td>\n",
       "      <td>6.0</td>\n",
       "      <td>gas</td>\n",
       "      <td>57954.0</td>\n",
       "      <td>automatic</td>\n",
       "      <td>sedan</td>\n",
       "      <td>black</td>\n",
       "      <td>1.0</td>\n",
       "      <td>2018-06-20</td>\n",
       "      <td>15</td>\n",
       "    </tr>\n",
       "    <tr>\n",
       "      <th>6</th>\n",
       "      <td>12990</td>\n",
       "      <td>2015.0</td>\n",
       "      <td>toyota camry</td>\n",
       "      <td>excellent</td>\n",
       "      <td>4.0</td>\n",
       "      <td>gas</td>\n",
       "      <td>79212.0</td>\n",
       "      <td>automatic</td>\n",
       "      <td>sedan</td>\n",
       "      <td>white</td>\n",
       "      <td>NaN</td>\n",
       "      <td>2018-12-27</td>\n",
       "      <td>73</td>\n",
       "    </tr>\n",
       "    <tr>\n",
       "      <th>7</th>\n",
       "      <td>15990</td>\n",
       "      <td>2013.0</td>\n",
       "      <td>honda pilot</td>\n",
       "      <td>excellent</td>\n",
       "      <td>6.0</td>\n",
       "      <td>gas</td>\n",
       "      <td>109473.0</td>\n",
       "      <td>automatic</td>\n",
       "      <td>SUV</td>\n",
       "      <td>black</td>\n",
       "      <td>1.0</td>\n",
       "      <td>2019-01-07</td>\n",
       "      <td>68</td>\n",
       "    </tr>\n",
       "    <tr>\n",
       "      <th>8</th>\n",
       "      <td>11500</td>\n",
       "      <td>2012.0</td>\n",
       "      <td>kia sorento</td>\n",
       "      <td>excellent</td>\n",
       "      <td>4.0</td>\n",
       "      <td>gas</td>\n",
       "      <td>104174.0</td>\n",
       "      <td>automatic</td>\n",
       "      <td>SUV</td>\n",
       "      <td>NaN</td>\n",
       "      <td>1.0</td>\n",
       "      <td>2018-07-16</td>\n",
       "      <td>19</td>\n",
       "    </tr>\n",
       "    <tr>\n",
       "      <th>9</th>\n",
       "      <td>9200</td>\n",
       "      <td>2008.0</td>\n",
       "      <td>honda pilot</td>\n",
       "      <td>excellent</td>\n",
       "      <td>NaN</td>\n",
       "      <td>gas</td>\n",
       "      <td>147191.0</td>\n",
       "      <td>automatic</td>\n",
       "      <td>SUV</td>\n",
       "      <td>blue</td>\n",
       "      <td>1.0</td>\n",
       "      <td>2019-02-15</td>\n",
       "      <td>17</td>\n",
       "    </tr>\n",
       "  </tbody>\n",
       "</table>\n",
       "</div>"
      ],
      "text/plain": [
       "   price  model_year           model  condition  cylinders fuel  odometer  \\\n",
       "0   9400      2011.0          bmw x5       good        6.0  gas  145000.0   \n",
       "1  25500         NaN      ford f-150       good        6.0  gas   88705.0   \n",
       "2   5500      2013.0  hyundai sonata   like new        4.0  gas  110000.0   \n",
       "3   1500      2003.0      ford f-150       fair        8.0  gas       NaN   \n",
       "4  14900      2017.0    chrysler 200  excellent        4.0  gas   80903.0   \n",
       "5  14990      2014.0    chrysler 300  excellent        6.0  gas   57954.0   \n",
       "6  12990      2015.0    toyota camry  excellent        4.0  gas   79212.0   \n",
       "7  15990      2013.0     honda pilot  excellent        6.0  gas  109473.0   \n",
       "8  11500      2012.0     kia sorento  excellent        4.0  gas  104174.0   \n",
       "9   9200      2008.0     honda pilot  excellent        NaN  gas  147191.0   \n",
       "\n",
       "  transmission    type paint_color  is_4wd date_posted  days_listed  \n",
       "0    automatic     SUV         NaN     1.0  2018-06-23           19  \n",
       "1    automatic  pickup       white     1.0  2018-10-19           50  \n",
       "2    automatic   sedan         red     NaN  2019-02-07           79  \n",
       "3    automatic  pickup         NaN     NaN  2019-03-22            9  \n",
       "4    automatic   sedan       black     NaN  2019-04-02           28  \n",
       "5    automatic   sedan       black     1.0  2018-06-20           15  \n",
       "6    automatic   sedan       white     NaN  2018-12-27           73  \n",
       "7    automatic     SUV       black     1.0  2019-01-07           68  \n",
       "8    automatic     SUV         NaN     1.0  2018-07-16           19  \n",
       "9    automatic     SUV        blue     1.0  2019-02-15           17  "
      ]
     },
     "execution_count": 3,
     "metadata": {},
     "output_type": "execute_result"
    }
   ],
   "source": [
    "df.head(10)"
   ]
  },
  {
   "cell_type": "code",
   "execution_count": 4,
   "metadata": {},
   "outputs": [
    {
     "name": "stdout",
     "output_type": "stream",
     "text": [
      "<class 'pandas.core.frame.DataFrame'>\n",
      "RangeIndex: 51525 entries, 0 to 51524\n",
      "Data columns (total 13 columns):\n",
      " #   Column        Non-Null Count  Dtype  \n",
      "---  ------        --------------  -----  \n",
      " 0   price         51525 non-null  int64  \n",
      " 1   model_year    47906 non-null  float64\n",
      " 2   model         51525 non-null  object \n",
      " 3   condition     51525 non-null  object \n",
      " 4   cylinders     46265 non-null  float64\n",
      " 5   fuel          51525 non-null  object \n",
      " 6   odometer      43633 non-null  float64\n",
      " 7   transmission  51525 non-null  object \n",
      " 8   type          51525 non-null  object \n",
      " 9   paint_color   42258 non-null  object \n",
      " 10  is_4wd        25572 non-null  float64\n",
      " 11  date_posted   51525 non-null  object \n",
      " 12  days_listed   51525 non-null  int64  \n",
      "dtypes: float64(4), int64(2), object(7)\n",
      "memory usage: 5.1+ MB\n"
     ]
    }
   ],
   "source": [
    "original_df.info()"
   ]
  },
  {
   "cell_type": "markdown",
   "metadata": {},
   "source": [
    "### Explore initial data"
   ]
  },
  {
   "cell_type": "markdown",
   "metadata": {},
   "source": [
    "The dataset contains the following fields:\n",
    "- `price`\n",
    "- `model_year`\n",
    "- `model`\n",
    "- `condition`\n",
    "- `cylinders`\n",
    "- `fuel` — gas, diesel, etc.\n",
    "- `odometer` — the vehicle's mileage when the ad was published\n",
    "- `transmission`\n",
    "- `paint_color`\n",
    "- `is_4wd` — whether the vehicle has 4-wheel drive (Boolean type)\n",
    "- `date_posted` — the date the ad was published\n",
    "- `days_listed` — from publication to removal"
   ]
  },
  {
   "cell_type": "code",
   "execution_count": 5,
   "metadata": {},
   "outputs": [
    {
     "data": {
      "text/html": [
       "<div>\n",
       "<style scoped>\n",
       "    .dataframe tbody tr th:only-of-type {\n",
       "        vertical-align: middle;\n",
       "    }\n",
       "\n",
       "    .dataframe tbody tr th {\n",
       "        vertical-align: top;\n",
       "    }\n",
       "\n",
       "    .dataframe thead th {\n",
       "        text-align: right;\n",
       "    }\n",
       "</style>\n",
       "<table border=\"1\" class=\"dataframe\">\n",
       "  <thead>\n",
       "    <tr style=\"text-align: right;\">\n",
       "      <th></th>\n",
       "      <th>price</th>\n",
       "      <th>model_year</th>\n",
       "      <th>cylinders</th>\n",
       "      <th>odometer</th>\n",
       "      <th>is_4wd</th>\n",
       "      <th>days_listed</th>\n",
       "    </tr>\n",
       "  </thead>\n",
       "  <tbody>\n",
       "    <tr>\n",
       "      <th>count</th>\n",
       "      <td>51525.000000</td>\n",
       "      <td>47906.000000</td>\n",
       "      <td>46265.000000</td>\n",
       "      <td>43633.000000</td>\n",
       "      <td>25572.0</td>\n",
       "      <td>51525.00000</td>\n",
       "    </tr>\n",
       "    <tr>\n",
       "      <th>mean</th>\n",
       "      <td>12132.464920</td>\n",
       "      <td>2009.750470</td>\n",
       "      <td>6.125235</td>\n",
       "      <td>115553.461738</td>\n",
       "      <td>1.0</td>\n",
       "      <td>39.55476</td>\n",
       "    </tr>\n",
       "    <tr>\n",
       "      <th>std</th>\n",
       "      <td>10040.803015</td>\n",
       "      <td>6.282065</td>\n",
       "      <td>1.660360</td>\n",
       "      <td>65094.611341</td>\n",
       "      <td>0.0</td>\n",
       "      <td>28.20427</td>\n",
       "    </tr>\n",
       "    <tr>\n",
       "      <th>min</th>\n",
       "      <td>1.000000</td>\n",
       "      <td>1908.000000</td>\n",
       "      <td>3.000000</td>\n",
       "      <td>0.000000</td>\n",
       "      <td>1.0</td>\n",
       "      <td>0.00000</td>\n",
       "    </tr>\n",
       "    <tr>\n",
       "      <th>25%</th>\n",
       "      <td>5000.000000</td>\n",
       "      <td>2006.000000</td>\n",
       "      <td>4.000000</td>\n",
       "      <td>70000.000000</td>\n",
       "      <td>1.0</td>\n",
       "      <td>19.00000</td>\n",
       "    </tr>\n",
       "    <tr>\n",
       "      <th>50%</th>\n",
       "      <td>9000.000000</td>\n",
       "      <td>2011.000000</td>\n",
       "      <td>6.000000</td>\n",
       "      <td>113000.000000</td>\n",
       "      <td>1.0</td>\n",
       "      <td>33.00000</td>\n",
       "    </tr>\n",
       "    <tr>\n",
       "      <th>75%</th>\n",
       "      <td>16839.000000</td>\n",
       "      <td>2014.000000</td>\n",
       "      <td>8.000000</td>\n",
       "      <td>155000.000000</td>\n",
       "      <td>1.0</td>\n",
       "      <td>53.00000</td>\n",
       "    </tr>\n",
       "    <tr>\n",
       "      <th>max</th>\n",
       "      <td>375000.000000</td>\n",
       "      <td>2019.000000</td>\n",
       "      <td>12.000000</td>\n",
       "      <td>990000.000000</td>\n",
       "      <td>1.0</td>\n",
       "      <td>271.00000</td>\n",
       "    </tr>\n",
       "  </tbody>\n",
       "</table>\n",
       "</div>"
      ],
      "text/plain": [
       "               price    model_year     cylinders       odometer   is_4wd  \\\n",
       "count   51525.000000  47906.000000  46265.000000   43633.000000  25572.0   \n",
       "mean    12132.464920   2009.750470      6.125235  115553.461738      1.0   \n",
       "std     10040.803015      6.282065      1.660360   65094.611341      0.0   \n",
       "min         1.000000   1908.000000      3.000000       0.000000      1.0   \n",
       "25%      5000.000000   2006.000000      4.000000   70000.000000      1.0   \n",
       "50%      9000.000000   2011.000000      6.000000  113000.000000      1.0   \n",
       "75%     16839.000000   2014.000000      8.000000  155000.000000      1.0   \n",
       "max    375000.000000   2019.000000     12.000000  990000.000000      1.0   \n",
       "\n",
       "       days_listed  \n",
       "count  51525.00000  \n",
       "mean      39.55476  \n",
       "std       28.20427  \n",
       "min        0.00000  \n",
       "25%       19.00000  \n",
       "50%       33.00000  \n",
       "75%       53.00000  \n",
       "max      271.00000  "
      ]
     },
     "execution_count": 5,
     "metadata": {},
     "output_type": "execute_result"
    }
   ],
   "source": [
    "# print the general/summary information about the DataFrame\n",
    "df.describe()\n"
   ]
  },
  {
   "cell_type": "code",
   "execution_count": 6,
   "metadata": {},
   "outputs": [
    {
     "name": "stdout",
     "output_type": "stream",
     "text": [
      "<class 'pandas.core.frame.DataFrame'>\n",
      "RangeIndex: 51525 entries, 0 to 51524\n",
      "Data columns (total 13 columns):\n",
      " #   Column        Non-Null Count  Dtype  \n",
      "---  ------        --------------  -----  \n",
      " 0   price         51525 non-null  int64  \n",
      " 1   model_year    47906 non-null  float64\n",
      " 2   model         51525 non-null  object \n",
      " 3   condition     51525 non-null  object \n",
      " 4   cylinders     46265 non-null  float64\n",
      " 5   fuel          51525 non-null  object \n",
      " 6   odometer      43633 non-null  float64\n",
      " 7   transmission  51525 non-null  object \n",
      " 8   type          51525 non-null  object \n",
      " 9   paint_color   42258 non-null  object \n",
      " 10  is_4wd        25572 non-null  float64\n",
      " 11  date_posted   51525 non-null  object \n",
      " 12  days_listed   51525 non-null  int64  \n",
      "dtypes: float64(4), int64(2), object(7)\n",
      "memory usage: 5.1+ MB\n"
     ]
    }
   ],
   "source": [
    "df.info()"
   ]
  },
  {
   "cell_type": "markdown",
   "metadata": {},
   "source": [
    "what we can see from the info?\n",
    "> model year is a float but it should be a time\n",
    "\n",
    ">date posted is an object but should be time \n",
    "\n",
    "> there are missing values in model_year, cylinders, odometer, paint_color, is_4wd variables. "
   ]
  },
  {
   "cell_type": "markdown",
   "metadata": {},
   "source": [
    "First, I want to check the categorical columns in the data to see if there are duplicate values caused by typo's since python is case sensitive:"
   ]
  },
  {
   "cell_type": "code",
   "execution_count": 7,
   "metadata": {},
   "outputs": [
    {
     "name": "stdout",
     "output_type": "stream",
     "text": [
      "The unique values in column model are: ['acura tl' 'bmw x5' 'buick enclave' 'cadillac escalade'\n",
      " 'chevrolet camaro' 'chevrolet camaro lt coupe 2d' 'chevrolet colorado'\n",
      " 'chevrolet corvette' 'chevrolet cruze' 'chevrolet equinox'\n",
      " 'chevrolet impala' 'chevrolet malibu' 'chevrolet silverado'\n",
      " 'chevrolet silverado 1500' 'chevrolet silverado 1500 crew'\n",
      " 'chevrolet silverado 2500hd' 'chevrolet silverado 3500hd'\n",
      " 'chevrolet suburban' 'chevrolet tahoe' 'chevrolet trailblazer'\n",
      " 'chevrolet traverse' 'chrysler 200' 'chrysler 300'\n",
      " 'chrysler town & country' 'dodge charger' 'dodge dakota'\n",
      " 'dodge grand caravan' 'ford econoline' 'ford edge' 'ford escape'\n",
      " 'ford expedition' 'ford explorer' 'ford f-150' 'ford f-250'\n",
      " 'ford f-250 sd' 'ford f-250 super duty' 'ford f-350 sd' 'ford f150'\n",
      " 'ford f150 supercrew cab xlt' 'ford f250' 'ford f250 super duty'\n",
      " 'ford f350' 'ford f350 super duty' 'ford focus' 'ford focus se'\n",
      " 'ford fusion' 'ford fusion se' 'ford mustang' 'ford mustang gt coupe 2d'\n",
      " 'ford ranger' 'ford taurus' 'gmc acadia' 'gmc sierra' 'gmc sierra 1500'\n",
      " 'gmc sierra 2500hd' 'gmc yukon' 'honda accord' 'honda civic'\n",
      " 'honda civic lx' 'honda cr-v' 'honda odyssey' 'honda pilot'\n",
      " 'hyundai elantra' 'hyundai santa fe' 'hyundai sonata' 'jeep cherokee'\n",
      " 'jeep grand cherokee' 'jeep grand cherokee laredo' 'jeep liberty'\n",
      " 'jeep wrangler' 'jeep wrangler unlimited' 'kia sorento' 'kia soul'\n",
      " 'mercedes-benz benze sprinter 2500' 'nissan altima' 'nissan frontier'\n",
      " 'nissan frontier crew cab sv' 'nissan maxima' 'nissan murano'\n",
      " 'nissan rogue' 'nissan sentra' 'nissan versa' 'ram 1500' 'ram 2500'\n",
      " 'ram 3500' 'subaru forester' 'subaru impreza' 'subaru outback'\n",
      " 'toyota 4runner' 'toyota camry' 'toyota camry le' 'toyota corolla'\n",
      " 'toyota highlander' 'toyota prius' 'toyota rav4' 'toyota sienna'\n",
      " 'toyota tacoma' 'toyota tundra' 'volkswagen jetta' 'volkswagen passat']\n",
      "The unique values in column condition are: ['excellent' 'fair' 'good' 'like new' 'new' 'salvage']\n",
      "The unique values in column fuel are: ['diesel' 'electric' 'gas' 'hybrid' 'other']\n",
      "The unique values in column transmission are: ['automatic' 'manual' 'other']\n",
      "The unique values in column type are: ['SUV' 'bus' 'convertible' 'coupe' 'hatchback' 'mini-van' 'offroad'\n",
      " 'other' 'pickup' 'sedan' 'truck' 'van' 'wagon']\n",
      "The unique values in column paint_color are: ['black' 'blue' 'brown' 'custom' 'green' 'grey' 'orange' 'purple' 'red'\n",
      " 'silver' 'white' 'yellow' nan]\n",
      "The unique values in column date_posted are: ['2018-05-01' '2018-05-02' '2018-05-03' '2018-05-04' '2018-05-05'\n",
      " '2018-05-06' '2018-05-07' '2018-05-08' '2018-05-09' '2018-05-10'\n",
      " '2018-05-11' '2018-05-12' '2018-05-13' '2018-05-14' '2018-05-15'\n",
      " '2018-05-16' '2018-05-17' '2018-05-18' '2018-05-19' '2018-05-20'\n",
      " '2018-05-21' '2018-05-22' '2018-05-23' '2018-05-24' '2018-05-25'\n",
      " '2018-05-26' '2018-05-27' '2018-05-28' '2018-05-29' '2018-05-30'\n",
      " '2018-05-31' '2018-06-01' '2018-06-02' '2018-06-03' '2018-06-04'\n",
      " '2018-06-05' '2018-06-06' '2018-06-07' '2018-06-08' '2018-06-09'\n",
      " '2018-06-10' '2018-06-11' '2018-06-12' '2018-06-13' '2018-06-14'\n",
      " '2018-06-15' '2018-06-16' '2018-06-17' '2018-06-18' '2018-06-19'\n",
      " '2018-06-20' '2018-06-21' '2018-06-22' '2018-06-23' '2018-06-24'\n",
      " '2018-06-25' '2018-06-26' '2018-06-27' '2018-06-28' '2018-06-29'\n",
      " '2018-06-30' '2018-07-01' '2018-07-02' '2018-07-03' '2018-07-04'\n",
      " '2018-07-05' '2018-07-06' '2018-07-07' '2018-07-08' '2018-07-09'\n",
      " '2018-07-10' '2018-07-11' '2018-07-12' '2018-07-13' '2018-07-14'\n",
      " '2018-07-15' '2018-07-16' '2018-07-17' '2018-07-18' '2018-07-19'\n",
      " '2018-07-20' '2018-07-21' '2018-07-22' '2018-07-23' '2018-07-24'\n",
      " '2018-07-25' '2018-07-26' '2018-07-27' '2018-07-28' '2018-07-29'\n",
      " '2018-07-30' '2018-07-31' '2018-08-01' '2018-08-02' '2018-08-03'\n",
      " '2018-08-04' '2018-08-05' '2018-08-06' '2018-08-07' '2018-08-08'\n",
      " '2018-08-09' '2018-08-10' '2018-08-11' '2018-08-12' '2018-08-13'\n",
      " '2018-08-14' '2018-08-15' '2018-08-16' '2018-08-17' '2018-08-18'\n",
      " '2018-08-19' '2018-08-20' '2018-08-21' '2018-08-22' '2018-08-23'\n",
      " '2018-08-24' '2018-08-25' '2018-08-26' '2018-08-27' '2018-08-28'\n",
      " '2018-08-29' '2018-08-30' '2018-08-31' '2018-09-01' '2018-09-02'\n",
      " '2018-09-03' '2018-09-04' '2018-09-05' '2018-09-06' '2018-09-07'\n",
      " '2018-09-08' '2018-09-09' '2018-09-10' '2018-09-11' '2018-09-12'\n",
      " '2018-09-13' '2018-09-14' '2018-09-15' '2018-09-16' '2018-09-17'\n",
      " '2018-09-18' '2018-09-19' '2018-09-20' '2018-09-21' '2018-09-22'\n",
      " '2018-09-23' '2018-09-24' '2018-09-25' '2018-09-26' '2018-09-27'\n",
      " '2018-09-28' '2018-09-29' '2018-09-30' '2018-10-01' '2018-10-02'\n",
      " '2018-10-03' '2018-10-04' '2018-10-05' '2018-10-06' '2018-10-07'\n",
      " '2018-10-08' '2018-10-09' '2018-10-10' '2018-10-11' '2018-10-12'\n",
      " '2018-10-13' '2018-10-14' '2018-10-15' '2018-10-16' '2018-10-17'\n",
      " '2018-10-18' '2018-10-19' '2018-10-20' '2018-10-21' '2018-10-22'\n",
      " '2018-10-23' '2018-10-24' '2018-10-25' '2018-10-26' '2018-10-27'\n",
      " '2018-10-28' '2018-10-29' '2018-10-30' '2018-10-31' '2018-11-01'\n",
      " '2018-11-02' '2018-11-03' '2018-11-04' '2018-11-05' '2018-11-06'\n",
      " '2018-11-07' '2018-11-08' '2018-11-09' '2018-11-10' '2018-11-11'\n",
      " '2018-11-12' '2018-11-13' '2018-11-14' '2018-11-15' '2018-11-16'\n",
      " '2018-11-17' '2018-11-18' '2018-11-19' '2018-11-20' '2018-11-21'\n",
      " '2018-11-22' '2018-11-23' '2018-11-24' '2018-11-25' '2018-11-26'\n",
      " '2018-11-27' '2018-11-28' '2018-11-29' '2018-11-30' '2018-12-01'\n",
      " '2018-12-02' '2018-12-03' '2018-12-04' '2018-12-05' '2018-12-06'\n",
      " '2018-12-07' '2018-12-08' '2018-12-09' '2018-12-10' '2018-12-11'\n",
      " '2018-12-12' '2018-12-13' '2018-12-14' '2018-12-15' '2018-12-16'\n",
      " '2018-12-17' '2018-12-18' '2018-12-19' '2018-12-20' '2018-12-21'\n",
      " '2018-12-22' '2018-12-23' '2018-12-24' '2018-12-25' '2018-12-26'\n",
      " '2018-12-27' '2018-12-28' '2018-12-29' '2018-12-30' '2018-12-31'\n",
      " '2019-01-01' '2019-01-02' '2019-01-03' '2019-01-04' '2019-01-05'\n",
      " '2019-01-06' '2019-01-07' '2019-01-08' '2019-01-09' '2019-01-10'\n",
      " '2019-01-11' '2019-01-12' '2019-01-13' '2019-01-14' '2019-01-15'\n",
      " '2019-01-16' '2019-01-17' '2019-01-18' '2019-01-19' '2019-01-20'\n",
      " '2019-01-21' '2019-01-22' '2019-01-23' '2019-01-24' '2019-01-25'\n",
      " '2019-01-26' '2019-01-27' '2019-01-28' '2019-01-29' '2019-01-30'\n",
      " '2019-01-31' '2019-02-01' '2019-02-02' '2019-02-03' '2019-02-04'\n",
      " '2019-02-05' '2019-02-06' '2019-02-07' '2019-02-08' '2019-02-09'\n",
      " '2019-02-10' '2019-02-11' '2019-02-12' '2019-02-13' '2019-02-14'\n",
      " '2019-02-15' '2019-02-16' '2019-02-17' '2019-02-18' '2019-02-19'\n",
      " '2019-02-20' '2019-02-21' '2019-02-22' '2019-02-23' '2019-02-24'\n",
      " '2019-02-25' '2019-02-26' '2019-02-27' '2019-02-28' '2019-03-01'\n",
      " '2019-03-02' '2019-03-03' '2019-03-04' '2019-03-05' '2019-03-06'\n",
      " '2019-03-07' '2019-03-08' '2019-03-09' '2019-03-10' '2019-03-11'\n",
      " '2019-03-12' '2019-03-13' '2019-03-14' '2019-03-15' '2019-03-16'\n",
      " '2019-03-17' '2019-03-18' '2019-03-19' '2019-03-20' '2019-03-21'\n",
      " '2019-03-22' '2019-03-23' '2019-03-24' '2019-03-25' '2019-03-26'\n",
      " '2019-03-27' '2019-03-28' '2019-03-29' '2019-03-30' '2019-03-31'\n",
      " '2019-04-01' '2019-04-02' '2019-04-03' '2019-04-04' '2019-04-05'\n",
      " '2019-04-06' '2019-04-07' '2019-04-08' '2019-04-09' '2019-04-10'\n",
      " '2019-04-11' '2019-04-12' '2019-04-13' '2019-04-14' '2019-04-15'\n",
      " '2019-04-16' '2019-04-17' '2019-04-18' '2019-04-19']\n"
     ]
    }
   ],
   "source": [
    "for col in df.columns:\n",
    "    if df[col].dtypes== object:\n",
    "        print(f'The unique values in column {col} are: {df[col].sort_values().unique()}')\n"
   ]
  },
  {
   "cell_type": "markdown",
   "metadata": {},
   "source": [
    "### Conclusions and further steps\n",
    "\n",
    "[Formulate your conclusions regarding the initial data. What do you think looks normal and what does not not?]\n",
    "\n",
    "[Explain your next steps and how they correlate with the conclusions you made so far. Specifically, it should be clear what part of data should be treated to make it more suitable for the required analysis.]"
   ]
  },
  {
   "cell_type": "markdown",
   "metadata": {},
   "source": [
    "It seems like all the categorical cols include different unique values, but the column of the date the ad was posted is needed to change to different data type."
   ]
  },
  {
   "cell_type": "markdown",
   "metadata": {},
   "source": [
    "## Treat missing values "
   ]
  },
  {
   "cell_type": "markdown",
   "metadata": {},
   "source": [
    "1. is_4wd:"
   ]
  },
  {
   "cell_type": "code",
   "execution_count": 8,
   "metadata": {},
   "outputs": [
    {
     "data": {
      "text/html": [
       "<div>\n",
       "<style scoped>\n",
       "    .dataframe tbody tr th:only-of-type {\n",
       "        vertical-align: middle;\n",
       "    }\n",
       "\n",
       "    .dataframe tbody tr th {\n",
       "        vertical-align: top;\n",
       "    }\n",
       "\n",
       "    .dataframe thead th {\n",
       "        text-align: right;\n",
       "    }\n",
       "</style>\n",
       "<table border=\"1\" class=\"dataframe\">\n",
       "  <thead>\n",
       "    <tr style=\"text-align: right;\">\n",
       "      <th></th>\n",
       "      <th>price</th>\n",
       "      <th>model_year</th>\n",
       "      <th>model</th>\n",
       "      <th>condition</th>\n",
       "      <th>cylinders</th>\n",
       "      <th>fuel</th>\n",
       "      <th>odometer</th>\n",
       "      <th>transmission</th>\n",
       "      <th>type</th>\n",
       "      <th>paint_color</th>\n",
       "      <th>date_posted</th>\n",
       "      <th>days_listed</th>\n",
       "    </tr>\n",
       "    <tr>\n",
       "      <th>is_4wd</th>\n",
       "      <th></th>\n",
       "      <th></th>\n",
       "      <th></th>\n",
       "      <th></th>\n",
       "      <th></th>\n",
       "      <th></th>\n",
       "      <th></th>\n",
       "      <th></th>\n",
       "      <th></th>\n",
       "      <th></th>\n",
       "      <th></th>\n",
       "      <th></th>\n",
       "    </tr>\n",
       "  </thead>\n",
       "  <tbody>\n",
       "    <tr>\n",
       "      <th>1.0</th>\n",
       "      <td>25572</td>\n",
       "      <td>23764</td>\n",
       "      <td>25572</td>\n",
       "      <td>25572</td>\n",
       "      <td>22993</td>\n",
       "      <td>25572</td>\n",
       "      <td>21696</td>\n",
       "      <td>25572</td>\n",
       "      <td>25572</td>\n",
       "      <td>20942</td>\n",
       "      <td>25572</td>\n",
       "      <td>25572</td>\n",
       "    </tr>\n",
       "  </tbody>\n",
       "</table>\n",
       "</div>"
      ],
      "text/plain": [
       "        price  model_year  model  condition  cylinders   fuel  odometer  \\\n",
       "is_4wd                                                                    \n",
       "1.0     25572       23764  25572      25572      22993  25572     21696   \n",
       "\n",
       "        transmission   type  paint_color  date_posted  days_listed  \n",
       "is_4wd                                                              \n",
       "1.0            25572  25572        20942        25572        25572  "
      ]
     },
     "execution_count": 8,
     "metadata": {},
     "output_type": "execute_result"
    }
   ],
   "source": [
    "df.groupby('is_4wd').count()\n"
   ]
  },
  {
   "cell_type": "code",
   "execution_count": 9,
   "metadata": {},
   "outputs": [
    {
     "data": {
      "text/plain": [
       "0.5036972343522562"
      ]
     },
     "execution_count": 9,
     "metadata": {},
     "output_type": "execute_result"
    }
   ],
   "source": [
    "df[df['is_4wd']!=1.0].shape[0]/df.shape[0]"
   ]
  },
  {
   "cell_type": "markdown",
   "metadata": {},
   "source": [
    "We see that is_4wd has only values of 1.0 and all the other rows do not have values and constitutes 50% of the data. From that info, it is reasonable to believe that all the missing values are actually equal to 0:"
   ]
  },
  {
   "cell_type": "code",
   "execution_count": 10,
   "metadata": {},
   "outputs": [
    {
     "data": {
      "text/plain": [
       "is_4wd\n",
       "False    51525\n",
       "Name: count, dtype: int64"
      ]
     },
     "execution_count": 10,
     "metadata": {},
     "output_type": "execute_result"
    }
   ],
   "source": [
    "df['is_4wd'].fillna(value=0.0, inplace=True)\n",
    "#checking if still there are missing values\n",
    "df.is_4wd.isna().value_counts()"
   ]
  },
  {
   "cell_type": "markdown",
   "metadata": {},
   "source": [
    "2. model_year:\n",
    "Differnt models are manufactured in different years, some of the models are new and some models are manufactured for many years \n",
    "under the same name. Aditionally, it seems reasonable to say that in most of the cases there will be a relationship\n",
    "between the age of the car and its condition. To fill the missing values with the most accurate value we will group the \n",
    "df by model and condition and choose the most common year model for each model&condition.\n",
    "first we will change the type of the condition variable:"
   ]
  },
  {
   "cell_type": "code",
   "execution_count": 11,
   "metadata": {},
   "outputs": [],
   "source": [
    "#creating a dictionary that stores the category names as keys and their numerical identifier as value\n",
    "cond_dict={ 'new': 5, 'like new': 4, 'excellent': 3, 'good': 2, 'fair': 1, 'salvage': 0}"
   ]
  },
  {
   "cell_type": "code",
   "execution_count": 12,
   "metadata": {},
   "outputs": [],
   "source": [
    "#changing the values in the column from strings to integers.\n",
    "df['condition']=df['condition'].map(cond_dict)\n"
   ]
  },
  {
   "cell_type": "code",
   "execution_count": 13,
   "metadata": {},
   "outputs": [
    {
     "data": {
      "text/plain": [
       "model_year\n",
       "False    51519\n",
       "True         6\n",
       "Name: count, dtype: int64"
      ]
     },
     "execution_count": 13,
     "metadata": {},
     "output_type": "execute_result"
    }
   ],
   "source": [
    "#grouping the df by model and condition in order to fill missing values of model year with the most common value\n",
    "df['model_year'] = df.groupby(['model', 'condition'])['model_year'].transform(lambda grp: grp.fillna(grp.mode().max()))\n",
    "#checking if there are still missing values\n",
    "df.model_year.isna().value_counts()"
   ]
  },
  {
   "cell_type": "markdown",
   "metadata": {},
   "source": [
    "We still have 6 missing values, we want to look at them and understand why they are still missing"
   ]
  },
  {
   "cell_type": "code",
   "execution_count": 14,
   "metadata": {},
   "outputs": [
    {
     "data": {
      "text/html": [
       "<div>\n",
       "<style scoped>\n",
       "    .dataframe tbody tr th:only-of-type {\n",
       "        vertical-align: middle;\n",
       "    }\n",
       "\n",
       "    .dataframe tbody tr th {\n",
       "        vertical-align: top;\n",
       "    }\n",
       "\n",
       "    .dataframe thead th {\n",
       "        text-align: right;\n",
       "    }\n",
       "</style>\n",
       "<table border=\"1\" class=\"dataframe\">\n",
       "  <thead>\n",
       "    <tr style=\"text-align: right;\">\n",
       "      <th></th>\n",
       "      <th>price</th>\n",
       "      <th>model_year</th>\n",
       "      <th>model</th>\n",
       "      <th>condition</th>\n",
       "      <th>cylinders</th>\n",
       "      <th>fuel</th>\n",
       "      <th>odometer</th>\n",
       "      <th>transmission</th>\n",
       "      <th>type</th>\n",
       "      <th>paint_color</th>\n",
       "      <th>is_4wd</th>\n",
       "      <th>date_posted</th>\n",
       "      <th>days_listed</th>\n",
       "    </tr>\n",
       "  </thead>\n",
       "  <tbody>\n",
       "    <tr>\n",
       "      <th>10444</th>\n",
       "      <td>9600</td>\n",
       "      <td>NaN</td>\n",
       "      <td>chevrolet cruze</td>\n",
       "      <td>5</td>\n",
       "      <td>4.0</td>\n",
       "      <td>gas</td>\n",
       "      <td>19000.0</td>\n",
       "      <td>automatic</td>\n",
       "      <td>sedan</td>\n",
       "      <td>white</td>\n",
       "      <td>0.0</td>\n",
       "      <td>2018-07-30</td>\n",
       "      <td>33</td>\n",
       "    </tr>\n",
       "    <tr>\n",
       "      <th>18125</th>\n",
       "      <td>15000</td>\n",
       "      <td>NaN</td>\n",
       "      <td>cadillac escalade</td>\n",
       "      <td>0</td>\n",
       "      <td>8.0</td>\n",
       "      <td>gas</td>\n",
       "      <td>108000.0</td>\n",
       "      <td>automatic</td>\n",
       "      <td>SUV</td>\n",
       "      <td>black</td>\n",
       "      <td>1.0</td>\n",
       "      <td>2018-06-03</td>\n",
       "      <td>49</td>\n",
       "    </tr>\n",
       "    <tr>\n",
       "      <th>20368</th>\n",
       "      <td>7000</td>\n",
       "      <td>NaN</td>\n",
       "      <td>volkswagen jetta</td>\n",
       "      <td>5</td>\n",
       "      <td>4.0</td>\n",
       "      <td>diesel</td>\n",
       "      <td>171000.0</td>\n",
       "      <td>automatic</td>\n",
       "      <td>sedan</td>\n",
       "      <td>white</td>\n",
       "      <td>0.0</td>\n",
       "      <td>2019-03-28</td>\n",
       "      <td>107</td>\n",
       "    </tr>\n",
       "    <tr>\n",
       "      <th>21758</th>\n",
       "      <td>23000</td>\n",
       "      <td>NaN</td>\n",
       "      <td>ford escape</td>\n",
       "      <td>5</td>\n",
       "      <td>4.0</td>\n",
       "      <td>gas</td>\n",
       "      <td>12000.0</td>\n",
       "      <td>automatic</td>\n",
       "      <td>SUV</td>\n",
       "      <td>NaN</td>\n",
       "      <td>1.0</td>\n",
       "      <td>2019-02-13</td>\n",
       "      <td>23</td>\n",
       "    </tr>\n",
       "    <tr>\n",
       "      <th>27192</th>\n",
       "      <td>1200</td>\n",
       "      <td>NaN</td>\n",
       "      <td>toyota rav4</td>\n",
       "      <td>0</td>\n",
       "      <td>4.0</td>\n",
       "      <td>gas</td>\n",
       "      <td>NaN</td>\n",
       "      <td>automatic</td>\n",
       "      <td>SUV</td>\n",
       "      <td>green</td>\n",
       "      <td>1.0</td>\n",
       "      <td>2018-10-19</td>\n",
       "      <td>21</td>\n",
       "    </tr>\n",
       "    <tr>\n",
       "      <th>47905</th>\n",
       "      <td>13900</td>\n",
       "      <td>NaN</td>\n",
       "      <td>jeep wrangler</td>\n",
       "      <td>5</td>\n",
       "      <td>NaN</td>\n",
       "      <td>gas</td>\n",
       "      <td>149000.0</td>\n",
       "      <td>automatic</td>\n",
       "      <td>SUV</td>\n",
       "      <td>silver</td>\n",
       "      <td>1.0</td>\n",
       "      <td>2019-04-10</td>\n",
       "      <td>35</td>\n",
       "    </tr>\n",
       "  </tbody>\n",
       "</table>\n",
       "</div>"
      ],
      "text/plain": [
       "       price  model_year              model  condition  cylinders    fuel  \\\n",
       "10444   9600         NaN    chevrolet cruze          5        4.0     gas   \n",
       "18125  15000         NaN  cadillac escalade          0        8.0     gas   \n",
       "20368   7000         NaN   volkswagen jetta          5        4.0  diesel   \n",
       "21758  23000         NaN        ford escape          5        4.0     gas   \n",
       "27192   1200         NaN        toyota rav4          0        4.0     gas   \n",
       "47905  13900         NaN      jeep wrangler          5        NaN     gas   \n",
       "\n",
       "       odometer transmission   type paint_color  is_4wd date_posted  \\\n",
       "10444   19000.0    automatic  sedan       white     0.0  2018-07-30   \n",
       "18125  108000.0    automatic    SUV       black     1.0  2018-06-03   \n",
       "20368  171000.0    automatic  sedan       white     0.0  2019-03-28   \n",
       "21758   12000.0    automatic    SUV         NaN     1.0  2019-02-13   \n",
       "27192       NaN    automatic    SUV       green     1.0  2018-10-19   \n",
       "47905  149000.0    automatic    SUV      silver     1.0  2019-04-10   \n",
       "\n",
       "       days_listed  \n",
       "10444           33  \n",
       "18125           49  \n",
       "20368          107  \n",
       "21758           23  \n",
       "27192           21  \n",
       "47905           35  "
      ]
     },
     "execution_count": 14,
     "metadata": {},
     "output_type": "execute_result"
    }
   ],
   "source": [
    "df[df['model_year'].isna()]\n"
   ]
  },
  {
   "cell_type": "code",
   "execution_count": 15,
   "metadata": {},
   "outputs": [
    {
     "data": {
      "text/html": [
       "<div>\n",
       "<style scoped>\n",
       "    .dataframe tbody tr th:only-of-type {\n",
       "        vertical-align: middle;\n",
       "    }\n",
       "\n",
       "    .dataframe tbody tr th {\n",
       "        vertical-align: top;\n",
       "    }\n",
       "\n",
       "    .dataframe thead th {\n",
       "        text-align: right;\n",
       "    }\n",
       "</style>\n",
       "<table border=\"1\" class=\"dataframe\">\n",
       "  <thead>\n",
       "    <tr style=\"text-align: right;\">\n",
       "      <th></th>\n",
       "      <th>price</th>\n",
       "      <th>model_year</th>\n",
       "      <th>model</th>\n",
       "      <th>condition</th>\n",
       "      <th>cylinders</th>\n",
       "      <th>fuel</th>\n",
       "      <th>odometer</th>\n",
       "      <th>transmission</th>\n",
       "      <th>type</th>\n",
       "      <th>paint_color</th>\n",
       "      <th>is_4wd</th>\n",
       "      <th>date_posted</th>\n",
       "      <th>days_listed</th>\n",
       "    </tr>\n",
       "  </thead>\n",
       "  <tbody>\n",
       "    <tr>\n",
       "      <th>10444</th>\n",
       "      <td>9600</td>\n",
       "      <td>NaN</td>\n",
       "      <td>chevrolet cruze</td>\n",
       "      <td>5</td>\n",
       "      <td>4.0</td>\n",
       "      <td>gas</td>\n",
       "      <td>19000.0</td>\n",
       "      <td>automatic</td>\n",
       "      <td>sedan</td>\n",
       "      <td>white</td>\n",
       "      <td>0.0</td>\n",
       "      <td>2018-07-30</td>\n",
       "      <td>33</td>\n",
       "    </tr>\n",
       "  </tbody>\n",
       "</table>\n",
       "</div>"
      ],
      "text/plain": [
       "       price  model_year            model  condition  cylinders fuel  \\\n",
       "10444   9600         NaN  chevrolet cruze          5        4.0  gas   \n",
       "\n",
       "       odometer transmission   type paint_color  is_4wd date_posted  \\\n",
       "10444   19000.0    automatic  sedan       white     0.0  2018-07-30   \n",
       "\n",
       "       days_listed  \n",
       "10444           33  "
      ]
     },
     "execution_count": 15,
     "metadata": {},
     "output_type": "execute_result"
    }
   ],
   "source": [
    "df.query('model == \"chevrolet cruze\" & condition == 5') #only one row with the missing value\n",
    "#df.query('model == \"chevrolet cruze\" & model_year.notnull()')['condition'].unique() \n",
    "#456 rows of the same model car without missing values, have different conditions but not condition that is the same to the missing year model row"
   ]
  },
  {
   "cell_type": "markdown",
   "metadata": {},
   "source": [
    "So it seems like the rows of missing model years did not meet completed rows that meet the criteria of same model+condition.\n",
    "Since it is only 6 rows out of the whole model, we will fill them with the most common value of model year based only on the model."
   ]
  },
  {
   "cell_type": "code",
   "execution_count": 16,
   "metadata": {},
   "outputs": [
    {
     "data": {
      "text/plain": [
       "model_year\n",
       "False    51525\n",
       "Name: count, dtype: int64"
      ]
     },
     "execution_count": 16,
     "metadata": {},
     "output_type": "execute_result"
    }
   ],
   "source": [
    "#grouping the df by model in order to fill missing values of model year with the most common value\n",
    "df['model_year'] = df.groupby('model')['model_year'].transform(lambda grp: grp.fillna(grp.mode().max()))\n",
    "#checking if there are still missing values\n",
    "df.model_year.isna().value_counts()"
   ]
  },
  {
   "cell_type": "markdown",
   "metadata": {},
   "source": [
    "3. Color: since there are no other variables than the car model, that can imply what was the color of the rows with missing values, and the color is not a main variable in our analysis, we will fill in the missing values with the most common color of the specific model."
   ]
  },
  {
   "cell_type": "code",
   "execution_count": 17,
   "metadata": {},
   "outputs": [
    {
     "data": {
      "text/plain": [
       "paint_color\n",
       "False    51525\n",
       "Name: count, dtype: int64"
      ]
     },
     "execution_count": 17,
     "metadata": {},
     "output_type": "execute_result"
    }
   ],
   "source": [
    "df['paint_color'] = df.groupby('model')['paint_color'].transform(lambda grp: grp.fillna(grp.mode().max()))\n",
    "#checking if there are still missing values\n",
    "df.paint_color.isna().value_counts()"
   ]
  },
  {
   "cell_type": "markdown",
   "metadata": {},
   "source": [
    "4. Cylinders:"
   ]
  },
  {
   "cell_type": "code",
   "execution_count": 18,
   "metadata": {},
   "outputs": [
    {
     "data": {
      "text/plain": [
       "array([ 3.,  4.,  5.,  6.,  8., 10., 12., nan])"
      ]
     },
     "execution_count": 18,
     "metadata": {},
     "output_type": "execute_result"
    }
   ],
   "source": [
    "df.cylinders.sort_values().unique()"
   ]
  },
  {
   "cell_type": "code",
   "execution_count": 19,
   "metadata": {},
   "outputs": [
    {
     "data": {
      "text/plain": [
       "cylinders\n",
       "12.0        2\n",
       "3.0        34\n",
       "5.0       272\n",
       "10.0      549\n",
       "4.0     13864\n",
       "6.0     15700\n",
       "8.0     15844\n",
       "Name: count, dtype: int64"
      ]
     },
     "execution_count": 19,
     "metadata": {},
     "output_type": "execute_result"
    }
   ],
   "source": [
    "df.cylinders.value_counts().sort_values()"
   ]
  },
  {
   "cell_type": "code",
   "execution_count": 20,
   "metadata": {},
   "outputs": [
    {
     "name": "stdout",
     "output_type": "stream",
     "text": [
      "Count of most common value of cylinders among different models:\n"
     ]
    },
    {
     "data": {
      "image/png": "[encoded data removed]",
      "text/plain": [
       "<Figure size 432x288 with 1 Axes>"
      ]
     },
     "metadata": {
      "needs_background": "light"
     },
     "output_type": "display_data"
    }
   ],
   "source": [
    "print('Count of most common value of cylinders among different models:')\n",
    "df.pivot_table(index='model', values='cylinders', aggfunc=lambda x: x.mode()).hist()\n",
    "plt.show()\n"
   ]
  },
  {
   "cell_type": "markdown",
   "metadata": {},
   "source": [
    "We saw that there are values of cylinders that looks odd- 3,5,12. Although that according google there are cars with this number of cylinders, in our data it seems less likely to be the preferable number to fill missing values, so in the histogram we made sure that there arent models that have 3,5 or 12 cylinders as most common value."
   ]
  },
  {
   "cell_type": "code",
   "execution_count": 21,
   "metadata": {},
   "outputs": [],
   "source": [
    "#Filling the most common value of cylinders per model in the missing rows:\n",
    "df['cylinders'] = df.groupby('model')['cylinders'].transform(lambda grp: grp.fillna(grp.mode().max()))\n"
   ]
  },
  {
   "cell_type": "code",
   "execution_count": 22,
   "metadata": {},
   "outputs": [
    {
     "data": {
      "text/plain": [
       "cylinders\n",
       "False    51525\n",
       "Name: count, dtype: int64"
      ]
     },
     "execution_count": 22,
     "metadata": {},
     "output_type": "execute_result"
    }
   ],
   "source": [
    "#checking if there are still missing values\n",
    "df.cylinders.isna().value_counts()"
   ]
  },
  {
   "cell_type": "markdown",
   "metadata": {},
   "source": [
    "4. Odomotor:\n",
    "In order fill missing values regarding the vehicle's mileage when the ad was published we will use age and condition (because \n",
    "it is better to use variables that are completly filled rather than variables that had missing values that were filled by variables - like model year)."
   ]
  },
  {
   "cell_type": "code",
   "execution_count": 23,
   "metadata": {},
   "outputs": [
    {
     "data": {
      "text/plain": [
       "odometer\n",
       "False    43633\n",
       "True      7892\n",
       "Name: count, dtype: int64"
      ]
     },
     "execution_count": 23,
     "metadata": {},
     "output_type": "execute_result"
    }
   ],
   "source": [
    "df['odometer'].isna().value_counts()"
   ]
  },
  {
   "cell_type": "code",
   "execution_count": 24,
   "metadata": {},
   "outputs": [],
   "source": [
    "#changing the data type of model_year and date_posted to date:\n",
    "df['model_year'] = pd.to_datetime(df['model_year'], format='%Y').dt.year\n",
    "df['date_posted'] = pd.to_datetime(df['date_posted'], format='%Y-%m-%d')"
   ]
  },
  {
   "cell_type": "code",
   "execution_count": 25,
   "metadata": {},
   "outputs": [],
   "source": [
    "df['month']=pd.to_datetime(df['date_posted']).dt.month\n",
    "df['year']=pd.to_datetime(df['date_posted']).dt.year\n",
    "df['day']=pd.to_datetime(df['date_posted']).dt.day\n",
    "#df.head()"
   ]
  },
  {
   "cell_type": "code",
   "execution_count": 26,
   "metadata": {},
   "outputs": [
    {
     "data": {
      "text/html": [
       "<div>\n",
       "<style scoped>\n",
       "    .dataframe tbody tr th:only-of-type {\n",
       "        vertical-align: middle;\n",
       "    }\n",
       "\n",
       "    .dataframe tbody tr th {\n",
       "        vertical-align: top;\n",
       "    }\n",
       "\n",
       "    .dataframe thead th {\n",
       "        text-align: right;\n",
       "    }\n",
       "</style>\n",
       "<table border=\"1\" class=\"dataframe\">\n",
       "  <thead>\n",
       "    <tr style=\"text-align: right;\">\n",
       "      <th></th>\n",
       "      <th>price</th>\n",
       "      <th>model_year</th>\n",
       "      <th>model</th>\n",
       "      <th>condition</th>\n",
       "      <th>cylinders</th>\n",
       "      <th>fuel</th>\n",
       "      <th>odometer</th>\n",
       "      <th>transmission</th>\n",
       "      <th>type</th>\n",
       "      <th>paint_color</th>\n",
       "      <th>is_4wd</th>\n",
       "      <th>date_posted</th>\n",
       "      <th>days_listed</th>\n",
       "      <th>month</th>\n",
       "      <th>year</th>\n",
       "      <th>day</th>\n",
       "      <th>car_age</th>\n",
       "    </tr>\n",
       "  </thead>\n",
       "  <tbody>\n",
       "    <tr>\n",
       "      <th>0</th>\n",
       "      <td>9400</td>\n",
       "      <td>2011</td>\n",
       "      <td>bmw x5</td>\n",
       "      <td>2</td>\n",
       "      <td>6.0</td>\n",
       "      <td>gas</td>\n",
       "      <td>145000.0</td>\n",
       "      <td>automatic</td>\n",
       "      <td>SUV</td>\n",
       "      <td>black</td>\n",
       "      <td>1.0</td>\n",
       "      <td>2018-06-23</td>\n",
       "      <td>19</td>\n",
       "      <td>6</td>\n",
       "      <td>2018</td>\n",
       "      <td>23</td>\n",
       "      <td>7</td>\n",
       "    </tr>\n",
       "    <tr>\n",
       "      <th>1</th>\n",
       "      <td>25500</td>\n",
       "      <td>2011</td>\n",
       "      <td>ford f-150</td>\n",
       "      <td>2</td>\n",
       "      <td>6.0</td>\n",
       "      <td>gas</td>\n",
       "      <td>88705.0</td>\n",
       "      <td>automatic</td>\n",
       "      <td>pickup</td>\n",
       "      <td>white</td>\n",
       "      <td>1.0</td>\n",
       "      <td>2018-10-19</td>\n",
       "      <td>50</td>\n",
       "      <td>10</td>\n",
       "      <td>2018</td>\n",
       "      <td>19</td>\n",
       "      <td>7</td>\n",
       "    </tr>\n",
       "    <tr>\n",
       "      <th>2</th>\n",
       "      <td>5500</td>\n",
       "      <td>2013</td>\n",
       "      <td>hyundai sonata</td>\n",
       "      <td>4</td>\n",
       "      <td>4.0</td>\n",
       "      <td>gas</td>\n",
       "      <td>110000.0</td>\n",
       "      <td>automatic</td>\n",
       "      <td>sedan</td>\n",
       "      <td>red</td>\n",
       "      <td>0.0</td>\n",
       "      <td>2019-02-07</td>\n",
       "      <td>79</td>\n",
       "      <td>2</td>\n",
       "      <td>2019</td>\n",
       "      <td>7</td>\n",
       "      <td>6</td>\n",
       "    </tr>\n",
       "    <tr>\n",
       "      <th>3</th>\n",
       "      <td>1500</td>\n",
       "      <td>2003</td>\n",
       "      <td>ford f-150</td>\n",
       "      <td>1</td>\n",
       "      <td>8.0</td>\n",
       "      <td>gas</td>\n",
       "      <td>NaN</td>\n",
       "      <td>automatic</td>\n",
       "      <td>pickup</td>\n",
       "      <td>white</td>\n",
       "      <td>0.0</td>\n",
       "      <td>2019-03-22</td>\n",
       "      <td>9</td>\n",
       "      <td>3</td>\n",
       "      <td>2019</td>\n",
       "      <td>22</td>\n",
       "      <td>16</td>\n",
       "    </tr>\n",
       "    <tr>\n",
       "      <th>4</th>\n",
       "      <td>14900</td>\n",
       "      <td>2017</td>\n",
       "      <td>chrysler 200</td>\n",
       "      <td>3</td>\n",
       "      <td>4.0</td>\n",
       "      <td>gas</td>\n",
       "      <td>80903.0</td>\n",
       "      <td>automatic</td>\n",
       "      <td>sedan</td>\n",
       "      <td>black</td>\n",
       "      <td>0.0</td>\n",
       "      <td>2019-04-02</td>\n",
       "      <td>28</td>\n",
       "      <td>4</td>\n",
       "      <td>2019</td>\n",
       "      <td>2</td>\n",
       "      <td>2</td>\n",
       "    </tr>\n",
       "  </tbody>\n",
       "</table>\n",
       "</div>"
      ],
      "text/plain": [
       "   price  model_year           model  condition  cylinders fuel  odometer  \\\n",
       "0   9400        2011          bmw x5          2        6.0  gas  145000.0   \n",
       "1  25500        2011      ford f-150          2        6.0  gas   88705.0   \n",
       "2   5500        2013  hyundai sonata          4        4.0  gas  110000.0   \n",
       "3   1500        2003      ford f-150          1        8.0  gas       NaN   \n",
       "4  14900        2017    chrysler 200          3        4.0  gas   80903.0   \n",
       "\n",
       "  transmission    type paint_color  is_4wd date_posted  days_listed  month  \\\n",
       "0    automatic     SUV       black     1.0  2018-06-23           19      6   \n",
       "1    automatic  pickup       white     1.0  2018-10-19           50     10   \n",
       "2    automatic   sedan         red     0.0  2019-02-07           79      2   \n",
       "3    automatic  pickup       white     0.0  2019-03-22            9      3   \n",
       "4    automatic   sedan       black     0.0  2019-04-02           28      4   \n",
       "\n",
       "   year  day  car_age  \n",
       "0  2018   23        7  \n",
       "1  2018   19        7  \n",
       "2  2019    7        6  \n",
       "3  2019   22       16  \n",
       "4  2019    2        2  "
      ]
     },
     "execution_count": 26,
     "metadata": {},
     "output_type": "execute_result"
    }
   ],
   "source": [
    "df['car_age']=df['year']-df['model_year']\n",
    "df.head()"
   ]
  },
  {
   "cell_type": "code",
   "execution_count": 27,
   "metadata": {},
   "outputs": [
    {
     "data": {
      "text/plain": [
       "odometer\n",
       "False    51513\n",
       "True        12\n",
       "Name: count, dtype: int64"
      ]
     },
     "execution_count": 27,
     "metadata": {},
     "output_type": "execute_result"
    }
   ],
   "source": [
    "#Filling the most common value of cylinders per model in the missing rows:\n",
    "df['odometer'] = df.groupby(['car_age','condition'])['odometer'].transform(lambda grp: grp.fillna(grp.median()))\n",
    "\n",
    "#checking if there are still missing values\n",
    "df.odometer.isna().value_counts()"
   ]
  },
  {
   "cell_type": "code",
   "execution_count": 28,
   "metadata": {},
   "outputs": [
    {
     "data": {
      "text/html": [
       "<div>\n",
       "<style scoped>\n",
       "    .dataframe tbody tr th:only-of-type {\n",
       "        vertical-align: middle;\n",
       "    }\n",
       "\n",
       "    .dataframe tbody tr th {\n",
       "        vertical-align: top;\n",
       "    }\n",
       "\n",
       "    .dataframe thead th {\n",
       "        text-align: right;\n",
       "    }\n",
       "</style>\n",
       "<table border=\"1\" class=\"dataframe\">\n",
       "  <thead>\n",
       "    <tr style=\"text-align: right;\">\n",
       "      <th></th>\n",
       "      <th>price</th>\n",
       "      <th>model_year</th>\n",
       "      <th>model</th>\n",
       "      <th>condition</th>\n",
       "      <th>cylinders</th>\n",
       "      <th>fuel</th>\n",
       "      <th>odometer</th>\n",
       "      <th>transmission</th>\n",
       "      <th>type</th>\n",
       "      <th>paint_color</th>\n",
       "      <th>is_4wd</th>\n",
       "      <th>date_posted</th>\n",
       "      <th>days_listed</th>\n",
       "      <th>month</th>\n",
       "      <th>year</th>\n",
       "      <th>day</th>\n",
       "      <th>car_age</th>\n",
       "    </tr>\n",
       "  </thead>\n",
       "  <tbody>\n",
       "    <tr>\n",
       "      <th>1101</th>\n",
       "      <td>9200</td>\n",
       "      <td>1975</td>\n",
       "      <td>ford f-150</td>\n",
       "      <td>3</td>\n",
       "      <td>8.0</td>\n",
       "      <td>gas</td>\n",
       "      <td>NaN</td>\n",
       "      <td>automatic</td>\n",
       "      <td>truck</td>\n",
       "      <td>green</td>\n",
       "      <td>0.0</td>\n",
       "      <td>2018-08-28</td>\n",
       "      <td>40</td>\n",
       "      <td>8</td>\n",
       "      <td>2018</td>\n",
       "      <td>28</td>\n",
       "      <td>43</td>\n",
       "    </tr>\n",
       "    <tr>\n",
       "      <th>6982</th>\n",
       "      <td>3900</td>\n",
       "      <td>1977</td>\n",
       "      <td>chevrolet suburban</td>\n",
       "      <td>1</td>\n",
       "      <td>8.0</td>\n",
       "      <td>gas</td>\n",
       "      <td>NaN</td>\n",
       "      <td>automatic</td>\n",
       "      <td>SUV</td>\n",
       "      <td>custom</td>\n",
       "      <td>0.0</td>\n",
       "      <td>2019-02-02</td>\n",
       "      <td>71</td>\n",
       "      <td>2</td>\n",
       "      <td>2019</td>\n",
       "      <td>2</td>\n",
       "      <td>42</td>\n",
       "    </tr>\n",
       "    <tr>\n",
       "      <th>8511</th>\n",
       "      <td>800</td>\n",
       "      <td>1997</td>\n",
       "      <td>ford f-150</td>\n",
       "      <td>0</td>\n",
       "      <td>8.0</td>\n",
       "      <td>gas</td>\n",
       "      <td>NaN</td>\n",
       "      <td>manual</td>\n",
       "      <td>pickup</td>\n",
       "      <td>white</td>\n",
       "      <td>1.0</td>\n",
       "      <td>2018-05-05</td>\n",
       "      <td>64</td>\n",
       "      <td>5</td>\n",
       "      <td>2018</td>\n",
       "      <td>5</td>\n",
       "      <td>21</td>\n",
       "    </tr>\n",
       "    <tr>\n",
       "      <th>20176</th>\n",
       "      <td>3500</td>\n",
       "      <td>2013</td>\n",
       "      <td>honda civic</td>\n",
       "      <td>0</td>\n",
       "      <td>4.0</td>\n",
       "      <td>gas</td>\n",
       "      <td>NaN</td>\n",
       "      <td>automatic</td>\n",
       "      <td>sedan</td>\n",
       "      <td>white</td>\n",
       "      <td>0.0</td>\n",
       "      <td>2018-06-09</td>\n",
       "      <td>33</td>\n",
       "      <td>6</td>\n",
       "      <td>2018</td>\n",
       "      <td>9</td>\n",
       "      <td>5</td>\n",
       "    </tr>\n",
       "    <tr>\n",
       "      <th>24014</th>\n",
       "      <td>2400</td>\n",
       "      <td>2013</td>\n",
       "      <td>chevrolet malibu</td>\n",
       "      <td>0</td>\n",
       "      <td>4.0</td>\n",
       "      <td>gas</td>\n",
       "      <td>NaN</td>\n",
       "      <td>automatic</td>\n",
       "      <td>sedan</td>\n",
       "      <td>silver</td>\n",
       "      <td>0.0</td>\n",
       "      <td>2018-05-18</td>\n",
       "      <td>51</td>\n",
       "      <td>5</td>\n",
       "      <td>2018</td>\n",
       "      <td>18</td>\n",
       "      <td>5</td>\n",
       "    </tr>\n",
       "    <tr>\n",
       "      <th>25115</th>\n",
       "      <td>5000</td>\n",
       "      <td>1979</td>\n",
       "      <td>gmc sierra</td>\n",
       "      <td>1</td>\n",
       "      <td>8.0</td>\n",
       "      <td>gas</td>\n",
       "      <td>NaN</td>\n",
       "      <td>automatic</td>\n",
       "      <td>truck</td>\n",
       "      <td>green</td>\n",
       "      <td>0.0</td>\n",
       "      <td>2018-05-10</td>\n",
       "      <td>54</td>\n",
       "      <td>5</td>\n",
       "      <td>2018</td>\n",
       "      <td>10</td>\n",
       "      <td>39</td>\n",
       "    </tr>\n",
       "    <tr>\n",
       "      <th>28009</th>\n",
       "      <td>65000</td>\n",
       "      <td>1960</td>\n",
       "      <td>chevrolet corvette</td>\n",
       "      <td>4</td>\n",
       "      <td>8.0</td>\n",
       "      <td>gas</td>\n",
       "      <td>NaN</td>\n",
       "      <td>manual</td>\n",
       "      <td>coupe</td>\n",
       "      <td>red</td>\n",
       "      <td>0.0</td>\n",
       "      <td>2018-11-03</td>\n",
       "      <td>41</td>\n",
       "      <td>11</td>\n",
       "      <td>2018</td>\n",
       "      <td>3</td>\n",
       "      <td>58</td>\n",
       "    </tr>\n",
       "    <tr>\n",
       "      <th>33257</th>\n",
       "      <td>4500</td>\n",
       "      <td>1963</td>\n",
       "      <td>chevrolet impala</td>\n",
       "      <td>1</td>\n",
       "      <td>6.0</td>\n",
       "      <td>gas</td>\n",
       "      <td>NaN</td>\n",
       "      <td>automatic</td>\n",
       "      <td>sedan</td>\n",
       "      <td>silver</td>\n",
       "      <td>0.0</td>\n",
       "      <td>2019-03-17</td>\n",
       "      <td>38</td>\n",
       "      <td>3</td>\n",
       "      <td>2019</td>\n",
       "      <td>17</td>\n",
       "      <td>56</td>\n",
       "    </tr>\n",
       "    <tr>\n",
       "      <th>33907</th>\n",
       "      <td>12995</td>\n",
       "      <td>1908</td>\n",
       "      <td>cadillac escalade</td>\n",
       "      <td>3</td>\n",
       "      <td>8.0</td>\n",
       "      <td>gas</td>\n",
       "      <td>NaN</td>\n",
       "      <td>automatic</td>\n",
       "      <td>SUV</td>\n",
       "      <td>white</td>\n",
       "      <td>0.0</td>\n",
       "      <td>2018-06-24</td>\n",
       "      <td>25</td>\n",
       "      <td>6</td>\n",
       "      <td>2018</td>\n",
       "      <td>24</td>\n",
       "      <td>110</td>\n",
       "    </tr>\n",
       "    <tr>\n",
       "      <th>45694</th>\n",
       "      <td>18000</td>\n",
       "      <td>1929</td>\n",
       "      <td>ford f-150</td>\n",
       "      <td>2</td>\n",
       "      <td>8.0</td>\n",
       "      <td>gas</td>\n",
       "      <td>NaN</td>\n",
       "      <td>manual</td>\n",
       "      <td>other</td>\n",
       "      <td>silver</td>\n",
       "      <td>0.0</td>\n",
       "      <td>2018-11-18</td>\n",
       "      <td>59</td>\n",
       "      <td>11</td>\n",
       "      <td>2018</td>\n",
       "      <td>18</td>\n",
       "      <td>89</td>\n",
       "    </tr>\n",
       "    <tr>\n",
       "      <th>46911</th>\n",
       "      <td>22300</td>\n",
       "      <td>2003</td>\n",
       "      <td>chevrolet corvette</td>\n",
       "      <td>5</td>\n",
       "      <td>8.0</td>\n",
       "      <td>gas</td>\n",
       "      <td>NaN</td>\n",
       "      <td>manual</td>\n",
       "      <td>convertible</td>\n",
       "      <td>black</td>\n",
       "      <td>0.0</td>\n",
       "      <td>2018-11-08</td>\n",
       "      <td>23</td>\n",
       "      <td>11</td>\n",
       "      <td>2018</td>\n",
       "      <td>8</td>\n",
       "      <td>15</td>\n",
       "    </tr>\n",
       "    <tr>\n",
       "      <th>50854</th>\n",
       "      <td>2900</td>\n",
       "      <td>2013</td>\n",
       "      <td>hyundai sonata</td>\n",
       "      <td>0</td>\n",
       "      <td>4.0</td>\n",
       "      <td>gas</td>\n",
       "      <td>NaN</td>\n",
       "      <td>automatic</td>\n",
       "      <td>sedan</td>\n",
       "      <td>blue</td>\n",
       "      <td>0.0</td>\n",
       "      <td>2018-10-28</td>\n",
       "      <td>22</td>\n",
       "      <td>10</td>\n",
       "      <td>2018</td>\n",
       "      <td>28</td>\n",
       "      <td>5</td>\n",
       "    </tr>\n",
       "  </tbody>\n",
       "</table>\n",
       "</div>"
      ],
      "text/plain": [
       "       price  model_year               model  condition  cylinders fuel  \\\n",
       "1101    9200        1975          ford f-150          3        8.0  gas   \n",
       "6982    3900        1977  chevrolet suburban          1        8.0  gas   \n",
       "8511     800        1997          ford f-150          0        8.0  gas   \n",
       "20176   3500        2013         honda civic          0        4.0  gas   \n",
       "24014   2400        2013    chevrolet malibu          0        4.0  gas   \n",
       "25115   5000        1979          gmc sierra          1        8.0  gas   \n",
       "28009  65000        1960  chevrolet corvette          4        8.0  gas   \n",
       "33257   4500        1963    chevrolet impala          1        6.0  gas   \n",
       "33907  12995        1908   cadillac escalade          3        8.0  gas   \n",
       "45694  18000        1929          ford f-150          2        8.0  gas   \n",
       "46911  22300        2003  chevrolet corvette          5        8.0  gas   \n",
       "50854   2900        2013      hyundai sonata          0        4.0  gas   \n",
       "\n",
       "       odometer transmission         type paint_color  is_4wd date_posted  \\\n",
       "1101        NaN    automatic        truck       green     0.0  2018-08-28   \n",
       "6982        NaN    automatic          SUV      custom     0.0  2019-02-02   \n",
       "8511        NaN       manual       pickup       white     1.0  2018-05-05   \n",
       "20176       NaN    automatic        sedan       white     0.0  2018-06-09   \n",
       "24014       NaN    automatic        sedan      silver     0.0  2018-05-18   \n",
       "25115       NaN    automatic        truck       green     0.0  2018-05-10   \n",
       "28009       NaN       manual        coupe         red     0.0  2018-11-03   \n",
       "33257       NaN    automatic        sedan      silver     0.0  2019-03-17   \n",
       "33907       NaN    automatic          SUV       white     0.0  2018-06-24   \n",
       "45694       NaN       manual        other      silver     0.0  2018-11-18   \n",
       "46911       NaN       manual  convertible       black     0.0  2018-11-08   \n",
       "50854       NaN    automatic        sedan        blue     0.0  2018-10-28   \n",
       "\n",
       "       days_listed  month  year  day  car_age  \n",
       "1101            40      8  2018   28       43  \n",
       "6982            71      2  2019    2       42  \n",
       "8511            64      5  2018    5       21  \n",
       "20176           33      6  2018    9        5  \n",
       "24014           51      5  2018   18        5  \n",
       "25115           54      5  2018   10       39  \n",
       "28009           41     11  2018    3       58  \n",
       "33257           38      3  2019   17       56  \n",
       "33907           25      6  2018   24      110  \n",
       "45694           59     11  2018   18       89  \n",
       "46911           23     11  2018    8       15  \n",
       "50854           22     10  2018   28        5  "
      ]
     },
     "execution_count": 28,
     "metadata": {},
     "output_type": "execute_result"
    }
   ],
   "source": [
    "df[df['odometer'].isna()]\n"
   ]
  },
  {
   "cell_type": "markdown",
   "metadata": {},
   "source": [
    "we see that there are cars that do not have odometer values because there arent more cars that meet the criteria of age&condition. We will fill missing values in the 12 rows by model and condition, believing that the values of the conditions will be aproximately close to the missing values. "
   ]
  },
  {
   "cell_type": "code",
   "execution_count": 29,
   "metadata": {},
   "outputs": [
    {
     "data": {
      "text/plain": [
       "odometer\n",
       "False    51524\n",
       "True         1\n",
       "Name: count, dtype: int64"
      ]
     },
     "execution_count": 29,
     "metadata": {},
     "output_type": "execute_result"
    }
   ],
   "source": [
    "df['odometer'] = df.groupby(['model','condition'])['odometer'].transform(lambda grp: grp.fillna(grp.median()))\n",
    "\n",
    "#checking if there are still missing values\n",
    "df.odometer.isna().value_counts()\n"
   ]
  },
  {
   "cell_type": "code",
   "execution_count": 30,
   "metadata": {},
   "outputs": [
    {
     "data": {
      "text/html": [
       "<div>\n",
       "<style scoped>\n",
       "    .dataframe tbody tr th:only-of-type {\n",
       "        vertical-align: middle;\n",
       "    }\n",
       "\n",
       "    .dataframe tbody tr th {\n",
       "        vertical-align: top;\n",
       "    }\n",
       "\n",
       "    .dataframe thead th {\n",
       "        text-align: right;\n",
       "    }\n",
       "</style>\n",
       "<table border=\"1\" class=\"dataframe\">\n",
       "  <thead>\n",
       "    <tr style=\"text-align: right;\">\n",
       "      <th></th>\n",
       "      <th>price</th>\n",
       "      <th>model_year</th>\n",
       "      <th>model</th>\n",
       "      <th>condition</th>\n",
       "      <th>cylinders</th>\n",
       "      <th>fuel</th>\n",
       "      <th>odometer</th>\n",
       "      <th>transmission</th>\n",
       "      <th>type</th>\n",
       "      <th>paint_color</th>\n",
       "      <th>is_4wd</th>\n",
       "      <th>date_posted</th>\n",
       "      <th>days_listed</th>\n",
       "      <th>month</th>\n",
       "      <th>year</th>\n",
       "      <th>day</th>\n",
       "      <th>car_age</th>\n",
       "    </tr>\n",
       "  </thead>\n",
       "  <tbody>\n",
       "    <tr>\n",
       "      <th>24014</th>\n",
       "      <td>2400</td>\n",
       "      <td>2013</td>\n",
       "      <td>chevrolet malibu</td>\n",
       "      <td>0</td>\n",
       "      <td>4.0</td>\n",
       "      <td>gas</td>\n",
       "      <td>NaN</td>\n",
       "      <td>automatic</td>\n",
       "      <td>sedan</td>\n",
       "      <td>silver</td>\n",
       "      <td>0.0</td>\n",
       "      <td>2018-05-18</td>\n",
       "      <td>51</td>\n",
       "      <td>5</td>\n",
       "      <td>2018</td>\n",
       "      <td>18</td>\n",
       "      <td>5</td>\n",
       "    </tr>\n",
       "  </tbody>\n",
       "</table>\n",
       "</div>"
      ],
      "text/plain": [
       "       price  model_year             model  condition  cylinders fuel  \\\n",
       "24014   2400        2013  chevrolet malibu          0        4.0  gas   \n",
       "\n",
       "       odometer transmission   type paint_color  is_4wd date_posted  \\\n",
       "24014       NaN    automatic  sedan      silver     0.0  2018-05-18   \n",
       "\n",
       "       days_listed  month  year  day  car_age  \n",
       "24014           51      5  2018   18        5  "
      ]
     },
     "execution_count": 30,
     "metadata": {},
     "output_type": "execute_result"
    }
   ],
   "source": [
    "df[df['odometer'].isna()]"
   ]
  },
  {
   "cell_type": "markdown",
   "metadata": {},
   "source": [
    "We still have one missing value, that do not have matching model&condition, we will fill it with the median of the condition and type of car (below we can see that there is big difference in the median so we will use two conditions). "
   ]
  },
  {
   "cell_type": "code",
   "execution_count": 31,
   "metadata": {},
   "outputs": [],
   "source": [
    "#checking if there is difference between median value depends on the slicing condition\n",
    "df[df['condition']==0]['odometer'].median() #143347\n",
    "odometer_value=df.query('condition == 0 & type == \"sedan\"')['odometer'].median() #108000\n"
   ]
  },
  {
   "cell_type": "code",
   "execution_count": 32,
   "metadata": {},
   "outputs": [
    {
     "name": "stderr",
     "output_type": "stream",
     "text": [
      "<ipython-input-32-c286136b2955>:1: SettingWithCopyWarning: \n",
      "A value is trying to be set on a copy of a slice from a DataFrame\n",
      "\n",
      "See the caveats in the documentation: https://pandas.pydata.org/pandas-docs/stable/user_guide/indexing.html#returning-a-view-versus-a-copy\n",
      "  df['odometer'][24014]=odometer_value\n"
     ]
    }
   ],
   "source": [
    "df['odometer'][24014]=odometer_value"
   ]
  },
  {
   "cell_type": "code",
   "execution_count": 33,
   "metadata": {},
   "outputs": [
    {
     "data": {
      "text/plain": [
       "odometer\n",
       "False    51525\n",
       "Name: count, dtype: int64"
      ]
     },
     "execution_count": 33,
     "metadata": {},
     "output_type": "execute_result"
    }
   ],
   "source": [
    "df.odometer.isna().value_counts()\n"
   ]
  },
  {
   "cell_type": "code",
   "execution_count": 34,
   "metadata": {},
   "outputs": [
    {
     "name": "stdout",
     "output_type": "stream",
     "text": [
      "<class 'pandas.core.frame.DataFrame'>\n",
      "RangeIndex: 51525 entries, 0 to 51524\n",
      "Data columns (total 17 columns):\n",
      " #   Column        Non-Null Count  Dtype         \n",
      "---  ------        --------------  -----         \n",
      " 0   price         51525 non-null  int64         \n",
      " 1   model_year    51525 non-null  int32         \n",
      " 2   model         51525 non-null  object        \n",
      " 3   condition     51525 non-null  int64         \n",
      " 4   cylinders     51525 non-null  float64       \n",
      " 5   fuel          51525 non-null  object        \n",
      " 6   odometer      51525 non-null  float64       \n",
      " 7   transmission  51525 non-null  object        \n",
      " 8   type          51525 non-null  object        \n",
      " 9   paint_color   51525 non-null  object        \n",
      " 10  is_4wd        51525 non-null  float64       \n",
      " 11  date_posted   51525 non-null  datetime64[ns]\n",
      " 12  days_listed   51525 non-null  int64         \n",
      " 13  month         51525 non-null  int32         \n",
      " 14  year          51525 non-null  int32         \n",
      " 15  day           51525 non-null  int32         \n",
      " 16  car_age       51525 non-null  int32         \n",
      "dtypes: datetime64[ns](1), float64(3), int32(5), int64(3), object(5)\n",
      "memory usage: 5.7+ MB\n"
     ]
    }
   ],
   "source": [
    "df.info() #making sure all the data is complete now"
   ]
  },
  {
   "cell_type": "markdown",
   "metadata": {},
   "source": [
    "## Enrich data"
   ]
  },
  {
   "cell_type": "markdown",
   "metadata": {},
   "source": [
    "First, we will change rows that the age car is equal to zero (because the model year is equal to the year of the ad) to 1, in order to simlify the next calculations and checks"
   ]
  },
  {
   "cell_type": "code",
   "execution_count": 35,
   "metadata": {},
   "outputs": [],
   "source": [
    "df.loc[df['car_age']==0 ,'car_age']=1\n"
   ]
  },
  {
   "cell_type": "markdown",
   "metadata": {},
   "source": [
    "calculating the average mileage per year"
   ]
  },
  {
   "cell_type": "code",
   "execution_count": 36,
   "metadata": {},
   "outputs": [],
   "source": [
    "df['avg_mileage'] = df['odometer']/df['car_age']"
   ]
  },
  {
   "cell_type": "code",
   "execution_count": 37,
   "metadata": {},
   "outputs": [
    {
     "data": {
      "text/html": [
       "<div>\n",
       "<style scoped>\n",
       "    .dataframe tbody tr th:only-of-type {\n",
       "        vertical-align: middle;\n",
       "    }\n",
       "\n",
       "    .dataframe tbody tr th {\n",
       "        vertical-align: top;\n",
       "    }\n",
       "\n",
       "    .dataframe thead th {\n",
       "        text-align: right;\n",
       "    }\n",
       "</style>\n",
       "<table border=\"1\" class=\"dataframe\">\n",
       "  <thead>\n",
       "    <tr style=\"text-align: right;\">\n",
       "      <th></th>\n",
       "      <th>price</th>\n",
       "      <th>model_year</th>\n",
       "      <th>model</th>\n",
       "      <th>condition</th>\n",
       "      <th>cylinders</th>\n",
       "      <th>fuel</th>\n",
       "      <th>odometer</th>\n",
       "      <th>transmission</th>\n",
       "      <th>type</th>\n",
       "      <th>paint_color</th>\n",
       "      <th>is_4wd</th>\n",
       "      <th>date_posted</th>\n",
       "      <th>days_listed</th>\n",
       "      <th>month</th>\n",
       "      <th>year</th>\n",
       "      <th>day</th>\n",
       "      <th>car_age</th>\n",
       "      <th>avg_mileage</th>\n",
       "    </tr>\n",
       "  </thead>\n",
       "  <tbody>\n",
       "    <tr>\n",
       "      <th>0</th>\n",
       "      <td>9400</td>\n",
       "      <td>2011</td>\n",
       "      <td>bmw x5</td>\n",
       "      <td>2</td>\n",
       "      <td>6.0</td>\n",
       "      <td>gas</td>\n",
       "      <td>145000.0</td>\n",
       "      <td>automatic</td>\n",
       "      <td>SUV</td>\n",
       "      <td>black</td>\n",
       "      <td>1.0</td>\n",
       "      <td>2018-06-23</td>\n",
       "      <td>19</td>\n",
       "      <td>6</td>\n",
       "      <td>2018</td>\n",
       "      <td>23</td>\n",
       "      <td>7</td>\n",
       "      <td>20714.285714</td>\n",
       "    </tr>\n",
       "    <tr>\n",
       "      <th>1</th>\n",
       "      <td>25500</td>\n",
       "      <td>2011</td>\n",
       "      <td>ford f-150</td>\n",
       "      <td>2</td>\n",
       "      <td>6.0</td>\n",
       "      <td>gas</td>\n",
       "      <td>88705.0</td>\n",
       "      <td>automatic</td>\n",
       "      <td>pickup</td>\n",
       "      <td>white</td>\n",
       "      <td>1.0</td>\n",
       "      <td>2018-10-19</td>\n",
       "      <td>50</td>\n",
       "      <td>10</td>\n",
       "      <td>2018</td>\n",
       "      <td>19</td>\n",
       "      <td>7</td>\n",
       "      <td>12672.142857</td>\n",
       "    </tr>\n",
       "    <tr>\n",
       "      <th>2</th>\n",
       "      <td>5500</td>\n",
       "      <td>2013</td>\n",
       "      <td>hyundai sonata</td>\n",
       "      <td>4</td>\n",
       "      <td>4.0</td>\n",
       "      <td>gas</td>\n",
       "      <td>110000.0</td>\n",
       "      <td>automatic</td>\n",
       "      <td>sedan</td>\n",
       "      <td>red</td>\n",
       "      <td>0.0</td>\n",
       "      <td>2019-02-07</td>\n",
       "      <td>79</td>\n",
       "      <td>2</td>\n",
       "      <td>2019</td>\n",
       "      <td>7</td>\n",
       "      <td>6</td>\n",
       "      <td>18333.333333</td>\n",
       "    </tr>\n",
       "    <tr>\n",
       "      <th>3</th>\n",
       "      <td>1500</td>\n",
       "      <td>2003</td>\n",
       "      <td>ford f-150</td>\n",
       "      <td>1</td>\n",
       "      <td>8.0</td>\n",
       "      <td>gas</td>\n",
       "      <td>178000.0</td>\n",
       "      <td>automatic</td>\n",
       "      <td>pickup</td>\n",
       "      <td>white</td>\n",
       "      <td>0.0</td>\n",
       "      <td>2019-03-22</td>\n",
       "      <td>9</td>\n",
       "      <td>3</td>\n",
       "      <td>2019</td>\n",
       "      <td>22</td>\n",
       "      <td>16</td>\n",
       "      <td>11125.000000</td>\n",
       "    </tr>\n",
       "    <tr>\n",
       "      <th>4</th>\n",
       "      <td>14900</td>\n",
       "      <td>2017</td>\n",
       "      <td>chrysler 200</td>\n",
       "      <td>3</td>\n",
       "      <td>4.0</td>\n",
       "      <td>gas</td>\n",
       "      <td>80903.0</td>\n",
       "      <td>automatic</td>\n",
       "      <td>sedan</td>\n",
       "      <td>black</td>\n",
       "      <td>0.0</td>\n",
       "      <td>2019-04-02</td>\n",
       "      <td>28</td>\n",
       "      <td>4</td>\n",
       "      <td>2019</td>\n",
       "      <td>2</td>\n",
       "      <td>2</td>\n",
       "      <td>40451.500000</td>\n",
       "    </tr>\n",
       "  </tbody>\n",
       "</table>\n",
       "</div>"
      ],
      "text/plain": [
       "   price  model_year           model  condition  cylinders fuel  odometer  \\\n",
       "0   9400        2011          bmw x5          2        6.0  gas  145000.0   \n",
       "1  25500        2011      ford f-150          2        6.0  gas   88705.0   \n",
       "2   5500        2013  hyundai sonata          4        4.0  gas  110000.0   \n",
       "3   1500        2003      ford f-150          1        8.0  gas  178000.0   \n",
       "4  14900        2017    chrysler 200          3        4.0  gas   80903.0   \n",
       "\n",
       "  transmission    type paint_color  is_4wd date_posted  days_listed  month  \\\n",
       "0    automatic     SUV       black     1.0  2018-06-23           19      6   \n",
       "1    automatic  pickup       white     1.0  2018-10-19           50     10   \n",
       "2    automatic   sedan         red     0.0  2019-02-07           79      2   \n",
       "3    automatic  pickup       white     0.0  2019-03-22            9      3   \n",
       "4    automatic   sedan       black     0.0  2019-04-02           28      4   \n",
       "\n",
       "   year  day  car_age   avg_mileage  \n",
       "0  2018   23        7  20714.285714  \n",
       "1  2018   19        7  12672.142857  \n",
       "2  2019    7        6  18333.333333  \n",
       "3  2019   22       16  11125.000000  \n",
       "4  2019    2        2  40451.500000  "
      ]
     },
     "execution_count": 37,
     "metadata": {},
     "output_type": "execute_result"
    }
   ],
   "source": [
    "df.head()"
   ]
  },
  {
   "cell_type": "markdown",
   "metadata": {},
   "source": [
    "## Check clean data"
   ]
  },
  {
   "cell_type": "code",
   "execution_count": 38,
   "metadata": {},
   "outputs": [
    {
     "name": "stdout",
     "output_type": "stream",
     "text": [
      "<class 'pandas.core.frame.DataFrame'>\n",
      "RangeIndex: 51525 entries, 0 to 51524\n",
      "Data columns (total 18 columns):\n",
      " #   Column        Non-Null Count  Dtype         \n",
      "---  ------        --------------  -----         \n",
      " 0   price         51525 non-null  int64         \n",
      " 1   model_year    51525 non-null  int32         \n",
      " 2   model         51525 non-null  object        \n",
      " 3   condition     51525 non-null  int64         \n",
      " 4   cylinders     51525 non-null  float64       \n",
      " 5   fuel          51525 non-null  object        \n",
      " 6   odometer      51525 non-null  float64       \n",
      " 7   transmission  51525 non-null  object        \n",
      " 8   type          51525 non-null  object        \n",
      " 9   paint_color   51525 non-null  object        \n",
      " 10  is_4wd        51525 non-null  float64       \n",
      " 11  date_posted   51525 non-null  datetime64[ns]\n",
      " 12  days_listed   51525 non-null  int64         \n",
      " 13  month         51525 non-null  int32         \n",
      " 14  year          51525 non-null  int32         \n",
      " 15  day           51525 non-null  int32         \n",
      " 16  car_age       51525 non-null  int32         \n",
      " 17  avg_mileage   51525 non-null  float64       \n",
      "dtypes: datetime64[ns](1), float64(4), int32(5), int64(3), object(5)\n",
      "memory usage: 6.1+ MB\n"
     ]
    },
    {
     "data": {
      "text/html": [
       "<div>\n",
       "<style scoped>\n",
       "    .dataframe tbody tr th:only-of-type {\n",
       "        vertical-align: middle;\n",
       "    }\n",
       "\n",
       "    .dataframe tbody tr th {\n",
       "        vertical-align: top;\n",
       "    }\n",
       "\n",
       "    .dataframe thead th {\n",
       "        text-align: right;\n",
       "    }\n",
       "</style>\n",
       "<table border=\"1\" class=\"dataframe\">\n",
       "  <thead>\n",
       "    <tr style=\"text-align: right;\">\n",
       "      <th></th>\n",
       "      <th>price</th>\n",
       "      <th>model_year</th>\n",
       "      <th>condition</th>\n",
       "      <th>cylinders</th>\n",
       "      <th>odometer</th>\n",
       "      <th>is_4wd</th>\n",
       "      <th>date_posted</th>\n",
       "      <th>days_listed</th>\n",
       "      <th>month</th>\n",
       "      <th>year</th>\n",
       "      <th>day</th>\n",
       "      <th>car_age</th>\n",
       "      <th>avg_mileage</th>\n",
       "    </tr>\n",
       "  </thead>\n",
       "  <tbody>\n",
       "    <tr>\n",
       "      <th>count</th>\n",
       "      <td>51525.000000</td>\n",
       "      <td>51525.000000</td>\n",
       "      <td>51525.000000</td>\n",
       "      <td>51525.000000</td>\n",
       "      <td>51525.000000</td>\n",
       "      <td>51525.000000</td>\n",
       "      <td>51525</td>\n",
       "      <td>51525.00000</td>\n",
       "      <td>51525.000000</td>\n",
       "      <td>51525.000000</td>\n",
       "      <td>51525.000000</td>\n",
       "      <td>51525.000000</td>\n",
       "      <td>51525.000000</td>\n",
       "    </tr>\n",
       "    <tr>\n",
       "      <th>mean</th>\n",
       "      <td>12132.464920</td>\n",
       "      <td>2009.856186</td>\n",
       "      <td>2.637535</td>\n",
       "      <td>6.121494</td>\n",
       "      <td>115153.188734</td>\n",
       "      <td>0.496303</td>\n",
       "      <td>2018-10-25 01:57:46.270742528</td>\n",
       "      <td>39.55476</td>\n",
       "      <td>6.628491</td>\n",
       "      <td>2018.307462</td>\n",
       "      <td>15.449491</td>\n",
       "      <td>8.496128</td>\n",
       "      <td>18346.020561</td>\n",
       "    </tr>\n",
       "    <tr>\n",
       "      <th>min</th>\n",
       "      <td>1.000000</td>\n",
       "      <td>1908.000000</td>\n",
       "      <td>0.000000</td>\n",
       "      <td>3.000000</td>\n",
       "      <td>0.000000</td>\n",
       "      <td>0.000000</td>\n",
       "      <td>2018-05-01 00:00:00</td>\n",
       "      <td>0.00000</td>\n",
       "      <td>1.000000</td>\n",
       "      <td>2018.000000</td>\n",
       "      <td>1.000000</td>\n",
       "      <td>1.000000</td>\n",
       "      <td>0.000000</td>\n",
       "    </tr>\n",
       "    <tr>\n",
       "      <th>25%</th>\n",
       "      <td>5000.000000</td>\n",
       "      <td>2006.000000</td>\n",
       "      <td>2.000000</td>\n",
       "      <td>4.000000</td>\n",
       "      <td>73100.000000</td>\n",
       "      <td>0.000000</td>\n",
       "      <td>2018-07-29 00:00:00</td>\n",
       "      <td>19.00000</td>\n",
       "      <td>3.000000</td>\n",
       "      <td>2018.000000</td>\n",
       "      <td>8.000000</td>\n",
       "      <td>4.000000</td>\n",
       "      <td>10941.176471</td>\n",
       "    </tr>\n",
       "    <tr>\n",
       "      <th>50%</th>\n",
       "      <td>9000.000000</td>\n",
       "      <td>2011.000000</td>\n",
       "      <td>3.000000</td>\n",
       "      <td>6.000000</td>\n",
       "      <td>114881.500000</td>\n",
       "      <td>0.000000</td>\n",
       "      <td>2018-10-25 00:00:00</td>\n",
       "      <td>33.00000</td>\n",
       "      <td>7.000000</td>\n",
       "      <td>2018.000000</td>\n",
       "      <td>15.000000</td>\n",
       "      <td>7.000000</td>\n",
       "      <td>15284.142857</td>\n",
       "    </tr>\n",
       "    <tr>\n",
       "      <th>75%</th>\n",
       "      <td>16839.000000</td>\n",
       "      <td>2014.000000</td>\n",
       "      <td>3.000000</td>\n",
       "      <td>8.000000</td>\n",
       "      <td>152111.000000</td>\n",
       "      <td>1.000000</td>\n",
       "      <td>2019-01-21 00:00:00</td>\n",
       "      <td>53.00000</td>\n",
       "      <td>10.000000</td>\n",
       "      <td>2019.000000</td>\n",
       "      <td>23.000000</td>\n",
       "      <td>12.000000</td>\n",
       "      <td>21785.714286</td>\n",
       "    </tr>\n",
       "    <tr>\n",
       "      <th>max</th>\n",
       "      <td>375000.000000</td>\n",
       "      <td>2019.000000</td>\n",
       "      <td>5.000000</td>\n",
       "      <td>12.000000</td>\n",
       "      <td>990000.000000</td>\n",
       "      <td>1.000000</td>\n",
       "      <td>2019-04-19 00:00:00</td>\n",
       "      <td>271.00000</td>\n",
       "      <td>12.000000</td>\n",
       "      <td>2019.000000</td>\n",
       "      <td>31.000000</td>\n",
       "      <td>110.000000</td>\n",
       "      <td>373200.000000</td>\n",
       "    </tr>\n",
       "    <tr>\n",
       "      <th>std</th>\n",
       "      <td>10040.803015</td>\n",
       "      <td>6.192313</td>\n",
       "      <td>0.712447</td>\n",
       "      <td>1.657296</td>\n",
       "      <td>62227.700629</td>\n",
       "      <td>0.499991</td>\n",
       "      <td>NaN</td>\n",
       "      <td>28.20427</td>\n",
       "      <td>3.474134</td>\n",
       "      <td>0.461447</td>\n",
       "      <td>8.736521</td>\n",
       "      <td>6.147993</td>\n",
       "      <td>14132.860962</td>\n",
       "    </tr>\n",
       "  </tbody>\n",
       "</table>\n",
       "</div>"
      ],
      "text/plain": [
       "               price    model_year     condition     cylinders       odometer  \\\n",
       "count   51525.000000  51525.000000  51525.000000  51525.000000   51525.000000   \n",
       "mean    12132.464920   2009.856186      2.637535      6.121494  115153.188734   \n",
       "min         1.000000   1908.000000      0.000000      3.000000       0.000000   \n",
       "25%      5000.000000   2006.000000      2.000000      4.000000   73100.000000   \n",
       "50%      9000.000000   2011.000000      3.000000      6.000000  114881.500000   \n",
       "75%     16839.000000   2014.000000      3.000000      8.000000  152111.000000   \n",
       "max    375000.000000   2019.000000      5.000000     12.000000  990000.000000   \n",
       "std     10040.803015      6.192313      0.712447      1.657296   62227.700629   \n",
       "\n",
       "             is_4wd                    date_posted  days_listed         month  \\\n",
       "count  51525.000000                          51525  51525.00000  51525.000000   \n",
       "mean       0.496303  2018-10-25 01:57:46.270742528     39.55476      6.628491   \n",
       "min        0.000000            2018-05-01 00:00:00      0.00000      1.000000   \n",
       "25%        0.000000            2018-07-29 00:00:00     19.00000      3.000000   \n",
       "50%        0.000000            2018-10-25 00:00:00     33.00000      7.000000   \n",
       "75%        1.000000            2019-01-21 00:00:00     53.00000     10.000000   \n",
       "max        1.000000            2019-04-19 00:00:00    271.00000     12.000000   \n",
       "std        0.499991                            NaN     28.20427      3.474134   \n",
       "\n",
       "               year           day       car_age    avg_mileage  \n",
       "count  51525.000000  51525.000000  51525.000000   51525.000000  \n",
       "mean    2018.307462     15.449491      8.496128   18346.020561  \n",
       "min     2018.000000      1.000000      1.000000       0.000000  \n",
       "25%     2018.000000      8.000000      4.000000   10941.176471  \n",
       "50%     2018.000000     15.000000      7.000000   15284.142857  \n",
       "75%     2019.000000     23.000000     12.000000   21785.714286  \n",
       "max     2019.000000     31.000000    110.000000  373200.000000  \n",
       "std        0.461447      8.736521      6.147993   14132.860962  "
      ]
     },
     "execution_count": 38,
     "metadata": {},
     "output_type": "execute_result"
    }
   ],
   "source": [
    "# print the general/summary information about the DataFrame\n",
    "df.info()\n",
    "df.describe()"
   ]
  },
  {
   "cell_type": "code",
   "execution_count": 39,
   "metadata": {
    "scrolled": true
   },
   "outputs": [
    {
     "data": {
      "text/html": [
       "<div>\n",
       "<style scoped>\n",
       "    .dataframe tbody tr th:only-of-type {\n",
       "        vertical-align: middle;\n",
       "    }\n",
       "\n",
       "    .dataframe tbody tr th {\n",
       "        vertical-align: top;\n",
       "    }\n",
       "\n",
       "    .dataframe thead th {\n",
       "        text-align: right;\n",
       "    }\n",
       "</style>\n",
       "<table border=\"1\" class=\"dataframe\">\n",
       "  <thead>\n",
       "    <tr style=\"text-align: right;\">\n",
       "      <th></th>\n",
       "      <th>price</th>\n",
       "      <th>model_year</th>\n",
       "      <th>model</th>\n",
       "      <th>condition</th>\n",
       "      <th>cylinders</th>\n",
       "      <th>fuel</th>\n",
       "      <th>odometer</th>\n",
       "      <th>transmission</th>\n",
       "      <th>type</th>\n",
       "      <th>paint_color</th>\n",
       "      <th>is_4wd</th>\n",
       "      <th>date_posted</th>\n",
       "      <th>days_listed</th>\n",
       "      <th>month</th>\n",
       "      <th>year</th>\n",
       "      <th>day</th>\n",
       "      <th>car_age</th>\n",
       "      <th>avg_mileage</th>\n",
       "    </tr>\n",
       "  </thead>\n",
       "  <tbody>\n",
       "    <tr>\n",
       "      <th>0</th>\n",
       "      <td>9400</td>\n",
       "      <td>2011</td>\n",
       "      <td>bmw x5</td>\n",
       "      <td>2</td>\n",
       "      <td>6.0</td>\n",
       "      <td>gas</td>\n",
       "      <td>145000.0</td>\n",
       "      <td>automatic</td>\n",
       "      <td>SUV</td>\n",
       "      <td>black</td>\n",
       "      <td>1.0</td>\n",
       "      <td>2018-06-23</td>\n",
       "      <td>19</td>\n",
       "      <td>6</td>\n",
       "      <td>2018</td>\n",
       "      <td>23</td>\n",
       "      <td>7</td>\n",
       "      <td>20714.285714</td>\n",
       "    </tr>\n",
       "    <tr>\n",
       "      <th>1</th>\n",
       "      <td>25500</td>\n",
       "      <td>2011</td>\n",
       "      <td>ford f-150</td>\n",
       "      <td>2</td>\n",
       "      <td>6.0</td>\n",
       "      <td>gas</td>\n",
       "      <td>88705.0</td>\n",
       "      <td>automatic</td>\n",
       "      <td>pickup</td>\n",
       "      <td>white</td>\n",
       "      <td>1.0</td>\n",
       "      <td>2018-10-19</td>\n",
       "      <td>50</td>\n",
       "      <td>10</td>\n",
       "      <td>2018</td>\n",
       "      <td>19</td>\n",
       "      <td>7</td>\n",
       "      <td>12672.142857</td>\n",
       "    </tr>\n",
       "    <tr>\n",
       "      <th>2</th>\n",
       "      <td>5500</td>\n",
       "      <td>2013</td>\n",
       "      <td>hyundai sonata</td>\n",
       "      <td>4</td>\n",
       "      <td>4.0</td>\n",
       "      <td>gas</td>\n",
       "      <td>110000.0</td>\n",
       "      <td>automatic</td>\n",
       "      <td>sedan</td>\n",
       "      <td>red</td>\n",
       "      <td>0.0</td>\n",
       "      <td>2019-02-07</td>\n",
       "      <td>79</td>\n",
       "      <td>2</td>\n",
       "      <td>2019</td>\n",
       "      <td>7</td>\n",
       "      <td>6</td>\n",
       "      <td>18333.333333</td>\n",
       "    </tr>\n",
       "    <tr>\n",
       "      <th>3</th>\n",
       "      <td>1500</td>\n",
       "      <td>2003</td>\n",
       "      <td>ford f-150</td>\n",
       "      <td>1</td>\n",
       "      <td>8.0</td>\n",
       "      <td>gas</td>\n",
       "      <td>178000.0</td>\n",
       "      <td>automatic</td>\n",
       "      <td>pickup</td>\n",
       "      <td>white</td>\n",
       "      <td>0.0</td>\n",
       "      <td>2019-03-22</td>\n",
       "      <td>9</td>\n",
       "      <td>3</td>\n",
       "      <td>2019</td>\n",
       "      <td>22</td>\n",
       "      <td>16</td>\n",
       "      <td>11125.000000</td>\n",
       "    </tr>\n",
       "    <tr>\n",
       "      <th>4</th>\n",
       "      <td>14900</td>\n",
       "      <td>2017</td>\n",
       "      <td>chrysler 200</td>\n",
       "      <td>3</td>\n",
       "      <td>4.0</td>\n",
       "      <td>gas</td>\n",
       "      <td>80903.0</td>\n",
       "      <td>automatic</td>\n",
       "      <td>sedan</td>\n",
       "      <td>black</td>\n",
       "      <td>0.0</td>\n",
       "      <td>2019-04-02</td>\n",
       "      <td>28</td>\n",
       "      <td>4</td>\n",
       "      <td>2019</td>\n",
       "      <td>2</td>\n",
       "      <td>2</td>\n",
       "      <td>40451.500000</td>\n",
       "    </tr>\n",
       "  </tbody>\n",
       "</table>\n",
       "</div>"
      ],
      "text/plain": [
       "   price  model_year           model  condition  cylinders fuel  odometer  \\\n",
       "0   9400        2011          bmw x5          2        6.0  gas  145000.0   \n",
       "1  25500        2011      ford f-150          2        6.0  gas   88705.0   \n",
       "2   5500        2013  hyundai sonata          4        4.0  gas  110000.0   \n",
       "3   1500        2003      ford f-150          1        8.0  gas  178000.0   \n",
       "4  14900        2017    chrysler 200          3        4.0  gas   80903.0   \n",
       "\n",
       "  transmission    type paint_color  is_4wd date_posted  days_listed  month  \\\n",
       "0    automatic     SUV       black     1.0  2018-06-23           19      6   \n",
       "1    automatic  pickup       white     1.0  2018-10-19           50     10   \n",
       "2    automatic   sedan         red     0.0  2019-02-07           79      2   \n",
       "3    automatic  pickup       white     0.0  2019-03-22            9      3   \n",
       "4    automatic   sedan       black     0.0  2019-04-02           28      4   \n",
       "\n",
       "   year  day  car_age   avg_mileage  \n",
       "0  2018   23        7  20714.285714  \n",
       "1  2018   19        7  12672.142857  \n",
       "2  2019    7        6  18333.333333  \n",
       "3  2019   22       16  11125.000000  \n",
       "4  2019    2        2  40451.500000  "
      ]
     },
     "execution_count": 39,
     "metadata": {},
     "output_type": "execute_result"
    }
   ],
   "source": [
    "# print a sample of data\n",
    "df.head()"
   ]
  },
  {
   "cell_type": "markdown",
   "metadata": {},
   "source": [
    "## Study core parameters\n"
   ]
  },
  {
   "cell_type": "code",
   "execution_count": 40,
   "metadata": {},
   "outputs": [],
   "source": [
    "def distribution_calculate(parameter):\n",
    "    print('The histogram of: {}'.format(parameter))\n",
    "    df[parameter].hist(bins=50, figsize=(12,8))\n",
    "    #sns.boxplot(x=df[parameter])\n",
    "    plt.show()\n",
    "    if df[parameter].mean()>df[parameter].median():\n",
    "        print('The distribution is skewed to the right')\n",
    "    else:\n",
    "        print('The distribution is skewed to the left')\n",
    "    print('---------------------------------------')\n",
    "    print('Statistics on: {}'.format(parameter))\n",
    "    print(df[parameter].describe())\n",
    "    ninety_seven = np.percentile(df[parameter], 97)\n",
    "    three = np.percentile(df[parameter], 3)\n",
    "    print('---------------------------------------')\n",
    "    print('minimun border that contains only the small 3% of the data:',three)\n",
    "    print('maximum border that contains 97% of the data:',ninety_seven)\n",
    "    print('---------------------------------------')\n",
    "    print('The outliers are considered to be values below',three, \"and above\",ninety_seven)\n",
    "    print('We have',len(df[(df[parameter]<three)|(df[parameter]>ninety_seven)]),\"values that we can consider as outliers, out of \", df.shape[0],\n",
    "          \"values. Meaning that outliers are\", round(len(df[(df[parameter]<three)|(df[parameter]>ninety_seven)])/df.shape[0],2), \"of the data.\")\n",
    "    print('---------------------------------------')\n",
    "    filter_parameter=(df[parameter]>three)&(df[parameter]<ninety_seven) #making a filter for the data without outliers\n",
    "    #print(filter_parameter)\n",
    "    parameter_filtered =df[filter_parameter] #filtered data without outliers in specific variable\n",
    "    print(f'Now the data will contain information about {parameter_filtered.shape[0]} vehicales only.')\n",
    "    print('The histogram of filtered {}: '.format(parameter))\n",
    "    parameter_filtered[parameter].hist(bins=50, figsize=(12,8))\n",
    "    #sns.boxplot(x=parameter_filtered[parameter])\n",
    "    plt.show()\n",
    "    return filter_parameter, parameter_filtered"
   ]
  },
  {
   "cell_type": "code",
   "execution_count": 41,
   "metadata": {},
   "outputs": [
    {
     "name": "stdout",
     "output_type": "stream",
     "text": [
      "The histogram of: price\n"
     ]
    },
    {
     "data": {
      "image/png": "[encoded data removed]",
      "text/plain": [
       "<Figure size 864x576 with 1 Axes>"
      ]
     },
     "metadata": {
      "needs_background": "light"
     },
     "output_type": "display_data"
    },
    {
     "name": "stdout",
     "output_type": "stream",
     "text": [
      "The distribution is skewed to the right\n",
      "---------------------------------------\n",
      "Statistics on: price\n",
      "count     51525.000000\n",
      "mean      12132.464920\n",
      "std       10040.803015\n",
      "min           1.000000\n",
      "25%        5000.000000\n",
      "50%        9000.000000\n",
      "75%       16839.000000\n",
      "max      375000.000000\n",
      "Name: price, dtype: float64\n",
      "---------------------------------------\n",
      "minimun border that contains only the small 3% of the data: 1000.0\n",
      "maximum border that contains 97% of the data: 34950.0\n",
      "---------------------------------------\n",
      "The outliers are considered to be values below 1000.0 and above 34950.0\n",
      "We have 2945 values that we can consider as outliers, out of  51525 values. Meaning that outliers are 0.06 of the data.\n",
      "---------------------------------------\n",
      "Now the data will contain information about 48413 vehicales only.\n",
      "The histogram of filtered price: \n"
     ]
    },
    {
     "data": {
      "image/png": "[encoded data removed]",
      "text/plain": [
       "<Figure size 864x576 with 1 Axes>"
      ]
     },
     "metadata": {
      "needs_background": "light"
     },
     "output_type": "display_data"
    }
   ],
   "source": [
    "filtering_price, price_filtered = distribution_calculate ('price')\n"
   ]
  },
  {
   "cell_type": "code",
   "execution_count": 42,
   "metadata": {},
   "outputs": [
    {
     "name": "stdout",
     "output_type": "stream",
     "text": [
      "count    48413.000000\n",
      "mean     11489.696115\n",
      "std       7743.718340\n",
      "min       1005.000000\n",
      "25%       5400.000000\n",
      "50%       9000.000000\n",
      "75%      15995.000000\n",
      "max      34945.000000\n",
      "Name: price, dtype: float64\n"
     ]
    }
   ],
   "source": [
    "print(price_filtered['price'].describe())"
   ]
  },
  {
   "cell_type": "markdown",
   "metadata": {},
   "source": [
    "After filtering the data from the mathematical outliers, the data is still skewed to the right but looks more uniform in its values. the values that were we cut from the data represented non regular prices, since a car is not that cheap, it sounds not vary reasonable to sell it for 1 or 100 dollar; on the opposite - maybe the high values are real and represent the true value of very expensive or antique car, but they stop us from getting more accurate answers to our question."
   ]
  },
  {
   "cell_type": "code",
   "execution_count": 43,
   "metadata": {},
   "outputs": [
    {
     "name": "stdout",
     "output_type": "stream",
     "text": [
      "The histogram of: car_age\n"
     ]
    },
    {
     "data": {
      "image/png": "[encoded data removed]",
      "text/plain": [
       "<Figure size 864x576 with 1 Axes>"
      ]
     },
     "metadata": {
      "needs_background": "light"
     },
     "output_type": "display_data"
    },
    {
     "name": "stdout",
     "output_type": "stream",
     "text": [
      "The distribution is skewed to the right\n",
      "---------------------------------------\n",
      "Statistics on: car_age\n",
      "count    51525.000000\n",
      "mean         8.496128\n",
      "std          6.147993\n",
      "min          1.000000\n",
      "25%          4.000000\n",
      "50%          7.000000\n",
      "75%         12.000000\n",
      "max        110.000000\n",
      "Name: car_age, dtype: float64\n",
      "---------------------------------------\n",
      "minimun border that contains only the small 3% of the data: 1.0\n",
      "maximum border that contains 97% of the data: 21.0\n",
      "---------------------------------------\n",
      "The outliers are considered to be values below 1.0 and above 21.0\n",
      "We have 1309 values that we can consider as outliers, out of  51525 values. Meaning that outliers are 0.03 of the data.\n",
      "---------------------------------------\n",
      "Now the data will contain information about 45331 vehicales only.\n",
      "The histogram of filtered car_age: \n"
     ]
    },
    {
     "data": {
      "image/png": "[encoded data removed]",
      "text/plain": [
       "<Figure size 864x576 with 1 Axes>"
      ]
     },
     "metadata": {
      "needs_background": "light"
     },
     "output_type": "display_data"
    }
   ],
   "source": [
    "filtering_car_age, car_age_filtered = distribution_calculate ('car_age')"
   ]
  },
  {
   "cell_type": "code",
   "execution_count": 44,
   "metadata": {},
   "outputs": [
    {
     "data": {
      "text/plain": [
       "count    45331.000000\n",
       "mean         8.554918\n",
       "std          4.573536\n",
       "min          2.000000\n",
       "25%          5.000000\n",
       "50%          8.000000\n",
       "75%         12.000000\n",
       "max         20.000000\n",
       "Name: car_age, dtype: float64"
      ]
     },
     "execution_count": 44,
     "metadata": {},
     "output_type": "execute_result"
    }
   ],
   "source": [
    "car_age_filtered['car_age'].describe()"
   ]
  },
  {
   "cell_type": "markdown",
   "metadata": {},
   "source": [
    "Also in the matter of car's age, we see a skeweness of the data to the right. 97% of the data was smaller of 21 years but the rest 3% had really different values with maximum of 110 years.The values that were we cut from the data, which constitute only 3%, represented old cars that are not vary typical since (according to S&P global) the average age of cars is 12.2. We see in the last print that the median and mean did not change a lot, meaning that the filtering did not harmed or changed significantly the data."
   ]
  },
  {
   "cell_type": "code",
   "execution_count": 45,
   "metadata": {},
   "outputs": [
    {
     "name": "stdout",
     "output_type": "stream",
     "text": [
      "0.85\n"
     ]
    }
   ],
   "source": [
    "#we want to check if the filtering of the two previous variables of age and price, leads to small data compared to the original df\n",
    "duplicate_df= pd.concat([car_age_filtered,price_filtered], axis=1, join=\"inner\").reset_index(drop=True)\n",
    "duplicate_df = duplicate_df.iloc[:,0:18]\n",
    "print(round(duplicate_df.shape[0]/df.shape[0],2))\n",
    "#We still have 85% of the df so it's ok"
   ]
  },
  {
   "cell_type": "code",
   "execution_count": 46,
   "metadata": {},
   "outputs": [
    {
     "name": "stdout",
     "output_type": "stream",
     "text": [
      "The histogram of: cylinders\n"
     ]
    },
    {
     "data": {
      "image/png": "[encoded data removed]",
      "text/plain": [
       "<Figure size 864x576 with 1 Axes>"
      ]
     },
     "metadata": {
      "needs_background": "light"
     },
     "output_type": "display_data"
    },
    {
     "name": "stdout",
     "output_type": "stream",
     "text": [
      "The distribution is skewed to the right\n",
      "---------------------------------------\n",
      "Statistics on: cylinders\n",
      "count    51525.000000\n",
      "mean         6.121494\n",
      "std          1.657296\n",
      "min          3.000000\n",
      "25%          4.000000\n",
      "50%          6.000000\n",
      "75%          8.000000\n",
      "max         12.000000\n",
      "Name: cylinders, dtype: float64\n",
      "---------------------------------------\n",
      "minimun border that contains only the small 3% of the data: 4.0\n",
      "maximum border that contains 97% of the data: 8.0\n",
      "---------------------------------------\n",
      "The outliers are considered to be values below 4.0 and above 8.0\n",
      "We have 585 values that we can consider as outliers, out of  51525 values. Meaning that outliers are 0.01 of the data.\n",
      "---------------------------------------\n",
      "Now the data will contain information about 17729 vehicales only.\n",
      "The histogram of filtered cylinders: \n"
     ]
    },
    {
     "data": {
      "image/png": "[encoded data removed]",
      "text/plain": [
       "<Figure size 864x576 with 1 Axes>"
      ]
     },
     "metadata": {
      "needs_background": "light"
     },
     "output_type": "display_data"
    }
   ],
   "source": [
    "filtering_cylinders, cylinders_filtered = distribution_calculate ('cylinders')"
   ]
  },
  {
   "cell_type": "markdown",
   "metadata": {},
   "source": [
    "The filtered cylinder data looks very problematic, since the data is based on vary few categories, the filtering takes out most of it and leaving us with only 17,727 rows. we want to check how the theoretical outliers look like, based on IQR :"
   ]
  },
  {
   "cell_type": "code",
   "execution_count": 47,
   "metadata": {},
   "outputs": [
    {
     "name": "stdout",
     "output_type": "stream",
     "text": [
      "the minimum value is: -2.0, and the maximum value is:14.0\n"
     ]
    }
   ],
   "source": [
    "Q1 = df['cylinders'].quantile(0.25)\n",
    "Q3 = df['cylinders'].quantile(0.75)\n",
    "IQR = Q3 - Q1\n",
    "min_iqr=Q1-1.5*IQR\n",
    "max_iqr=Q3+1.5*IQR\n",
    "print(f'the minimum value is: {min_iqr}, and the maximum value is:{max_iqr}')"
   ]
  },
  {
   "cell_type": "code",
   "execution_count": 48,
   "metadata": {},
   "outputs": [
    {
     "data": {
      "image/png": "[encoded data removed]",
      "text/plain": [
       "<Figure size 432x288 with 1 Axes>"
      ]
     },
     "metadata": {
      "needs_background": "light"
     },
     "output_type": "display_data"
    }
   ],
   "source": [
    "sns.boxplot(x=df['cylinders'], showfliers = False)\n",
    "plt.show()"
   ]
  },
  {
   "cell_type": "markdown",
   "metadata": {},
   "source": [
    "meaning that, based on quartiles, we don't have any outliers because all the values are in the range."
   ]
  },
  {
   "cell_type": "code",
   "execution_count": 49,
   "metadata": {},
   "outputs": [
    {
     "name": "stdout",
     "output_type": "stream",
     "text": [
      "The histogram of: avg_mileage\n"
     ]
    },
    {
     "data": {
      "image/png": "[encoded data removed]",
      "text/plain": [
       "<Figure size 864x576 with 1 Axes>"
      ]
     },
     "metadata": {
      "needs_background": "light"
     },
     "output_type": "display_data"
    },
    {
     "name": "stdout",
     "output_type": "stream",
     "text": [
      "The distribution is skewed to the right\n",
      "---------------------------------------\n",
      "Statistics on: avg_mileage\n",
      "count     51525.000000\n",
      "mean      18346.020561\n",
      "std       14132.860962\n",
      "min           0.000000\n",
      "25%       10941.176471\n",
      "50%       15284.142857\n",
      "75%       21785.714286\n",
      "max      373200.000000\n",
      "Name: avg_mileage, dtype: float64\n",
      "---------------------------------------\n",
      "minimun border that contains only the small 3% of the data: 2579.572\n",
      "maximum border that contains 97% of the data: 48500.0\n",
      "---------------------------------------\n",
      "The outliers are considered to be values below 2579.572 and above 48500.0\n",
      "We have 3088 values that we can consider as outliers, out of  51525 values. Meaning that outliers are 0.06 of the data.\n",
      "---------------------------------------\n",
      "Now the data will contain information about 48432 vehicales only.\n",
      "The histogram of filtered avg_mileage: \n"
     ]
    },
    {
     "data": {
      "image/png": "[encoded data removed]",
      "text/plain": [
       "<Figure size 864x576 with 1 Axes>"
      ]
     },
     "metadata": {
      "needs_background": "light"
     },
     "output_type": "display_data"
    }
   ],
   "source": [
    "filtering_avg_mil, avg_mil_filtered = distribution_calculate ('avg_mileage')"
   ]
  },
  {
   "cell_type": "markdown",
   "metadata": {},
   "source": [
    "the data is skewed to the right but after filtering it looks more reasonable. the values that were we cut from the data represented riding 7 km every day or less than that; and riding 132 km every day or more. both represent non regular behavior pattern which won't help us understand the effect of the variables on the speed of purchasing the car (removing the ad) because they are not typical."
   ]
  },
  {
   "cell_type": "code",
   "execution_count": 50,
   "metadata": {},
   "outputs": [
    {
     "name": "stdout",
     "output_type": "stream",
     "text": [
      "0.82\n"
     ]
    }
   ],
   "source": [
    "#we want to check if the filtering of the two previous variables of age, mileage and price, leads to small data compared to the original df\n",
    "duplicate_df= pd.concat([car_age_filtered,price_filtered, avg_mil_filtered], axis=1, join=\"inner\").reset_index(drop=True)\n",
    "duplicate_df = duplicate_df.iloc[:,0:18]\n",
    "print(round(duplicate_df.shape[0]/df.shape[0],2)) \n",
    "#we have 82% of the data\n"
   ]
  },
  {
   "cell_type": "markdown",
   "metadata": {},
   "source": [
    "## Ads lifetime\n"
   ]
  },
  {
   "cell_type": "code",
   "execution_count": 51,
   "metadata": {},
   "outputs": [
    {
     "data": {
      "text/plain": [
       "count    42080.000000\n",
       "mean        39.577020\n",
       "std         28.267696\n",
       "min          0.000000\n",
       "25%         19.000000\n",
       "50%         33.000000\n",
       "75%         53.000000\n",
       "max        271.000000\n",
       "Name: days_listed, dtype: float64"
      ]
     },
     "execution_count": 51,
     "metadata": {},
     "output_type": "execute_result"
    }
   ],
   "source": [
    "duplicate_df['days_listed'].describe()"
   ]
  },
  {
   "cell_type": "code",
   "execution_count": 52,
   "metadata": {},
   "outputs": [
    {
     "data": {
      "image/png": "[encoded data removed]",
      "text/plain": [
       "<Figure size 1440x360 with 1 Axes>"
      ]
     },
     "metadata": {
      "needs_background": "light"
     },
     "output_type": "display_data"
    }
   ],
   "source": [
    "fig=plt.figure(figsize=(20,5))\n",
    "plt.hist(duplicate_df['days_listed'], bins=50, color='c', edgecolor='k', alpha=0.65)\n",
    "plt.axvline(duplicate_df['days_listed'].mean(), color='k', linestyle='dashed', linewidth=1)\n",
    "min_ylim, max_ylim = plt.ylim()\n",
    "plt.text(duplicate_df['days_listed'].mean()*1, max_ylim*0.9, 'Mean')\n",
    "plt.axvline(duplicate_df['days_listed'].median(), color='b', linestyle='dashed', linewidth=1)\n",
    "min_ylim, max_ylim = plt.ylim()\n",
    "plt.text(duplicate_df['days_listed'].median()*1, max_ylim*0.8, 'Median')\n",
    "\n",
    "plt.show()"
   ]
  },
  {
   "cell_type": "markdown",
   "metadata": {},
   "source": [
    "We see that the variable is skewed to the right, the mean is bigger than the median."
   ]
  },
  {
   "cell_type": "code",
   "execution_count": 53,
   "metadata": {},
   "outputs": [
    {
     "name": "stdout",
     "output_type": "stream",
     "text": [
      "---------------------------------------\n",
      "minimun border that contains only the small 3% of the data: 5.0\n",
      "maximum border that contains 97% of the data: 106.0\n"
     ]
    }
   ],
   "source": [
    "ninety_seven = np.percentile(duplicate_df['days_listed'], 97)\n",
    "three = np.percentile(duplicate_df['days_listed'], 3)\n",
    "print('---------------------------------------')\n",
    "print('minimun border that contains only the small 3% of the data:',three)\n",
    "print('maximum border that contains 97% of the data:',ninety_seven)\n"
   ]
  },
  {
   "cell_type": "code",
   "execution_count": 54,
   "metadata": {},
   "outputs": [],
   "source": [
    "duplicate_df['too_fast']= duplicate_df['days_listed']<5.0\n",
    "duplicate_df['too_slow']= duplicate_df['days_listed']>106.0"
   ]
  },
  {
   "cell_type": "code",
   "execution_count": 55,
   "metadata": {},
   "outputs": [
    {
     "data": {
      "image/png": "[encoded data removed]",
      "text/plain": [
       "<Figure size 1440x360 with 1 Axes>"
      ]
     },
     "metadata": {
      "needs_background": "light"
     },
     "output_type": "display_data"
    }
   ],
   "source": [
    "price_fast = duplicate_df.query('too_slow==0.0 & too_fast==0.0').groupby(\"days_listed\")[\"price\"].agg(['count','mean']).reset_index()\n",
    "price_fast\n",
    "fig=plt.figure(figsize=(20,5))\n",
    "sns.scatterplot(data=price_fast, x='days_listed', y=\"mean\")\n",
    "plt.show()"
   ]
  },
  {
   "cell_type": "markdown",
   "metadata": {},
   "source": [
    "We cannot learn a lot from the latest graph, that investigates the connection between car's price and days listed - since it do not imply that there is a correlation.\n",
    "we see a pleatau until x=70 and then the data is messy. So we will try and see if there is a relationship of condition and amount of days"
   ]
  },
  {
   "cell_type": "code",
   "execution_count": 56,
   "metadata": {},
   "outputs": [
    {
     "data": {
      "text/html": [
       "<div>\n",
       "<style scoped>\n",
       "    .dataframe tbody tr th:only-of-type {\n",
       "        vertical-align: middle;\n",
       "    }\n",
       "\n",
       "    .dataframe tbody tr th {\n",
       "        vertical-align: top;\n",
       "    }\n",
       "\n",
       "    .dataframe thead th {\n",
       "        text-align: right;\n",
       "    }\n",
       "</style>\n",
       "<table border=\"1\" class=\"dataframe\">\n",
       "  <thead>\n",
       "    <tr style=\"text-align: right;\">\n",
       "      <th></th>\n",
       "      <th>type</th>\n",
       "      <th>mean</th>\n",
       "      <th>median</th>\n",
       "      <th>count</th>\n",
       "    </tr>\n",
       "  </thead>\n",
       "  <tbody>\n",
       "    <tr>\n",
       "      <th>0</th>\n",
       "      <td>bus</td>\n",
       "      <td>32.000000</td>\n",
       "      <td>29.0</td>\n",
       "      <td>11</td>\n",
       "    </tr>\n",
       "    <tr>\n",
       "      <th>1</th>\n",
       "      <td>offroad</td>\n",
       "      <td>36.801418</td>\n",
       "      <td>32.0</td>\n",
       "      <td>141</td>\n",
       "    </tr>\n",
       "    <tr>\n",
       "      <th>2</th>\n",
       "      <td>other</td>\n",
       "      <td>37.343750</td>\n",
       "      <td>33.0</td>\n",
       "      <td>192</td>\n",
       "    </tr>\n",
       "    <tr>\n",
       "      <th>3</th>\n",
       "      <td>convertible</td>\n",
       "      <td>37.787645</td>\n",
       "      <td>33.0</td>\n",
       "      <td>259</td>\n",
       "    </tr>\n",
       "    <tr>\n",
       "      <th>4</th>\n",
       "      <td>van</td>\n",
       "      <td>37.075875</td>\n",
       "      <td>32.0</td>\n",
       "      <td>514</td>\n",
       "    </tr>\n",
       "    <tr>\n",
       "      <th>5</th>\n",
       "      <td>hatchback</td>\n",
       "      <td>38.974790</td>\n",
       "      <td>35.0</td>\n",
       "      <td>833</td>\n",
       "    </tr>\n",
       "    <tr>\n",
       "      <th>6</th>\n",
       "      <td>mini-van</td>\n",
       "      <td>36.542531</td>\n",
       "      <td>32.0</td>\n",
       "      <td>964</td>\n",
       "    </tr>\n",
       "    <tr>\n",
       "      <th>7</th>\n",
       "      <td>wagon</td>\n",
       "      <td>38.037984</td>\n",
       "      <td>34.0</td>\n",
       "      <td>1290</td>\n",
       "    </tr>\n",
       "    <tr>\n",
       "      <th>8</th>\n",
       "      <td>coupe</td>\n",
       "      <td>36.789951</td>\n",
       "      <td>32.0</td>\n",
       "      <td>1433</td>\n",
       "    </tr>\n",
       "    <tr>\n",
       "      <th>9</th>\n",
       "      <td>pickup</td>\n",
       "      <td>37.809403</td>\n",
       "      <td>33.0</td>\n",
       "      <td>5126</td>\n",
       "    </tr>\n",
       "    <tr>\n",
       "      <th>10</th>\n",
       "      <td>truck</td>\n",
       "      <td>37.898668</td>\n",
       "      <td>33.0</td>\n",
       "      <td>9385</td>\n",
       "    </tr>\n",
       "    <tr>\n",
       "      <th>11</th>\n",
       "      <td>sedan</td>\n",
       "      <td>37.596071</td>\n",
       "      <td>33.0</td>\n",
       "      <td>9774</td>\n",
       "    </tr>\n",
       "    <tr>\n",
       "      <th>12</th>\n",
       "      <td>SUV</td>\n",
       "      <td>37.867356</td>\n",
       "      <td>33.0</td>\n",
       "      <td>9861</td>\n",
       "    </tr>\n",
       "  </tbody>\n",
       "</table>\n",
       "</div>"
      ],
      "text/plain": [
       "           type       mean  median  count\n",
       "0           bus  32.000000    29.0     11\n",
       "1       offroad  36.801418    32.0    141\n",
       "2         other  37.343750    33.0    192\n",
       "3   convertible  37.787645    33.0    259\n",
       "4           van  37.075875    32.0    514\n",
       "5     hatchback  38.974790    35.0    833\n",
       "6      mini-van  36.542531    32.0    964\n",
       "7         wagon  38.037984    34.0   1290\n",
       "8         coupe  36.789951    32.0   1433\n",
       "9        pickup  37.809403    33.0   5126\n",
       "10        truck  37.898668    33.0   9385\n",
       "11        sedan  37.596071    33.0   9774\n",
       "12          SUV  37.867356    33.0   9861"
      ]
     },
     "execution_count": 56,
     "metadata": {},
     "output_type": "execute_result"
    }
   ],
   "source": [
    "type_fast = duplicate_df.query('too_slow==0.0 & too_fast==0.0').groupby(['type'])['days_listed'].agg(['mean','median', 'count']).sort_values(by='count').reset_index()\n",
    "type_fast\n"
   ]
  },
  {
   "cell_type": "markdown",
   "metadata": {},
   "source": [
    "also a quick check of the median and mean of days for ad, by type of vehicale shows close results for all types. We want to check how conditions are related:"
   ]
  },
  {
   "cell_type": "code",
   "execution_count": 57,
   "metadata": {},
   "outputs": [
    {
     "data": {
      "image/png": "[encoded data removed]",
      "text/plain": [
       "<Figure size 432x288 with 1 Axes>"
      ]
     },
     "metadata": {
      "needs_background": "light"
     },
     "output_type": "display_data"
    }
   ],
   "source": [
    "sns.histplot(data=duplicate_df.query('too_fast==1.0'), x=\"days_listed\", hue=\"condition\", multiple=\"stack\", shrink=.8)\n",
    "plt.show()"
   ]
  },
  {
   "cell_type": "code",
   "execution_count": 58,
   "metadata": {},
   "outputs": [
    {
     "data": {
      "image/png": "[encoded data removed]",
      "text/plain": [
       "<Figure size 432x288 with 1 Axes>"
      ]
     },
     "metadata": {
      "needs_background": "light"
     },
     "output_type": "display_data"
    }
   ],
   "source": [
    "sns.histplot(data=duplicate_df.query('too_slow==1.0'), x=\"days_listed\", hue=\"condition\",  multiple=\"stack\",shrink=.6, bins=15)\n",
    "plt.show()"
   ]
  },
  {
   "cell_type": "markdown",
   "metadata": {},
   "source": [
    "Focusing on the small outliers, that are smallest 3% of the data, we see that the better condition (higher category number) the faster it selles.\n",
    "This pattern is seen also when we focus on the highest 3% of the data - the high majority belongs to cars in good or excelent conditions and only small amount of cars in like new condition."
   ]
  },
  {
   "cell_type": "code",
   "execution_count": 59,
   "metadata": {},
   "outputs": [
    {
     "data": {
      "text/html": [
       "<div>\n",
       "<style scoped>\n",
       "    .dataframe tbody tr th:only-of-type {\n",
       "        vertical-align: middle;\n",
       "    }\n",
       "\n",
       "    .dataframe tbody tr th {\n",
       "        vertical-align: top;\n",
       "    }\n",
       "\n",
       "    .dataframe thead th {\n",
       "        text-align: right;\n",
       "    }\n",
       "</style>\n",
       "<table border=\"1\" class=\"dataframe\">\n",
       "  <thead>\n",
       "    <tr style=\"text-align: right;\">\n",
       "      <th></th>\n",
       "      <th>days_listed</th>\n",
       "      <th>condition</th>\n",
       "      <th>count</th>\n",
       "      <th>mean</th>\n",
       "    </tr>\n",
       "  </thead>\n",
       "  <tbody>\n",
       "    <tr>\n",
       "      <th>0</th>\n",
       "      <td>5</td>\n",
       "      <td>0</td>\n",
       "      <td>1</td>\n",
       "      <td>5.0</td>\n",
       "    </tr>\n",
       "    <tr>\n",
       "      <th>1</th>\n",
       "      <td>5</td>\n",
       "      <td>1</td>\n",
       "      <td>15</td>\n",
       "      <td>5.0</td>\n",
       "    </tr>\n",
       "    <tr>\n",
       "      <th>2</th>\n",
       "      <td>5</td>\n",
       "      <td>2</td>\n",
       "      <td>166</td>\n",
       "      <td>5.0</td>\n",
       "    </tr>\n",
       "    <tr>\n",
       "      <th>3</th>\n",
       "      <td>5</td>\n",
       "      <td>3</td>\n",
       "      <td>192</td>\n",
       "      <td>5.0</td>\n",
       "    </tr>\n",
       "    <tr>\n",
       "      <th>4</th>\n",
       "      <td>5</td>\n",
       "      <td>4</td>\n",
       "      <td>32</td>\n",
       "      <td>5.0</td>\n",
       "    </tr>\n",
       "    <tr>\n",
       "      <th>...</th>\n",
       "      <td>...</td>\n",
       "      <td>...</td>\n",
       "      <td>...</td>\n",
       "      <td>...</td>\n",
       "    </tr>\n",
       "    <tr>\n",
       "      <th>473</th>\n",
       "      <td>106</td>\n",
       "      <td>0</td>\n",
       "      <td>1</td>\n",
       "      <td>106.0</td>\n",
       "    </tr>\n",
       "    <tr>\n",
       "      <th>474</th>\n",
       "      <td>106</td>\n",
       "      <td>1</td>\n",
       "      <td>1</td>\n",
       "      <td>106.0</td>\n",
       "    </tr>\n",
       "    <tr>\n",
       "      <th>475</th>\n",
       "      <td>106</td>\n",
       "      <td>2</td>\n",
       "      <td>16</td>\n",
       "      <td>106.0</td>\n",
       "    </tr>\n",
       "    <tr>\n",
       "      <th>476</th>\n",
       "      <td>106</td>\n",
       "      <td>3</td>\n",
       "      <td>29</td>\n",
       "      <td>106.0</td>\n",
       "    </tr>\n",
       "    <tr>\n",
       "      <th>477</th>\n",
       "      <td>106</td>\n",
       "      <td>4</td>\n",
       "      <td>2</td>\n",
       "      <td>106.0</td>\n",
       "    </tr>\n",
       "  </tbody>\n",
       "</table>\n",
       "<p>478 rows × 4 columns</p>\n",
       "</div>"
      ],
      "text/plain": [
       "     days_listed  condition  count   mean\n",
       "0              5          0      1    5.0\n",
       "1              5          1     15    5.0\n",
       "2              5          2    166    5.0\n",
       "3              5          3    192    5.0\n",
       "4              5          4     32    5.0\n",
       "..           ...        ...    ...    ...\n",
       "473          106          0      1  106.0\n",
       "474          106          1      1  106.0\n",
       "475          106          2     16  106.0\n",
       "476          106          3     29  106.0\n",
       "477          106          4      2  106.0\n",
       "\n",
       "[478 rows x 4 columns]"
      ]
     },
     "execution_count": 59,
     "metadata": {},
     "output_type": "execute_result"
    }
   ],
   "source": [
    "cond_fast = duplicate_df.query('too_slow==0.0 & too_fast==0.0').groupby(['days_listed', 'condition'])['days_listed'].agg(['count','mean']).reset_index()\n",
    "cond_fast"
   ]
  },
  {
   "cell_type": "code",
   "execution_count": 60,
   "metadata": {},
   "outputs": [
    {
     "data": {
      "image/png": "[encoded data removed]",
      "text/plain": [
       "<Figure size 1440x360 with 1 Axes>"
      ]
     },
     "metadata": {
      "needs_background": "light"
     },
     "output_type": "display_data"
    }
   ],
   "source": [
    "fig=plt.figure(figsize=(20,5))\n",
    "sns.lineplot(data=cond_fast, x=\"days_listed\", y=\"count\", hue=\"condition\")\n",
    "plt.show()"
   ]
  },
  {
   "cell_type": "markdown",
   "metadata": {},
   "source": [
    "First of all we see that the amount of cars in conditions 2,3 is the highest compared to the rest. Both 2 and 3 categories show incline in the days listed from 5 to 20 days and from then a decline, meaning that most of the cars in these categories are sold before 3 weeks of listing an ad. Categories 0,1,4 and 5 do not show significant changes over time.\n",
    "Since the graphs of the first and last 3% act in the same manner as the graph of the data above, we decided to leave them and do not filter them."
   ]
  },
  {
   "cell_type": "markdown",
   "metadata": {},
   "source": [
    "## Average price per each type of vehicle"
   ]
  },
  {
   "cell_type": "code",
   "execution_count": 61,
   "metadata": {},
   "outputs": [
    {
     "data": {
      "text/html": [
       "<div>\n",
       "<style scoped>\n",
       "    .dataframe tbody tr th:only-of-type {\n",
       "        vertical-align: middle;\n",
       "    }\n",
       "\n",
       "    .dataframe tbody tr th {\n",
       "        vertical-align: top;\n",
       "    }\n",
       "\n",
       "    .dataframe thead th {\n",
       "        text-align: right;\n",
       "    }\n",
       "</style>\n",
       "<table border=\"1\" class=\"dataframe\">\n",
       "  <thead>\n",
       "    <tr style=\"text-align: right;\">\n",
       "      <th></th>\n",
       "      <th>type</th>\n",
       "      <th>mean</th>\n",
       "      <th>median</th>\n",
       "      <th>count</th>\n",
       "    </tr>\n",
       "  </thead>\n",
       "  <tbody>\n",
       "    <tr>\n",
       "      <th>0</th>\n",
       "      <td>bus</td>\n",
       "      <td>32.000000</td>\n",
       "      <td>29.0</td>\n",
       "      <td>11</td>\n",
       "    </tr>\n",
       "    <tr>\n",
       "      <th>1</th>\n",
       "      <td>offroad</td>\n",
       "      <td>41.188312</td>\n",
       "      <td>32.5</td>\n",
       "      <td>154</td>\n",
       "    </tr>\n",
       "    <tr>\n",
       "      <th>2</th>\n",
       "      <td>other</td>\n",
       "      <td>38.090452</td>\n",
       "      <td>33.0</td>\n",
       "      <td>199</td>\n",
       "    </tr>\n",
       "    <tr>\n",
       "      <th>3</th>\n",
       "      <td>convertible</td>\n",
       "      <td>38.780220</td>\n",
       "      <td>33.0</td>\n",
       "      <td>273</td>\n",
       "    </tr>\n",
       "    <tr>\n",
       "      <th>4</th>\n",
       "      <td>van</td>\n",
       "      <td>39.219963</td>\n",
       "      <td>33.0</td>\n",
       "      <td>541</td>\n",
       "    </tr>\n",
       "    <tr>\n",
       "      <th>5</th>\n",
       "      <td>hatchback</td>\n",
       "      <td>40.531674</td>\n",
       "      <td>35.0</td>\n",
       "      <td>884</td>\n",
       "    </tr>\n",
       "    <tr>\n",
       "      <th>6</th>\n",
       "      <td>mini-van</td>\n",
       "      <td>38.904576</td>\n",
       "      <td>32.0</td>\n",
       "      <td>1027</td>\n",
       "    </tr>\n",
       "    <tr>\n",
       "      <th>7</th>\n",
       "      <td>wagon</td>\n",
       "      <td>40.483130</td>\n",
       "      <td>34.0</td>\n",
       "      <td>1393</td>\n",
       "    </tr>\n",
       "    <tr>\n",
       "      <th>8</th>\n",
       "      <td>coupe</td>\n",
       "      <td>39.502316</td>\n",
       "      <td>33.0</td>\n",
       "      <td>1511</td>\n",
       "    </tr>\n",
       "    <tr>\n",
       "      <th>9</th>\n",
       "      <td>pickup</td>\n",
       "      <td>39.306171</td>\n",
       "      <td>33.0</td>\n",
       "      <td>5412</td>\n",
       "    </tr>\n",
       "    <tr>\n",
       "      <th>10</th>\n",
       "      <td>truck</td>\n",
       "      <td>39.439863</td>\n",
       "      <td>33.0</td>\n",
       "      <td>9894</td>\n",
       "    </tr>\n",
       "    <tr>\n",
       "      <th>11</th>\n",
       "      <td>sedan</td>\n",
       "      <td>39.470509</td>\n",
       "      <td>33.0</td>\n",
       "      <td>10342</td>\n",
       "    </tr>\n",
       "    <tr>\n",
       "      <th>12</th>\n",
       "      <td>SUV</td>\n",
       "      <td>39.880065</td>\n",
       "      <td>34.0</td>\n",
       "      <td>10439</td>\n",
       "    </tr>\n",
       "  </tbody>\n",
       "</table>\n",
       "</div>"
      ],
      "text/plain": [
       "           type       mean  median  count\n",
       "0           bus  32.000000    29.0     11\n",
       "1       offroad  41.188312    32.5    154\n",
       "2         other  38.090452    33.0    199\n",
       "3   convertible  38.780220    33.0    273\n",
       "4           van  39.219963    33.0    541\n",
       "5     hatchback  40.531674    35.0    884\n",
       "6      mini-van  38.904576    32.0   1027\n",
       "7         wagon  40.483130    34.0   1393\n",
       "8         coupe  39.502316    33.0   1511\n",
       "9        pickup  39.306171    33.0   5412\n",
       "10        truck  39.439863    33.0   9894\n",
       "11        sedan  39.470509    33.0  10342\n",
       "12          SUV  39.880065    34.0  10439"
      ]
     },
     "execution_count": 61,
     "metadata": {},
     "output_type": "execute_result"
    }
   ],
   "source": [
    "type_fast_full = duplicate_df.groupby(['type'])['days_listed'].agg(['mean','median', 'count']).sort_values(by='count').reset_index()\n",
    "type_fast_full"
   ]
  },
  {
   "cell_type": "code",
   "execution_count": 62,
   "metadata": {},
   "outputs": [
    {
     "data": {
      "image/png": "[encoded data removed]",
      "text/plain": [
       "<Figure size 1440x360 with 1 Axes>"
      ]
     },
     "metadata": {
      "needs_background": "light"
     },
     "output_type": "display_data"
    }
   ],
   "source": [
    "#analyzing number of ads per vehicle type:\n",
    "fig=plt.figure(figsize=(20,5))\n",
    "sns.barplot(x=\"type\", y=\"count\", data=type_fast_full)\n",
    "plt.show()"
   ]
  },
  {
   "cell_type": "markdown",
   "metadata": {},
   "source": [
    "We can see that the majority of ads belongs to trucks, sedans and SUV, smaller than them are the pickup and then rest of the types with buses as the lowest category. Later we will analize the SUV and sedan because they have the biggest amount of data (ads)."
   ]
  },
  {
   "cell_type": "code",
   "execution_count": 63,
   "metadata": {},
   "outputs": [
    {
     "data": {
      "image/png": "[encoded data removed]",
      "text/plain": [
       "<Figure size 1440x360 with 1 Axes>"
      ]
     },
     "metadata": {
      "needs_background": "light"
     },
     "output_type": "display_data"
    }
   ],
   "source": [
    "#analizing the difference of prices between vehicle types:\n",
    "fig=plt.figure(figsize=(20,5))\n",
    "#creating df to create a list of types in ascending median values for the graph \n",
    "price_type= duplicate_df.groupby('type')['price'].agg(['count', 'median']).sort_values(by='median').reset_index()\n",
    "price_type_list=price_type['type'].values.tolist()\n",
    "sns.boxplot(data=duplicate_df, x=\"type\", y=\"price\", showfliers=False, order=price_type_list)\n",
    "plt.show()"
   ]
  },
  {
   "cell_type": "markdown",
   "metadata": {},
   "source": [
    "We see that there is big variation in the prices listed for every type. Sedan- one of the two most common types listed, has low price range, and almost the lowest overall. On other hand, the SUV is in the middle and has pretty big variation of prices and long right tail."
   ]
  },
  {
   "cell_type": "markdown",
   "metadata": {},
   "source": [
    "## Price factors"
   ]
  },
  {
   "cell_type": "markdown",
   "metadata": {},
   "source": [
    "Now we will analyze the two most popular types and try to answer on the following questions: \n",
    "\n",
    "    1. dependence of price by age of the car   \n",
    "    2. dependence of price by mileage of the car\n",
    "    3. dependence of price by condition of the car\n",
    "    4. dependence of price by transmission type of the car   \n",
    "    5. dependence of price by color of the car    "
   ]
  },
  {
   "cell_type": "code",
   "execution_count": 64,
   "metadata": {},
   "outputs": [],
   "source": [
    "#creating df with information only for the two types- SUV and sedan:\n",
    "subset_suv = duplicate_df.query('type==\"SUV\"').reset_index(drop=True)\n",
    "subset_sedan = duplicate_df.query('type==\"sedan\"').reset_index(drop=True)\n",
    "#subset_df.info()\n"
   ]
  },
  {
   "cell_type": "code",
   "execution_count": 65,
   "metadata": {},
   "outputs": [
    {
     "data": {
      "text/plain": [
       "<Figure size 1440x1440 with 0 Axes>"
      ]
     },
     "metadata": {},
     "output_type": "display_data"
    },
    {
     "data": {
      "image/png": "[encoded data removed]",
      "text/plain": [
       "<Figure size 720x720 with 14 Axes>"
      ]
     },
     "metadata": {
      "needs_background": "light"
     },
     "output_type": "display_data"
    }
   ],
   "source": [
    "subset_suv_pivot = subset_suv[['car_age', 'odometer','price', 'condition']]\n",
    "fig=plt.figure(figsize=(20,20))\n",
    "sns.pairplot(subset_suv_pivot, corner=True)\n",
    "plt.show()"
   ]
  },
  {
   "cell_type": "code",
   "execution_count": 66,
   "metadata": {},
   "outputs": [
    {
     "data": {
      "text/html": [
       "<div>\n",
       "<style scoped>\n",
       "    .dataframe tbody tr th:only-of-type {\n",
       "        vertical-align: middle;\n",
       "    }\n",
       "\n",
       "    .dataframe tbody tr th {\n",
       "        vertical-align: top;\n",
       "    }\n",
       "\n",
       "    .dataframe thead th {\n",
       "        text-align: right;\n",
       "    }\n",
       "</style>\n",
       "<table border=\"1\" class=\"dataframe\">\n",
       "  <thead>\n",
       "    <tr style=\"text-align: right;\">\n",
       "      <th></th>\n",
       "      <th>car_age</th>\n",
       "      <th>odometer</th>\n",
       "      <th>price</th>\n",
       "    </tr>\n",
       "  </thead>\n",
       "  <tbody>\n",
       "    <tr>\n",
       "      <th>car_age</th>\n",
       "      <td>1.000000</td>\n",
       "      <td>0.625186</td>\n",
       "      <td>-0.618524</td>\n",
       "    </tr>\n",
       "    <tr>\n",
       "      <th>odometer</th>\n",
       "      <td>0.625186</td>\n",
       "      <td>1.000000</td>\n",
       "      <td>-0.606156</td>\n",
       "    </tr>\n",
       "    <tr>\n",
       "      <th>price</th>\n",
       "      <td>-0.618524</td>\n",
       "      <td>-0.606156</td>\n",
       "      <td>1.000000</td>\n",
       "    </tr>\n",
       "  </tbody>\n",
       "</table>\n",
       "</div>"
      ],
      "text/plain": [
       "           car_age  odometer     price\n",
       "car_age   1.000000  0.625186 -0.618524\n",
       "odometer  0.625186  1.000000 -0.606156\n",
       "price    -0.618524 -0.606156  1.000000"
      ]
     },
     "execution_count": 66,
     "metadata": {},
     "output_type": "execute_result"
    }
   ],
   "source": [
    "subset_suv_pivot[subset_suv_pivot.columns[0:3]].corr()"
   ]
  },
  {
   "cell_type": "code",
   "execution_count": 67,
   "metadata": {},
   "outputs": [
    {
     "data": {
      "text/plain": [
       "condition\n",
       "0      10\n",
       "1     213\n",
       "2    3912\n",
       "3    5489\n",
       "4     806\n",
       "5       9\n",
       "Name: count, dtype: int64"
      ]
     },
     "execution_count": 67,
     "metadata": {},
     "output_type": "execute_result"
    }
   ],
   "source": [
    "#checking if all the cells include more than 50 values\n",
    "subset_suv_pivot.groupby('condition')['condition'].value_counts()"
   ]
  },
  {
   "cell_type": "code",
   "execution_count": 68,
   "metadata": {},
   "outputs": [
    {
     "data": {
      "text/html": [
       "<div>\n",
       "<style scoped>\n",
       "    .dataframe tbody tr th:only-of-type {\n",
       "        vertical-align: middle;\n",
       "    }\n",
       "\n",
       "    .dataframe tbody tr th {\n",
       "        vertical-align: top;\n",
       "    }\n",
       "\n",
       "    .dataframe thead th {\n",
       "        text-align: right;\n",
       "    }\n",
       "</style>\n",
       "<table border=\"1\" class=\"dataframe\">\n",
       "  <thead>\n",
       "    <tr style=\"text-align: right;\">\n",
       "      <th></th>\n",
       "      <th>price</th>\n",
       "      <th>condition</th>\n",
       "    </tr>\n",
       "  </thead>\n",
       "  <tbody>\n",
       "    <tr>\n",
       "      <th>price</th>\n",
       "      <td>1.000000</td>\n",
       "      <td>0.270964</td>\n",
       "    </tr>\n",
       "    <tr>\n",
       "      <th>condition</th>\n",
       "      <td>0.270964</td>\n",
       "      <td>1.000000</td>\n",
       "    </tr>\n",
       "  </tbody>\n",
       "</table>\n",
       "</div>"
      ],
      "text/plain": [
       "              price  condition\n",
       "price      1.000000   0.270964\n",
       "condition  0.270964   1.000000"
      ]
     },
     "execution_count": 68,
     "metadata": {},
     "output_type": "execute_result"
    }
   ],
   "source": [
    "subset_suv_pivot[(subset_suv_pivot['condition']>0) & (subset_suv_pivot['condition']<5)][['price','condition']].corr(method='spearman')"
   ]
  },
  {
   "cell_type": "code",
   "execution_count": 69,
   "metadata": {},
   "outputs": [
    {
     "name": "stdout",
     "output_type": "stream",
     "text": [
      "transmission\n",
      "automatic    9929\n",
      "manual        422\n",
      "other          88\n",
      "Name: count, dtype: int64\n",
      "_________________________________\n",
      "             count          mean median\n",
      "             price         price  price\n",
      "transmission                           \n",
      "automatic     9929  10146.582838   8495\n",
      "manual         422  12077.135071  11944\n",
      "other           88  12588.943182  12900\n"
     ]
    },
    {
     "data": {
      "image/png": "[encoded data removed]",
      "text/plain": [
       "<Figure size 432x288 with 1 Axes>"
      ]
     },
     "metadata": {
      "needs_background": "light"
     },
     "output_type": "display_data"
    }
   ],
   "source": [
    "#Checking that all categories include more than 50 values\n",
    "print(subset_suv.groupby('transmission')['transmission'].value_counts())\n",
    "print('_________________________________')\n",
    "print(subset_suv.pivot_table(index='transmission', values='price',aggfunc=(['count','mean', 'median'])))\n",
    "#plotting the correlation between price and type of transmission:\n",
    "sns.boxplot(x=\"transmission\", y=\"price\", data=subset_suv,showfliers = False)\n",
    "plt.show()\n"
   ]
  },
  {
   "cell_type": "code",
   "execution_count": 70,
   "metadata": {},
   "outputs": [
    {
     "name": "stdout",
     "output_type": "stream",
     "text": [
      "paint_color\n",
      "black     2703\n",
      "blue       989\n",
      "brown      337\n",
      "custom     255\n",
      "green      384\n",
      "grey      1148\n",
      "orange      71\n",
      "purple      34\n",
      "red        791\n",
      "silver    1821\n",
      "white     1865\n",
      "yellow      41\n",
      "Name: count, dtype: int64\n",
      "_________________________________\n",
      "             count                       \n",
      "              mean                       \n",
      "            median                       \n",
      "             count          mean   median\n",
      "paint_color                              \n",
      "black         2703  11947.151313  10800.0\n",
      "blue           989   8315.685541   6995.0\n",
      "brown          337   8404.762611   7300.0\n",
      "custom         255   9637.858824   8495.0\n",
      "green          384   8588.111979   6900.0\n",
      "grey          1148   9706.673345   7995.0\n",
      "orange          71  15212.126761  16900.0\n",
      "red            791   9546.112516   7850.0\n",
      "silver        1821   9406.574410   7995.0\n",
      "white         1865  10810.004290   8995.0\n"
     ]
    },
    {
     "data": {
      "image/png": "[encoded data removed]",
      "text/plain": [
       "<Figure size 1080x648 with 1 Axes>"
      ]
     },
     "metadata": {
      "needs_background": "light"
     },
     "output_type": "display_data"
    }
   ],
   "source": [
    "#Checking that all categories include more than 50 values\n",
    "print(subset_suv.groupby('paint_color')['paint_color'].value_counts())\n",
    "print('_________________________________')\n",
    "print(subset_suv.query('paint_color!=\"purple\"& paint_color!=\"yellow\"').pivot_table(index='paint_color', values='price',aggfunc=[('count', 'mean','median')]))\n",
    "fig=plt.figure(figsize=(15,9))\n",
    "sns.boxplot(x=\"paint_color\", y=\"price\", data=subset_suv.query('paint_color!=\"purple\"& paint_color!=\"yellow\"'),showfliers = False)\n",
    "plt.show()"
   ]
  },
  {
   "cell_type": "markdown",
   "metadata": {},
   "source": [
    "SUV:\n",
    "1. Car age: overall we can see that older age affects the price - age is negatively associated with price. The correlation is -.62 meaning a negative medium correlation between age and price.\n",
    "2. Mileage: Mileage affects the price - mileage is negatively associated with price. The correlation is -.61 meaning a negative medium correlation between mileage and price.\n",
    "3. Condition: overall we can see that better condition affects mildly the price - condition is positively associated with price. The correlation is .27 meaning a weak positive correlation between condition and price.\n",
    "4. Transmission: The manual transmission' values vary  more than other two categories and has the lowest median value. Overall 'other' category has the highest values of price but it has significantly smaller count of values. \n",
    "5. Color: there is a relationship between car's color and its price. Blue,green and brown are the colors that have the lowest medians; meaning that in that case the color is correlated to lower prices. On the other side, orange, black and white have the highest medians, meaning that these colors are associated with higher prices compared to others."
   ]
  },
  {
   "cell_type": "code",
   "execution_count": 71,
   "metadata": {},
   "outputs": [
    {
     "data": {
      "text/plain": [
       "<Figure size 1440x1440 with 0 Axes>"
      ]
     },
     "metadata": {},
     "output_type": "display_data"
    },
    {
     "data": {
      "image/png": "[encoded data removed]",
      "text/plain": [
       "<Figure size 720x720 with 14 Axes>"
      ]
     },
     "metadata": {
      "needs_background": "light"
     },
     "output_type": "display_data"
    }
   ],
   "source": [
    "subset_sedan_pivot = subset_sedan[[ 'car_age', 'odometer', 'price','condition']]\n",
    "fig=plt.figure(figsize=(20,20))\n",
    "sns.pairplot(subset_sedan_pivot, corner=True)\n",
    "plt.show()"
   ]
  },
  {
   "cell_type": "code",
   "execution_count": 72,
   "metadata": {},
   "outputs": [
    {
     "data": {
      "text/html": [
       "<div>\n",
       "<style scoped>\n",
       "    .dataframe tbody tr th:only-of-type {\n",
       "        vertical-align: middle;\n",
       "    }\n",
       "\n",
       "    .dataframe tbody tr th {\n",
       "        vertical-align: top;\n",
       "    }\n",
       "\n",
       "    .dataframe thead th {\n",
       "        text-align: right;\n",
       "    }\n",
       "</style>\n",
       "<table border=\"1\" class=\"dataframe\">\n",
       "  <thead>\n",
       "    <tr style=\"text-align: right;\">\n",
       "      <th></th>\n",
       "      <th>car_age</th>\n",
       "      <th>odometer</th>\n",
       "      <th>price</th>\n",
       "    </tr>\n",
       "  </thead>\n",
       "  <tbody>\n",
       "    <tr>\n",
       "      <th>car_age</th>\n",
       "      <td>1.000000</td>\n",
       "      <td>0.610436</td>\n",
       "      <td>-0.646719</td>\n",
       "    </tr>\n",
       "    <tr>\n",
       "      <th>odometer</th>\n",
       "      <td>0.610436</td>\n",
       "      <td>1.000000</td>\n",
       "      <td>-0.623945</td>\n",
       "    </tr>\n",
       "    <tr>\n",
       "      <th>price</th>\n",
       "      <td>-0.646719</td>\n",
       "      <td>-0.623945</td>\n",
       "      <td>1.000000</td>\n",
       "    </tr>\n",
       "  </tbody>\n",
       "</table>\n",
       "</div>"
      ],
      "text/plain": [
       "           car_age  odometer     price\n",
       "car_age   1.000000  0.610436 -0.646719\n",
       "odometer  0.610436  1.000000 -0.623945\n",
       "price    -0.646719 -0.623945  1.000000"
      ]
     },
     "execution_count": 72,
     "metadata": {},
     "output_type": "execute_result"
    }
   ],
   "source": [
    "subset_sedan_pivot[subset_sedan_pivot.columns[0:3]].corr()"
   ]
  },
  {
   "cell_type": "code",
   "execution_count": 73,
   "metadata": {},
   "outputs": [
    {
     "data": {
      "text/plain": [
       "condition\n",
       "0      23\n",
       "1     199\n",
       "2    3970\n",
       "3    5178\n",
       "4     951\n",
       "5      21\n",
       "Name: count, dtype: int64"
      ]
     },
     "execution_count": 73,
     "metadata": {},
     "output_type": "execute_result"
    }
   ],
   "source": [
    "#checking if all the cells include more than 50 values\n",
    "subset_sedan_pivot.groupby('condition')['condition'].value_counts()\n"
   ]
  },
  {
   "cell_type": "code",
   "execution_count": 74,
   "metadata": {},
   "outputs": [
    {
     "data": {
      "text/html": [
       "<div>\n",
       "<style scoped>\n",
       "    .dataframe tbody tr th:only-of-type {\n",
       "        vertical-align: middle;\n",
       "    }\n",
       "\n",
       "    .dataframe tbody tr th {\n",
       "        vertical-align: top;\n",
       "    }\n",
       "\n",
       "    .dataframe thead th {\n",
       "        text-align: right;\n",
       "    }\n",
       "</style>\n",
       "<table border=\"1\" class=\"dataframe\">\n",
       "  <thead>\n",
       "    <tr style=\"text-align: right;\">\n",
       "      <th></th>\n",
       "      <th>price</th>\n",
       "      <th>condition</th>\n",
       "    </tr>\n",
       "  </thead>\n",
       "  <tbody>\n",
       "    <tr>\n",
       "      <th>price</th>\n",
       "      <td>1.000000</td>\n",
       "      <td>0.292745</td>\n",
       "    </tr>\n",
       "    <tr>\n",
       "      <th>condition</th>\n",
       "      <td>0.292745</td>\n",
       "      <td>1.000000</td>\n",
       "    </tr>\n",
       "  </tbody>\n",
       "</table>\n",
       "</div>"
      ],
      "text/plain": [
       "              price  condition\n",
       "price      1.000000   0.292745\n",
       "condition  0.292745   1.000000"
      ]
     },
     "execution_count": 74,
     "metadata": {},
     "output_type": "execute_result"
    }
   ],
   "source": [
    "subset_sedan_pivot[(subset_sedan_pivot['condition']>0) & (subset_sedan_pivot['condition']<5)][['price','condition']].corr(method='spearman')"
   ]
  },
  {
   "cell_type": "code",
   "execution_count": 75,
   "metadata": {},
   "outputs": [
    {
     "name": "stdout",
     "output_type": "stream",
     "text": [
      "transmission\n",
      "automatic    9780\n",
      "manual        501\n",
      "other          61\n",
      "Name: count, dtype: int64\n",
      "_________________________________\n",
      "             count         mean median\n",
      "             price        price  price\n",
      "transmission                          \n",
      "automatic     9780  6737.581288   5995\n",
      "manual         501  5330.185629   4500\n",
      "other           61  7068.377049   5988\n"
     ]
    },
    {
     "data": {
      "image/png": "[encoded data removed]",
      "text/plain": [
       "<Figure size 432x288 with 1 Axes>"
      ]
     },
     "metadata": {
      "needs_background": "light"
     },
     "output_type": "display_data"
    }
   ],
   "source": [
    "#Checking that all categories include more than 50 values\n",
    "print(subset_sedan.groupby('transmission')['transmission'].value_counts())\n",
    "print('_________________________________')\n",
    "print(subset_sedan.pivot_table(index='transmission', values='price',aggfunc=(['count','mean', 'median'])))\n",
    "#plotting the correlation between price and type of transmission:\n",
    "sns.boxplot(x=\"transmission\", y=\"price\", data=subset_sedan,showfliers = False)\n",
    "plt.show()\n"
   ]
  },
  {
   "cell_type": "code",
   "execution_count": 76,
   "metadata": {},
   "outputs": [
    {
     "name": "stdout",
     "output_type": "stream",
     "text": [
      "paint_color\n",
      "black     1918\n",
      "blue      1176\n",
      "brown      233\n",
      "custom     238\n",
      "green      187\n",
      "grey      1903\n",
      "orange       7\n",
      "purple      23\n",
      "red        804\n",
      "silver    2593\n",
      "white     1240\n",
      "yellow      20\n",
      "Name: count, dtype: int64\n",
      "_________________________________\n",
      "             count                     \n",
      "              mean                     \n",
      "            median                     \n",
      "             count         mean  median\n",
      "paint_color                            \n",
      "black         1918  7312.732013  6525.0\n",
      "blue          1176  6214.715136  5725.0\n",
      "brown          233  5142.721030  4498.0\n",
      "custom         238  6752.537815  5850.0\n",
      "green          187  4834.540107  3995.0\n",
      "grey          1903  6581.117709  5995.0\n",
      "red            804  6742.050995  5995.0\n",
      "silver        2593  6494.418049  5850.0\n",
      "white         1240  7154.560484  6495.0\n"
     ]
    },
    {
     "data": {
      "image/png": "[encoded data removed]",
      "text/plain": [
       "<Figure size 1080x648 with 1 Axes>"
      ]
     },
     "metadata": {
      "needs_background": "light"
     },
     "output_type": "display_data"
    }
   ],
   "source": [
    "#Checking that all categories include more than 50 values\n",
    "print(subset_sedan.groupby('paint_color')['paint_color'].value_counts())\n",
    "print('_________________________________')\n",
    "#without the cells that include less than 50 values:\n",
    "print(subset_sedan.query('paint_color!=\"orange\"& paint_color!=\"yellow\"& paint_color!=\"purple\"').pivot_table(index='paint_color', values='price',aggfunc=[('count', 'mean','median')]))\n",
    "fig=plt.figure(figsize=(15,9))\n",
    "sns.boxplot(x=\"paint_color\", y=\"price\", data=subset_sedan.query('paint_color!=\"orange\"& paint_color!=\"yellow\"& paint_color!=\"purple\"'),showfliers = False)\n",
    "plt.show()"
   ]
  },
  {
   "cell_type": "markdown",
   "metadata": {},
   "source": [
    "Sedan:\n",
    "1. Car age: overall we can see that older age affects the price - age is negatively associated with price. The correlation is -.65 meaning a negative medium correlation between age and price.\n",
    "2. Mileage: Mileage affects the price - mileage is negatively associated with price. The correlation is -.62 meaning a negative medium correlation between mileage and price.\n",
    "3. Condition: overall we can see that better condition affects mildly the price - condition is positively associated with price. The correlation is .29 meaning a weak positive correlation between condition and price.\n",
    "4. Transmission: The manual transmission'has the lowest median value. 'Automatic' category has the highest median value of pricebut values vary  more than other two categories.\n",
    "5.There is a relationship between car's color and its price. Blue,green and brown are the colors that have the lowest medians; meaning that in that case the color is correlated to lower prices. On the other side, black and white have the highest medians,and after them grey & red, meaning that these colors are associated with higher prices compared to others."
   ]
  },
  {
   "cell_type": "markdown",
   "metadata": {},
   "source": [
    "## General conclusion\n"
   ]
  },
  {
   "cell_type": "markdown",
   "metadata": {},
   "source": [
    "The original dataset included 51525 rows of car listed in the website, some of the columns had missing values that were treated by filling the most common values or the medians in order to not lose information. Later, the main variables were checked for outliers and in cases that we have found a reason to ommit them, and the filtering did not minimze the data significantly, we filtered them out. After cleaning the data we have found that SUV and sadan were the two types of machines that had biggest value of ads listed. We analyzed our research questions based on the data of the two most common types. The analyses resulted in the following conclusions:\n",
    "1. higher condition (meaning better condition of the car) leads to faster sales of the car and slightly higher prices.\n",
    "2. car's higher age leads to lower prices.\n",
    "3. Higher mileage leads to lower prices.\n",
    "4. Cars with manual transmission are being sold in cheaper prices compared to other transmission options. Sedans with automatic  transsmision are priced with highest prices while in SUV's the 'other' category is the most expensive.\n",
    "5. Suv cars in the colors of orange, black and white are being sold with the highest prices in median, while in sedan's these are white, black, grey and red. In both car types, blue,  green and brown cars are being sold with the lowest median prices. \n"
   ]
  }
 ],
 "metadata": {
  "ExecuteTimeLog": [
   {
    "duration": 828,
    "start_time": "2021-11-16T09:21:11.304Z"
   },
   {
    "duration": 893,
    "start_time": "2021-11-16T09:21:17.728Z"
   },
   {
    "duration": 1150,
    "start_time": "2021-11-16T09:21:29.568Z"
   },
   {
    "duration": 3,
    "start_time": "2021-11-16T09:24:14.495Z"
   },
   {
    "duration": 120,
    "start_time": "2021-11-16T09:24:46.630Z"
   },
   {
    "duration": 3,
    "start_time": "2021-11-16T09:28:27.882Z"
   },
   {
    "duration": 4,
    "start_time": "2021-11-16T09:29:54.281Z"
   },
   {
    "duration": 3,
    "start_time": "2021-11-16T09:30:45.936Z"
   },
   {
    "duration": 4,
    "start_time": "2021-11-16T09:31:06.300Z"
   },
   {
    "duration": 113,
    "start_time": "2021-11-16T09:31:37.208Z"
   },
   {
    "duration": 143,
    "start_time": "2021-11-16T09:31:48.656Z"
   },
   {
    "duration": 98,
    "start_time": "2021-11-16T09:31:55.678Z"
   },
   {
    "duration": 3,
    "start_time": "2021-11-16T09:32:08.535Z"
   },
   {
    "duration": 111,
    "start_time": "2021-11-16T09:32:10.120Z"
   },
   {
    "duration": 3,
    "start_time": "2021-11-16T09:32:15.732Z"
   },
   {
    "duration": 4,
    "start_time": "2021-11-16T09:32:29.423Z"
   },
   {
    "duration": 3,
    "start_time": "2021-11-16T10:03:03.074Z"
   },
   {
    "duration": 3,
    "start_time": "2021-11-16T10:10:01.288Z"
   },
   {
    "duration": 3,
    "start_time": "2021-11-16T10:10:46.923Z"
   },
   {
    "duration": 121,
    "start_time": "2021-11-16T10:37:46.494Z"
   },
   {
    "duration": 125,
    "start_time": "2021-11-16T10:38:20.632Z"
   },
   {
    "duration": 112,
    "start_time": "2021-11-16T10:46:53.001Z"
   },
   {
    "duration": 110,
    "start_time": "2021-11-16T10:48:25.775Z"
   },
   {
    "duration": 3,
    "start_time": "2021-11-16T10:50:18.720Z"
   },
   {
    "duration": 4,
    "start_time": "2021-11-16T10:50:37.649Z"
   },
   {
    "duration": 2,
    "start_time": "2021-11-16T10:50:51.884Z"
   },
   {
    "duration": 3,
    "start_time": "2021-11-16T10:51:56.237Z"
   },
   {
    "duration": 101,
    "start_time": "2021-11-16T10:53:13.791Z"
   },
   {
    "duration": 3,
    "start_time": "2021-11-16T10:55:59.186Z"
   },
   {
    "duration": 3,
    "start_time": "2021-11-16T10:56:10.751Z"
   },
   {
    "duration": 3,
    "start_time": "2021-11-16T10:56:49.038Z"
   },
   {
    "duration": 3,
    "start_time": "2021-11-16T10:56:49.174Z"
   },
   {
    "duration": 4,
    "start_time": "2021-11-16T10:56:49.414Z"
   },
   {
    "duration": 3,
    "start_time": "2021-11-16T10:56:49.680Z"
   },
   {
    "duration": 3,
    "start_time": "2021-11-16T10:56:50.370Z"
   },
   {
    "duration": 114,
    "start_time": "2021-11-16T10:59:34.518Z"
   },
   {
    "duration": 3,
    "start_time": "2021-11-16T11:01:41.201Z"
   },
   {
    "duration": 116,
    "start_time": "2021-11-16T11:01:48.754Z"
   },
   {
    "duration": 3,
    "start_time": "2021-11-16T11:02:16.685Z"
   },
   {
    "duration": 3,
    "start_time": "2021-11-16T11:02:19.479Z"
   },
   {
    "duration": 3,
    "start_time": "2021-11-16T11:02:47.067Z"
   },
   {
    "duration": 3,
    "start_time": "2021-11-16T11:02:49.353Z"
   },
   {
    "duration": 3,
    "start_time": "2021-11-16T11:03:07.835Z"
   },
   {
    "duration": 3,
    "start_time": "2021-11-16T11:03:07.953Z"
   },
   {
    "duration": 112,
    "start_time": "2021-11-16T11:07:52.072Z"
   },
   {
    "duration": 187,
    "start_time": "2021-11-16T11:09:23.468Z"
   },
   {
    "duration": 4,
    "start_time": "2021-11-16T11:10:01.455Z"
   },
   {
    "duration": 3,
    "start_time": "2021-11-16T11:10:05.069Z"
   },
   {
    "duration": 4,
    "start_time": "2021-11-16T11:10:13.376Z"
   },
   {
    "duration": 3,
    "start_time": "2021-11-16T11:10:14.434Z"
   },
   {
    "duration": 3,
    "start_time": "2021-11-16T11:10:22.853Z"
   },
   {
    "duration": 4,
    "start_time": "2021-11-16T11:27:29.279Z"
   },
   {
    "duration": 4,
    "start_time": "2021-11-16T11:29:08.919Z"
   },
   {
    "duration": 118,
    "start_time": "2021-11-16T11:29:46.703Z"
   },
   {
    "duration": 437,
    "start_time": "2021-11-16T11:36:02.181Z"
   },
   {
    "duration": 157,
    "start_time": "2021-11-16T11:36:14.388Z"
   },
   {
    "duration": 207,
    "start_time": "2021-11-16T11:47:15.898Z"
   },
   {
    "duration": 3,
    "start_time": "2021-11-16T11:53:52.092Z"
   },
   {
    "duration": 3,
    "start_time": "2021-11-16T11:53:52.236Z"
   },
   {
    "duration": 3,
    "start_time": "2021-11-16T11:59:12.005Z"
   },
   {
    "duration": 112,
    "start_time": "2021-11-16T12:00:33.446Z"
   },
   {
    "duration": 3,
    "start_time": "2021-11-16T12:02:14.453Z"
   },
   {
    "duration": 3,
    "start_time": "2021-11-16T12:02:39.512Z"
   },
   {
    "duration": 106,
    "start_time": "2021-11-16T12:03:03.460Z"
   }
  ],
  "kernelspec": {
   "display_name": "Python 3",
   "language": "python",
   "name": "python3"
  },
  "language_info": {
   "codemirror_mode": {
    "name": "ipython",
    "version": 3
   },
   "file_extension": ".py",
   "mimetype": "text/x-python",
   "name": "python",
   "nbconvert_exporter": "python",
   "pygments_lexer": "ipython3",
   "version": "3.8.8"
  },
  "toc": {
   "base_numbering": 1,
   "nav_menu": {},
   "number_sections": true,
   "sideBar": true,
   "skip_h1_title": false,
   "title_cell": "Table of Contents",
   "title_sidebar": "Contents",
   "toc_cell": false,
   "toc_position": {
    "height": "calc(100% - 180px)",
    "left": "10px",
    "top": "150px",
    "width": "384px"
   },
   "toc_section_display": true,
   "toc_window_display": true
  }
 },
 "nbformat": 4,
 "nbformat_minor": 2
}
