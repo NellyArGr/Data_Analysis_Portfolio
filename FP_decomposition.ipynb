{
 "cells": [
  {
   "cell_type": "markdown",
   "id": "19072547",
   "metadata": {},
   "source": [
    "## Project Description:\n",
    "The data in the following project contains the transaction history of an online store that sells household goods which will be analyzed focusing on the products sold.\n",
    "\n",
    "## Project Goal:\n",
    "Analyzing and learning the data in order to provide meaningful insights regarding profitablity and popularity of products sold in the store.\n",
    "\n"
   ]
  },
  {
   "cell_type": "markdown",
   "id": "2c7c51df",
   "metadata": {},
   "source": [
    "## Project plan:\n",
    "#### Data preprocessing:\n",
    "    * Data Preparation \n",
    "    * Open the data and read general information\n",
    "    * Rename column names and change datatypes\n",
    "    * Process and study values in invoice and stock identifiers \n",
    "    * Process missing values\n",
    "    * Process duplicate data\n",
    "#### Exploratory Data Analysis:\n",
    "    * Study variable metrics and visualize them \n",
    "    * Learn the relationship between the variables\n",
    "    * Study sales over time\n",
    "    * Identify most selling products and least-selling products\n",
    "    * Identify products that are being repurchased by customers\n",
    "    * Identify products that are being co-purchased \n",
    "#### Test hypotheses:\n",
    "    * Difference in average order size between orders made on weekends compared to those made on weekdays\n",
    "    * Difference in average purchase size between orders made on weekends compared to those made on weekdays\n",
    "    * Difference in daily revenue between weekends compared to weekdays\n",
    "    * Difference in profitability between seasonal products and products sold along the year\n",
    "    * Difference in average price per item between best selling and least selling items\n",
    "    * Difference in average price per item between most and least profitable items\n",
    "#### Conclusions:\n",
    "    * Summary and recommendations"
   ]
  },
  {
   "cell_type": "markdown",
   "id": "2074255d",
   "metadata": {},
   "source": [
    "## Preparing Data:  <a id='start'></a>"
   ]
  },
  {
   "cell_type": "code",
   "execution_count": 1,
   "id": "1534555b",
   "metadata": {},
   "outputs": [],
   "source": [
    "#!pip install mlxtend"
   ]
  },
  {
   "cell_type": "code",
   "execution_count": 2,
   "id": "2d2a4c8e",
   "metadata": {},
   "outputs": [],
   "source": [
    "import pandas as pd\n",
    "import matplotlib.pyplot as plt \n",
    "import datetime as dt\n",
    "from datetime import datetime as dt\n",
    "import numpy as np\n",
    "import seaborn as sns\n",
    "from scipy import stats as st\n",
    "import numpy as np\n",
    "import math as mth\n",
    "import plotly.express as px\n",
    "import plotly.graph_objs as go\n",
    "from plotly.subplots import make_subplots\n",
    "from mlxtend.frequent_patterns import apriori\n",
    "import warnings\n",
    "warnings.filterwarnings('ignore')"
   ]
  },
  {
   "cell_type": "code",
   "execution_count": 3,
   "id": "45fc036e",
   "metadata": {},
   "outputs": [],
   "source": [
    "try:\n",
    "    data = pd.read_csv('/datasets/ecommerce_dataset_us.csv', sep='\\t')\n",
    "except:\n",
    "    data = pd.read_csv('C:/Users/NELLY/Desktop/ecommerce_dataset_us.csv', sep='\\t')"
   ]
  },
  {
   "cell_type": "code",
   "execution_count": 4,
   "id": "8267298d",
   "metadata": {},
   "outputs": [
    {
     "data": {
      "text/html": [
       "<div>\n",
       "<style scoped>\n",
       "    .dataframe tbody tr th:only-of-type {\n",
       "        vertical-align: middle;\n",
       "    }\n",
       "\n",
       "    .dataframe tbody tr th {\n",
       "        vertical-align: top;\n",
       "    }\n",
       "\n",
       "    .dataframe thead th {\n",
       "        text-align: right;\n",
       "    }\n",
       "</style>\n",
       "<table border=\"1\" class=\"dataframe\">\n",
       "  <thead>\n",
       "    <tr style=\"text-align: right;\">\n",
       "      <th></th>\n",
       "      <th>InvoiceNo</th>\n",
       "      <th>StockCode</th>\n",
       "      <th>Description</th>\n",
       "      <th>Quantity</th>\n",
       "      <th>InvoiceDate</th>\n",
       "      <th>UnitPrice</th>\n",
       "      <th>CustomerID</th>\n",
       "    </tr>\n",
       "  </thead>\n",
       "  <tbody>\n",
       "    <tr>\n",
       "      <th>0</th>\n",
       "      <td>536365</td>\n",
       "      <td>85123A</td>\n",
       "      <td>WHITE HANGING HEART T-LIGHT HOLDER</td>\n",
       "      <td>6</td>\n",
       "      <td>11/29/2018 08:26</td>\n",
       "      <td>2.55</td>\n",
       "      <td>17850.0</td>\n",
       "    </tr>\n",
       "    <tr>\n",
       "      <th>1</th>\n",
       "      <td>536365</td>\n",
       "      <td>71053</td>\n",
       "      <td>WHITE METAL LANTERN</td>\n",
       "      <td>6</td>\n",
       "      <td>11/29/2018 08:26</td>\n",
       "      <td>3.39</td>\n",
       "      <td>17850.0</td>\n",
       "    </tr>\n",
       "    <tr>\n",
       "      <th>2</th>\n",
       "      <td>536365</td>\n",
       "      <td>84406B</td>\n",
       "      <td>CREAM CUPID HEARTS COAT HANGER</td>\n",
       "      <td>8</td>\n",
       "      <td>11/29/2018 08:26</td>\n",
       "      <td>2.75</td>\n",
       "      <td>17850.0</td>\n",
       "    </tr>\n",
       "    <tr>\n",
       "      <th>3</th>\n",
       "      <td>536365</td>\n",
       "      <td>84029G</td>\n",
       "      <td>KNITTED UNION FLAG HOT WATER BOTTLE</td>\n",
       "      <td>6</td>\n",
       "      <td>11/29/2018 08:26</td>\n",
       "      <td>3.39</td>\n",
       "      <td>17850.0</td>\n",
       "    </tr>\n",
       "    <tr>\n",
       "      <th>4</th>\n",
       "      <td>536365</td>\n",
       "      <td>84029E</td>\n",
       "      <td>RED WOOLLY HOTTIE WHITE HEART.</td>\n",
       "      <td>6</td>\n",
       "      <td>11/29/2018 08:26</td>\n",
       "      <td>3.39</td>\n",
       "      <td>17850.0</td>\n",
       "    </tr>\n",
       "  </tbody>\n",
       "</table>\n",
       "</div>"
      ],
      "text/plain": [
       "  InvoiceNo StockCode                          Description  Quantity  \\\n",
       "0    536365    85123A   WHITE HANGING HEART T-LIGHT HOLDER         6   \n",
       "1    536365     71053                  WHITE METAL LANTERN         6   \n",
       "2    536365    84406B       CREAM CUPID HEARTS COAT HANGER         8   \n",
       "3    536365    84029G  KNITTED UNION FLAG HOT WATER BOTTLE         6   \n",
       "4    536365    84029E       RED WOOLLY HOTTIE WHITE HEART.         6   \n",
       "\n",
       "        InvoiceDate  UnitPrice  CustomerID  \n",
       "0  11/29/2018 08:26       2.55     17850.0  \n",
       "1  11/29/2018 08:26       3.39     17850.0  \n",
       "2  11/29/2018 08:26       2.75     17850.0  \n",
       "3  11/29/2018 08:26       3.39     17850.0  \n",
       "4  11/29/2018 08:26       3.39     17850.0  "
      ]
     },
     "execution_count": 4,
     "metadata": {},
     "output_type": "execute_result"
    }
   ],
   "source": [
    "data.head()"
   ]
  },
  {
   "cell_type": "code",
   "execution_count": 5,
   "id": "4d8ee71c",
   "metadata": {},
   "outputs": [
    {
     "name": "stdout",
     "output_type": "stream",
     "text": [
      "<class 'pandas.core.frame.DataFrame'>\n",
      "RangeIndex: 541909 entries, 0 to 541908\n",
      "Data columns (total 7 columns):\n",
      " #   Column       Non-Null Count   Dtype  \n",
      "---  ------       --------------   -----  \n",
      " 0   InvoiceNo    541909 non-null  object \n",
      " 1   StockCode    541909 non-null  object \n",
      " 2   Description  540455 non-null  object \n",
      " 3   Quantity     541909 non-null  int64  \n",
      " 4   InvoiceDate  541909 non-null  object \n",
      " 5   UnitPrice    541909 non-null  float64\n",
      " 6   CustomerID   406829 non-null  float64\n",
      "dtypes: float64(2), int64(1), object(4)\n",
      "memory usage: 28.9+ MB\n"
     ]
    }
   ],
   "source": [
    "data.info()"
   ]
  },
  {
   "cell_type": "markdown",
   "id": "513e931f",
   "metadata": {},
   "source": [
    "The data consists of the following columns:\n",
    "`InvoiceNo` — order identifier\n",
    "`StockCode` — item identifier\n",
    "`Description` — item name\n",
    "`Quantity` - \n",
    "`InvoiceDate` — order date\n",
    "`UnitPrice` — price per item\n",
    "`CustomerID` - customer identifier\n",
    "\n",
    "There are missing values in Description and CustomerID columns.\n",
    "First, we will change column names to lower case, and change invoiceDate to date type."
   ]
  },
  {
   "cell_type": "code",
   "execution_count": 6,
   "id": "5246e817",
   "metadata": {},
   "outputs": [],
   "source": [
    "data.columns = data.columns.str.lower()"
   ]
  },
  {
   "cell_type": "code",
   "execution_count": 7,
   "id": "955a0ebd",
   "metadata": {},
   "outputs": [],
   "source": [
    "data['invoicedate'] = pd.to_datetime(data['invoicedate'])\n"
   ]
  },
  {
   "cell_type": "code",
   "execution_count": 8,
   "id": "cf6da2e4",
   "metadata": {},
   "outputs": [
    {
     "data": {
      "text/html": [
       "<div>\n",
       "<style scoped>\n",
       "    .dataframe tbody tr th:only-of-type {\n",
       "        vertical-align: middle;\n",
       "    }\n",
       "\n",
       "    .dataframe tbody tr th {\n",
       "        vertical-align: top;\n",
       "    }\n",
       "\n",
       "    .dataframe thead th {\n",
       "        text-align: right;\n",
       "    }\n",
       "</style>\n",
       "<table border=\"1\" class=\"dataframe\">\n",
       "  <thead>\n",
       "    <tr style=\"text-align: right;\">\n",
       "      <th></th>\n",
       "      <th>invoiceno</th>\n",
       "      <th>stockcode</th>\n",
       "      <th>description</th>\n",
       "      <th>quantity</th>\n",
       "      <th>invoicedate</th>\n",
       "      <th>unitprice</th>\n",
       "      <th>customerid</th>\n",
       "    </tr>\n",
       "  </thead>\n",
       "  <tbody>\n",
       "    <tr>\n",
       "      <th>count</th>\n",
       "      <td>541909</td>\n",
       "      <td>541909</td>\n",
       "      <td>540455</td>\n",
       "      <td>541909.000000</td>\n",
       "      <td>541909</td>\n",
       "      <td>541909.000000</td>\n",
       "      <td>406829.000000</td>\n",
       "    </tr>\n",
       "    <tr>\n",
       "      <th>unique</th>\n",
       "      <td>25900</td>\n",
       "      <td>4070</td>\n",
       "      <td>4223</td>\n",
       "      <td>NaN</td>\n",
       "      <td>23260</td>\n",
       "      <td>NaN</td>\n",
       "      <td>NaN</td>\n",
       "    </tr>\n",
       "    <tr>\n",
       "      <th>top</th>\n",
       "      <td>573585</td>\n",
       "      <td>85123A</td>\n",
       "      <td>WHITE HANGING HEART T-LIGHT HOLDER</td>\n",
       "      <td>NaN</td>\n",
       "      <td>2019-10-29 14:41:00</td>\n",
       "      <td>NaN</td>\n",
       "      <td>NaN</td>\n",
       "    </tr>\n",
       "    <tr>\n",
       "      <th>freq</th>\n",
       "      <td>1114</td>\n",
       "      <td>2313</td>\n",
       "      <td>2369</td>\n",
       "      <td>NaN</td>\n",
       "      <td>1114</td>\n",
       "      <td>NaN</td>\n",
       "      <td>NaN</td>\n",
       "    </tr>\n",
       "    <tr>\n",
       "      <th>first</th>\n",
       "      <td>NaN</td>\n",
       "      <td>NaN</td>\n",
       "      <td>NaN</td>\n",
       "      <td>NaN</td>\n",
       "      <td>2018-11-29 08:26:00</td>\n",
       "      <td>NaN</td>\n",
       "      <td>NaN</td>\n",
       "    </tr>\n",
       "    <tr>\n",
       "      <th>last</th>\n",
       "      <td>NaN</td>\n",
       "      <td>NaN</td>\n",
       "      <td>NaN</td>\n",
       "      <td>NaN</td>\n",
       "      <td>2019-12-07 12:50:00</td>\n",
       "      <td>NaN</td>\n",
       "      <td>NaN</td>\n",
       "    </tr>\n",
       "    <tr>\n",
       "      <th>mean</th>\n",
       "      <td>NaN</td>\n",
       "      <td>NaN</td>\n",
       "      <td>NaN</td>\n",
       "      <td>9.552250</td>\n",
       "      <td>NaN</td>\n",
       "      <td>4.611114</td>\n",
       "      <td>15287.690570</td>\n",
       "    </tr>\n",
       "    <tr>\n",
       "      <th>std</th>\n",
       "      <td>NaN</td>\n",
       "      <td>NaN</td>\n",
       "      <td>NaN</td>\n",
       "      <td>218.081158</td>\n",
       "      <td>NaN</td>\n",
       "      <td>96.759853</td>\n",
       "      <td>1713.600303</td>\n",
       "    </tr>\n",
       "    <tr>\n",
       "      <th>min</th>\n",
       "      <td>NaN</td>\n",
       "      <td>NaN</td>\n",
       "      <td>NaN</td>\n",
       "      <td>-80995.000000</td>\n",
       "      <td>NaN</td>\n",
       "      <td>-11062.060000</td>\n",
       "      <td>12346.000000</td>\n",
       "    </tr>\n",
       "    <tr>\n",
       "      <th>25%</th>\n",
       "      <td>NaN</td>\n",
       "      <td>NaN</td>\n",
       "      <td>NaN</td>\n",
       "      <td>1.000000</td>\n",
       "      <td>NaN</td>\n",
       "      <td>1.250000</td>\n",
       "      <td>13953.000000</td>\n",
       "    </tr>\n",
       "    <tr>\n",
       "      <th>50%</th>\n",
       "      <td>NaN</td>\n",
       "      <td>NaN</td>\n",
       "      <td>NaN</td>\n",
       "      <td>3.000000</td>\n",
       "      <td>NaN</td>\n",
       "      <td>2.080000</td>\n",
       "      <td>15152.000000</td>\n",
       "    </tr>\n",
       "    <tr>\n",
       "      <th>75%</th>\n",
       "      <td>NaN</td>\n",
       "      <td>NaN</td>\n",
       "      <td>NaN</td>\n",
       "      <td>10.000000</td>\n",
       "      <td>NaN</td>\n",
       "      <td>4.130000</td>\n",
       "      <td>16791.000000</td>\n",
       "    </tr>\n",
       "    <tr>\n",
       "      <th>max</th>\n",
       "      <td>NaN</td>\n",
       "      <td>NaN</td>\n",
       "      <td>NaN</td>\n",
       "      <td>80995.000000</td>\n",
       "      <td>NaN</td>\n",
       "      <td>38970.000000</td>\n",
       "      <td>18287.000000</td>\n",
       "    </tr>\n",
       "  </tbody>\n",
       "</table>\n",
       "</div>"
      ],
      "text/plain": [
       "       invoiceno stockcode                         description       quantity  \\\n",
       "count     541909    541909                              540455  541909.000000   \n",
       "unique     25900      4070                                4223            NaN   \n",
       "top       573585    85123A  WHITE HANGING HEART T-LIGHT HOLDER            NaN   \n",
       "freq        1114      2313                                2369            NaN   \n",
       "first        NaN       NaN                                 NaN            NaN   \n",
       "last         NaN       NaN                                 NaN            NaN   \n",
       "mean         NaN       NaN                                 NaN       9.552250   \n",
       "std          NaN       NaN                                 NaN     218.081158   \n",
       "min          NaN       NaN                                 NaN  -80995.000000   \n",
       "25%          NaN       NaN                                 NaN       1.000000   \n",
       "50%          NaN       NaN                                 NaN       3.000000   \n",
       "75%          NaN       NaN                                 NaN      10.000000   \n",
       "max          NaN       NaN                                 NaN   80995.000000   \n",
       "\n",
       "                invoicedate      unitprice     customerid  \n",
       "count                541909  541909.000000  406829.000000  \n",
       "unique                23260            NaN            NaN  \n",
       "top     2019-10-29 14:41:00            NaN            NaN  \n",
       "freq                   1114            NaN            NaN  \n",
       "first   2018-11-29 08:26:00            NaN            NaN  \n",
       "last    2019-12-07 12:50:00            NaN            NaN  \n",
       "mean                    NaN       4.611114   15287.690570  \n",
       "std                     NaN      96.759853    1713.600303  \n",
       "min                     NaN  -11062.060000   12346.000000  \n",
       "25%                     NaN       1.250000   13953.000000  \n",
       "50%                     NaN       2.080000   15152.000000  \n",
       "75%                     NaN       4.130000   16791.000000  \n",
       "max                     NaN   38970.000000   18287.000000  "
      ]
     },
     "execution_count": 8,
     "metadata": {},
     "output_type": "execute_result"
    }
   ],
   "source": [
    "data.describe(include='all')"
   ]
  },
  {
   "cell_type": "markdown",
   "id": "4aee73d2",
   "metadata": {},
   "source": [
    "The data includes 25,900 unique orders, there is one order - no. 573585 which includes 1114 different products.\n",
    "Although there are 4,070 unique items according to the stock code, there are 4,223 descriptions - implying that there is a gap between these variables that later we'll try to look into.\n",
    "The average quantity of item in order is 9 items, but the median is only 3 - seems like the average value is affected by the high minimum and maximum vales (-80995, 80995 respectively).\n",
    "The orders were placed between 29/11/2018 and 07/12/2019, which is a year and a week.\n",
    "The average price per item is 4.6 and the median is 2.1, here too we see extreme values in minimum price (-11062) and maximum price (38970).\n"
   ]
  },
  {
   "cell_type": "markdown",
   "id": "f51bd055",
   "metadata": {},
   "source": [
    "Since `stockcode` and `invoiceno` are object types that means that beside the numbers there are letters - first we'll try to understand if te letters have a meaning that could divide the items into groups."
   ]
  },
  {
   "cell_type": "code",
   "execution_count": 9,
   "id": "7a703829",
   "metadata": {},
   "outputs": [],
   "source": [
    "data['invoice_code']=data['invoiceno'].str.extract('([A-Za-z]+)', expand=False)\n"
   ]
  },
  {
   "cell_type": "code",
   "execution_count": 10,
   "id": "c94ed3cb",
   "metadata": {},
   "outputs": [
    {
     "data": {
      "text/plain": [
       "array([nan, 'C', 'A'], dtype=object)"
      ]
     },
     "execution_count": 10,
     "metadata": {},
     "output_type": "execute_result"
    }
   ],
   "source": [
    "data.invoice_code.unique()"
   ]
  },
  {
   "cell_type": "code",
   "execution_count": 11,
   "id": "8c1b4dc0",
   "metadata": {},
   "outputs": [
    {
     "data": {
      "text/plain": [
       "invoice_code\n",
       "A       3\n",
       "C    9288\n",
       "Name: stockcode, dtype: int64"
      ]
     },
     "execution_count": 11,
     "metadata": {},
     "output_type": "execute_result"
    }
   ],
   "source": [
    "data.groupby('invoice_code')['stockcode'].count()"
   ]
  },
  {
   "cell_type": "markdown",
   "id": "685325bf",
   "metadata": {},
   "source": [
    "There are only two letters in `invoicecode` column - A and C, A repeats only in three invoice codes while C repeats almost 1,0000 times. All the rest do not include any letter. We will try to understand what 'A' and 'C' represent"
   ]
  },
  {
   "cell_type": "code",
   "execution_count": 12,
   "id": "7b4ecb39",
   "metadata": {},
   "outputs": [
    {
     "data": {
      "text/html": [
       "<div>\n",
       "<style scoped>\n",
       "    .dataframe tbody tr th:only-of-type {\n",
       "        vertical-align: middle;\n",
       "    }\n",
       "\n",
       "    .dataframe tbody tr th {\n",
       "        vertical-align: top;\n",
       "    }\n",
       "\n",
       "    .dataframe thead th {\n",
       "        text-align: right;\n",
       "    }\n",
       "</style>\n",
       "<table border=\"1\" class=\"dataframe\">\n",
       "  <thead>\n",
       "    <tr style=\"text-align: right;\">\n",
       "      <th></th>\n",
       "      <th>invoiceno</th>\n",
       "      <th>stockcode</th>\n",
       "      <th>description</th>\n",
       "      <th>quantity</th>\n",
       "      <th>invoicedate</th>\n",
       "      <th>unitprice</th>\n",
       "      <th>customerid</th>\n",
       "      <th>invoice_code</th>\n",
       "    </tr>\n",
       "  </thead>\n",
       "  <tbody>\n",
       "    <tr>\n",
       "      <th>299982</th>\n",
       "      <td>A563185</td>\n",
       "      <td>B</td>\n",
       "      <td>Adjust bad debt</td>\n",
       "      <td>1</td>\n",
       "      <td>2019-08-10 14:50:00</td>\n",
       "      <td>11062.06</td>\n",
       "      <td>NaN</td>\n",
       "      <td>A</td>\n",
       "    </tr>\n",
       "    <tr>\n",
       "      <th>299983</th>\n",
       "      <td>A563186</td>\n",
       "      <td>B</td>\n",
       "      <td>Adjust bad debt</td>\n",
       "      <td>1</td>\n",
       "      <td>2019-08-10 14:51:00</td>\n",
       "      <td>-11062.06</td>\n",
       "      <td>NaN</td>\n",
       "      <td>A</td>\n",
       "    </tr>\n",
       "    <tr>\n",
       "      <th>299984</th>\n",
       "      <td>A563187</td>\n",
       "      <td>B</td>\n",
       "      <td>Adjust bad debt</td>\n",
       "      <td>1</td>\n",
       "      <td>2019-08-10 14:52:00</td>\n",
       "      <td>-11062.06</td>\n",
       "      <td>NaN</td>\n",
       "      <td>A</td>\n",
       "    </tr>\n",
       "  </tbody>\n",
       "</table>\n",
       "</div>"
      ],
      "text/plain": [
       "       invoiceno stockcode      description  quantity         invoicedate  \\\n",
       "299982   A563185         B  Adjust bad debt         1 2019-08-10 14:50:00   \n",
       "299983   A563186         B  Adjust bad debt         1 2019-08-10 14:51:00   \n",
       "299984   A563187         B  Adjust bad debt         1 2019-08-10 14:52:00   \n",
       "\n",
       "        unitprice  customerid invoice_code  \n",
       "299982   11062.06         NaN            A  \n",
       "299983  -11062.06         NaN            A  \n",
       "299984  -11062.06         NaN            A  "
      ]
     },
     "execution_count": 12,
     "metadata": {},
     "output_type": "execute_result"
    }
   ],
   "source": [
    "data.query('invoice_code==\"A\"')"
   ]
  },
  {
   "cell_type": "markdown",
   "id": "1f55a6b4",
   "metadata": {},
   "source": [
    "Seems like all three invoices including the letter 'A' happend in the same date within few minutes and represent an attempt to reduce sum of -11062 USD which was done badly at first and then needed to cancel it and finaly was done as expected. The missing `customerid` value and the short `stockcode` support this proposal."
   ]
  },
  {
   "cell_type": "code",
   "execution_count": 13,
   "id": "1ba31e98",
   "metadata": {},
   "outputs": [
    {
     "data": {
      "text/html": [
       "<div>\n",
       "<style scoped>\n",
       "    .dataframe tbody tr th:only-of-type {\n",
       "        vertical-align: middle;\n",
       "    }\n",
       "\n",
       "    .dataframe tbody tr th {\n",
       "        vertical-align: top;\n",
       "    }\n",
       "\n",
       "    .dataframe thead th {\n",
       "        text-align: right;\n",
       "    }\n",
       "</style>\n",
       "<table border=\"1\" class=\"dataframe\">\n",
       "  <thead>\n",
       "    <tr style=\"text-align: right;\">\n",
       "      <th></th>\n",
       "      <th>invoiceno</th>\n",
       "      <th>stockcode</th>\n",
       "      <th>description</th>\n",
       "      <th>quantity</th>\n",
       "      <th>invoicedate</th>\n",
       "      <th>unitprice</th>\n",
       "      <th>customerid</th>\n",
       "      <th>invoice_code</th>\n",
       "    </tr>\n",
       "  </thead>\n",
       "  <tbody>\n",
       "    <tr>\n",
       "      <th>141</th>\n",
       "      <td>C536379</td>\n",
       "      <td>D</td>\n",
       "      <td>Discount</td>\n",
       "      <td>-1</td>\n",
       "      <td>2018-11-29 09:41:00</td>\n",
       "      <td>27.50</td>\n",
       "      <td>14527.0</td>\n",
       "      <td>C</td>\n",
       "    </tr>\n",
       "    <tr>\n",
       "      <th>154</th>\n",
       "      <td>C536383</td>\n",
       "      <td>35004C</td>\n",
       "      <td>SET OF 3 COLOURED  FLYING DUCKS</td>\n",
       "      <td>-1</td>\n",
       "      <td>2018-11-29 09:49:00</td>\n",
       "      <td>4.65</td>\n",
       "      <td>15311.0</td>\n",
       "      <td>C</td>\n",
       "    </tr>\n",
       "    <tr>\n",
       "      <th>235</th>\n",
       "      <td>C536391</td>\n",
       "      <td>22556</td>\n",
       "      <td>PLASTERS IN TIN CIRCUS PARADE</td>\n",
       "      <td>-12</td>\n",
       "      <td>2018-11-29 10:24:00</td>\n",
       "      <td>1.65</td>\n",
       "      <td>17548.0</td>\n",
       "      <td>C</td>\n",
       "    </tr>\n",
       "    <tr>\n",
       "      <th>236</th>\n",
       "      <td>C536391</td>\n",
       "      <td>21984</td>\n",
       "      <td>PACK OF 12 PINK PAISLEY TISSUES</td>\n",
       "      <td>-24</td>\n",
       "      <td>2018-11-29 10:24:00</td>\n",
       "      <td>0.29</td>\n",
       "      <td>17548.0</td>\n",
       "      <td>C</td>\n",
       "    </tr>\n",
       "    <tr>\n",
       "      <th>237</th>\n",
       "      <td>C536391</td>\n",
       "      <td>21983</td>\n",
       "      <td>PACK OF 12 BLUE PAISLEY TISSUES</td>\n",
       "      <td>-24</td>\n",
       "      <td>2018-11-29 10:24:00</td>\n",
       "      <td>0.29</td>\n",
       "      <td>17548.0</td>\n",
       "      <td>C</td>\n",
       "    </tr>\n",
       "    <tr>\n",
       "      <th>...</th>\n",
       "      <td>...</td>\n",
       "      <td>...</td>\n",
       "      <td>...</td>\n",
       "      <td>...</td>\n",
       "      <td>...</td>\n",
       "      <td>...</td>\n",
       "      <td>...</td>\n",
       "      <td>...</td>\n",
       "    </tr>\n",
       "    <tr>\n",
       "      <th>540449</th>\n",
       "      <td>C581490</td>\n",
       "      <td>23144</td>\n",
       "      <td>ZINC T-LIGHT HOLDER STARS SMALL</td>\n",
       "      <td>-11</td>\n",
       "      <td>2019-12-07 09:57:00</td>\n",
       "      <td>0.83</td>\n",
       "      <td>14397.0</td>\n",
       "      <td>C</td>\n",
       "    </tr>\n",
       "    <tr>\n",
       "      <th>541541</th>\n",
       "      <td>C581499</td>\n",
       "      <td>M</td>\n",
       "      <td>Manual</td>\n",
       "      <td>-1</td>\n",
       "      <td>2019-12-07 10:28:00</td>\n",
       "      <td>224.69</td>\n",
       "      <td>15498.0</td>\n",
       "      <td>C</td>\n",
       "    </tr>\n",
       "    <tr>\n",
       "      <th>541715</th>\n",
       "      <td>C581568</td>\n",
       "      <td>21258</td>\n",
       "      <td>VICTORIAN SEWING BOX LARGE</td>\n",
       "      <td>-5</td>\n",
       "      <td>2019-12-07 11:57:00</td>\n",
       "      <td>10.95</td>\n",
       "      <td>15311.0</td>\n",
       "      <td>C</td>\n",
       "    </tr>\n",
       "    <tr>\n",
       "      <th>541716</th>\n",
       "      <td>C581569</td>\n",
       "      <td>84978</td>\n",
       "      <td>HANGING HEART JAR T-LIGHT HOLDER</td>\n",
       "      <td>-1</td>\n",
       "      <td>2019-12-07 11:58:00</td>\n",
       "      <td>1.25</td>\n",
       "      <td>17315.0</td>\n",
       "      <td>C</td>\n",
       "    </tr>\n",
       "    <tr>\n",
       "      <th>541717</th>\n",
       "      <td>C581569</td>\n",
       "      <td>20979</td>\n",
       "      <td>36 PENCILS TUBE RED RETROSPOT</td>\n",
       "      <td>-5</td>\n",
       "      <td>2019-12-07 11:58:00</td>\n",
       "      <td>1.25</td>\n",
       "      <td>17315.0</td>\n",
       "      <td>C</td>\n",
       "    </tr>\n",
       "  </tbody>\n",
       "</table>\n",
       "<p>9288 rows × 8 columns</p>\n",
       "</div>"
      ],
      "text/plain": [
       "       invoiceno stockcode                       description  quantity  \\\n",
       "141      C536379         D                          Discount        -1   \n",
       "154      C536383    35004C   SET OF 3 COLOURED  FLYING DUCKS        -1   \n",
       "235      C536391     22556    PLASTERS IN TIN CIRCUS PARADE        -12   \n",
       "236      C536391     21984  PACK OF 12 PINK PAISLEY TISSUES        -24   \n",
       "237      C536391     21983  PACK OF 12 BLUE PAISLEY TISSUES        -24   \n",
       "...          ...       ...                               ...       ...   \n",
       "540449   C581490     23144   ZINC T-LIGHT HOLDER STARS SMALL       -11   \n",
       "541541   C581499         M                            Manual        -1   \n",
       "541715   C581568     21258        VICTORIAN SEWING BOX LARGE        -5   \n",
       "541716   C581569     84978  HANGING HEART JAR T-LIGHT HOLDER        -1   \n",
       "541717   C581569     20979     36 PENCILS TUBE RED RETROSPOT        -5   \n",
       "\n",
       "               invoicedate  unitprice  customerid invoice_code  \n",
       "141    2018-11-29 09:41:00      27.50     14527.0            C  \n",
       "154    2018-11-29 09:49:00       4.65     15311.0            C  \n",
       "235    2018-11-29 10:24:00       1.65     17548.0            C  \n",
       "236    2018-11-29 10:24:00       0.29     17548.0            C  \n",
       "237    2018-11-29 10:24:00       0.29     17548.0            C  \n",
       "...                    ...        ...         ...          ...  \n",
       "540449 2019-12-07 09:57:00       0.83     14397.0            C  \n",
       "541541 2019-12-07 10:28:00     224.69     15498.0            C  \n",
       "541715 2019-12-07 11:57:00      10.95     15311.0            C  \n",
       "541716 2019-12-07 11:58:00       1.25     17315.0            C  \n",
       "541717 2019-12-07 11:58:00       1.25     17315.0            C  \n",
       "\n",
       "[9288 rows x 8 columns]"
      ]
     },
     "execution_count": 13,
     "metadata": {},
     "output_type": "execute_result"
    }
   ],
   "source": [
    "data.query('invoice_code==\"C\"')"
   ]
  },
  {
   "cell_type": "code",
   "execution_count": 14,
   "id": "e060d366",
   "metadata": {},
   "outputs": [
    {
     "data": {
      "text/html": [
       "<div>\n",
       "<style scoped>\n",
       "    .dataframe tbody tr th:only-of-type {\n",
       "        vertical-align: middle;\n",
       "    }\n",
       "\n",
       "    .dataframe tbody tr th {\n",
       "        vertical-align: top;\n",
       "    }\n",
       "\n",
       "    .dataframe thead th {\n",
       "        text-align: right;\n",
       "    }\n",
       "</style>\n",
       "<table border=\"1\" class=\"dataframe\">\n",
       "  <thead>\n",
       "    <tr style=\"text-align: right;\">\n",
       "      <th></th>\n",
       "      <th>invoiceno</th>\n",
       "      <th>stockcode</th>\n",
       "      <th>description</th>\n",
       "      <th>quantity</th>\n",
       "      <th>invoicedate</th>\n",
       "      <th>unitprice</th>\n",
       "      <th>customerid</th>\n",
       "      <th>invoice_code</th>\n",
       "    </tr>\n",
       "  </thead>\n",
       "  <tbody>\n",
       "    <tr>\n",
       "      <th>count</th>\n",
       "      <td>9288</td>\n",
       "      <td>9288</td>\n",
       "      <td>9288</td>\n",
       "      <td>9288.000000</td>\n",
       "      <td>9288</td>\n",
       "      <td>9288.000000</td>\n",
       "      <td>8905.000000</td>\n",
       "      <td>9288</td>\n",
       "    </tr>\n",
       "    <tr>\n",
       "      <th>unique</th>\n",
       "      <td>3836</td>\n",
       "      <td>1947</td>\n",
       "      <td>1972</td>\n",
       "      <td>NaN</td>\n",
       "      <td>3766</td>\n",
       "      <td>NaN</td>\n",
       "      <td>NaN</td>\n",
       "      <td>1</td>\n",
       "    </tr>\n",
       "    <tr>\n",
       "      <th>top</th>\n",
       "      <td>C570867</td>\n",
       "      <td>M</td>\n",
       "      <td>Manual</td>\n",
       "      <td>NaN</td>\n",
       "      <td>2019-10-10 16:17:00</td>\n",
       "      <td>NaN</td>\n",
       "      <td>NaN</td>\n",
       "      <td>C</td>\n",
       "    </tr>\n",
       "    <tr>\n",
       "      <th>freq</th>\n",
       "      <td>101</td>\n",
       "      <td>244</td>\n",
       "      <td>244</td>\n",
       "      <td>NaN</td>\n",
       "      <td>101</td>\n",
       "      <td>NaN</td>\n",
       "      <td>NaN</td>\n",
       "      <td>9288</td>\n",
       "    </tr>\n",
       "    <tr>\n",
       "      <th>first</th>\n",
       "      <td>NaN</td>\n",
       "      <td>NaN</td>\n",
       "      <td>NaN</td>\n",
       "      <td>NaN</td>\n",
       "      <td>2018-11-29 09:41:00</td>\n",
       "      <td>NaN</td>\n",
       "      <td>NaN</td>\n",
       "      <td>NaN</td>\n",
       "    </tr>\n",
       "    <tr>\n",
       "      <th>last</th>\n",
       "      <td>NaN</td>\n",
       "      <td>NaN</td>\n",
       "      <td>NaN</td>\n",
       "      <td>NaN</td>\n",
       "      <td>2019-12-07 11:58:00</td>\n",
       "      <td>NaN</td>\n",
       "      <td>NaN</td>\n",
       "      <td>NaN</td>\n",
       "    </tr>\n",
       "    <tr>\n",
       "      <th>mean</th>\n",
       "      <td>NaN</td>\n",
       "      <td>NaN</td>\n",
       "      <td>NaN</td>\n",
       "      <td>-29.885228</td>\n",
       "      <td>NaN</td>\n",
       "      <td>48.393661</td>\n",
       "      <td>14991.667266</td>\n",
       "      <td>NaN</td>\n",
       "    </tr>\n",
       "    <tr>\n",
       "      <th>std</th>\n",
       "      <td>NaN</td>\n",
       "      <td>NaN</td>\n",
       "      <td>NaN</td>\n",
       "      <td>1145.786965</td>\n",
       "      <td>NaN</td>\n",
       "      <td>666.600430</td>\n",
       "      <td>1706.772357</td>\n",
       "      <td>NaN</td>\n",
       "    </tr>\n",
       "    <tr>\n",
       "      <th>min</th>\n",
       "      <td>NaN</td>\n",
       "      <td>NaN</td>\n",
       "      <td>NaN</td>\n",
       "      <td>-80995.000000</td>\n",
       "      <td>NaN</td>\n",
       "      <td>0.010000</td>\n",
       "      <td>12346.000000</td>\n",
       "      <td>NaN</td>\n",
       "    </tr>\n",
       "    <tr>\n",
       "      <th>25%</th>\n",
       "      <td>NaN</td>\n",
       "      <td>NaN</td>\n",
       "      <td>NaN</td>\n",
       "      <td>-6.000000</td>\n",
       "      <td>NaN</td>\n",
       "      <td>1.450000</td>\n",
       "      <td>13510.000000</td>\n",
       "      <td>NaN</td>\n",
       "    </tr>\n",
       "    <tr>\n",
       "      <th>50%</th>\n",
       "      <td>NaN</td>\n",
       "      <td>NaN</td>\n",
       "      <td>NaN</td>\n",
       "      <td>-2.000000</td>\n",
       "      <td>NaN</td>\n",
       "      <td>2.950000</td>\n",
       "      <td>14895.000000</td>\n",
       "      <td>NaN</td>\n",
       "    </tr>\n",
       "    <tr>\n",
       "      <th>75%</th>\n",
       "      <td>NaN</td>\n",
       "      <td>NaN</td>\n",
       "      <td>NaN</td>\n",
       "      <td>-1.000000</td>\n",
       "      <td>NaN</td>\n",
       "      <td>5.950000</td>\n",
       "      <td>16393.000000</td>\n",
       "      <td>NaN</td>\n",
       "    </tr>\n",
       "    <tr>\n",
       "      <th>max</th>\n",
       "      <td>NaN</td>\n",
       "      <td>NaN</td>\n",
       "      <td>NaN</td>\n",
       "      <td>-1.000000</td>\n",
       "      <td>NaN</td>\n",
       "      <td>38970.000000</td>\n",
       "      <td>18282.000000</td>\n",
       "      <td>NaN</td>\n",
       "    </tr>\n",
       "  </tbody>\n",
       "</table>\n",
       "</div>"
      ],
      "text/plain": [
       "       invoiceno stockcode description      quantity          invoicedate  \\\n",
       "count       9288      9288        9288   9288.000000                 9288   \n",
       "unique      3836      1947        1972           NaN                 3766   \n",
       "top      C570867         M      Manual           NaN  2019-10-10 16:17:00   \n",
       "freq         101       244         244           NaN                  101   \n",
       "first        NaN       NaN         NaN           NaN  2018-11-29 09:41:00   \n",
       "last         NaN       NaN         NaN           NaN  2019-12-07 11:58:00   \n",
       "mean         NaN       NaN         NaN    -29.885228                  NaN   \n",
       "std          NaN       NaN         NaN   1145.786965                  NaN   \n",
       "min          NaN       NaN         NaN -80995.000000                  NaN   \n",
       "25%          NaN       NaN         NaN     -6.000000                  NaN   \n",
       "50%          NaN       NaN         NaN     -2.000000                  NaN   \n",
       "75%          NaN       NaN         NaN     -1.000000                  NaN   \n",
       "max          NaN       NaN         NaN     -1.000000                  NaN   \n",
       "\n",
       "           unitprice    customerid invoice_code  \n",
       "count    9288.000000   8905.000000         9288  \n",
       "unique           NaN           NaN            1  \n",
       "top              NaN           NaN            C  \n",
       "freq             NaN           NaN         9288  \n",
       "first            NaN           NaN          NaN  \n",
       "last             NaN           NaN          NaN  \n",
       "mean       48.393661  14991.667266          NaN  \n",
       "std       666.600430   1706.772357          NaN  \n",
       "min         0.010000  12346.000000          NaN  \n",
       "25%         1.450000  13510.000000          NaN  \n",
       "50%         2.950000  14895.000000          NaN  \n",
       "75%         5.950000  16393.000000          NaN  \n",
       "max     38970.000000  18282.000000          NaN  "
      ]
     },
     "execution_count": 14,
     "metadata": {},
     "output_type": "execute_result"
    }
   ],
   "source": [
    "data.query('invoice_code==\"C\"').describe(include='all')"
   ]
  },
  {
   "cell_type": "code",
   "execution_count": 15,
   "id": "81c23184",
   "metadata": {},
   "outputs": [
    {
     "data": {
      "text/plain": [
       "383"
      ]
     },
     "execution_count": 15,
     "metadata": {},
     "output_type": "execute_result"
    }
   ],
   "source": [
    "data.query('invoice_code==\"C\"').customerid.isna().sum()"
   ]
  },
  {
   "cell_type": "code",
   "execution_count": 16,
   "id": "d529cf79",
   "metadata": {},
   "outputs": [
    {
     "data": {
      "image/png": "[encoded data removed]",
      "text/plain": [
       "<Figure size 432x288 with 1 Axes>"
      ]
     },
     "metadata": {
      "needs_background": "light"
     },
     "output_type": "display_data"
    }
   ],
   "source": [
    "data.loc[data['invoice_code']=='C','invoicedate'].hist(bins=80, color='blue',  edgecolor='k', alpha=0.35)\n",
    "plt.title(\"Distribution of invoice_code 'C' over time\")\n",
    "plt.ylabel('Count of invoices')\n",
    "plt.xlabel('Date')\n",
    "plt.show()"
   ]
  },
  {
   "cell_type": "markdown",
   "id": "b8b88b5e",
   "metadata": {},
   "source": [
    "When the `invoiceno` includes the letter 'C' we see variation - these invoices completed in different dates, for different customers and included different items and prices. What is interesting is the fact that the quantity metrics are all negative - meaning that all items included in these invoices were with negative quantity values, we suggest that these invoices represent situations of returning items that were bought earlier, or some discount.\n",
    "Next we will investigate the letters in `stockcode` variable"
   ]
  },
  {
   "cell_type": "code",
   "execution_count": 17,
   "id": "fca1ab5c",
   "metadata": {},
   "outputs": [],
   "source": [
    "data['stock_code']=data['stockcode'].str.extract('([A-Za-z]+)', expand=True)\n",
    "data['stock_num']=data['stockcode'].str.extract('(\\d+)', expand=True)\n",
    "data['stock_num']=pd.to_numeric(data['stock_num']).astype('Int64')"
   ]
  },
  {
   "cell_type": "code",
   "execution_count": 18,
   "id": "a74e9d2f",
   "metadata": {},
   "outputs": [
    {
     "data": {
      "text/plain": [
       "487036"
      ]
     },
     "execution_count": 18,
     "metadata": {},
     "output_type": "execute_result"
    }
   ],
   "source": [
    "data.stock_code.isna().sum()"
   ]
  },
  {
   "cell_type": "code",
   "execution_count": 19,
   "id": "a0d488ec",
   "metadata": {},
   "outputs": [
    {
     "data": {
      "text/plain": [
       "stock_code\n",
       "GR               1\n",
       "LP               1\n",
       "m                1\n",
       "PADS             4\n",
       "O                5\n",
       "Y                8\n",
       "k               10\n",
       "Z               10\n",
       "DCGSSBOY        11\n",
       "I               13\n",
       "DCGSSGIRL       13\n",
       "CRUK            16\n",
       "T               17\n",
       "DCGS            21\n",
       "p               26\n",
       "f               29\n",
       "gift            34\n",
       "AMAZONFEE       34\n",
       "BANK            37\n",
       "V               52\n",
       "g               60\n",
       "bl              62\n",
       "n               84\n",
       "R               90\n",
       "s               93\n",
       "e              100\n",
       "l              113\n",
       "U              166\n",
       "d              180\n",
       "W              192\n",
       "J              222\n",
       "c              231\n",
       "BL             326\n",
       "H              380\n",
       "b              412\n",
       "K              429\n",
       "a              542\n",
       "N              611\n",
       "DOT            710\n",
       "P              768\n",
       "M             1022\n",
       "POST          1256\n",
       "G             1493\n",
       "S             1726\n",
       "F             1973\n",
       "E             2199\n",
       "L             2277\n",
       "D             3705\n",
       "C             6625\n",
       "A            12680\n",
       "B            13803\n",
       "Name: stockcode, dtype: int64"
      ]
     },
     "execution_count": 19,
     "metadata": {},
     "output_type": "execute_result"
    }
   ],
   "source": [
    "data.groupby('stock_code')['stockcode'].count().sort_values()"
   ]
  },
  {
   "cell_type": "markdown",
   "id": "43b490b9",
   "metadata": {},
   "source": [
    "First, we see many different letters and words - there are letters the repeat themselves in upper and lower case - we will check if it is an error and they represent the same items.\n",
    "next, we will try to see if there are letters or words that represent the same category."
   ]
  },
  {
   "cell_type": "code",
   "execution_count": 20,
   "id": "b08717a2",
   "metadata": {},
   "outputs": [],
   "source": [
    "def compare_groups(data, code_lower, code_upper):\n",
    "    group_lower = set(data.query(f'stock_code ==\"{code_lower}\"')['description'].unique())\n",
    "    group_upper = set(data.query(f'stock_code==\"{code_upper}\"')['description'].unique())\n",
    "    \n",
    "    if group_lower.issubset(group_upper):\n",
    "        print(f\"All unique items in group {code_lower} appear in group {code_upper}.\")\n",
    "    else:\n",
    "        not_in_upper = group_lower.difference(group_upper)\n",
    "        count_not_in_upper = len(not_in_upper)\n",
    "        count_lower_total=data.query(f'stock_code ==\"{code_lower}\"')['description'].nunique()\n",
    "        print(f\"{round(count_not_in_upper/count_lower_total,2)} of the unique items in group {code_lower} do not appear in group {code_upper}.\")\n",
    "\n"
   ]
  },
  {
   "cell_type": "code",
   "execution_count": 21,
   "id": "8a3f344e",
   "metadata": {},
   "outputs": [
    {
     "name": "stdout",
     "output_type": "stream",
     "text": [
      "All unique items in group a appear in group A.\n",
      "0.03 of the unique items in group b do not appear in group B.\n",
      "All unique items in group c appear in group C.\n",
      "All unique items in group d appear in group D.\n",
      "All unique items in group e appear in group E.\n",
      "All unique items in group f appear in group F.\n",
      "All unique items in group g appear in group G.\n",
      "All unique items in group k appear in group K.\n",
      "0.25 of the unique items in group l do not appear in group L.\n",
      "All unique items in group m appear in group M.\n",
      "All unique items in group n appear in group N.\n",
      "All unique items in group p appear in group P.\n",
      "All unique items in group s appear in group S.\n",
      "All unique items in group bl appear in group BL.\n"
     ]
    }
   ],
   "source": [
    "compare_groups(data, 'a', 'A')\n",
    "compare_groups(data, 'b', 'B')\n",
    "compare_groups(data, 'c', 'C')\n",
    "compare_groups(data, 'd', 'D')\n",
    "compare_groups(data, 'e', 'E')\n",
    "compare_groups(data, 'f', 'F')\n",
    "compare_groups(data, 'g', 'G')\n",
    "compare_groups(data, 'k', 'K')\n",
    "compare_groups(data, 'l', 'L')\n",
    "compare_groups(data, 'm', 'M')\n",
    "compare_groups(data, 'n', 'N')\n",
    "compare_groups(data, 'p', 'P')\n",
    "compare_groups(data, 's', 'S')\n",
    "compare_groups(data, 'bl', 'BL')\n"
   ]
  },
  {
   "cell_type": "code",
   "execution_count": 22,
   "id": "11cd04f9",
   "metadata": {},
   "outputs": [
    {
     "data": {
      "text/plain": [
       "{'BISCUITS SMALL BOWL LIGHT BLUE',\n",
       " 'LARGE HEART FLOWERS HOOK   ',\n",
       " 'SINGLE HEART ZINC T-LIGHT HOLDER',\n",
       " 'WOODEN FRAME ANTIQUE WHITE '}"
      ]
     },
     "execution_count": 22,
     "metadata": {},
     "output_type": "execute_result"
    }
   ],
   "source": [
    "set(data.query('stock_code==\"l\"')['description'].unique())"
   ]
  },
  {
   "cell_type": "markdown",
   "id": "412d40bc",
   "metadata": {},
   "source": [
    "We learn that almost in all cases the unique items that assigned to lower case letters appear in the upper case code letters. \n",
    "In the only two cases that there is no perfect match the share of not matching items is small or their absolute number is small - Based on this information we will change the `stock_code` letters to upper case. "
   ]
  },
  {
   "cell_type": "code",
   "execution_count": 23,
   "id": "35a313a3",
   "metadata": {},
   "outputs": [],
   "source": [
    "data['stock_code'] = data['stock_code'].str.upper()"
   ]
  },
  {
   "cell_type": "code",
   "execution_count": 24,
   "id": "50c4fb98",
   "metadata": {},
   "outputs": [
    {
     "name": "stdout",
     "output_type": "stream",
     "text": [
      "stock_code\n",
      "AMAZONFEE                             AMAZON FEE\n",
      "DCGSSBOY                          BOYS PARTY BAG\n",
      "BANK                                Bank Charges\n",
      "CRUK                             CRUK Commission\n",
      "DOT                               DOTCOM POSTAGE\n",
      "GIFT          Dotcomgiftshop Gift Voucher £20.00\n",
      "BL                       EDWARDIAN PARASOL BLACK\n",
      "N                      EDWARDIAN PARASOL NATURAL\n",
      "K                  ENGLISH ROSE GARDEN SECATEURS\n",
      "DCGSSGIRL                        GIRLS PARTY BAG\n",
      "S              HANGING HEART ZINC T-LIGHT HOLDER\n",
      "C                 JUMBO  BAG BAROQUE BLACK WHITE\n",
      "B                        JUMBO BAG RED RETROSPOT\n",
      "F                           JUMBO BAG STRAWBERRY\n",
      "G            KNITTED UNION FLAG HOT WATER BOTTLE\n",
      "I                      LETTER \"I\" BLING KEY RING\n",
      "O                      LETTER \"O\" BLING KEY RING\n",
      "T                      LETTER \"T\" BLING KEY RING\n",
      "Y                      LETTER \"Y\" BLING KEY RING\n",
      "Z                      LETTER \"Z\" BLING KEY RING\n",
      "M                                         Manual\n",
      "PADS                  PADS TO MATCH ALL CUSHIONS\n",
      "D                PINK FAIRY CAKE CHILDRENS APRON\n",
      "R                   POLYESTER FILLER PAD 45x30cm\n",
      "POST                                     POSTAGE\n",
      "V                 ROUND PURPLE CLOCK WITH SUCKER\n",
      "E                      SCANDINAVIAN REDS RIBBONS\n",
      "H                           URBAN BLACK RIBBONS \n",
      "GR                        Unsaleable, destroyed.\n",
      "LP                        Unsaleable, destroyed.\n",
      "J                         VANILLA INCENSE IN TIN\n",
      "A             WHITE HANGING HEART T-LIGHT HOLDER\n",
      "W                WHITE JEWELLED HEART DECORATION\n",
      "L                    WOODEN FRAME ANTIQUE WHITE \n",
      "P                             WRAP ENGLISH ROSE \n",
      "U                          WRAP SUKI AND FRIENDS\n",
      "DCGS                                        ebay\n",
      "Name: description, dtype: object\n"
     ]
    }
   ],
   "source": [
    "most_frequent_per_category = data.groupby('stock_code')['description'].apply(lambda x: x.value_counts().idxmax()).sort_values()\n",
    "print(most_frequent_per_category)"
   ]
  },
  {
   "cell_type": "code",
   "execution_count": 25,
   "id": "2397e232",
   "metadata": {},
   "outputs": [
    {
     "data": {
      "text/html": [
       "<div>\n",
       "<style scoped>\n",
       "    .dataframe tbody tr th:only-of-type {\n",
       "        vertical-align: middle;\n",
       "    }\n",
       "\n",
       "    .dataframe tbody tr th {\n",
       "        vertical-align: top;\n",
       "    }\n",
       "\n",
       "    .dataframe thead th {\n",
       "        text-align: right;\n",
       "    }\n",
       "</style>\n",
       "<table border=\"1\" class=\"dataframe\">\n",
       "  <thead>\n",
       "    <tr style=\"text-align: right;\">\n",
       "      <th></th>\n",
       "      <th>invoiceno</th>\n",
       "      <th>stockcode</th>\n",
       "      <th>description</th>\n",
       "      <th>quantity</th>\n",
       "      <th>invoicedate</th>\n",
       "      <th>unitprice</th>\n",
       "      <th>customerid</th>\n",
       "      <th>invoice_code</th>\n",
       "      <th>stock_code</th>\n",
       "      <th>stock_num</th>\n",
       "    </tr>\n",
       "  </thead>\n",
       "  <tbody>\n",
       "    <tr>\n",
       "      <th>431377</th>\n",
       "      <td>573592</td>\n",
       "      <td>79323GR</td>\n",
       "      <td>Unsaleable, destroyed.</td>\n",
       "      <td>-1158</td>\n",
       "      <td>2019-10-29 15:16:00</td>\n",
       "      <td>0.0</td>\n",
       "      <td>NaN</td>\n",
       "      <td>NaN</td>\n",
       "      <td>GR</td>\n",
       "      <td>79323</td>\n",
       "    </tr>\n",
       "    <tr>\n",
       "      <th>431378</th>\n",
       "      <td>573593</td>\n",
       "      <td>79323LP</td>\n",
       "      <td>Unsaleable, destroyed.</td>\n",
       "      <td>-2618</td>\n",
       "      <td>2019-10-29 15:16:00</td>\n",
       "      <td>0.0</td>\n",
       "      <td>NaN</td>\n",
       "      <td>NaN</td>\n",
       "      <td>LP</td>\n",
       "      <td>79323</td>\n",
       "    </tr>\n",
       "  </tbody>\n",
       "</table>\n",
       "</div>"
      ],
      "text/plain": [
       "       invoiceno stockcode             description  quantity  \\\n",
       "431377    573592   79323GR  Unsaleable, destroyed.     -1158   \n",
       "431378    573593   79323LP  Unsaleable, destroyed.     -2618   \n",
       "\n",
       "               invoicedate  unitprice  customerid invoice_code stock_code  \\\n",
       "431377 2019-10-29 15:16:00        0.0         NaN          NaN         GR   \n",
       "431378 2019-10-29 15:16:00        0.0         NaN          NaN         LP   \n",
       "\n",
       "        stock_num  \n",
       "431377      79323  \n",
       "431378      79323  "
      ]
     },
     "execution_count": 25,
     "metadata": {},
     "output_type": "execute_result"
    }
   ],
   "source": [
    "data.query('stock_code==\"GR\" or stock_code==\"LP\"')"
   ]
  },
  {
   "cell_type": "markdown",
   "id": "78f9544c",
   "metadata": {},
   "source": [
    "We see that it seems like the letters represent some variations in items - color, shape... while the other categories with longer names represent some other things like commissions (`CRUK`, `AMAZONFEE`, `BANK`, `DOT`, `POST`) or vouchers (`GIFT`).\n",
    "Lastly - `GR` and `LP` codes seems to represent some notes regarding the condition of the items, we will change the name of the code to 'UNUSE' and later will check if there are more rows with a similar note."
   ]
  },
  {
   "cell_type": "code",
   "execution_count": 26,
   "id": "07156099",
   "metadata": {},
   "outputs": [],
   "source": [
    "data['stock_code'] = data['stock_code'].replace(['GR', 'LP'], 'UNUSE')"
   ]
  },
  {
   "cell_type": "code",
   "execution_count": 27,
   "id": "a1e250b3",
   "metadata": {},
   "outputs": [],
   "source": [
    "#updating the stockcode column with the edited letters\n",
    "data['stock_code']=data['stock_code'].fillna('')\n",
    "data['stockcode']=data['stock_num'].astype(str)+data['stock_code']\n"
   ]
  },
  {
   "cell_type": "markdown",
   "id": "44d5fd56",
   "metadata": {},
   "source": [
    "### Missing Values"
   ]
  },
  {
   "cell_type": "markdown",
   "id": "e443342e",
   "metadata": {},
   "source": [
    "First we will try to fill in the missing values of descriptions, based on the stockcodes."
   ]
  },
  {
   "cell_type": "code",
   "execution_count": 28,
   "id": "30bcae35",
   "metadata": {},
   "outputs": [
    {
     "data": {
      "text/plain": [
       "count    3953.000000\n",
       "mean        1.182899\n",
       "std         0.585495\n",
       "min         0.000000\n",
       "25%         1.000000\n",
       "50%         1.000000\n",
       "75%         1.000000\n",
       "max         8.000000\n",
       "Name: description, dtype: float64"
      ]
     },
     "execution_count": 28,
     "metadata": {},
     "output_type": "execute_result"
    }
   ],
   "source": [
    "#check for number of unique descriptions per code\n",
    "data.groupby('stockcode')['description'].nunique().describe()"
   ]
  },
  {
   "cell_type": "markdown",
   "id": "9a505faf",
   "metadata": {},
   "source": [
    "Since there are `stockcode` that related to more than one description, we will fill the most frequent one."
   ]
  },
  {
   "cell_type": "code",
   "execution_count": 29,
   "id": "72417a1a",
   "metadata": {},
   "outputs": [],
   "source": [
    "data['description'] = data.groupby('stockcode')['description'].transform(lambda grp: grp.fillna(grp.mode().max()))"
   ]
  },
  {
   "cell_type": "code",
   "execution_count": 30,
   "id": "424de82b",
   "metadata": {},
   "outputs": [
    {
     "data": {
      "text/plain": [
       "False    541799\n",
       "True        110\n",
       "Name: description, dtype: int64"
      ]
     },
     "execution_count": 30,
     "metadata": {},
     "output_type": "execute_result"
    }
   ],
   "source": [
    "data.description.isna().value_counts()"
   ]
  },
  {
   "cell_type": "markdown",
   "id": "c80687ad",
   "metadata": {},
   "source": [
    "There are still 110 rows with missing description, we will check if these rows have any pattern:"
   ]
  },
  {
   "cell_type": "code",
   "execution_count": 31,
   "id": "e4ccef1f",
   "metadata": {},
   "outputs": [
    {
     "data": {
      "text/html": [
       "<div>\n",
       "<style scoped>\n",
       "    .dataframe tbody tr th:only-of-type {\n",
       "        vertical-align: middle;\n",
       "    }\n",
       "\n",
       "    .dataframe tbody tr th {\n",
       "        vertical-align: top;\n",
       "    }\n",
       "\n",
       "    .dataframe thead th {\n",
       "        text-align: right;\n",
       "    }\n",
       "</style>\n",
       "<table border=\"1\" class=\"dataframe\">\n",
       "  <thead>\n",
       "    <tr style=\"text-align: right;\">\n",
       "      <th></th>\n",
       "      <th>invoiceno</th>\n",
       "      <th>stockcode</th>\n",
       "      <th>description</th>\n",
       "      <th>quantity</th>\n",
       "      <th>invoicedate</th>\n",
       "      <th>unitprice</th>\n",
       "      <th>customerid</th>\n",
       "      <th>invoice_code</th>\n",
       "      <th>stock_code</th>\n",
       "      <th>stock_num</th>\n",
       "    </tr>\n",
       "  </thead>\n",
       "  <tbody>\n",
       "    <tr>\n",
       "      <th>1970</th>\n",
       "      <td>536545</td>\n",
       "      <td>21134</td>\n",
       "      <td>NaN</td>\n",
       "      <td>1</td>\n",
       "      <td>2018-11-29 14:32:00</td>\n",
       "      <td>0.0</td>\n",
       "      <td>NaN</td>\n",
       "      <td>NaN</td>\n",
       "      <td></td>\n",
       "      <td>21134</td>\n",
       "    </tr>\n",
       "    <tr>\n",
       "      <th>1987</th>\n",
       "      <td>536549</td>\n",
       "      <td>85226A</td>\n",
       "      <td>NaN</td>\n",
       "      <td>1</td>\n",
       "      <td>2018-11-29 14:34:00</td>\n",
       "      <td>0.0</td>\n",
       "      <td>NaN</td>\n",
       "      <td>NaN</td>\n",
       "      <td>A</td>\n",
       "      <td>85226</td>\n",
       "    </tr>\n",
       "    <tr>\n",
       "      <th>1988</th>\n",
       "      <td>536550</td>\n",
       "      <td>85044</td>\n",
       "      <td>NaN</td>\n",
       "      <td>1</td>\n",
       "      <td>2018-11-29 14:34:00</td>\n",
       "      <td>0.0</td>\n",
       "      <td>NaN</td>\n",
       "      <td>NaN</td>\n",
       "      <td></td>\n",
       "      <td>85044</td>\n",
       "    </tr>\n",
       "    <tr>\n",
       "      <th>2024</th>\n",
       "      <td>536552</td>\n",
       "      <td>20950</td>\n",
       "      <td>NaN</td>\n",
       "      <td>1</td>\n",
       "      <td>2018-11-29 14:34:00</td>\n",
       "      <td>0.0</td>\n",
       "      <td>NaN</td>\n",
       "      <td>NaN</td>\n",
       "      <td></td>\n",
       "      <td>20950</td>\n",
       "    </tr>\n",
       "    <tr>\n",
       "      <th>2026</th>\n",
       "      <td>536554</td>\n",
       "      <td>84670</td>\n",
       "      <td>NaN</td>\n",
       "      <td>23</td>\n",
       "      <td>2018-11-29 14:35:00</td>\n",
       "      <td>0.0</td>\n",
       "      <td>NaN</td>\n",
       "      <td>NaN</td>\n",
       "      <td></td>\n",
       "      <td>84670</td>\n",
       "    </tr>\n",
       "  </tbody>\n",
       "</table>\n",
       "</div>"
      ],
      "text/plain": [
       "     invoiceno stockcode description  quantity         invoicedate  unitprice  \\\n",
       "1970    536545     21134         NaN         1 2018-11-29 14:32:00        0.0   \n",
       "1987    536549    85226A         NaN         1 2018-11-29 14:34:00        0.0   \n",
       "1988    536550     85044         NaN         1 2018-11-29 14:34:00        0.0   \n",
       "2024    536552     20950         NaN         1 2018-11-29 14:34:00        0.0   \n",
       "2026    536554     84670         NaN        23 2018-11-29 14:35:00        0.0   \n",
       "\n",
       "      customerid invoice_code stock_code  stock_num  \n",
       "1970         NaN          NaN                 21134  \n",
       "1987         NaN          NaN          A      85226  \n",
       "1988         NaN          NaN                 85044  \n",
       "2024         NaN          NaN                 20950  \n",
       "2026         NaN          NaN                 84670  "
      ]
     },
     "execution_count": 31,
     "metadata": {},
     "output_type": "execute_result"
    }
   ],
   "source": [
    "data[data['description'].isna()].head()"
   ]
  },
  {
   "cell_type": "code",
   "execution_count": 32,
   "id": "5530c872",
   "metadata": {},
   "outputs": [
    {
     "data": {
      "text/html": [
       "<div>\n",
       "<style scoped>\n",
       "    .dataframe tbody tr th:only-of-type {\n",
       "        vertical-align: middle;\n",
       "    }\n",
       "\n",
       "    .dataframe tbody tr th {\n",
       "        vertical-align: top;\n",
       "    }\n",
       "\n",
       "    .dataframe thead th {\n",
       "        text-align: right;\n",
       "    }\n",
       "</style>\n",
       "<table border=\"1\" class=\"dataframe\">\n",
       "  <thead>\n",
       "    <tr style=\"text-align: right;\">\n",
       "      <th></th>\n",
       "      <th>invoiceno</th>\n",
       "      <th>stockcode</th>\n",
       "      <th>description</th>\n",
       "      <th>quantity</th>\n",
       "      <th>invoicedate</th>\n",
       "      <th>unitprice</th>\n",
       "      <th>customerid</th>\n",
       "      <th>invoice_code</th>\n",
       "      <th>stock_code</th>\n",
       "      <th>stock_num</th>\n",
       "    </tr>\n",
       "  </thead>\n",
       "  <tbody>\n",
       "    <tr>\n",
       "      <th>count</th>\n",
       "      <td>110</td>\n",
       "      <td>110</td>\n",
       "      <td>0</td>\n",
       "      <td>110.000000</td>\n",
       "      <td>110</td>\n",
       "      <td>110.0</td>\n",
       "      <td>0.0</td>\n",
       "      <td>0</td>\n",
       "      <td>110</td>\n",
       "      <td>110.000000</td>\n",
       "    </tr>\n",
       "    <tr>\n",
       "      <th>unique</th>\n",
       "      <td>110</td>\n",
       "      <td>110</td>\n",
       "      <td>0</td>\n",
       "      <td>NaN</td>\n",
       "      <td>93</td>\n",
       "      <td>NaN</td>\n",
       "      <td>NaN</td>\n",
       "      <td>0</td>\n",
       "      <td>11</td>\n",
       "      <td>NaN</td>\n",
       "    </tr>\n",
       "    <tr>\n",
       "      <th>top</th>\n",
       "      <td>536995</td>\n",
       "      <td>84964B</td>\n",
       "      <td>NaN</td>\n",
       "      <td>NaN</td>\n",
       "      <td>2019-01-26 14:52:00</td>\n",
       "      <td>NaN</td>\n",
       "      <td>NaN</td>\n",
       "      <td>NaN</td>\n",
       "      <td></td>\n",
       "      <td>NaN</td>\n",
       "    </tr>\n",
       "    <tr>\n",
       "      <th>freq</th>\n",
       "      <td>1</td>\n",
       "      <td>1</td>\n",
       "      <td>NaN</td>\n",
       "      <td>NaN</td>\n",
       "      <td>4</td>\n",
       "      <td>NaN</td>\n",
       "      <td>NaN</td>\n",
       "      <td>NaN</td>\n",
       "      <td>61</td>\n",
       "      <td>NaN</td>\n",
       "    </tr>\n",
       "    <tr>\n",
       "      <th>first</th>\n",
       "      <td>NaN</td>\n",
       "      <td>NaN</td>\n",
       "      <td>NaN</td>\n",
       "      <td>NaN</td>\n",
       "      <td>2018-11-29 14:32:00</td>\n",
       "      <td>NaN</td>\n",
       "      <td>NaN</td>\n",
       "      <td>NaN</td>\n",
       "      <td>NaN</td>\n",
       "      <td>NaN</td>\n",
       "    </tr>\n",
       "    <tr>\n",
       "      <th>last</th>\n",
       "      <td>NaN</td>\n",
       "      <td>NaN</td>\n",
       "      <td>NaN</td>\n",
       "      <td>NaN</td>\n",
       "      <td>2019-09-17 11:01:00</td>\n",
       "      <td>NaN</td>\n",
       "      <td>NaN</td>\n",
       "      <td>NaN</td>\n",
       "      <td>NaN</td>\n",
       "      <td>NaN</td>\n",
       "    </tr>\n",
       "    <tr>\n",
       "      <th>mean</th>\n",
       "      <td>NaN</td>\n",
       "      <td>NaN</td>\n",
       "      <td>NaN</td>\n",
       "      <td>-8.372727</td>\n",
       "      <td>NaN</td>\n",
       "      <td>0.0</td>\n",
       "      <td>NaN</td>\n",
       "      <td>NaN</td>\n",
       "      <td>NaN</td>\n",
       "      <td>51019.372727</td>\n",
       "    </tr>\n",
       "    <tr>\n",
       "      <th>std</th>\n",
       "      <td>NaN</td>\n",
       "      <td>NaN</td>\n",
       "      <td>NaN</td>\n",
       "      <td>16.094822</td>\n",
       "      <td>NaN</td>\n",
       "      <td>0.0</td>\n",
       "      <td>NaN</td>\n",
       "      <td>NaN</td>\n",
       "      <td>NaN</td>\n",
       "      <td>31032.217015</td>\n",
       "    </tr>\n",
       "    <tr>\n",
       "      <th>min</th>\n",
       "      <td>NaN</td>\n",
       "      <td>NaN</td>\n",
       "      <td>NaN</td>\n",
       "      <td>-102.000000</td>\n",
       "      <td>NaN</td>\n",
       "      <td>0.0</td>\n",
       "      <td>NaN</td>\n",
       "      <td>NaN</td>\n",
       "      <td>NaN</td>\n",
       "      <td>55.000000</td>\n",
       "    </tr>\n",
       "    <tr>\n",
       "      <th>25%</th>\n",
       "      <td>NaN</td>\n",
       "      <td>NaN</td>\n",
       "      <td>NaN</td>\n",
       "      <td>-11.000000</td>\n",
       "      <td>NaN</td>\n",
       "      <td>0.0</td>\n",
       "      <td>NaN</td>\n",
       "      <td>NaN</td>\n",
       "      <td>NaN</td>\n",
       "      <td>21483.250000</td>\n",
       "    </tr>\n",
       "    <tr>\n",
       "      <th>50%</th>\n",
       "      <td>NaN</td>\n",
       "      <td>NaN</td>\n",
       "      <td>NaN</td>\n",
       "      <td>-4.500000</td>\n",
       "      <td>NaN</td>\n",
       "      <td>0.0</td>\n",
       "      <td>NaN</td>\n",
       "      <td>NaN</td>\n",
       "      <td>NaN</td>\n",
       "      <td>38747.500000</td>\n",
       "    </tr>\n",
       "    <tr>\n",
       "      <th>75%</th>\n",
       "      <td>NaN</td>\n",
       "      <td>NaN</td>\n",
       "      <td>NaN</td>\n",
       "      <td>-1.000000</td>\n",
       "      <td>NaN</td>\n",
       "      <td>0.0</td>\n",
       "      <td>NaN</td>\n",
       "      <td>NaN</td>\n",
       "      <td>NaN</td>\n",
       "      <td>84668.500000</td>\n",
       "    </tr>\n",
       "    <tr>\n",
       "      <th>max</th>\n",
       "      <td>NaN</td>\n",
       "      <td>NaN</td>\n",
       "      <td>NaN</td>\n",
       "      <td>57.000000</td>\n",
       "      <td>NaN</td>\n",
       "      <td>0.0</td>\n",
       "      <td>NaN</td>\n",
       "      <td>NaN</td>\n",
       "      <td>NaN</td>\n",
       "      <td>90095.000000</td>\n",
       "    </tr>\n",
       "  </tbody>\n",
       "</table>\n",
       "</div>"
      ],
      "text/plain": [
       "       invoiceno stockcode description    quantity          invoicedate  \\\n",
       "count        110       110           0  110.000000                  110   \n",
       "unique       110       110           0         NaN                   93   \n",
       "top       536995    84964B         NaN         NaN  2019-01-26 14:52:00   \n",
       "freq           1         1         NaN         NaN                    4   \n",
       "first        NaN       NaN         NaN         NaN  2018-11-29 14:32:00   \n",
       "last         NaN       NaN         NaN         NaN  2019-09-17 11:01:00   \n",
       "mean         NaN       NaN         NaN   -8.372727                  NaN   \n",
       "std          NaN       NaN         NaN   16.094822                  NaN   \n",
       "min          NaN       NaN         NaN -102.000000                  NaN   \n",
       "25%          NaN       NaN         NaN  -11.000000                  NaN   \n",
       "50%          NaN       NaN         NaN   -4.500000                  NaN   \n",
       "75%          NaN       NaN         NaN   -1.000000                  NaN   \n",
       "max          NaN       NaN         NaN   57.000000                  NaN   \n",
       "\n",
       "        unitprice  customerid invoice_code stock_code     stock_num  \n",
       "count       110.0         0.0            0        110    110.000000  \n",
       "unique        NaN         NaN            0         11           NaN  \n",
       "top           NaN         NaN          NaN                      NaN  \n",
       "freq          NaN         NaN          NaN         61           NaN  \n",
       "first         NaN         NaN          NaN        NaN           NaN  \n",
       "last          NaN         NaN          NaN        NaN           NaN  \n",
       "mean          0.0         NaN          NaN        NaN  51019.372727  \n",
       "std           0.0         NaN          NaN        NaN  31032.217015  \n",
       "min           0.0         NaN          NaN        NaN     55.000000  \n",
       "25%           0.0         NaN          NaN        NaN  21483.250000  \n",
       "50%           0.0         NaN          NaN        NaN  38747.500000  \n",
       "75%           0.0         NaN          NaN        NaN  84668.500000  \n",
       "max           0.0         NaN          NaN        NaN  90095.000000  "
      ]
     },
     "execution_count": 32,
     "metadata": {},
     "output_type": "execute_result"
    }
   ],
   "source": [
    "data[data['description'].isna()].describe(include='all')"
   ]
  },
  {
   "cell_type": "code",
   "execution_count": 33,
   "id": "e09881d7",
   "metadata": {},
   "outputs": [
    {
     "data": {
      "text/plain": [
       "0.0"
      ]
     },
     "execution_count": 33,
     "metadata": {},
     "output_type": "execute_result"
    }
   ],
   "source": [
    "round(data[data['description'].isna()].shape[0]/data.shape[0],2)"
   ]
  },
  {
   "cell_type": "markdown",
   "id": "b224689f",
   "metadata": {},
   "source": [
    "All the rows that are missing description are not connected to any `customerid` and all the `unitprice` values are equal to zero. Since these rows are almost zero percent of the whole data we will ommit them."
   ]
  },
  {
   "cell_type": "code",
   "execution_count": 34,
   "id": "4ba39b19",
   "metadata": {},
   "outputs": [],
   "source": [
    "data = data.dropna(subset=['description']).reset_index(drop=True)"
   ]
  },
  {
   "cell_type": "code",
   "execution_count": 35,
   "id": "b6eda5fb",
   "metadata": {},
   "outputs": [],
   "source": [
    "data['description']=data['description'].map(str.lower)"
   ]
  },
  {
   "cell_type": "code",
   "execution_count": 36,
   "id": "a70fcd07",
   "metadata": {},
   "outputs": [
    {
     "data": {
      "text/html": [
       "<div>\n",
       "<style scoped>\n",
       "    .dataframe tbody tr th:only-of-type {\n",
       "        vertical-align: middle;\n",
       "    }\n",
       "\n",
       "    .dataframe tbody tr th {\n",
       "        vertical-align: top;\n",
       "    }\n",
       "\n",
       "    .dataframe thead th {\n",
       "        text-align: right;\n",
       "    }\n",
       "</style>\n",
       "<table border=\"1\" class=\"dataframe\">\n",
       "  <thead>\n",
       "    <tr style=\"text-align: right;\">\n",
       "      <th></th>\n",
       "      <th>invoiceno</th>\n",
       "      <th>stockcode</th>\n",
       "      <th>description</th>\n",
       "      <th>quantity</th>\n",
       "      <th>invoicedate</th>\n",
       "      <th>unitprice</th>\n",
       "      <th>customerid</th>\n",
       "      <th>invoice_code</th>\n",
       "      <th>stock_code</th>\n",
       "      <th>stock_num</th>\n",
       "    </tr>\n",
       "  </thead>\n",
       "  <tbody>\n",
       "    <tr>\n",
       "      <th>count</th>\n",
       "      <td>139</td>\n",
       "      <td>139</td>\n",
       "      <td>139</td>\n",
       "      <td>139.000000</td>\n",
       "      <td>139</td>\n",
       "      <td>139.0</td>\n",
       "      <td>0.0</td>\n",
       "      <td>0</td>\n",
       "      <td>139</td>\n",
       "      <td>139.000000</td>\n",
       "    </tr>\n",
       "    <tr>\n",
       "      <th>unique</th>\n",
       "      <td>139</td>\n",
       "      <td>132</td>\n",
       "      <td>18</td>\n",
       "      <td>NaN</td>\n",
       "      <td>127</td>\n",
       "      <td>NaN</td>\n",
       "      <td>NaN</td>\n",
       "      <td>0</td>\n",
       "      <td>12</td>\n",
       "      <td>NaN</td>\n",
       "    </tr>\n",
       "    <tr>\n",
       "      <th>top</th>\n",
       "      <td>568401</td>\n",
       "      <td>79030G</td>\n",
       "      <td>damaged</td>\n",
       "      <td>NaN</td>\n",
       "      <td>2019-05-31 11:11:00</td>\n",
       "      <td>NaN</td>\n",
       "      <td>NaN</td>\n",
       "      <td>NaN</td>\n",
       "      <td></td>\n",
       "      <td>NaN</td>\n",
       "    </tr>\n",
       "    <tr>\n",
       "      <th>freq</th>\n",
       "      <td>1</td>\n",
       "      <td>2</td>\n",
       "      <td>58</td>\n",
       "      <td>NaN</td>\n",
       "      <td>3</td>\n",
       "      <td>NaN</td>\n",
       "      <td>NaN</td>\n",
       "      <td>NaN</td>\n",
       "      <td>87</td>\n",
       "      <td>NaN</td>\n",
       "    </tr>\n",
       "    <tr>\n",
       "      <th>first</th>\n",
       "      <td>NaN</td>\n",
       "      <td>NaN</td>\n",
       "      <td>NaN</td>\n",
       "      <td>NaN</td>\n",
       "      <td>2018-12-04 16:10:00</td>\n",
       "      <td>NaN</td>\n",
       "      <td>NaN</td>\n",
       "      <td>NaN</td>\n",
       "      <td>NaN</td>\n",
       "      <td>NaN</td>\n",
       "    </tr>\n",
       "    <tr>\n",
       "      <th>last</th>\n",
       "      <td>NaN</td>\n",
       "      <td>NaN</td>\n",
       "      <td>NaN</td>\n",
       "      <td>NaN</td>\n",
       "      <td>2019-12-05 18:32:00</td>\n",
       "      <td>NaN</td>\n",
       "      <td>NaN</td>\n",
       "      <td>NaN</td>\n",
       "      <td>NaN</td>\n",
       "      <td>NaN</td>\n",
       "    </tr>\n",
       "    <tr>\n",
       "      <th>mean</th>\n",
       "      <td>NaN</td>\n",
       "      <td>NaN</td>\n",
       "      <td>NaN</td>\n",
       "      <td>-284.158273</td>\n",
       "      <td>NaN</td>\n",
       "      <td>0.0</td>\n",
       "      <td>NaN</td>\n",
       "      <td>NaN</td>\n",
       "      <td>NaN</td>\n",
       "      <td>49770.043165</td>\n",
       "    </tr>\n",
       "    <tr>\n",
       "      <th>std</th>\n",
       "      <td>NaN</td>\n",
       "      <td>NaN</td>\n",
       "      <td>NaN</td>\n",
       "      <td>626.721794</td>\n",
       "      <td>NaN</td>\n",
       "      <td>0.0</td>\n",
       "      <td>NaN</td>\n",
       "      <td>NaN</td>\n",
       "      <td>NaN</td>\n",
       "      <td>29276.779485</td>\n",
       "    </tr>\n",
       "    <tr>\n",
       "      <th>min</th>\n",
       "      <td>NaN</td>\n",
       "      <td>NaN</td>\n",
       "      <td>NaN</td>\n",
       "      <td>-4830.000000</td>\n",
       "      <td>NaN</td>\n",
       "      <td>0.0</td>\n",
       "      <td>NaN</td>\n",
       "      <td>NaN</td>\n",
       "      <td>NaN</td>\n",
       "      <td>10133.000000</td>\n",
       "    </tr>\n",
       "    <tr>\n",
       "      <th>25%</th>\n",
       "      <td>NaN</td>\n",
       "      <td>NaN</td>\n",
       "      <td>NaN</td>\n",
       "      <td>-137.500000</td>\n",
       "      <td>NaN</td>\n",
       "      <td>0.0</td>\n",
       "      <td>NaN</td>\n",
       "      <td>NaN</td>\n",
       "      <td>NaN</td>\n",
       "      <td>21941.000000</td>\n",
       "    </tr>\n",
       "    <tr>\n",
       "      <th>50%</th>\n",
       "      <td>NaN</td>\n",
       "      <td>NaN</td>\n",
       "      <td>NaN</td>\n",
       "      <td>-48.000000</td>\n",
       "      <td>NaN</td>\n",
       "      <td>0.0</td>\n",
       "      <td>NaN</td>\n",
       "      <td>NaN</td>\n",
       "      <td>NaN</td>\n",
       "      <td>37327.000000</td>\n",
       "    </tr>\n",
       "    <tr>\n",
       "      <th>75%</th>\n",
       "      <td>NaN</td>\n",
       "      <td>NaN</td>\n",
       "      <td>NaN</td>\n",
       "      <td>-15.000000</td>\n",
       "      <td>NaN</td>\n",
       "      <td>0.0</td>\n",
       "      <td>NaN</td>\n",
       "      <td>NaN</td>\n",
       "      <td>NaN</td>\n",
       "      <td>84563.000000</td>\n",
       "    </tr>\n",
       "    <tr>\n",
       "      <th>max</th>\n",
       "      <td>NaN</td>\n",
       "      <td>NaN</td>\n",
       "      <td>NaN</td>\n",
       "      <td>192.000000</td>\n",
       "      <td>NaN</td>\n",
       "      <td>0.0</td>\n",
       "      <td>NaN</td>\n",
       "      <td>NaN</td>\n",
       "      <td>NaN</td>\n",
       "      <td>85230.000000</td>\n",
       "    </tr>\n",
       "  </tbody>\n",
       "</table>\n",
       "</div>"
      ],
      "text/plain": [
       "       invoiceno stockcode description     quantity          invoicedate  \\\n",
       "count        139       139         139   139.000000                  139   \n",
       "unique       139       132          18          NaN                  127   \n",
       "top       568401    79030G     damaged          NaN  2019-05-31 11:11:00   \n",
       "freq           1         2          58          NaN                    3   \n",
       "first        NaN       NaN         NaN          NaN  2018-12-04 16:10:00   \n",
       "last         NaN       NaN         NaN          NaN  2019-12-05 18:32:00   \n",
       "mean         NaN       NaN         NaN  -284.158273                  NaN   \n",
       "std          NaN       NaN         NaN   626.721794                  NaN   \n",
       "min          NaN       NaN         NaN -4830.000000                  NaN   \n",
       "25%          NaN       NaN         NaN  -137.500000                  NaN   \n",
       "50%          NaN       NaN         NaN   -48.000000                  NaN   \n",
       "75%          NaN       NaN         NaN   -15.000000                  NaN   \n",
       "max          NaN       NaN         NaN   192.000000                  NaN   \n",
       "\n",
       "        unitprice  customerid invoice_code stock_code     stock_num  \n",
       "count       139.0         0.0            0        139    139.000000  \n",
       "unique        NaN         NaN            0         12           NaN  \n",
       "top           NaN         NaN          NaN                      NaN  \n",
       "freq          NaN         NaN          NaN         87           NaN  \n",
       "first         NaN         NaN          NaN        NaN           NaN  \n",
       "last          NaN         NaN          NaN        NaN           NaN  \n",
       "mean          0.0         NaN          NaN        NaN  49770.043165  \n",
       "std           0.0         NaN          NaN        NaN  29276.779485  \n",
       "min           0.0         NaN          NaN        NaN  10133.000000  \n",
       "25%           0.0         NaN          NaN        NaN  21941.000000  \n",
       "50%           0.0         NaN          NaN        NaN  37327.000000  \n",
       "75%           0.0         NaN          NaN        NaN  84563.000000  \n",
       "max           0.0         NaN          NaN        NaN  85230.000000  "
      ]
     },
     "execution_count": 36,
     "metadata": {},
     "output_type": "execute_result"
    }
   ],
   "source": [
    "keywords = ['destroy', 'damage', 'unsaleable']\n",
    "filt=data['description'].str.contains('|'.join(keywords), case=False)\n",
    "data[filt].describe(include='all')"
   ]
  },
  {
   "cell_type": "code",
   "execution_count": 37,
   "id": "7c092bdc",
   "metadata": {},
   "outputs": [
    {
     "data": {
      "text/html": [
       "<div>\n",
       "<style scoped>\n",
       "    .dataframe tbody tr th:only-of-type {\n",
       "        vertical-align: middle;\n",
       "    }\n",
       "\n",
       "    .dataframe tbody tr th {\n",
       "        vertical-align: top;\n",
       "    }\n",
       "\n",
       "    .dataframe thead th {\n",
       "        text-align: right;\n",
       "    }\n",
       "</style>\n",
       "<table border=\"1\" class=\"dataframe\">\n",
       "  <thead>\n",
       "    <tr style=\"text-align: right;\">\n",
       "      <th></th>\n",
       "      <th>invoiceno</th>\n",
       "      <th>stockcode</th>\n",
       "      <th>description</th>\n",
       "      <th>quantity</th>\n",
       "      <th>invoicedate</th>\n",
       "      <th>unitprice</th>\n",
       "      <th>customerid</th>\n",
       "      <th>invoice_code</th>\n",
       "      <th>stock_code</th>\n",
       "      <th>stock_num</th>\n",
       "    </tr>\n",
       "  </thead>\n",
       "  <tbody>\n",
       "    <tr>\n",
       "      <th>344901</th>\n",
       "      <td>567131</td>\n",
       "      <td>21830</td>\n",
       "      <td>damaged</td>\n",
       "      <td>192</td>\n",
       "      <td>2019-09-14 14:13:00</td>\n",
       "      <td>0.0</td>\n",
       "      <td>NaN</td>\n",
       "      <td>NaN</td>\n",
       "      <td></td>\n",
       "      <td>21830</td>\n",
       "    </tr>\n",
       "  </tbody>\n",
       "</table>\n",
       "</div>"
      ],
      "text/plain": [
       "       invoiceno stockcode description  quantity         invoicedate  \\\n",
       "344901    567131     21830     damaged       192 2019-09-14 14:13:00   \n",
       "\n",
       "        unitprice  customerid invoice_code stock_code  stock_num  \n",
       "344901        0.0         NaN          NaN                 21830  "
      ]
     },
     "execution_count": 37,
     "metadata": {},
     "output_type": "execute_result"
    }
   ],
   "source": [
    "#checking how many rows in the filtered table includes positive quantity\n",
    "data[filt].query('quantity>0')"
   ]
  },
  {
   "cell_type": "markdown",
   "id": "eff8d28f",
   "metadata": {},
   "source": [
    "We learn that there are 139 descriptions that include one of the chosen words, in all cases the price is equal to zero, there are no customers and the quantity is negative (except for one occurence). Based on this, we will change the stock code of these rows to 'UNUSE'"
   ]
  },
  {
   "cell_type": "code",
   "execution_count": 38,
   "id": "aba28227",
   "metadata": {},
   "outputs": [],
   "source": [
    "data.loc[filt, 'stock_code'] = 'UNUSE'"
   ]
  },
  {
   "cell_type": "code",
   "execution_count": 39,
   "id": "b7bf73e4",
   "metadata": {},
   "outputs": [],
   "source": [
    "#updating again the stockcode column with the edited letters\n",
    "data['stockcode']=data['stock_num'].astype(str)+data['stock_code']"
   ]
  },
  {
   "cell_type": "code",
   "execution_count": 40,
   "id": "8f194949",
   "metadata": {},
   "outputs": [
    {
     "data": {
      "text/html": [
       "<div>\n",
       "<style scoped>\n",
       "    .dataframe tbody tr th:only-of-type {\n",
       "        vertical-align: middle;\n",
       "    }\n",
       "\n",
       "    .dataframe tbody tr th {\n",
       "        vertical-align: top;\n",
       "    }\n",
       "\n",
       "    .dataframe thead th {\n",
       "        text-align: right;\n",
       "    }\n",
       "</style>\n",
       "<table border=\"1\" class=\"dataframe\">\n",
       "  <thead>\n",
       "    <tr style=\"text-align: right;\">\n",
       "      <th></th>\n",
       "      <th>invoiceno</th>\n",
       "      <th>stockcode</th>\n",
       "      <th>description</th>\n",
       "      <th>quantity</th>\n",
       "      <th>invoicedate</th>\n",
       "      <th>unitprice</th>\n",
       "      <th>customerid</th>\n",
       "      <th>invoice_code</th>\n",
       "      <th>stock_code</th>\n",
       "      <th>stock_num</th>\n",
       "    </tr>\n",
       "  </thead>\n",
       "  <tbody>\n",
       "    <tr>\n",
       "      <th>0</th>\n",
       "      <td>536365</td>\n",
       "      <td>85123A</td>\n",
       "      <td>white hanging heart t-light holder</td>\n",
       "      <td>6</td>\n",
       "      <td>2018-11-29 08:26:00</td>\n",
       "      <td>2.55</td>\n",
       "      <td>17850.0</td>\n",
       "      <td>NaN</td>\n",
       "      <td>A</td>\n",
       "      <td>85123</td>\n",
       "    </tr>\n",
       "    <tr>\n",
       "      <th>1</th>\n",
       "      <td>536365</td>\n",
       "      <td>71053</td>\n",
       "      <td>white metal lantern</td>\n",
       "      <td>6</td>\n",
       "      <td>2018-11-29 08:26:00</td>\n",
       "      <td>3.39</td>\n",
       "      <td>17850.0</td>\n",
       "      <td>NaN</td>\n",
       "      <td></td>\n",
       "      <td>71053</td>\n",
       "    </tr>\n",
       "    <tr>\n",
       "      <th>2</th>\n",
       "      <td>536365</td>\n",
       "      <td>84406B</td>\n",
       "      <td>cream cupid hearts coat hanger</td>\n",
       "      <td>8</td>\n",
       "      <td>2018-11-29 08:26:00</td>\n",
       "      <td>2.75</td>\n",
       "      <td>17850.0</td>\n",
       "      <td>NaN</td>\n",
       "      <td>B</td>\n",
       "      <td>84406</td>\n",
       "    </tr>\n",
       "    <tr>\n",
       "      <th>3</th>\n",
       "      <td>536365</td>\n",
       "      <td>84029G</td>\n",
       "      <td>knitted union flag hot water bottle</td>\n",
       "      <td>6</td>\n",
       "      <td>2018-11-29 08:26:00</td>\n",
       "      <td>3.39</td>\n",
       "      <td>17850.0</td>\n",
       "      <td>NaN</td>\n",
       "      <td>G</td>\n",
       "      <td>84029</td>\n",
       "    </tr>\n",
       "    <tr>\n",
       "      <th>4</th>\n",
       "      <td>536365</td>\n",
       "      <td>84029E</td>\n",
       "      <td>red woolly hottie white heart.</td>\n",
       "      <td>6</td>\n",
       "      <td>2018-11-29 08:26:00</td>\n",
       "      <td>3.39</td>\n",
       "      <td>17850.0</td>\n",
       "      <td>NaN</td>\n",
       "      <td>E</td>\n",
       "      <td>84029</td>\n",
       "    </tr>\n",
       "  </tbody>\n",
       "</table>\n",
       "</div>"
      ],
      "text/plain": [
       "  invoiceno stockcode                          description  quantity  \\\n",
       "0    536365    85123A   white hanging heart t-light holder         6   \n",
       "1    536365     71053                  white metal lantern         6   \n",
       "2    536365    84406B       cream cupid hearts coat hanger         8   \n",
       "3    536365    84029G  knitted union flag hot water bottle         6   \n",
       "4    536365    84029E       red woolly hottie white heart.         6   \n",
       "\n",
       "          invoicedate  unitprice  customerid invoice_code stock_code  \\\n",
       "0 2018-11-29 08:26:00       2.55     17850.0          NaN          A   \n",
       "1 2018-11-29 08:26:00       3.39     17850.0          NaN              \n",
       "2 2018-11-29 08:26:00       2.75     17850.0          NaN          B   \n",
       "3 2018-11-29 08:26:00       3.39     17850.0          NaN          G   \n",
       "4 2018-11-29 08:26:00       3.39     17850.0          NaN          E   \n",
       "\n",
       "   stock_num  \n",
       "0      85123  \n",
       "1      71053  \n",
       "2      84406  \n",
       "3      84029  \n",
       "4      84029  "
      ]
     },
     "execution_count": 40,
     "metadata": {},
     "output_type": "execute_result"
    }
   ],
   "source": [
    "data.head()"
   ]
  },
  {
   "cell_type": "code",
   "execution_count": 41,
   "id": "42f1cf78",
   "metadata": {},
   "outputs": [
    {
     "name": "stdout",
     "output_type": "stream",
     "text": [
      "<class 'pandas.core.frame.DataFrame'>\n",
      "RangeIndex: 541799 entries, 0 to 541798\n",
      "Data columns (total 10 columns):\n",
      " #   Column        Non-Null Count   Dtype         \n",
      "---  ------        --------------   -----         \n",
      " 0   invoiceno     541799 non-null  object        \n",
      " 1   stockcode     541799 non-null  object        \n",
      " 2   description   541799 non-null  object        \n",
      " 3   quantity      541799 non-null  int64         \n",
      " 4   invoicedate   541799 non-null  datetime64[ns]\n",
      " 5   unitprice     541799 non-null  float64       \n",
      " 6   customerid    406829 non-null  float64       \n",
      " 7   invoice_code  9291 non-null    object        \n",
      " 8   stock_code    541799 non-null  object        \n",
      " 9   stock_num     539003 non-null  Int64         \n",
      "dtypes: Int64(1), datetime64[ns](1), float64(2), int64(1), object(5)\n",
      "memory usage: 41.9+ MB\n"
     ]
    }
   ],
   "source": [
    "data.info()"
   ]
  },
  {
   "cell_type": "markdown",
   "id": "31e0a3fc",
   "metadata": {},
   "source": [
    "Next we will try to fill `customerid` missing values"
   ]
  },
  {
   "cell_type": "code",
   "execution_count": 42,
   "id": "40226201",
   "metadata": {},
   "outputs": [],
   "source": [
    "data['customerid'] = data.groupby('invoiceno')['customerid'].transform(lambda grp: grp.fillna(grp.mode().max()))"
   ]
  },
  {
   "cell_type": "code",
   "execution_count": 43,
   "id": "553bbb13",
   "metadata": {},
   "outputs": [
    {
     "name": "stdout",
     "output_type": "stream",
     "text": [
      "<class 'pandas.core.frame.DataFrame'>\n",
      "RangeIndex: 541799 entries, 0 to 541798\n",
      "Data columns (total 10 columns):\n",
      " #   Column        Non-Null Count   Dtype         \n",
      "---  ------        --------------   -----         \n",
      " 0   invoiceno     541799 non-null  object        \n",
      " 1   stockcode     541799 non-null  object        \n",
      " 2   description   541799 non-null  object        \n",
      " 3   quantity      541799 non-null  int64         \n",
      " 4   invoicedate   541799 non-null  datetime64[ns]\n",
      " 5   unitprice     541799 non-null  float64       \n",
      " 6   customerid    406829 non-null  float64       \n",
      " 7   invoice_code  9291 non-null    object        \n",
      " 8   stock_code    541799 non-null  object        \n",
      " 9   stock_num     539003 non-null  Int64         \n",
      "dtypes: Int64(1), datetime64[ns](1), float64(2), int64(1), object(5)\n",
      "memory usage: 41.9+ MB\n"
     ]
    }
   ],
   "source": [
    "data.info()"
   ]
  },
  {
   "cell_type": "code",
   "execution_count": 44,
   "id": "4bfc5f3c",
   "metadata": {},
   "outputs": [
    {
     "data": {
      "text/plain": [
       "0.25"
      ]
     },
     "execution_count": 44,
     "metadata": {},
     "output_type": "execute_result"
    }
   ],
   "source": [
    "round(data[data['customerid'].isna()].shape[0]/data.shape[0],2)"
   ]
  },
  {
   "cell_type": "markdown",
   "id": "410fcbdb",
   "metadata": {},
   "source": [
    "We see that there wasn't any change in the number of missing values of `customerid` column, suggesting that these clients never signed up and created an account. We do not have any other variable that could help us fill the column, in which 25% of the values are missing, and the focus in this project is on the products being sold, so we will leave it that way."
   ]
  },
  {
   "cell_type": "markdown",
   "id": "f6349674",
   "metadata": {},
   "source": [
    "### Duplicates"
   ]
  },
  {
   "cell_type": "code",
   "execution_count": 45,
   "id": "ac53f330",
   "metadata": {},
   "outputs": [],
   "source": [
    "#dropping duplicated rows\n",
    "data = data.drop_duplicates(keep='first').reset_index(drop=True)"
   ]
  },
  {
   "cell_type": "code",
   "execution_count": 46,
   "id": "a044c28e",
   "metadata": {},
   "outputs": [
    {
     "data": {
      "text/plain": [
       "0"
      ]
     },
     "execution_count": 46,
     "metadata": {},
     "output_type": "execute_result"
    }
   ],
   "source": [
    "data.duplicated().sum()"
   ]
  },
  {
   "cell_type": "code",
   "execution_count": 47,
   "id": "c1bf7c5c",
   "metadata": {},
   "outputs": [
    {
     "name": "stdout",
     "output_type": "stream",
     "text": [
      "<class 'pandas.core.frame.DataFrame'>\n",
      "RangeIndex: 536531 entries, 0 to 536530\n",
      "Data columns (total 10 columns):\n",
      " #   Column        Non-Null Count   Dtype         \n",
      "---  ------        --------------   -----         \n",
      " 0   invoiceno     536531 non-null  object        \n",
      " 1   stockcode     536531 non-null  object        \n",
      " 2   description   536531 non-null  object        \n",
      " 3   quantity      536531 non-null  int64         \n",
      " 4   invoicedate   536531 non-null  datetime64[ns]\n",
      " 5   unitprice     536531 non-null  float64       \n",
      " 6   customerid    401604 non-null  float64       \n",
      " 7   invoice_code  9254 non-null    object        \n",
      " 8   stock_code    536531 non-null  object        \n",
      " 9   stock_num     533741 non-null  Int64         \n",
      "dtypes: Int64(1), datetime64[ns](1), float64(2), int64(1), object(5)\n",
      "memory usage: 41.4+ MB\n"
     ]
    }
   ],
   "source": [
    "data.info()"
   ]
  },
  {
   "cell_type": "markdown",
   "id": "aac26fa1",
   "metadata": {},
   "source": [
    "We ommited 5,268 duplicated rows and left with 536,531 rows in the dataset."
   ]
  },
  {
   "cell_type": "markdown",
   "id": "b105aa2f",
   "metadata": {},
   "source": [
    "In this part we changed column names and data types, investigated the meaning of the letters 'A' and 'C' in `invoicecode` column, adressed anomalies in `stockcode` and then filled missing values in `description` column, filtered out 110 rows in which the description, the customerid  were missing and the unitprice was zero; and in the last stage we dropped duplicated rows."
   ]
  },
  {
   "cell_type": "markdown",
   "id": "f75a3fb8",
   "metadata": {},
   "source": [
    "## Exploratory Data"
   ]
  },
  {
   "cell_type": "markdown",
   "id": "7131a7a8",
   "metadata": {},
   "source": [
    "After cleaning and processing the data, we will investigate now two variables that are important to further analysis: `quantity` and `unitprice`."
   ]
  },
  {
   "cell_type": "code",
   "execution_count": 48,
   "id": "df08c343",
   "metadata": {},
   "outputs": [],
   "source": [
    "def distribution_calculate(parameter):\n",
    "    print('The plot of: {}'.format(parameter))\n",
    "    sns.boxplot(y=data[parameter])\n",
    "    plt.show()\n",
    "    if data[parameter].mean()>data[parameter].median():\n",
    "        print('The distribution is skewed to the right')\n",
    "    else:\n",
    "        print('The distribution is skewed to the left')\n",
    "    print('---------------------------------------')\n",
    "    print('Statistics on: {}'.format(parameter))\n",
    "    print(data[parameter].describe())\n",
    "    ninety_nine = np.percentile(data[parameter], 99)\n",
    "    one = np.percentile(data[parameter], 1)\n",
    "    print('---------------------------------------')\n",
    "    print('minimun border that contains only the small 1% of the data:',one)\n",
    "    print('maximum border that contains 99% of the data:',ninety_nine)\n",
    "    print('---------------------------------------')\n",
    "    print('The outliers are considered to be values below',one, \"and above\",ninety_nine)\n",
    "    print('We have',len(data[(data[parameter]<one)|(data[parameter]>ninety_nine)]),\"values that we can consider as outliers, out of \", data.shape[0],\n",
    "          \"values. Meaning that outliers are\", round(len(data[(data[parameter]<one)|(data[parameter]>ninety_nine)])/data.shape[0],2), \"of the data.\")\n",
    "    print('---------------------------------------')\n",
    "    filter_parameter=(data[parameter]>one)&(data[parameter]<ninety_nine) #making a filter for the data without outliers\n",
    "    parameter_filtered =data[filter_parameter] #filtered data without outliers in specific variable\n",
    "    print(f'Accepting the cut of the extreme minimum and maximum 1% the data will contain information about {parameter_filtered.shape[0]} rows only.')\n",
    "    print('The plot of filtered {}: '.format(parameter))\n",
    "\n",
    "    sns.boxplot(y=parameter_filtered[parameter])\n",
    "    plt.show()\n",
    "    return filter_parameter, parameter_filtered "
   ]
  },
  {
   "cell_type": "code",
   "execution_count": 49,
   "id": "eab8eae2",
   "metadata": {},
   "outputs": [
    {
     "name": "stdout",
     "output_type": "stream",
     "text": [
      "The plot of: quantity\n"
     ]
    },
    {
     "data": {
      "image/png": "[encoded data removed]",
      "text/plain": [
       "<Figure size 432x288 with 1 Axes>"
      ]
     },
     "metadata": {
      "needs_background": "light"
     },
     "output_type": "display_data"
    },
    {
     "name": "stdout",
     "output_type": "stream",
     "text": [
      "The distribution is skewed to the right\n",
      "---------------------------------------\n",
      "Statistics on: quantity\n",
      "count    536531.000000\n",
      "mean          9.623718\n",
      "std         219.152347\n",
      "min      -80995.000000\n",
      "25%           1.000000\n",
      "50%           3.000000\n",
      "75%          10.000000\n",
      "max       80995.000000\n",
      "Name: quantity, dtype: float64\n",
      "---------------------------------------\n",
      "minimun border that contains only the small 1% of the data: -2.0\n",
      "maximum border that contains 99% of the data: 100.0\n",
      "---------------------------------------\n",
      "The outliers are considered to be values below -2.0 and above 100.0\n",
      "We have 9913 values that we can consider as outliers, out of  536531 values. Meaning that outliers are 0.02 of the data.\n",
      "---------------------------------------\n",
      "Accepting the cut of the extreme minimum and maximum 1% the data will contain information about 523419 rows only.\n",
      "The plot of filtered quantity: \n"
     ]
    },
    {
     "data": {
      "image/png": "[encoded data removed]",
      "text/plain": [
       "<Figure size 432x288 with 1 Axes>"
      ]
     },
     "metadata": {
      "needs_background": "light"
     },
     "output_type": "display_data"
    }
   ],
   "source": [
    "filtering_quantity, quantity_filtered = distribution_calculate ('quantity')"
   ]
  },
  {
   "cell_type": "code",
   "execution_count": 50,
   "id": "6d8db1cb",
   "metadata": {},
   "outputs": [
    {
     "data": {
      "text/plain": [
       "invoice_code\n",
       "A       3\n",
       "C    4084\n",
       "Name: invoiceno, dtype: int64"
      ]
     },
     "execution_count": 50,
     "metadata": {},
     "output_type": "execute_result"
    }
   ],
   "source": [
    "quantity_filtered.groupby('invoice_code')['invoiceno'].count()"
   ]
  },
  {
   "cell_type": "code",
   "execution_count": 51,
   "id": "b901484e",
   "metadata": {},
   "outputs": [
    {
     "data": {
      "text/plain": [
       "stock_code\n",
       "             470463\n",
       "A             12860\n",
       "AMAZONFEE        34\n",
       "B             13622\n",
       "BANK             37\n",
       "BL              382\n",
       "C              6577\n",
       "CRUK             16\n",
       "D              3797\n",
       "DCGS              9\n",
       "DCGSSBOY         11\n",
       "DCGSSGIRL        13\n",
       "DOT             709\n",
       "E              2229\n",
       "F              1870\n",
       "G              1507\n",
       "GIFT             34\n",
       "H               375\n",
       "I                13\n",
       "J               218\n",
       "K               429\n",
       "L              2304\n",
       "M               957\n",
       "N               684\n",
       "O                 5\n",
       "P               754\n",
       "PADS              4\n",
       "POST           1238\n",
       "R                81\n",
       "S              1758\n",
       "T                15\n",
       "U               163\n",
       "UNUSE             6\n",
       "V                48\n",
       "W               179\n",
       "Y                 8\n",
       "Z                10\n",
       "Name: invoiceno, dtype: int64"
      ]
     },
     "execution_count": 51,
     "metadata": {},
     "output_type": "execute_result"
    }
   ],
   "source": [
    "quantity_filtered.groupby('stock_code')['invoiceno'].count()"
   ]
  },
  {
   "cell_type": "markdown",
   "id": "7d640926",
   "metadata": {},
   "source": [
    "The percentile check of the quantity column showed that the minimum border is -2 items and the maximum border is 100 items. The filtering ommited almost half of the items marked with the letter 'C' in their invoice number, and only 6 out of 139 rows of damaged items are included and all other words that represented commissions or irrelevant notes were ommited, meaning that we filtered most of the incidents in which the row represents a non saleable item, irrelevant fee or item that was bought in a discount or returned to the store, were ommited."
   ]
  },
  {
   "cell_type": "code",
   "execution_count": 52,
   "id": "1bddb6bd",
   "metadata": {},
   "outputs": [
    {
     "name": "stdout",
     "output_type": "stream",
     "text": [
      "The plot of: unitprice\n"
     ]
    },
    {
     "data": {
      "image/png": "[encoded data removed]",
      "text/plain": [
       "<Figure size 432x288 with 1 Axes>"
      ]
     },
     "metadata": {
      "needs_background": "light"
     },
     "output_type": "display_data"
    },
    {
     "name": "stdout",
     "output_type": "stream",
     "text": [
      "The distribution is skewed to the right\n",
      "---------------------------------------\n",
      "Statistics on: unitprice\n",
      "count    536531.000000\n",
      "mean          4.633605\n",
      "std          97.243062\n",
      "min      -11062.060000\n",
      "25%           1.250000\n",
      "50%           2.080000\n",
      "75%           4.130000\n",
      "max       38970.000000\n",
      "Name: unitprice, dtype: float64\n",
      "---------------------------------------\n",
      "minimun border that contains only the small 1% of the data: 0.19\n",
      "maximum border that contains 99% of the data: 18.0\n",
      "---------------------------------------\n",
      "The outliers are considered to be values below 0.19 and above 18.0\n",
      "We have 8303 values that we can consider as outliers, out of  536531 values. Meaning that outliers are 0.02 of the data.\n",
      "---------------------------------------\n",
      "Accepting the cut of the extreme minimum and maximum 1% the data will contain information about 525631 rows only.\n",
      "The plot of filtered unitprice: \n"
     ]
    },
    {
     "data": {
      "image/png": "[encoded data removed]",
      "text/plain": [
       "<Figure size 432x288 with 1 Axes>"
      ]
     },
     "metadata": {
      "needs_background": "light"
     },
     "output_type": "display_data"
    }
   ],
   "source": [
    "filtering_price, price_filtered = distribution_calculate ('unitprice')"
   ]
  },
  {
   "cell_type": "code",
   "execution_count": 53,
   "id": "8c3e9d79",
   "metadata": {},
   "outputs": [
    {
     "data": {
      "text/plain": [
       "invoice_code\n",
       "C    8774\n",
       "Name: invoiceno, dtype: int64"
      ]
     },
     "execution_count": 53,
     "metadata": {},
     "output_type": "execute_result"
    }
   ],
   "source": [
    "price_filtered.groupby('invoice_code')['invoiceno'].count()"
   ]
  },
  {
   "cell_type": "code",
   "execution_count": 54,
   "id": "f7843864",
   "metadata": {},
   "outputs": [
    {
     "data": {
      "text/plain": [
       "stock_code\n",
       "             474581\n",
       "A             12750\n",
       "AMAZONFEE         1\n",
       "B             13864\n",
       "BANK             11\n",
       "BL              388\n",
       "C              6511\n",
       "CRUK              3\n",
       "D              3743\n",
       "DCGS              9\n",
       "DCGSSBOY         11\n",
       "DCGSSGIRL        13\n",
       "DOT              15\n",
       "E              2239\n",
       "F              1930\n",
       "G              1488\n",
       "GIFT             17\n",
       "H               376\n",
       "I                13\n",
       "J               219\n",
       "K               432\n",
       "L              2362\n",
       "M               731\n",
       "N               692\n",
       "O                 5\n",
       "P               762\n",
       "POST            244\n",
       "R                86\n",
       "S              1731\n",
       "T                15\n",
       "U               165\n",
       "V                23\n",
       "W               183\n",
       "Y                 8\n",
       "Z                10\n",
       "Name: invoiceno, dtype: int64"
      ]
     },
     "execution_count": 54,
     "metadata": {},
     "output_type": "execute_result"
    }
   ],
   "source": [
    "price_filtered.groupby('stock_code')['invoiceno'].count()"
   ]
  },
  {
   "cell_type": "markdown",
   "id": "cd585b75",
   "metadata": {},
   "source": [
    "The percentile check of the price column showed that the minimum border is 0.19 USD per item and the maximum border is 18 USD per item. The filtering ommited all the items marked with the letter 'A' in their invoice number - these items represented an adjustment of a wrongly typed sum, and almost third of the items marked with 'C' which represented items that were returned or were in discount.Filtering the price left only the letters that we suggested representing regular items, thus reducing the noise that all rows that did not represent a sale added to the variable."
   ]
  },
  {
   "cell_type": "code",
   "execution_count": 55,
   "id": "4d151949",
   "metadata": {},
   "outputs": [
    {
     "name": "stdout",
     "output_type": "stream",
     "text": [
      "0.96\n"
     ]
    }
   ],
   "source": [
    "#Checking if the filtering of the quantity and price, leads to small data compared to the original data\n",
    "filtered_data= pd.concat([quantity_filtered,price_filtered], axis=1, join=\"inner\").reset_index(drop=True)\n",
    "filtered_data = filtered_data.iloc[:,0:10]\n",
    "print(round(filtered_data.shape[0]/data.shape[0],2))\n",
    "#We still have 96% of the data so it's ok"
   ]
  },
  {
   "cell_type": "markdown",
   "id": "1d5ae41d",
   "metadata": {},
   "source": [
    "Additionally, we decided to ommit data from not whole months so the data will include only one complete year.\n",
    "we will ommit data before December 2018 and after November 2019."
   ]
  },
  {
   "cell_type": "code",
   "execution_count": 56,
   "id": "2c7242a9",
   "metadata": {},
   "outputs": [],
   "source": [
    "#creating day and week variables\n",
    "filtered_data['date'] = pd.to_datetime(filtered_data['invoicedate'], format='%Y-%m-%d').dt.date\n",
    "filtered_data['week']=filtered_data['invoicedate'].dt.isocalendar().week\n",
    "filtered_data['month'] = filtered_data['invoicedate'].dt.to_period('M')\n",
    "filtered_data['year'] = filtered_data['invoicedate'].dt.year\n"
   ]
  },
  {
   "cell_type": "code",
   "execution_count": 57,
   "id": "ae9ad7c3",
   "metadata": {},
   "outputs": [],
   "source": [
    "filtered_data = filtered_data[(filtered_data['invoicedate'] >= \"2018-12-01\") & (filtered_data['invoicedate'] < \"2019-12-01\")]"
   ]
  },
  {
   "cell_type": "code",
   "execution_count": 58,
   "id": "deaddc78",
   "metadata": {},
   "outputs": [
    {
     "data": {
      "text/plain": [
       "490421"
      ]
     },
     "execution_count": 58,
     "metadata": {},
     "output_type": "execute_result"
    }
   ],
   "source": [
    "filtered_data.shape[0]"
   ]
  },
  {
   "cell_type": "code",
   "execution_count": 59,
   "id": "040ece45",
   "metadata": {},
   "outputs": [
    {
     "data": {
      "text/html": [
       "<div>\n",
       "<style scoped>\n",
       "    .dataframe tbody tr th:only-of-type {\n",
       "        vertical-align: middle;\n",
       "    }\n",
       "\n",
       "    .dataframe tbody tr th {\n",
       "        vertical-align: top;\n",
       "    }\n",
       "\n",
       "    .dataframe thead th {\n",
       "        text-align: right;\n",
       "    }\n",
       "</style>\n",
       "<table border=\"1\" class=\"dataframe\">\n",
       "  <thead>\n",
       "    <tr style=\"text-align: right;\">\n",
       "      <th></th>\n",
       "      <th>invoiceno</th>\n",
       "      <th>stockcode</th>\n",
       "      <th>description</th>\n",
       "      <th>quantity</th>\n",
       "      <th>invoicedate</th>\n",
       "      <th>unitprice</th>\n",
       "      <th>customerid</th>\n",
       "      <th>invoice_code</th>\n",
       "      <th>stock_code</th>\n",
       "      <th>stock_num</th>\n",
       "      <th>date</th>\n",
       "      <th>week</th>\n",
       "      <th>month</th>\n",
       "      <th>year</th>\n",
       "    </tr>\n",
       "  </thead>\n",
       "  <tbody>\n",
       "    <tr>\n",
       "      <th>4946</th>\n",
       "      <td>536847</td>\n",
       "      <td>22155</td>\n",
       "      <td>star decoration rustic</td>\n",
       "      <td>48</td>\n",
       "      <td>2018-12-01 09:31:00</td>\n",
       "      <td>0.42</td>\n",
       "      <td>17135.0</td>\n",
       "      <td>NaN</td>\n",
       "      <td></td>\n",
       "      <td>22155</td>\n",
       "      <td>2018-12-01</td>\n",
       "      <td>48</td>\n",
       "      <td>2018-12</td>\n",
       "      <td>2018</td>\n",
       "    </tr>\n",
       "    <tr>\n",
       "      <th>4947</th>\n",
       "      <td>536847</td>\n",
       "      <td>21807</td>\n",
       "      <td>white christmas star decoration</td>\n",
       "      <td>36</td>\n",
       "      <td>2018-12-01 09:31:00</td>\n",
       "      <td>0.42</td>\n",
       "      <td>17135.0</td>\n",
       "      <td>NaN</td>\n",
       "      <td></td>\n",
       "      <td>21807</td>\n",
       "      <td>2018-12-01</td>\n",
       "      <td>48</td>\n",
       "      <td>2018-12</td>\n",
       "      <td>2018</td>\n",
       "    </tr>\n",
       "    <tr>\n",
       "      <th>4948</th>\n",
       "      <td>536847</td>\n",
       "      <td>22161</td>\n",
       "      <td>heart decoration rustic hanging</td>\n",
       "      <td>24</td>\n",
       "      <td>2018-12-01 09:31:00</td>\n",
       "      <td>0.65</td>\n",
       "      <td>17135.0</td>\n",
       "      <td>NaN</td>\n",
       "      <td></td>\n",
       "      <td>22161</td>\n",
       "      <td>2018-12-01</td>\n",
       "      <td>48</td>\n",
       "      <td>2018-12</td>\n",
       "      <td>2018</td>\n",
       "    </tr>\n",
       "    <tr>\n",
       "      <th>4949</th>\n",
       "      <td>536847</td>\n",
       "      <td>22065</td>\n",
       "      <td>christmas pudding trinket pot</td>\n",
       "      <td>24</td>\n",
       "      <td>2018-12-01 09:31:00</td>\n",
       "      <td>1.45</td>\n",
       "      <td>17135.0</td>\n",
       "      <td>NaN</td>\n",
       "      <td></td>\n",
       "      <td>22065</td>\n",
       "      <td>2018-12-01</td>\n",
       "      <td>48</td>\n",
       "      <td>2018-12</td>\n",
       "      <td>2018</td>\n",
       "    </tr>\n",
       "    <tr>\n",
       "      <th>4950</th>\n",
       "      <td>536847</td>\n",
       "      <td>20956</td>\n",
       "      <td>porcelain t-light holders assorted</td>\n",
       "      <td>12</td>\n",
       "      <td>2018-12-01 09:31:00</td>\n",
       "      <td>1.25</td>\n",
       "      <td>17135.0</td>\n",
       "      <td>NaN</td>\n",
       "      <td></td>\n",
       "      <td>20956</td>\n",
       "      <td>2018-12-01</td>\n",
       "      <td>48</td>\n",
       "      <td>2018-12</td>\n",
       "      <td>2018</td>\n",
       "    </tr>\n",
       "  </tbody>\n",
       "</table>\n",
       "</div>"
      ],
      "text/plain": [
       "     invoiceno stockcode                         description  quantity  \\\n",
       "4946    536847     22155              star decoration rustic        48   \n",
       "4947    536847     21807     white christmas star decoration        36   \n",
       "4948    536847     22161    heart decoration rustic hanging         24   \n",
       "4949    536847     22065      christmas pudding trinket pot         24   \n",
       "4950    536847     20956  porcelain t-light holders assorted        12   \n",
       "\n",
       "             invoicedate  unitprice  customerid invoice_code stock_code  \\\n",
       "4946 2018-12-01 09:31:00       0.42     17135.0          NaN              \n",
       "4947 2018-12-01 09:31:00       0.42     17135.0          NaN              \n",
       "4948 2018-12-01 09:31:00       0.65     17135.0          NaN              \n",
       "4949 2018-12-01 09:31:00       1.45     17135.0          NaN              \n",
       "4950 2018-12-01 09:31:00       1.25     17135.0          NaN              \n",
       "\n",
       "      stock_num        date  week    month  year  \n",
       "4946      22155  2018-12-01    48  2018-12  2018  \n",
       "4947      21807  2018-12-01    48  2018-12  2018  \n",
       "4948      22161  2018-12-01    48  2018-12  2018  \n",
       "4949      22065  2018-12-01    48  2018-12  2018  \n",
       "4950      20956  2018-12-01    48  2018-12  2018  "
      ]
     },
     "execution_count": 59,
     "metadata": {},
     "output_type": "execute_result"
    }
   ],
   "source": [
    "filtered_data.head()"
   ]
  },
  {
   "cell_type": "code",
   "execution_count": 60,
   "id": "80a485c4",
   "metadata": {},
   "outputs": [
    {
     "data": {
      "text/html": [
       "<div>\n",
       "<style scoped>\n",
       "    .dataframe tbody tr th:only-of-type {\n",
       "        vertical-align: middle;\n",
       "    }\n",
       "\n",
       "    .dataframe tbody tr th {\n",
       "        vertical-align: top;\n",
       "    }\n",
       "\n",
       "    .dataframe thead th {\n",
       "        text-align: right;\n",
       "    }\n",
       "</style>\n",
       "<table border=\"1\" class=\"dataframe\">\n",
       "  <thead>\n",
       "    <tr style=\"text-align: right;\">\n",
       "      <th></th>\n",
       "      <th>quantity</th>\n",
       "      <th>unitprice</th>\n",
       "      <th>customerid</th>\n",
       "      <th>stock_num</th>\n",
       "      <th>week</th>\n",
       "      <th>year</th>\n",
       "    </tr>\n",
       "  </thead>\n",
       "  <tbody>\n",
       "    <tr>\n",
       "      <th>count</th>\n",
       "      <td>490421.000000</td>\n",
       "      <td>490421.000000</td>\n",
       "      <td>368805.000000</td>\n",
       "      <td>489838.000000</td>\n",
       "      <td>490421.000000</td>\n",
       "      <td>490421.000000</td>\n",
       "    </tr>\n",
       "    <tr>\n",
       "      <th>mean</th>\n",
       "      <td>7.581260</td>\n",
       "      <td>3.153611</td>\n",
       "      <td>15287.247567</td>\n",
       "      <td>31510.922217</td>\n",
       "      <td>29.966186</td>\n",
       "      <td>2018.928054</td>\n",
       "    </tr>\n",
       "    <tr>\n",
       "      <th>std</th>\n",
       "      <td>11.224085</td>\n",
       "      <td>2.966785</td>\n",
       "      <td>1709.434370</td>\n",
       "      <td>21467.418269</td>\n",
       "      <td>14.997111</td>\n",
       "      <td>0.258399</td>\n",
       "    </tr>\n",
       "    <tr>\n",
       "      <th>min</th>\n",
       "      <td>-1.000000</td>\n",
       "      <td>0.200000</td>\n",
       "      <td>12347.000000</td>\n",
       "      <td>1.000000</td>\n",
       "      <td>1.000000</td>\n",
       "      <td>2018.000000</td>\n",
       "    </tr>\n",
       "    <tr>\n",
       "      <th>25%</th>\n",
       "      <td>1.000000</td>\n",
       "      <td>1.250000</td>\n",
       "      <td>13959.000000</td>\n",
       "      <td>21976.000000</td>\n",
       "      <td>17.000000</td>\n",
       "      <td>2019.000000</td>\n",
       "    </tr>\n",
       "    <tr>\n",
       "      <th>50%</th>\n",
       "      <td>3.000000</td>\n",
       "      <td>2.100000</td>\n",
       "      <td>15157.000000</td>\n",
       "      <td>22639.000000</td>\n",
       "      <td>33.000000</td>\n",
       "      <td>2019.000000</td>\n",
       "    </tr>\n",
       "    <tr>\n",
       "      <th>75%</th>\n",
       "      <td>10.000000</td>\n",
       "      <td>4.130000</td>\n",
       "      <td>16782.000000</td>\n",
       "      <td>23283.000000</td>\n",
       "      <td>44.000000</td>\n",
       "      <td>2019.000000</td>\n",
       "    </tr>\n",
       "    <tr>\n",
       "      <th>max</th>\n",
       "      <td>99.000000</td>\n",
       "      <td>17.880000</td>\n",
       "      <td>18287.000000</td>\n",
       "      <td>90214.000000</td>\n",
       "      <td>51.000000</td>\n",
       "      <td>2019.000000</td>\n",
       "    </tr>\n",
       "  </tbody>\n",
       "</table>\n",
       "</div>"
      ],
      "text/plain": [
       "            quantity      unitprice     customerid      stock_num  \\\n",
       "count  490421.000000  490421.000000  368805.000000  489838.000000   \n",
       "mean        7.581260       3.153611   15287.247567   31510.922217   \n",
       "std        11.224085       2.966785    1709.434370   21467.418269   \n",
       "min        -1.000000       0.200000   12347.000000       1.000000   \n",
       "25%         1.000000       1.250000   13959.000000   21976.000000   \n",
       "50%         3.000000       2.100000   15157.000000   22639.000000   \n",
       "75%        10.000000       4.130000   16782.000000   23283.000000   \n",
       "max        99.000000      17.880000   18287.000000   90214.000000   \n",
       "\n",
       "                week           year  \n",
       "count  490421.000000  490421.000000  \n",
       "mean       29.966186    2018.928054  \n",
       "std        14.997111       0.258399  \n",
       "min         1.000000    2018.000000  \n",
       "25%        17.000000    2019.000000  \n",
       "50%        33.000000    2019.000000  \n",
       "75%        44.000000    2019.000000  \n",
       "max        51.000000    2019.000000  "
      ]
     },
     "execution_count": 60,
     "metadata": {},
     "output_type": "execute_result"
    }
   ],
   "source": [
    "filtered_data.describe()"
   ]
  },
  {
   "cell_type": "code",
   "execution_count": 61,
   "id": "1de8c417",
   "metadata": {},
   "outputs": [
    {
     "name": "stdout",
     "output_type": "stream",
     "text": [
      "<class 'pandas.core.frame.DataFrame'>\n",
      "Int64Index: 490421 entries, 4946 to 495366\n",
      "Data columns (total 14 columns):\n",
      " #   Column        Non-Null Count   Dtype         \n",
      "---  ------        --------------   -----         \n",
      " 0   invoiceno     490421 non-null  object        \n",
      " 1   stockcode     490421 non-null  object        \n",
      " 2   description   490421 non-null  object        \n",
      " 3   quantity      490421 non-null  int64         \n",
      " 4   invoicedate   490421 non-null  datetime64[ns]\n",
      " 5   unitprice     490421 non-null  float64       \n",
      " 6   customerid    368805 non-null  float64       \n",
      " 7   invoice_code  3565 non-null    object        \n",
      " 8   stock_code    490421 non-null  object        \n",
      " 9   stock_num     489838 non-null  Int64         \n",
      " 10  date          490421 non-null  object        \n",
      " 11  week          490421 non-null  UInt32        \n",
      " 12  month         490421 non-null  period[M]     \n",
      " 13  year          490421 non-null  int64         \n",
      "dtypes: Int64(1), UInt32(1), datetime64[ns](1), float64(2), int64(2), object(6), period[M](1)\n",
      "memory usage: 55.2+ MB\n"
     ]
    }
   ],
   "source": [
    "filtered_data.info()"
   ]
  },
  {
   "cell_type": "code",
   "execution_count": 62,
   "id": "a5b4b904",
   "metadata": {},
   "outputs": [
    {
     "data": {
      "text/plain": [
       "stock_num\n",
       "1         16\n",
       "2          2\n",
       "3          4\n",
       "4          1\n",
       "69         1\n",
       "        ... \n",
       "90209     87\n",
       "90210     28\n",
       "90211     12\n",
       "90212     11\n",
       "90214    500\n",
       "Name: invoiceno, Length: 3252, dtype: int64"
      ]
     },
     "execution_count": 62,
     "metadata": {},
     "output_type": "execute_result"
    }
   ],
   "source": [
    "filtered_data.groupby('stock_num')['invoiceno'].count()"
   ]
  },
  {
   "cell_type": "code",
   "execution_count": 63,
   "id": "1fb76219",
   "metadata": {},
   "outputs": [
    {
     "data": {
      "text/html": [
       "<div>\n",
       "<style scoped>\n",
       "    .dataframe tbody tr th:only-of-type {\n",
       "        vertical-align: middle;\n",
       "    }\n",
       "\n",
       "    .dataframe tbody tr th {\n",
       "        vertical-align: top;\n",
       "    }\n",
       "\n",
       "    .dataframe thead th {\n",
       "        text-align: right;\n",
       "    }\n",
       "</style>\n",
       "<table border=\"1\" class=\"dataframe\">\n",
       "  <thead>\n",
       "    <tr style=\"text-align: right;\">\n",
       "      <th></th>\n",
       "      <th>invoiceno</th>\n",
       "      <th>stockcode</th>\n",
       "      <th>description</th>\n",
       "      <th>quantity</th>\n",
       "      <th>invoicedate</th>\n",
       "      <th>unitprice</th>\n",
       "      <th>customerid</th>\n",
       "      <th>invoice_code</th>\n",
       "      <th>stock_code</th>\n",
       "      <th>stock_num</th>\n",
       "      <th>date</th>\n",
       "      <th>week</th>\n",
       "      <th>month</th>\n",
       "      <th>year</th>\n",
       "    </tr>\n",
       "  </thead>\n",
       "  <tbody>\n",
       "  </tbody>\n",
       "</table>\n",
       "</div>"
      ],
      "text/plain": [
       "Empty DataFrame\n",
       "Columns: [invoiceno, stockcode, description, quantity, invoicedate, unitprice, customerid, invoice_code, stock_code, stock_num, date, week, month, year]\n",
       "Index: []"
      ]
     },
     "execution_count": 63,
     "metadata": {},
     "output_type": "execute_result"
    }
   ],
   "source": [
    "filtered_data.query('stock_num==\"S\"')"
   ]
  },
  {
   "cell_type": "code",
   "execution_count": 64,
   "id": "a2525e8c",
   "metadata": {},
   "outputs": [
    {
     "data": {
      "text/html": [
       "<div>\n",
       "<style scoped>\n",
       "    .dataframe tbody tr th:only-of-type {\n",
       "        vertical-align: middle;\n",
       "    }\n",
       "\n",
       "    .dataframe tbody tr th {\n",
       "        vertical-align: top;\n",
       "    }\n",
       "\n",
       "    .dataframe thead th {\n",
       "        text-align: right;\n",
       "    }\n",
       "</style>\n",
       "<table border=\"1\" class=\"dataframe\">\n",
       "  <thead>\n",
       "    <tr style=\"text-align: right;\">\n",
       "      <th></th>\n",
       "      <th>quantity</th>\n",
       "      <th>unitprice</th>\n",
       "    </tr>\n",
       "  </thead>\n",
       "  <tbody>\n",
       "    <tr>\n",
       "      <th>count</th>\n",
       "      <td>490421.000000</td>\n",
       "      <td>490421.000000</td>\n",
       "    </tr>\n",
       "    <tr>\n",
       "      <th>mean</th>\n",
       "      <td>7.581260</td>\n",
       "      <td>3.153611</td>\n",
       "    </tr>\n",
       "    <tr>\n",
       "      <th>std</th>\n",
       "      <td>11.224085</td>\n",
       "      <td>2.966785</td>\n",
       "    </tr>\n",
       "    <tr>\n",
       "      <th>min</th>\n",
       "      <td>-1.000000</td>\n",
       "      <td>0.200000</td>\n",
       "    </tr>\n",
       "    <tr>\n",
       "      <th>25%</th>\n",
       "      <td>1.000000</td>\n",
       "      <td>1.250000</td>\n",
       "    </tr>\n",
       "    <tr>\n",
       "      <th>50%</th>\n",
       "      <td>3.000000</td>\n",
       "      <td>2.100000</td>\n",
       "    </tr>\n",
       "    <tr>\n",
       "      <th>75%</th>\n",
       "      <td>10.000000</td>\n",
       "      <td>4.130000</td>\n",
       "    </tr>\n",
       "    <tr>\n",
       "      <th>max</th>\n",
       "      <td>99.000000</td>\n",
       "      <td>17.880000</td>\n",
       "    </tr>\n",
       "  </tbody>\n",
       "</table>\n",
       "</div>"
      ],
      "text/plain": [
       "            quantity      unitprice\n",
       "count  490421.000000  490421.000000\n",
       "mean        7.581260       3.153611\n",
       "std        11.224085       2.966785\n",
       "min        -1.000000       0.200000\n",
       "25%         1.000000       1.250000\n",
       "50%         3.000000       2.100000\n",
       "75%        10.000000       4.130000\n",
       "max        99.000000      17.880000"
      ]
     },
     "execution_count": 64,
     "metadata": {},
     "output_type": "execute_result"
    }
   ],
   "source": [
    "filtered_data[['quantity','unitprice']].describe()"
   ]
  },
  {
   "cell_type": "code",
   "execution_count": 65,
   "id": "be55eca3",
   "metadata": {},
   "outputs": [
    {
     "data": {
      "text/html": [
       "<div>\n",
       "<style scoped>\n",
       "    .dataframe tbody tr th:only-of-type {\n",
       "        vertical-align: middle;\n",
       "    }\n",
       "\n",
       "    .dataframe tbody tr th {\n",
       "        vertical-align: top;\n",
       "    }\n",
       "\n",
       "    .dataframe thead th {\n",
       "        text-align: right;\n",
       "    }\n",
       "</style>\n",
       "<table border=\"1\" class=\"dataframe\">\n",
       "  <thead>\n",
       "    <tr style=\"text-align: right;\">\n",
       "      <th></th>\n",
       "      <th>quantity</th>\n",
       "      <th>unitprice</th>\n",
       "    </tr>\n",
       "  </thead>\n",
       "  <tbody>\n",
       "    <tr>\n",
       "      <th>quantity</th>\n",
       "      <td>1.000000</td>\n",
       "      <td>-0.261314</td>\n",
       "    </tr>\n",
       "    <tr>\n",
       "      <th>unitprice</th>\n",
       "      <td>-0.261314</td>\n",
       "      <td>1.000000</td>\n",
       "    </tr>\n",
       "  </tbody>\n",
       "</table>\n",
       "</div>"
      ],
      "text/plain": [
       "           quantity  unitprice\n",
       "quantity   1.000000  -0.261314\n",
       "unitprice -0.261314   1.000000"
      ]
     },
     "execution_count": 65,
     "metadata": {},
     "output_type": "execute_result"
    }
   ],
   "source": [
    "filtered_data[['quantity','unitprice']].corr()"
   ]
  },
  {
   "cell_type": "code",
   "execution_count": 66,
   "id": "ca2aabc4",
   "metadata": {},
   "outputs": [
    {
     "data": {
      "image/png": "[encoded data removed]",
      "text/plain": [
       "<Figure size 576x360 with 1 Axes>"
      ]
     },
     "metadata": {
      "needs_background": "light"
     },
     "output_type": "display_data"
    }
   ],
   "source": [
    "fig=plt.figure(figsize=(8,5))\n",
    "sns.scatterplot(data=filtered_data, x=\"unitprice\", y=\"quantity\")\n",
    "plt.title('Relationship between quantity and price per item')\n",
    "plt.xlabel('Price')\n",
    "plt.ylabel('Quantity')\n",
    "plt.show()"
   ]
  },
  {
   "cell_type": "markdown",
   "id": "f38ff1fa",
   "metadata": {},
   "source": [
    "Now we see that the variance of each variable is much smaller, and there is a moderate negative relationship between quantity and price. For each increase of price by one unit size, the quantity decrease by 0.26 unit sizes. \n",
    "This relationship is logical since customers can buy more units of item if its' price is lower, and less units if the price is higher. Next, we will see if this correlation is steady over time."
   ]
  },
  {
   "cell_type": "code",
   "execution_count": 67,
   "id": "2596235a",
   "metadata": {},
   "outputs": [],
   "source": [
    "corr_by_dt = filtered_data.groupby('month')[['quantity', 'unitprice']].corr().unstack()['quantity']['unitprice']\n",
    "#corr_by_dt"
   ]
  },
  {
   "cell_type": "code",
   "execution_count": 68,
   "id": "ddb1b544",
   "metadata": {},
   "outputs": [
    {
     "data": {
      "image/png": "[encoded data removed]",
      "text/plain": [
       "<Figure size 576x360 with 1 Axes>"
      ]
     },
     "metadata": {
      "needs_background": "light"
     },
     "output_type": "display_data"
    }
   ],
   "source": [
    "corr_by_dt = filtered_data.groupby('month')[['quantity', 'unitprice']].corr().unstack()['quantity']['unitprice']\n",
    "fig=plt.figure(figsize=(8,5))\n",
    "plt.plot(corr_by_dt.index.to_timestamp(), corr_by_dt.values)\n",
    "plt.xlabel('Date')\n",
    "plt.ylabel('Correlation coefficient')\n",
    "plt.title('Correlation between quantity and price over time')\n",
    "plt.show()"
   ]
  },
  {
   "cell_type": "markdown",
   "id": "694cff6b",
   "metadata": {},
   "source": [
    " The correaltion between quantity and price is always negative in our database but it is changing and varies from around -0.28 on February and April 19' to -0.24 on December 18' and even -0.22 on November 19'.\n",
    "From October 19' we see a positive trend, that represents less negative relationship between the variables. Since we know that on November and December there are holidays and many sale days as Black Friday, Singles' Day and Christmes in which customers may be inclined to buy more items even if they are more expensive.\n",
    "Now we will see if this assumption is true and customers indeed spend more on items in some months.\n",
    "Since our data includes some items marked with the letter 'C' that may affect the result, we'll plot all the lines - the total, the 'C' marked invoices and those who don't together."
   ]
  },
  {
   "cell_type": "code",
   "execution_count": 69,
   "id": "00782366",
   "metadata": {},
   "outputs": [],
   "source": [
    "filtered_data['total']=filtered_data['quantity']*filtered_data['unitprice']"
   ]
  },
  {
   "cell_type": "code",
   "execution_count": 70,
   "id": "6c2239f0",
   "metadata": {},
   "outputs": [],
   "source": [
    "avg_total_by_mnth = filtered_data.groupby('month')['total'].mean()\n",
    "avg_agg=avg_total_by_mnth.mean()\n",
    "\n",
    "data_c = filtered_data.query('invoice_code==\"C\"').reset_index(drop=True)\n",
    "avg_total_by_mnth_c = data_c.groupby('month')['total'].mean()\n",
    "avg_agg_c=avg_total_by_mnth_c.mean()\n",
    "\n",
    "data_wo_c = filtered_data.query('invoice_code!=\"C\"').reset_index(drop=True)\n",
    "avg_total_by_mnth_wo_c = data_wo_c.groupby('month')['total'].mean()\n",
    "avg_agg_wo_c=avg_total_by_mnth_wo_c.mean()"
   ]
  },
  {
   "cell_type": "code",
   "execution_count": 71,
   "id": "4da9fe8d",
   "metadata": {},
   "outputs": [
    {
     "data": {
      "image/png": "[encoded data removed]",
      "text/plain": [
       "<Figure size 504x360 with 1 Axes>"
      ]
     },
     "metadata": {
      "needs_background": "light"
     },
     "output_type": "display_data"
    }
   ],
   "source": [
    "fig=plt.figure(figsize=(7,5))\n",
    "plt.plot(avg_total_by_mnth.index.to_timestamp(), avg_total_by_mnth.values)\n",
    "plt.xlabel('Month')\n",
    "plt.ylabel('Total spend per item')\n",
    "plt.title('Average total spend on item over time')\n",
    "plt.axhline(y=avg_agg, color='r', linestyle='dashed', linewidth=1)\n",
    "\n",
    "plt.show()"
   ]
  },
  {
   "cell_type": "code",
   "execution_count": 72,
   "id": "44c19473",
   "metadata": {},
   "outputs": [
    {
     "data": {
      "image/png": "[encoded data removed]",
      "text/plain": [
       "<Figure size 648x504 with 1 Axes>"
      ]
     },
     "metadata": {
      "needs_background": "light"
     },
     "output_type": "display_data"
    }
   ],
   "source": [
    "fig=plt.figure(figsize=(9,7))\n",
    "avg_total_by_mnth.plot(kind='line', x='month', y='total', color='blue', label='All')\n",
    "avg_total_by_mnth_c.plot(kind='line', x='month', y='total', color='red', label='C')\n",
    "avg_total_by_mnth_wo_c.plot(kind='line', x='month', y='total', color='green', label='Not C')\n",
    "plt.xlabel('Month')\n",
    "plt.ylabel('Total spend per item')\n",
    "plt.title('Average total spend on item over time')\n",
    "plt.legend()\n",
    "plt.show()"
   ]
  },
  {
   "cell_type": "markdown",
   "id": "43eeee84",
   "metadata": {},
   "source": [
    "Customers spend in average 15.5 USD per item overall, but we see that this is changing through the year - on January, April, June, July, October and november 19' they spend a bit less; and on the other months they spend up to one dollar more per item type. When we take into account the different invoices and check how the 'C' marked items, that represent refunds or some discounts, may affect the results, we see almost reversed line between the red line and the blue and green ones. Based on the fact that the blue (all the data) and the green (items that werent marked with 'C') are similar in their patterns and very close to each other,we conclude that the 'C' group is not affecting the results that much and we can use the dataset as a whole."
   ]
  },
  {
   "cell_type": "code",
   "execution_count": 73,
   "id": "acc78e8b",
   "metadata": {},
   "outputs": [
    {
     "data": {
      "image/png": "[encoded data removed]",
      "text/plain": [
       "<Figure size 576x360 with 1 Axes>"
      ]
     },
     "metadata": {
      "needs_background": "light"
     },
     "output_type": "display_data"
    }
   ],
   "source": [
    "total_by_mnth = filtered_data.groupby('month')['total'].sum()\n",
    "avg_total=total_by_mnth.mean()\n",
    "fig=plt.figure(figsize=(8,5))\n",
    "plt.plot(total_by_mnth.index.to_timestamp(), total_by_mnth.values)\n",
    "plt.xlabel('Month')\n",
    "plt.ylabel('Total spend')\n",
    "plt.title('Monthly total spend over time')\n",
    "plt.axhline(y=avg_total, color='r', linestyle='dashed', linewidth=1)\n",
    "plt.show()"
   ]
  },
  {
   "cell_type": "markdown",
   "id": "17d1df90",
   "metadata": {},
   "source": [
    "Overall, the monthly revenue is 621476 USD, while we can see that from August to November 2019 the revenue increases to a double amount that compensate on the total sums of the earlier months."
   ]
  },
  {
   "cell_type": "markdown",
   "id": "698236e6",
   "metadata": {},
   "source": [
    "To sum up, we see that closer to the end of the year the negative correlation between quantity and price is getting smaller,the average spend on item is smaller, but the total monthly spend is higher. We suggest that the positive change in the negative correlation between the variables over time is not because customers buy more expensive items, or buy less cheap ones, but they simply buy bigger variety  and higher amounts of items that results in higher total spend. "
   ]
  },
  {
   "cell_type": "markdown",
   "id": "a851bb5f",
   "metadata": {},
   "source": [
    "### Finding Best sellers and least selling items\n",
    "We will create a list of all unique items with information about their quantity, price and total revenue in order to find the best and least sellers and the most profitable items.\n",
    "Since we learned that the letters in the stock codes represent some variations in the item - like color or shape, we will ignore them and use the numerical code, in order to generalize our conclusions."
   ]
  },
  {
   "cell_type": "code",
   "execution_count": 74,
   "id": "daad9c1b",
   "metadata": {},
   "outputs": [],
   "source": [
    "#creating series of stock_num and most frequent description\n",
    "items = filtered_data.groupby('stock_num')['description'].apply(lambda x: x.value_counts().idxmax())"
   ]
  },
  {
   "cell_type": "code",
   "execution_count": 75,
   "id": "2640b921",
   "metadata": {},
   "outputs": [
    {
     "data": {
      "text/plain": [
       "stock_num\n",
       "10133     colouring pencils brown tube\n",
       "10135     colouring pencils brown tube\n",
       "20835    french lattice cushion cover \n",
       "20837     french floral cushion cover \n",
       "20838    french lattice cushion cover \n",
       "20840     french floral cushion cover \n",
       "40001      white bamboo ribs lampshade\n",
       "40003      white bamboo ribs lampshade\n",
       "47585    pink fairy cake cushion cover\n",
       "47586    pink fairy cake cushion cover\n",
       "72128           columbian candle round\n",
       "72130           columbian candle round\n",
       "72131       columbian candle rectangle\n",
       "72133       columbian candle rectangle\n",
       "79190          retro plastic 70's tray\n",
       "79192          retro plastic 70's tray\n",
       "79329    pink flock glass candleholder\n",
       "79331    pink flock glass candleholder\n",
       "79403              frosted white base \n",
       "79406              frosted white base \n",
       "84665    square cherry blossom cabinet\n",
       "84666    square cherry blossom cabinet\n",
       "Name: description, dtype: object"
      ]
     },
     "execution_count": 75,
     "metadata": {},
     "output_type": "execute_result"
    }
   ],
   "source": [
    "#checking duplicates\n",
    "items[items.duplicated(keep=False)]"
   ]
  },
  {
   "cell_type": "markdown",
   "id": "5445443b",
   "metadata": {},
   "source": [
    "We see that the duplicates are only by description and not by the stock_num"
   ]
  },
  {
   "cell_type": "code",
   "execution_count": 76,
   "id": "b67817d4",
   "metadata": {},
   "outputs": [],
   "source": [
    "#creating table with total quantity and revenue for each stock_num\n",
    "item_quant_sales= filtered_data.groupby('stock_num').agg({'quantity':'sum', 'total':'sum'}).reset_index()\n",
    "#item_quant_sales"
   ]
  },
  {
   "cell_type": "code",
   "execution_count": 77,
   "id": "af2c7376",
   "metadata": {},
   "outputs": [
    {
     "data": {
      "text/html": [
       "<div>\n",
       "<style scoped>\n",
       "    .dataframe tbody tr th:only-of-type {\n",
       "        vertical-align: middle;\n",
       "    }\n",
       "\n",
       "    .dataframe tbody tr th {\n",
       "        vertical-align: top;\n",
       "    }\n",
       "\n",
       "    .dataframe thead th {\n",
       "        text-align: right;\n",
       "    }\n",
       "</style>\n",
       "<table border=\"1\" class=\"dataframe\">\n",
       "  <thead>\n",
       "    <tr style=\"text-align: right;\">\n",
       "      <th></th>\n",
       "      <th>stock_num</th>\n",
       "      <th>quantity</th>\n",
       "      <th>total</th>\n",
       "      <th>description</th>\n",
       "    </tr>\n",
       "  </thead>\n",
       "  <tbody>\n",
       "    <tr>\n",
       "      <th>0</th>\n",
       "      <td>1</td>\n",
       "      <td>18</td>\n",
       "      <td>233.69</td>\n",
       "      <td>dotcomgiftshop gift voucher £20.00</td>\n",
       "    </tr>\n",
       "    <tr>\n",
       "      <th>1</th>\n",
       "      <td>2</td>\n",
       "      <td>0</td>\n",
       "      <td>0.00</td>\n",
       "      <td>carriage</td>\n",
       "    </tr>\n",
       "    <tr>\n",
       "      <th>2</th>\n",
       "      <td>3</td>\n",
       "      <td>4</td>\n",
       "      <td>9.94</td>\n",
       "      <td>boxed glass ashtray</td>\n",
       "    </tr>\n",
       "    <tr>\n",
       "      <th>3</th>\n",
       "      <td>4</td>\n",
       "      <td>1</td>\n",
       "      <td>16.63</td>\n",
       "      <td>haynes camper shoulder bag</td>\n",
       "    </tr>\n",
       "    <tr>\n",
       "      <th>4</th>\n",
       "      <td>69</td>\n",
       "      <td>1</td>\n",
       "      <td>15.79</td>\n",
       "      <td>ooh la la dogs collar</td>\n",
       "    </tr>\n",
       "    <tr>\n",
       "      <th>...</th>\n",
       "      <td>...</td>\n",
       "      <td>...</td>\n",
       "      <td>...</td>\n",
       "      <td>...</td>\n",
       "    </tr>\n",
       "    <tr>\n",
       "      <th>3247</th>\n",
       "      <td>90209</td>\n",
       "      <td>397</td>\n",
       "      <td>764.72</td>\n",
       "      <td>green enamel+glass hair comb</td>\n",
       "    </tr>\n",
       "    <tr>\n",
       "      <th>3248</th>\n",
       "      <td>90210</td>\n",
       "      <td>247</td>\n",
       "      <td>340.02</td>\n",
       "      <td>grey acrylic faceted bangle</td>\n",
       "    </tr>\n",
       "    <tr>\n",
       "      <th>3249</th>\n",
       "      <td>90211</td>\n",
       "      <td>19</td>\n",
       "      <td>112.47</td>\n",
       "      <td>diamond las vegas necklace 45cm</td>\n",
       "    </tr>\n",
       "    <tr>\n",
       "      <th>3250</th>\n",
       "      <td>90212</td>\n",
       "      <td>17</td>\n",
       "      <td>63.87</td>\n",
       "      <td>jet black las vegas bracelet round</td>\n",
       "    </tr>\n",
       "    <tr>\n",
       "      <th>3251</th>\n",
       "      <td>90214</td>\n",
       "      <td>782</td>\n",
       "      <td>741.34</td>\n",
       "      <td>letter \"a\" bling key ring</td>\n",
       "    </tr>\n",
       "  </tbody>\n",
       "</table>\n",
       "<p>3252 rows × 4 columns</p>\n",
       "</div>"
      ],
      "text/plain": [
       "      stock_num  quantity   total                         description\n",
       "0             1        18  233.69  dotcomgiftshop gift voucher £20.00\n",
       "1             2         0    0.00                            carriage\n",
       "2             3         4    9.94                 boxed glass ashtray\n",
       "3             4         1   16.63          haynes camper shoulder bag\n",
       "4            69         1   15.79               ooh la la dogs collar\n",
       "...         ...       ...     ...                                 ...\n",
       "3247      90209       397  764.72        green enamel+glass hair comb\n",
       "3248      90210       247  340.02         grey acrylic faceted bangle\n",
       "3249      90211        19  112.47     diamond las vegas necklace 45cm\n",
       "3250      90212        17   63.87  jet black las vegas bracelet round\n",
       "3251      90214       782  741.34           letter \"a\" bling key ring\n",
       "\n",
       "[3252 rows x 4 columns]"
      ]
     },
     "execution_count": 77,
     "metadata": {},
     "output_type": "execute_result"
    }
   ],
   "source": [
    "#merging tables\n",
    "items_df = item_quant_sales.merge(items, on='stock_num', how='left')\n",
    "items_df"
   ]
  },
  {
   "cell_type": "code",
   "execution_count": 78,
   "id": "fb827518",
   "metadata": {},
   "outputs": [
    {
     "data": {
      "text/html": [
       "<div>\n",
       "<style scoped>\n",
       "    .dataframe tbody tr th:only-of-type {\n",
       "        vertical-align: middle;\n",
       "    }\n",
       "\n",
       "    .dataframe tbody tr th {\n",
       "        vertical-align: top;\n",
       "    }\n",
       "\n",
       "    .dataframe thead th {\n",
       "        text-align: right;\n",
       "    }\n",
       "</style>\n",
       "<table border=\"1\" class=\"dataframe\">\n",
       "  <thead>\n",
       "    <tr style=\"text-align: right;\">\n",
       "      <th></th>\n",
       "      <th>stock_num</th>\n",
       "      <th>quantity</th>\n",
       "      <th>total</th>\n",
       "      <th>description</th>\n",
       "    </tr>\n",
       "  </thead>\n",
       "  <tbody>\n",
       "  </tbody>\n",
       "</table>\n",
       "</div>"
      ],
      "text/plain": [
       "Empty DataFrame\n",
       "Columns: [stock_num, quantity, total, description]\n",
       "Index: []"
      ]
     },
     "execution_count": 78,
     "metadata": {},
     "output_type": "execute_result"
    }
   ],
   "source": [
    "#checking for duplicates\n",
    "items_df[items_df.duplicated(keep=False)]"
   ]
  },
  {
   "cell_type": "code",
   "execution_count": 79,
   "id": "d0cb4421",
   "metadata": {},
   "outputs": [],
   "source": [
    "best_sell_15_items = items_df.sort_values(by='quantity', ascending=False).head(15)\n",
    "#best_sell_15_items"
   ]
  },
  {
   "cell_type": "code",
   "execution_count": 80,
   "id": "84f56232",
   "metadata": {},
   "outputs": [
    {
     "data": {
      "image/png": "[encoded data removed]",
      "text/plain": [
       "<Figure size 936x648 with 1 Axes>"
      ]
     },
     "metadata": {
      "needs_background": "light"
     },
     "output_type": "display_data"
    }
   ],
   "source": [
    "agg_quant=items_df['quantity'].mean()\n",
    "fig= plt.subplots(figsize=(13, 9))\n",
    "chart = sns.barplot(data=best_sell_15_items[['description', 'quantity']], x='description', y='quantity')\n",
    "plt.title('Quantity of best selling items')\n",
    "chart.set_xticklabels(chart.get_xticklabels(),rotation=45,horizontalalignment='right')\n",
    "plt.axhline(y=agg_quant, color='k', linestyle='dashed', linewidth=1)\n",
    "for p in chart.patches:\n",
    "    chart.annotate(\"{:}\".format(p.get_height()), (p.get_x() + p.get_width() / 2., p.get_height()), ha = 'center', va = 'center', xytext = (0, 10), textcoords = 'offset points')\n",
    "\n",
    "plt.show()"
   ]
  },
  {
   "cell_type": "markdown",
   "id": "c5b8df87",
   "metadata": {},
   "source": [
    "In the plot above, the 15 most selling items are shown compared to a dashed line that represents the average quantity of all the products. \n",
    "All these products are much higher than the mean and we can see that there is also a big difference of almost twice the amount, between the best seller- Jumbo bag red retrospot which 27996 pieces of it were sold along this year, compared to the tenth item- Lunch bag red retrospot"
   ]
  },
  {
   "cell_type": "code",
   "execution_count": 81,
   "id": "5cd980e3",
   "metadata": {},
   "outputs": [],
   "source": [
    "worst_sell_15_items = items_df.sort_values(by='quantity', ascending=True).head(15)\n",
    "#worst_sell_15_items"
   ]
  },
  {
   "cell_type": "code",
   "execution_count": 82,
   "id": "3f342fe6",
   "metadata": {},
   "outputs": [
    {
     "data": {
      "image/png": "[encoded data removed]",
      "text/plain": [
       "<Figure size 936x648 with 1 Axes>"
      ]
     },
     "metadata": {
      "needs_background": "light"
     },
     "output_type": "display_data"
    }
   ],
   "source": [
    "fig= plt.subplots(figsize=(13, 9))\n",
    "chart = sns.barplot(data=worst_sell_15_items[['description', 'quantity']], x='description', y='quantity')\n",
    "plt.title('Quantity of worst selling items')\n",
    "chart.set_xticklabels(chart.get_xticklabels(),rotation=45,horizontalalignment='right')\n",
    "for p in chart.patches:\n",
    "    chart.annotate(\"{:}\".format(p.get_height()), (p.get_x() + p.get_width() / 2., p.get_height()), ha = 'center', va = 'center', xytext = (0, 10), textcoords = 'offset points')\n",
    "\n",
    "plt.show()"
   ]
  },
  {
   "cell_type": "markdown",
   "id": "d0e44d44",
   "metadata": {},
   "source": [
    "Due to the filtering of the data from outliers we have minimum value of -1, all the first 11 items are products that show negative value for the store - they were sold less than they were returned or not sold at all, maybe because their quality is low or there is no demand for them. The store should consider if these products are worth the place they take on the shelves. "
   ]
  },
  {
   "cell_type": "code",
   "execution_count": 83,
   "id": "8c617503",
   "metadata": {},
   "outputs": [],
   "source": [
    "profitable_15_items = items_df.sort_values(by='total', ascending=False).head(15)\n",
    "#profitable_15_items"
   ]
  },
  {
   "cell_type": "code",
   "execution_count": 84,
   "id": "18ecbbeb",
   "metadata": {},
   "outputs": [
    {
     "data": {
      "image/png": "[encoded data removed]",
      "text/plain": [
       "<Figure size 1080x648 with 1 Axes>"
      ]
     },
     "metadata": {
      "needs_background": "light"
     },
     "output_type": "display_data"
    }
   ],
   "source": [
    "agg_revenue=items_df['total'].mean()\n",
    "fig= plt.subplots(figsize=(15, 9))\n",
    "chart = sns.barplot(data=profitable_15_items[['description', 'total']], x='description', y='total')\n",
    "plt.title('Most profitable items')\n",
    "chart.set_xticklabels(chart.get_xticklabels(),rotation=45,horizontalalignment='right')\n",
    "plt.axhline(y=agg_revenue, color='k', linestyle='dashed', linewidth=1)\n",
    "for p in chart.patches:\n",
    "    chart.annotate(\"{:,.2f}\".format(p.get_height(),'.2f'), (p.get_x() + p.get_width() / 2., p.get_height()), ha = 'center', va = 'center', xytext = (0, 10), textcoords = 'offset points')\n",
    "\n",
    "plt.show()"
   ]
  },
  {
   "cell_type": "markdown",
   "id": "ec33cf7f",
   "metadata": {},
   "source": [
    "Here we see the most profitable items, meaning that the sum of their revenue is the highest. In the first place we see a product that its' revenue is twice the value of the profits of the third selling product and interestingly - it wasn't included in the best selling items, meaning that although the store did not sell many pieces of it, its revenue is high - so we assume that its price is high enough that the multiplication of quantity and price resulted in 122,079 USD.\n",
    "most of the next profitable products also were included in the 15 most selling items. Based on this result we suggest that it is important to look at the amount of pieces sold as an indication for successful products but in some cases there are products that customers are willing to pay more money for them, and then their revenue is compensating on the amount that is being sold. "
   ]
  },
  {
   "cell_type": "code",
   "execution_count": 85,
   "id": "997bae68",
   "metadata": {},
   "outputs": [],
   "source": [
    "least_profitable_15_items = items_df.sort_values(by='total', ascending=True).head(15)\n",
    "#least_profitable_15_items"
   ]
  },
  {
   "cell_type": "code",
   "execution_count": 86,
   "id": "2bff8112",
   "metadata": {},
   "outputs": [
    {
     "data": {
      "image/png": "[encoded data removed]",
      "text/plain": [
       "<Figure size 1080x648 with 1 Axes>"
      ]
     },
     "metadata": {
      "needs_background": "light"
     },
     "output_type": "display_data"
    }
   ],
   "source": [
    "fig= plt.subplots(figsize=(15, 9))\n",
    "chart = sns.barplot(data=least_profitable_15_items[['description', 'total']], x='description', y='total')\n",
    "plt.title('Least profitable items')\n",
    "chart.set_xticklabels(chart.get_xticklabels(),rotation=45,horizontalalignment='right')\n",
    "for p in chart.patches:\n",
    "    chart.annotate(\"{:,.2f}\".format(p.get_height(),'.2f'), (p.get_x() + p.get_width() / 2., p.get_height()), ha = 'center', va = 'center', xytext = (0, 10), textcoords = 'offset points')\n",
    "\n",
    "plt.show()"
   ]
  },
  {
   "cell_type": "markdown",
   "id": "75376d66",
   "metadata": {},
   "source": [
    "Here we learn that an important thing to take into account when we check which products are the least successful is their price - if the item was returned more than purchased, its higher price become greater loss for the store.  "
   ]
  },
  {
   "cell_type": "markdown",
   "id": "9e923278",
   "metadata": {},
   "source": [
    "### Identify products that are being repurchased by customers\n",
    "For the next analysis we will filter out rows with unidentified `customer_id`, since we want to relate items to customers' invoices. "
   ]
  },
  {
   "cell_type": "code",
   "execution_count": 87,
   "id": "b5dcb04f",
   "metadata": {},
   "outputs": [],
   "source": [
    "customer_data = filtered_data.dropna(subset=['customerid']).reset_index(drop=True)"
   ]
  },
  {
   "cell_type": "code",
   "execution_count": 88,
   "id": "be91d3b2",
   "metadata": {},
   "outputs": [
    {
     "data": {
      "text/plain": [
       "0.75"
      ]
     },
     "execution_count": 88,
     "metadata": {},
     "output_type": "execute_result"
    }
   ],
   "source": [
    "round(customer_data.shape[0]/filtered_data.shape[0],2)"
   ]
  },
  {
   "cell_type": "markdown",
   "id": "81477439",
   "metadata": {},
   "source": [
    "The filtered dataset includes 75% of the complete dataset, meaning its big enough to provide us general stable results."
   ]
  },
  {
   "cell_type": "code",
   "execution_count": 89,
   "id": "480f006a",
   "metadata": {},
   "outputs": [],
   "source": [
    "#creating table with count of unique invoices in which the item was purchased by the customer\n",
    "repurch_items=customer_data.groupby(['customerid', 'description'], as_index=False)['invoiceno'].nunique()\n",
    "#filtering all the items that were bought once\n",
    "repurch_items=repurch_items[repurch_items['invoiceno']>1].reset_index(drop=True)"
   ]
  },
  {
   "cell_type": "code",
   "execution_count": 90,
   "id": "94f92761",
   "metadata": {},
   "outputs": [],
   "source": [
    "repurch_agg=repurch_items.groupby('description', as_index=False)['invoiceno'].agg(['mean', 'sum']).rename(columns={'mean':'avg', 'sum':'total'})"
   ]
  },
  {
   "cell_type": "code",
   "execution_count": 91,
   "id": "7d26670e",
   "metadata": {},
   "outputs": [
    {
     "data": {
      "text/html": [
       "<div>\n",
       "<style scoped>\n",
       "    .dataframe tbody tr th:only-of-type {\n",
       "        vertical-align: middle;\n",
       "    }\n",
       "\n",
       "    .dataframe tbody tr th {\n",
       "        vertical-align: top;\n",
       "    }\n",
       "\n",
       "    .dataframe thead th {\n",
       "        text-align: right;\n",
       "    }\n",
       "</style>\n",
       "<table border=\"1\" class=\"dataframe\">\n",
       "  <thead>\n",
       "    <tr style=\"text-align: right;\">\n",
       "      <th></th>\n",
       "      <th>avg</th>\n",
       "      <th>total</th>\n",
       "    </tr>\n",
       "  </thead>\n",
       "  <tbody>\n",
       "    <tr>\n",
       "      <th>count</th>\n",
       "      <td>2848.000000</td>\n",
       "      <td>2848.000000</td>\n",
       "    </tr>\n",
       "    <tr>\n",
       "      <th>mean</th>\n",
       "      <td>2.695920</td>\n",
       "      <td>58.112008</td>\n",
       "    </tr>\n",
       "    <tr>\n",
       "      <th>std</th>\n",
       "      <td>0.821215</td>\n",
       "      <td>103.683154</td>\n",
       "    </tr>\n",
       "    <tr>\n",
       "      <th>min</th>\n",
       "      <td>2.000000</td>\n",
       "      <td>2.000000</td>\n",
       "    </tr>\n",
       "    <tr>\n",
       "      <th>25%</th>\n",
       "      <td>2.090909</td>\n",
       "      <td>6.000000</td>\n",
       "    </tr>\n",
       "    <tr>\n",
       "      <th>50%</th>\n",
       "      <td>2.555556</td>\n",
       "      <td>21.000000</td>\n",
       "    </tr>\n",
       "    <tr>\n",
       "      <th>75%</th>\n",
       "      <td>3.000000</td>\n",
       "      <td>63.000000</td>\n",
       "    </tr>\n",
       "    <tr>\n",
       "      <th>max</th>\n",
       "      <td>12.000000</td>\n",
       "      <td>1442.000000</td>\n",
       "    </tr>\n",
       "  </tbody>\n",
       "</table>\n",
       "</div>"
      ],
      "text/plain": [
       "               avg        total\n",
       "count  2848.000000  2848.000000\n",
       "mean      2.695920    58.112008\n",
       "std       0.821215   103.683154\n",
       "min       2.000000     2.000000\n",
       "25%       2.090909     6.000000\n",
       "50%       2.555556    21.000000\n",
       "75%       3.000000    63.000000\n",
       "max      12.000000  1442.000000"
      ]
     },
     "execution_count": 91,
     "metadata": {},
     "output_type": "execute_result"
    }
   ],
   "source": [
    "repurch_agg.describe()"
   ]
  },
  {
   "cell_type": "code",
   "execution_count": 92,
   "id": "f98990b1",
   "metadata": {},
   "outputs": [],
   "source": [
    "most_repurch=repurch_agg.sort_values(by=['total'], ascending=False).head(15)"
   ]
  },
  {
   "cell_type": "markdown",
   "id": "9b7ad6dc",
   "metadata": {},
   "source": [
    "Items that are repurchased by customers are repurchased in average 2.7 times with a considerably small standard deviadvion of 0.82 times, the average invoices number in which the repurchased items are bought is 58 invoices but it varies and the maxim value is 1442 invoices. "
   ]
  },
  {
   "cell_type": "code",
   "execution_count": 93,
   "id": "ff815024",
   "metadata": {},
   "outputs": [],
   "source": [
    "most_repurch['best_sellers'] = most_repurch.index.isin(best_sell_15_items['description'])\n",
    "most_repurch['profitable'] = most_repurch.index.isin(profitable_15_items['description'])"
   ]
  },
  {
   "cell_type": "code",
   "execution_count": 94,
   "id": "2f13bba4",
   "metadata": {},
   "outputs": [],
   "source": [
    "def assign_status(row):\n",
    "    if (row['best_sellers'] == True) & (row['profitable'] == True):\n",
    "        return 'both'\n",
    "    elif (row['best_sellers'] == True) & (row['profitable'] == False):\n",
    "        return 'best_seller'\n",
    "    elif (row['best_sellers'] == False) & (row['profitable'] == True):\n",
    "        return 'profitable'\n",
    "    elif (row['best_sellers'] == False) & (row['profitable'] == False):\n",
    "        return 'none'\n",
    "    else:\n",
    "        return 'other'"
   ]
  },
  {
   "cell_type": "code",
   "execution_count": 95,
   "id": "e2261a43",
   "metadata": {},
   "outputs": [],
   "source": [
    "# Apply function    \n",
    "most_repurch['status']= most_repurch.apply(assign_status, axis=1)"
   ]
  },
  {
   "cell_type": "code",
   "execution_count": 96,
   "id": "ef736624",
   "metadata": {},
   "outputs": [
    {
     "data": {
      "image/png": "[encoded data removed]",
      "text/plain": [
       "<Figure size 864x432 with 1 Axes>"
      ]
     },
     "metadata": {},
     "output_type": "display_data"
    }
   ],
   "source": [
    "plt.figure(figsize=(12,6))\n",
    "plt.title(\"Most repurchased items appearence in 15 most profitable and 15 most selling\")\n",
    "most_repurch.groupby('status').size().plot(kind='pie', autopct='%.2f')\n",
    "plt.show()"
   ]
  },
  {
   "cell_type": "markdown",
   "id": "84748b08",
   "metadata": {},
   "source": [
    "We learn that almost half of the 15 repurchased items with highest counts of invoices - meaning that they many customers bought these items more than once; are items that do not appear in the 15 most profitable or 15 most selling items. From this we learn that there are items that many customers are used to buy frequently, and it may be worth selling and promoting them since customers are loyal and choose to buy them again and again."
   ]
  },
  {
   "cell_type": "code",
   "execution_count": 97,
   "id": "f9c52a84",
   "metadata": {},
   "outputs": [],
   "source": [
    "highest_agg_repurch=repurch_agg.sort_values(by=['avg'], ascending=False).head(15)"
   ]
  },
  {
   "cell_type": "code",
   "execution_count": 98,
   "id": "c8133b7c",
   "metadata": {},
   "outputs": [],
   "source": [
    "highest_agg_repurch['best_sellers']=highest_agg_repurch.index.isin(best_sell_15_items['description'])\n",
    "highest_agg_repurch['profitable']=highest_agg_repurch.index.isin(profitable_15_items['description'])"
   ]
  },
  {
   "cell_type": "code",
   "execution_count": 99,
   "id": "30954507",
   "metadata": {},
   "outputs": [],
   "source": [
    "# Apply function    \n",
    "highest_agg_repurch['status']= highest_agg_repurch.apply(assign_status, axis=1)\n",
    "#highest_agg_repurch"
   ]
  },
  {
   "cell_type": "code",
   "execution_count": 100,
   "id": "9baa03d6",
   "metadata": {},
   "outputs": [
    {
     "data": {
      "image/png": "[encoded data removed]",
      "text/plain": [
       "<Figure size 864x432 with 1 Axes>"
      ]
     },
     "metadata": {},
     "output_type": "display_data"
    }
   ],
   "source": [
    "plt.figure(figsize=(12,6))\n",
    "plt.title(\"Most repurchased items by in average appearence in 15 most profitable and 15 most selling\")\n",
    "highest_agg_repurch.groupby('status').size().plot(kind='pie', autopct='%.2f')\n",
    "plt.show()"
   ]
  },
  {
   "cell_type": "markdown",
   "id": "8e6e09e3",
   "metadata": {},
   "source": [
    "All items that are repurchased by customers in 7 to 12 times a year are not the most profitable or most selling. We suggest that this happens because these items are very popular by some loyal customers, that within a year, buy them in many different occasions, but this segment is small and the purchases do not affect the profitability or popularity metrics. "
   ]
  },
  {
   "cell_type": "markdown",
   "id": "b17761e4",
   "metadata": {},
   "source": [
    "### Identify products that are being co-purchased"
   ]
  },
  {
   "cell_type": "code",
   "execution_count": 101,
   "id": "79c15385",
   "metadata": {},
   "outputs": [],
   "source": [
    "\"\"\"\n",
    "Based on this webpage:\n",
    "https://medium.com/@jihargifari/how-to-perform-market-basket-analysis-in-python-bd00b745b106\n",
    "\"\"\"\n",
    " \n",
    "data_plus = filtered_data[filtered_data['quantity']>=0].reset_index(drop=True)"
   ]
  },
  {
   "cell_type": "code",
   "execution_count": 102,
   "id": "457950b2",
   "metadata": {},
   "outputs": [
    {
     "name": "stdout",
     "output_type": "stream",
     "text": [
      "<class 'pandas.core.frame.DataFrame'>\n",
      "RangeIndex: 486856 entries, 0 to 486855\n",
      "Data columns (total 15 columns):\n",
      " #   Column        Non-Null Count   Dtype         \n",
      "---  ------        --------------   -----         \n",
      " 0   invoiceno     486856 non-null  object        \n",
      " 1   stockcode     486856 non-null  object        \n",
      " 2   description   486856 non-null  object        \n",
      " 3   quantity      486856 non-null  int64         \n",
      " 4   invoicedate   486856 non-null  datetime64[ns]\n",
      " 5   unitprice     486856 non-null  float64       \n",
      " 6   customerid    365324 non-null  float64       \n",
      " 7   invoice_code  0 non-null       object        \n",
      " 8   stock_code    486856 non-null  object        \n",
      " 9   stock_num     486443 non-null  Int64         \n",
      " 10  date          486856 non-null  object        \n",
      " 11  week          486856 non-null  UInt32        \n",
      " 12  month         486856 non-null  period[M]     \n",
      " 13  year          486856 non-null  int64         \n",
      " 14  total         486856 non-null  float64       \n",
      "dtypes: Int64(1), UInt32(1), datetime64[ns](1), float64(3), int64(2), object(6), period[M](1)\n",
      "memory usage: 54.8+ MB\n"
     ]
    }
   ],
   "source": [
    "data_plus.info()"
   ]
  },
  {
   "cell_type": "code",
   "execution_count": 103,
   "id": "88d54316",
   "metadata": {},
   "outputs": [
    {
     "data": {
      "text/html": [
       "<div>\n",
       "<style scoped>\n",
       "    .dataframe tbody tr th:only-of-type {\n",
       "        vertical-align: middle;\n",
       "    }\n",
       "\n",
       "    .dataframe tbody tr th {\n",
       "        vertical-align: top;\n",
       "    }\n",
       "\n",
       "    .dataframe thead th {\n",
       "        text-align: right;\n",
       "    }\n",
       "</style>\n",
       "<table border=\"1\" class=\"dataframe\">\n",
       "  <thead>\n",
       "    <tr style=\"text-align: right;\">\n",
       "      <th>description</th>\n",
       "      <th>4 purple flock dinner candles</th>\n",
       "      <th>50's christmas gift bag large</th>\n",
       "      <th>dolly girl beaker</th>\n",
       "      <th>i love london mini backpack</th>\n",
       "      <th>i love london mini rucksack</th>\n",
       "      <th>nine drawer office tidy</th>\n",
       "      <th>oval wall mirror diamante</th>\n",
       "      <th>red spot gift bag large</th>\n",
       "      <th>set 2 tea towels i love london</th>\n",
       "      <th>spaceboy baby gift set</th>\n",
       "      <th>...</th>\n",
       "      <th>zinc star t-light holder</th>\n",
       "      <th>zinc sweetheart soap dish</th>\n",
       "      <th>zinc sweetheart wire letter rack</th>\n",
       "      <th>zinc t-light holder star large</th>\n",
       "      <th>zinc t-light holder stars large</th>\n",
       "      <th>zinc t-light holder stars small</th>\n",
       "      <th>zinc top  2 door wooden shelf</th>\n",
       "      <th>zinc willie winkie  candle stick</th>\n",
       "      <th>zinc wire kitchen organiser</th>\n",
       "      <th>zinc wire sweetheart letter tray</th>\n",
       "    </tr>\n",
       "    <tr>\n",
       "      <th>invoiceno</th>\n",
       "      <th></th>\n",
       "      <th></th>\n",
       "      <th></th>\n",
       "      <th></th>\n",
       "      <th></th>\n",
       "      <th></th>\n",
       "      <th></th>\n",
       "      <th></th>\n",
       "      <th></th>\n",
       "      <th></th>\n",
       "      <th></th>\n",
       "      <th></th>\n",
       "      <th></th>\n",
       "      <th></th>\n",
       "      <th></th>\n",
       "      <th></th>\n",
       "      <th></th>\n",
       "      <th></th>\n",
       "      <th></th>\n",
       "      <th></th>\n",
       "      <th></th>\n",
       "    </tr>\n",
       "  </thead>\n",
       "  <tbody>\n",
       "    <tr>\n",
       "      <th>536847</th>\n",
       "      <td>0.0</td>\n",
       "      <td>0.0</td>\n",
       "      <td>0.0</td>\n",
       "      <td>0.0</td>\n",
       "      <td>0.0</td>\n",
       "      <td>0.0</td>\n",
       "      <td>0.0</td>\n",
       "      <td>0.0</td>\n",
       "      <td>0.0</td>\n",
       "      <td>0.0</td>\n",
       "      <td>...</td>\n",
       "      <td>0.0</td>\n",
       "      <td>0.0</td>\n",
       "      <td>0.0</td>\n",
       "      <td>0.0</td>\n",
       "      <td>0.0</td>\n",
       "      <td>0.0</td>\n",
       "      <td>0.0</td>\n",
       "      <td>0.0</td>\n",
       "      <td>0.0</td>\n",
       "      <td>0.0</td>\n",
       "    </tr>\n",
       "    <tr>\n",
       "      <th>536848</th>\n",
       "      <td>0.0</td>\n",
       "      <td>0.0</td>\n",
       "      <td>0.0</td>\n",
       "      <td>0.0</td>\n",
       "      <td>0.0</td>\n",
       "      <td>0.0</td>\n",
       "      <td>0.0</td>\n",
       "      <td>0.0</td>\n",
       "      <td>0.0</td>\n",
       "      <td>0.0</td>\n",
       "      <td>...</td>\n",
       "      <td>0.0</td>\n",
       "      <td>0.0</td>\n",
       "      <td>0.0</td>\n",
       "      <td>0.0</td>\n",
       "      <td>0.0</td>\n",
       "      <td>0.0</td>\n",
       "      <td>0.0</td>\n",
       "      <td>0.0</td>\n",
       "      <td>0.0</td>\n",
       "      <td>0.0</td>\n",
       "    </tr>\n",
       "    <tr>\n",
       "      <th>536849</th>\n",
       "      <td>0.0</td>\n",
       "      <td>0.0</td>\n",
       "      <td>0.0</td>\n",
       "      <td>0.0</td>\n",
       "      <td>0.0</td>\n",
       "      <td>0.0</td>\n",
       "      <td>0.0</td>\n",
       "      <td>0.0</td>\n",
       "      <td>0.0</td>\n",
       "      <td>0.0</td>\n",
       "      <td>...</td>\n",
       "      <td>0.0</td>\n",
       "      <td>0.0</td>\n",
       "      <td>0.0</td>\n",
       "      <td>0.0</td>\n",
       "      <td>0.0</td>\n",
       "      <td>0.0</td>\n",
       "      <td>0.0</td>\n",
       "      <td>0.0</td>\n",
       "      <td>0.0</td>\n",
       "      <td>0.0</td>\n",
       "    </tr>\n",
       "    <tr>\n",
       "      <th>536851</th>\n",
       "      <td>0.0</td>\n",
       "      <td>0.0</td>\n",
       "      <td>0.0</td>\n",
       "      <td>0.0</td>\n",
       "      <td>0.0</td>\n",
       "      <td>0.0</td>\n",
       "      <td>0.0</td>\n",
       "      <td>0.0</td>\n",
       "      <td>0.0</td>\n",
       "      <td>0.0</td>\n",
       "      <td>...</td>\n",
       "      <td>0.0</td>\n",
       "      <td>0.0</td>\n",
       "      <td>0.0</td>\n",
       "      <td>0.0</td>\n",
       "      <td>0.0</td>\n",
       "      <td>0.0</td>\n",
       "      <td>0.0</td>\n",
       "      <td>0.0</td>\n",
       "      <td>0.0</td>\n",
       "      <td>0.0</td>\n",
       "    </tr>\n",
       "    <tr>\n",
       "      <th>536852</th>\n",
       "      <td>0.0</td>\n",
       "      <td>0.0</td>\n",
       "      <td>0.0</td>\n",
       "      <td>0.0</td>\n",
       "      <td>0.0</td>\n",
       "      <td>0.0</td>\n",
       "      <td>0.0</td>\n",
       "      <td>0.0</td>\n",
       "      <td>0.0</td>\n",
       "      <td>0.0</td>\n",
       "      <td>...</td>\n",
       "      <td>0.0</td>\n",
       "      <td>0.0</td>\n",
       "      <td>0.0</td>\n",
       "      <td>0.0</td>\n",
       "      <td>0.0</td>\n",
       "      <td>0.0</td>\n",
       "      <td>0.0</td>\n",
       "      <td>0.0</td>\n",
       "      <td>0.0</td>\n",
       "      <td>0.0</td>\n",
       "    </tr>\n",
       "    <tr>\n",
       "      <th>...</th>\n",
       "      <td>...</td>\n",
       "      <td>...</td>\n",
       "      <td>...</td>\n",
       "      <td>...</td>\n",
       "      <td>...</td>\n",
       "      <td>...</td>\n",
       "      <td>...</td>\n",
       "      <td>...</td>\n",
       "      <td>...</td>\n",
       "      <td>...</td>\n",
       "      <td>...</td>\n",
       "      <td>...</td>\n",
       "      <td>...</td>\n",
       "      <td>...</td>\n",
       "      <td>...</td>\n",
       "      <td>...</td>\n",
       "      <td>...</td>\n",
       "      <td>...</td>\n",
       "      <td>...</td>\n",
       "      <td>...</td>\n",
       "      <td>...</td>\n",
       "    </tr>\n",
       "    <tr>\n",
       "      <th>580371</th>\n",
       "      <td>0.0</td>\n",
       "      <td>0.0</td>\n",
       "      <td>0.0</td>\n",
       "      <td>0.0</td>\n",
       "      <td>0.0</td>\n",
       "      <td>0.0</td>\n",
       "      <td>0.0</td>\n",
       "      <td>0.0</td>\n",
       "      <td>0.0</td>\n",
       "      <td>0.0</td>\n",
       "      <td>...</td>\n",
       "      <td>0.0</td>\n",
       "      <td>0.0</td>\n",
       "      <td>0.0</td>\n",
       "      <td>0.0</td>\n",
       "      <td>0.0</td>\n",
       "      <td>0.0</td>\n",
       "      <td>0.0</td>\n",
       "      <td>0.0</td>\n",
       "      <td>0.0</td>\n",
       "      <td>0.0</td>\n",
       "    </tr>\n",
       "    <tr>\n",
       "      <th>580372</th>\n",
       "      <td>0.0</td>\n",
       "      <td>0.0</td>\n",
       "      <td>0.0</td>\n",
       "      <td>0.0</td>\n",
       "      <td>0.0</td>\n",
       "      <td>0.0</td>\n",
       "      <td>0.0</td>\n",
       "      <td>0.0</td>\n",
       "      <td>0.0</td>\n",
       "      <td>0.0</td>\n",
       "      <td>...</td>\n",
       "      <td>0.0</td>\n",
       "      <td>0.0</td>\n",
       "      <td>0.0</td>\n",
       "      <td>0.0</td>\n",
       "      <td>0.0</td>\n",
       "      <td>0.0</td>\n",
       "      <td>0.0</td>\n",
       "      <td>0.0</td>\n",
       "      <td>0.0</td>\n",
       "      <td>0.0</td>\n",
       "    </tr>\n",
       "    <tr>\n",
       "      <th>580373</th>\n",
       "      <td>0.0</td>\n",
       "      <td>0.0</td>\n",
       "      <td>0.0</td>\n",
       "      <td>0.0</td>\n",
       "      <td>0.0</td>\n",
       "      <td>0.0</td>\n",
       "      <td>0.0</td>\n",
       "      <td>0.0</td>\n",
       "      <td>0.0</td>\n",
       "      <td>0.0</td>\n",
       "      <td>...</td>\n",
       "      <td>0.0</td>\n",
       "      <td>0.0</td>\n",
       "      <td>0.0</td>\n",
       "      <td>0.0</td>\n",
       "      <td>0.0</td>\n",
       "      <td>0.0</td>\n",
       "      <td>0.0</td>\n",
       "      <td>0.0</td>\n",
       "      <td>0.0</td>\n",
       "      <td>0.0</td>\n",
       "    </tr>\n",
       "    <tr>\n",
       "      <th>580374</th>\n",
       "      <td>0.0</td>\n",
       "      <td>0.0</td>\n",
       "      <td>0.0</td>\n",
       "      <td>0.0</td>\n",
       "      <td>0.0</td>\n",
       "      <td>0.0</td>\n",
       "      <td>0.0</td>\n",
       "      <td>0.0</td>\n",
       "      <td>0.0</td>\n",
       "      <td>0.0</td>\n",
       "      <td>...</td>\n",
       "      <td>0.0</td>\n",
       "      <td>0.0</td>\n",
       "      <td>0.0</td>\n",
       "      <td>0.0</td>\n",
       "      <td>0.0</td>\n",
       "      <td>0.0</td>\n",
       "      <td>0.0</td>\n",
       "      <td>0.0</td>\n",
       "      <td>0.0</td>\n",
       "      <td>0.0</td>\n",
       "    </tr>\n",
       "    <tr>\n",
       "      <th>580375</th>\n",
       "      <td>0.0</td>\n",
       "      <td>0.0</td>\n",
       "      <td>0.0</td>\n",
       "      <td>0.0</td>\n",
       "      <td>0.0</td>\n",
       "      <td>0.0</td>\n",
       "      <td>0.0</td>\n",
       "      <td>0.0</td>\n",
       "      <td>0.0</td>\n",
       "      <td>0.0</td>\n",
       "      <td>...</td>\n",
       "      <td>0.0</td>\n",
       "      <td>0.0</td>\n",
       "      <td>0.0</td>\n",
       "      <td>0.0</td>\n",
       "      <td>0.0</td>\n",
       "      <td>0.0</td>\n",
       "      <td>0.0</td>\n",
       "      <td>0.0</td>\n",
       "      <td>0.0</td>\n",
       "      <td>0.0</td>\n",
       "    </tr>\n",
       "  </tbody>\n",
       "</table>\n",
       "<p>18456 rows × 3952 columns</p>\n",
       "</div>"
      ],
      "text/plain": [
       "description   4 purple flock dinner candles   50's christmas gift bag large  \\\n",
       "invoiceno                                                                     \n",
       "536847                                  0.0                             0.0   \n",
       "536848                                  0.0                             0.0   \n",
       "536849                                  0.0                             0.0   \n",
       "536851                                  0.0                             0.0   \n",
       "536852                                  0.0                             0.0   \n",
       "...                                     ...                             ...   \n",
       "580371                                  0.0                             0.0   \n",
       "580372                                  0.0                             0.0   \n",
       "580373                                  0.0                             0.0   \n",
       "580374                                  0.0                             0.0   \n",
       "580375                                  0.0                             0.0   \n",
       "\n",
       "description   dolly girl beaker   i love london mini backpack  \\\n",
       "invoiceno                                                       \n",
       "536847                      0.0                           0.0   \n",
       "536848                      0.0                           0.0   \n",
       "536849                      0.0                           0.0   \n",
       "536851                      0.0                           0.0   \n",
       "536852                      0.0                           0.0   \n",
       "...                         ...                           ...   \n",
       "580371                      0.0                           0.0   \n",
       "580372                      0.0                           0.0   \n",
       "580373                      0.0                           0.0   \n",
       "580374                      0.0                           0.0   \n",
       "580375                      0.0                           0.0   \n",
       "\n",
       "description   i love london mini rucksack   nine drawer office tidy  \\\n",
       "invoiceno                                                             \n",
       "536847                                0.0                       0.0   \n",
       "536848                                0.0                       0.0   \n",
       "536849                                0.0                       0.0   \n",
       "536851                                0.0                       0.0   \n",
       "536852                                0.0                       0.0   \n",
       "...                                   ...                       ...   \n",
       "580371                                0.0                       0.0   \n",
       "580372                                0.0                       0.0   \n",
       "580373                                0.0                       0.0   \n",
       "580374                                0.0                       0.0   \n",
       "580375                                0.0                       0.0   \n",
       "\n",
       "description   oval wall mirror diamante    red spot gift bag large  \\\n",
       "invoiceno                                                            \n",
       "536847                               0.0                       0.0   \n",
       "536848                               0.0                       0.0   \n",
       "536849                               0.0                       0.0   \n",
       "536851                               0.0                       0.0   \n",
       "536852                               0.0                       0.0   \n",
       "...                                  ...                       ...   \n",
       "580371                               0.0                       0.0   \n",
       "580372                               0.0                       0.0   \n",
       "580373                               0.0                       0.0   \n",
       "580374                               0.0                       0.0   \n",
       "580375                               0.0                       0.0   \n",
       "\n",
       "description   set 2 tea towels i love london    spaceboy baby gift set  ...  \\\n",
       "invoiceno                                                               ...   \n",
       "536847                                    0.0                      0.0  ...   \n",
       "536848                                    0.0                      0.0  ...   \n",
       "536849                                    0.0                      0.0  ...   \n",
       "536851                                    0.0                      0.0  ...   \n",
       "536852                                    0.0                      0.0  ...   \n",
       "...                                       ...                      ...  ...   \n",
       "580371                                    0.0                      0.0  ...   \n",
       "580372                                    0.0                      0.0  ...   \n",
       "580373                                    0.0                      0.0  ...   \n",
       "580374                                    0.0                      0.0  ...   \n",
       "580375                                    0.0                      0.0  ...   \n",
       "\n",
       "description  zinc star t-light holder   zinc sweetheart soap dish  \\\n",
       "invoiceno                                                           \n",
       "536847                             0.0                        0.0   \n",
       "536848                             0.0                        0.0   \n",
       "536849                             0.0                        0.0   \n",
       "536851                             0.0                        0.0   \n",
       "536852                             0.0                        0.0   \n",
       "...                                ...                        ...   \n",
       "580371                             0.0                        0.0   \n",
       "580372                             0.0                        0.0   \n",
       "580373                             0.0                        0.0   \n",
       "580374                             0.0                        0.0   \n",
       "580375                             0.0                        0.0   \n",
       "\n",
       "description  zinc sweetheart wire letter rack  zinc t-light holder star large  \\\n",
       "invoiceno                                                                       \n",
       "536847                                    0.0                             0.0   \n",
       "536848                                    0.0                             0.0   \n",
       "536849                                    0.0                             0.0   \n",
       "536851                                    0.0                             0.0   \n",
       "536852                                    0.0                             0.0   \n",
       "...                                       ...                             ...   \n",
       "580371                                    0.0                             0.0   \n",
       "580372                                    0.0                             0.0   \n",
       "580373                                    0.0                             0.0   \n",
       "580374                                    0.0                             0.0   \n",
       "580375                                    0.0                             0.0   \n",
       "\n",
       "description  zinc t-light holder stars large  zinc t-light holder stars small  \\\n",
       "invoiceno                                                                       \n",
       "536847                                   0.0                              0.0   \n",
       "536848                                   0.0                              0.0   \n",
       "536849                                   0.0                              0.0   \n",
       "536851                                   0.0                              0.0   \n",
       "536852                                   0.0                              0.0   \n",
       "...                                      ...                              ...   \n",
       "580371                                   0.0                              0.0   \n",
       "580372                                   0.0                              0.0   \n",
       "580373                                   0.0                              0.0   \n",
       "580374                                   0.0                              0.0   \n",
       "580375                                   0.0                              0.0   \n",
       "\n",
       "description  zinc top  2 door wooden shelf   zinc willie winkie  candle stick  \\\n",
       "invoiceno                                                                       \n",
       "536847                                  0.0                               0.0   \n",
       "536848                                  0.0                               0.0   \n",
       "536849                                  0.0                               0.0   \n",
       "536851                                  0.0                               0.0   \n",
       "536852                                  0.0                               0.0   \n",
       "...                                     ...                               ...   \n",
       "580371                                  0.0                               0.0   \n",
       "580372                                  0.0                               0.0   \n",
       "580373                                  0.0                               0.0   \n",
       "580374                                  0.0                               0.0   \n",
       "580375                                  0.0                               0.0   \n",
       "\n",
       "description  zinc wire kitchen organiser  zinc wire sweetheart letter tray  \n",
       "invoiceno                                                                   \n",
       "536847                               0.0                               0.0  \n",
       "536848                               0.0                               0.0  \n",
       "536849                               0.0                               0.0  \n",
       "536851                               0.0                               0.0  \n",
       "536852                               0.0                               0.0  \n",
       "...                                  ...                               ...  \n",
       "580371                               0.0                               0.0  \n",
       "580372                               0.0                               0.0  \n",
       "580373                               0.0                               0.0  \n",
       "580374                               0.0                               0.0  \n",
       "580375                               0.0                               0.0  \n",
       "\n",
       "[18456 rows x 3952 columns]"
      ]
     },
     "execution_count": 103,
     "metadata": {},
     "output_type": "execute_result"
    }
   ],
   "source": [
    "basket_plus = data_plus.groupby(['invoiceno', 'description'])['quantity'].sum().unstack().reset_index().fillna(0).set_index('invoiceno')\n",
    "basket_plus"
   ]
  },
  {
   "cell_type": "markdown",
   "id": "4a12eb82",
   "metadata": {},
   "source": [
    "We filtered out all the rows with negative quantity (that do not represent a purchase but an adjustment, refund, damages) and then created new table with all items as columns and all invoices as rows. Next we will change the values which now represent the quantity of the item purchased, to dichtomous value- 0 if the item wasnt purchased, 1 if it was."
   ]
  },
  {
   "cell_type": "code",
   "execution_count": 104,
   "id": "5462d54f",
   "metadata": {},
   "outputs": [],
   "source": [
    "def encode_units(x):\n",
    "    if x<=0:\n",
    "        return 0\n",
    "    if x>=1:\n",
    "        return 1"
   ]
  },
  {
   "cell_type": "code",
   "execution_count": 105,
   "id": "490a5b4e",
   "metadata": {},
   "outputs": [],
   "source": [
    "encoded_basket_plus = basket_plus.applymap(encode_units)"
   ]
  },
  {
   "cell_type": "code",
   "execution_count": 106,
   "id": "a0d1e39b",
   "metadata": {},
   "outputs": [],
   "source": [
    "filt_basket_plus = encoded_basket_plus[(encoded_basket_plus>0).sum(axis=1)>=2].reset_index(drop=True)"
   ]
  },
  {
   "cell_type": "code",
   "execution_count": 107,
   "id": "1fcc52da",
   "metadata": {},
   "outputs": [
    {
     "data": {
      "text/plain": [
       "0.93"
      ]
     },
     "execution_count": 107,
     "metadata": {},
     "output_type": "execute_result"
    }
   ],
   "source": [
    "round(filt_basket_plus.shape[0]/encoded_basket_plus.shape[0],2)"
   ]
  },
  {
   "cell_type": "markdown",
   "id": "3206ea33",
   "metadata": {},
   "source": [
    "93% of the invoices included more than one item type.\n",
    "Next we will define frequently paired items as those bought 4% of the whole transaction and add a column of the times the item is bought."
   ]
  },
  {
   "cell_type": "code",
   "execution_count": 108,
   "id": "d6f178c1",
   "metadata": {},
   "outputs": [],
   "source": [
    "freq_items = apriori(filt_basket_plus, min_support=0.04, use_colnames=True).sort_values('support', ascending=False).reset_index(drop=True)"
   ]
  },
  {
   "cell_type": "code",
   "execution_count": 109,
   "id": "3f6ffb64",
   "metadata": {},
   "outputs": [],
   "source": [
    "freq_items['length']=freq_items['itemsets'].apply(lambda x: len(x))"
   ]
  },
  {
   "cell_type": "code",
   "execution_count": 110,
   "id": "38c7343c",
   "metadata": {},
   "outputs": [
    {
     "data": {
      "text/html": [
       "<div>\n",
       "<style scoped>\n",
       "    .dataframe tbody tr th:only-of-type {\n",
       "        vertical-align: middle;\n",
       "    }\n",
       "\n",
       "    .dataframe tbody tr th {\n",
       "        vertical-align: top;\n",
       "    }\n",
       "\n",
       "    .dataframe thead th {\n",
       "        text-align: right;\n",
       "    }\n",
       "</style>\n",
       "<table border=\"1\" class=\"dataframe\">\n",
       "  <thead>\n",
       "    <tr style=\"text-align: right;\">\n",
       "      <th></th>\n",
       "      <th>antecedents</th>\n",
       "      <th>consequents</th>\n",
       "      <th>antecedent support</th>\n",
       "      <th>consequent support</th>\n",
       "      <th>support</th>\n",
       "      <th>confidence</th>\n",
       "      <th>lift</th>\n",
       "      <th>leverage</th>\n",
       "      <th>conviction</th>\n",
       "      <th>zhangs_metric</th>\n",
       "    </tr>\n",
       "  </thead>\n",
       "  <tbody>\n",
       "    <tr>\n",
       "      <th>0</th>\n",
       "      <td>(roses regency teacup and saucer )</td>\n",
       "      <td>(green regency teacup and saucer)</td>\n",
       "      <td>0.059721</td>\n",
       "      <td>0.057325</td>\n",
       "      <td>0.043242</td>\n",
       "      <td>0.724070</td>\n",
       "      <td>12.631007</td>\n",
       "      <td>0.039819</td>\n",
       "      <td>3.416362</td>\n",
       "      <td>0.979315</td>\n",
       "    </tr>\n",
       "    <tr>\n",
       "      <th>1</th>\n",
       "      <td>(green regency teacup and saucer)</td>\n",
       "      <td>(roses regency teacup and saucer )</td>\n",
       "      <td>0.057325</td>\n",
       "      <td>0.059721</td>\n",
       "      <td>0.043242</td>\n",
       "      <td>0.754332</td>\n",
       "      <td>12.631007</td>\n",
       "      <td>0.039819</td>\n",
       "      <td>3.827444</td>\n",
       "      <td>0.976826</td>\n",
       "    </tr>\n",
       "    <tr>\n",
       "      <th>2</th>\n",
       "      <td>(jumbo bag red retrospot)</td>\n",
       "      <td>(jumbo bag pink polkadot)</td>\n",
       "      <td>0.106761</td>\n",
       "      <td>0.064512</td>\n",
       "      <td>0.043768</td>\n",
       "      <td>0.409962</td>\n",
       "      <td>6.354777</td>\n",
       "      <td>0.036880</td>\n",
       "      <td>1.585469</td>\n",
       "      <td>0.943351</td>\n",
       "    </tr>\n",
       "    <tr>\n",
       "      <th>3</th>\n",
       "      <td>(jumbo bag pink polkadot)</td>\n",
       "      <td>(jumbo bag red retrospot)</td>\n",
       "      <td>0.064512</td>\n",
       "      <td>0.106761</td>\n",
       "      <td>0.043768</td>\n",
       "      <td>0.678442</td>\n",
       "      <td>6.354777</td>\n",
       "      <td>0.036880</td>\n",
       "      <td>2.777848</td>\n",
       "      <td>0.900747</td>\n",
       "    </tr>\n",
       "  </tbody>\n",
       "</table>\n",
       "</div>"
      ],
      "text/plain": [
       "                          antecedents                         consequents  \\\n",
       "0  (roses regency teacup and saucer )   (green regency teacup and saucer)   \n",
       "1   (green regency teacup and saucer)  (roses regency teacup and saucer )   \n",
       "2           (jumbo bag red retrospot)           (jumbo bag pink polkadot)   \n",
       "3           (jumbo bag pink polkadot)           (jumbo bag red retrospot)   \n",
       "\n",
       "   antecedent support  consequent support   support  confidence       lift  \\\n",
       "0            0.059721            0.057325  0.043242    0.724070  12.631007   \n",
       "1            0.057325            0.059721  0.043242    0.754332  12.631007   \n",
       "2            0.106761            0.064512  0.043768    0.409962   6.354777   \n",
       "3            0.064512            0.106761  0.043768    0.678442   6.354777   \n",
       "\n",
       "   leverage  conviction  zhangs_metric  \n",
       "0  0.039819    3.416362       0.979315  \n",
       "1  0.039819    3.827444       0.976826  \n",
       "2  0.036880    1.585469       0.943351  \n",
       "3  0.036880    2.777848       0.900747  "
      ]
     },
     "execution_count": 110,
     "metadata": {},
     "output_type": "execute_result"
    }
   ],
   "source": [
    "from mlxtend.frequent_patterns import association_rules\n",
    "association_rules(freq_items, metric='lift', min_threshold=1).sort_values('lift', ascending=False).reset_index(drop=True)"
   ]
  },
  {
   "cell_type": "markdown",
   "id": "4dd83dae",
   "metadata": {},
   "source": [
    "The highest association (lift value) is for Roses regency teacup and saucer with Green regency teacup and saucer, and between Jumbo bag pink polkadot with Jumbo bag red retrospot. We see that the dependence of each pair is equal, meaning that there is no one direction (item A and only then item B). Thus we will suggest the store to put discount like 1+1 on these items and increase the total invoice sum.  "
   ]
  },
  {
   "cell_type": "markdown",
   "id": "7319a1c5",
   "metadata": {},
   "source": [
    "## Test hypotheses"
   ]
  },
  {
   "cell_type": "markdown",
   "id": "789032e2",
   "metadata": {},
   "source": [
    "### The average order size,average purchase cost and daily total revenue in the weekends are higher than in the weekdays\n"
   ]
  },
  {
   "cell_type": "code",
   "execution_count": 111,
   "id": "a4f519a9",
   "metadata": {},
   "outputs": [],
   "source": [
    "#Adding column to identify weekend days and working days\n",
    "filtered_data['weekday']=filtered_data['invoicedate'].dt.dayofweek\n",
    "filtered_data['weekend']=filtered_data['weekday'].apply(lambda x: x >= 5)"
   ]
  },
  {
   "cell_type": "code",
   "execution_count": 112,
   "id": "8d16022c",
   "metadata": {},
   "outputs": [],
   "source": [
    "weekend_data = filtered_data.query('weekend==True').reset_index(drop=True)\n",
    "workday_data = filtered_data.query('weekend==False').reset_index(drop=True)"
   ]
  },
  {
   "cell_type": "code",
   "execution_count": 113,
   "id": "f8b21ed3",
   "metadata": {},
   "outputs": [
    {
     "data": {
      "text/plain": [
       "76436"
      ]
     },
     "execution_count": 113,
     "metadata": {},
     "output_type": "execute_result"
    }
   ],
   "source": [
    "weekend_data.shape[0]"
   ]
  },
  {
   "cell_type": "code",
   "execution_count": 114,
   "id": "c9ae8fd0",
   "metadata": {},
   "outputs": [
    {
     "data": {
      "text/plain": [
       "413985"
      ]
     },
     "execution_count": 114,
     "metadata": {},
     "output_type": "execute_result"
    }
   ],
   "source": [
    "workday_data.shape[0]"
   ]
  },
  {
   "cell_type": "markdown",
   "id": "06a8fa54",
   "metadata": {},
   "source": [
    "#### Hypothesis:\n",
    "\n",
    "H0- The average order sizes of invoices in workdays and invoices in weekend are the same \n",
    "\n",
    "H1- The average order sizes of invoices in workdays and invoices in weekend are not the same"
   ]
  },
  {
   "cell_type": "code",
   "execution_count": 115,
   "id": "e6f6e74d",
   "metadata": {},
   "outputs": [],
   "source": [
    "quant_end = weekend_data.groupby('invoiceno', as_index=False)['quantity'].sum()\n",
    "quant_work = workday_data.groupby('invoiceno', as_index=False)['quantity'].sum()"
   ]
  },
  {
   "cell_type": "code",
   "execution_count": 116,
   "id": "1da7a0e4",
   "metadata": {},
   "outputs": [],
   "source": [
    "def testing_diff(A,B,alpha):\n",
    "#checking normality\n",
    "    stat1, p1_norm=st.shapiro(A)\n",
    "    stat2, p2_norm=st.shapiro(B)\n",
    "    if p1_norm > alpha and p2_norm>alpha:\n",
    "        print('Failed to reject the null hypothesis: the distribution of the samples seems to be normal. To check if there is significant difference, a t-test will be used.')\n",
    "        #Checking equality of variances\n",
    "        statslev,p_levene=st.levene(A,B)\n",
    "        if p_levene<alpha:\n",
    "           #variances are not equal\n",
    "            statist,p_value=st.ttest_ind(A, B,equal_var=False)\n",
    "        else:\n",
    "            statist,p_value=st.ttest_ind(A, B,equal_var=True) \n",
    "    else:\n",
    "        print('Null hypothesis rejected: the distribution is not normal. To check if there is significant difference a non-parametric test will be used.')\n",
    "        statist,p_value=st.mannwhitneyu(A, B)\n",
    "    print(f'p-value:{round(p_value,2)}')\n",
    "    if (p_value < alpha):\n",
    "        print(f\"Rejecting the null hypothesis: there is a significant difference between the conditions.\")\n",
    "    else:\n",
    "        print(f\"Failed to reject the null hypothesis: there is no reason to consider that there is a difference between the conditions\")"
   ]
  },
  {
   "cell_type": "code",
   "execution_count": 117,
   "id": "29025f57",
   "metadata": {},
   "outputs": [
    {
     "name": "stdout",
     "output_type": "stream",
     "text": [
      "Null hypothesis rejected: the distribution is not normal. To check if there is significant difference a non-parametric test will be used.\n",
      "p-value:0.19\n",
      "Failed to reject the null hypothesis: there is no reason to consider that there is a difference between the conditions\n"
     ]
    }
   ],
   "source": [
    "testing_diff(A=quant_end['quantity'], B=quant_work['quantity'], alpha=0.05)"
   ]
  },
  {
   "cell_type": "markdown",
   "id": "a9f374f9",
   "metadata": {},
   "source": [
    "#### Hypothesis:\n",
    "\n",
    "H0- The average purchase cost of invoices in workdays and invoices in weekend are the same \n",
    "\n",
    "H1- The average purchase cost of invoices in workdays and invoices in weekend are not the same"
   ]
  },
  {
   "cell_type": "code",
   "execution_count": 118,
   "id": "b78bda5c",
   "metadata": {},
   "outputs": [],
   "source": [
    "total_end = weekend_data.groupby('invoiceno', as_index=False)['total'].sum()\n",
    "total_work = workday_data.groupby('invoiceno', as_index=False)['total'].sum()"
   ]
  },
  {
   "cell_type": "code",
   "execution_count": 119,
   "id": "8b523cee",
   "metadata": {},
   "outputs": [
    {
     "name": "stdout",
     "output_type": "stream",
     "text": [
      "Null hypothesis rejected: the distribution is not normal. To check if there is significant difference a non-parametric test will be used.\n",
      "p-value:0.4\n",
      "Failed to reject the null hypothesis: there is no reason to consider that there is a difference between the conditions\n"
     ]
    }
   ],
   "source": [
    "testing_diff(A=total_end['total'], B=total_work['total'], alpha=0.05)"
   ]
  },
  {
   "cell_type": "markdown",
   "id": "2b69a991",
   "metadata": {},
   "source": [
    "#### Hypothesis:\n",
    "\n",
    "H0- The average daily revenues of invoices in workdays and invoices in weekend are the same \n",
    "\n",
    "H1- The average daily revenues of invoices in workdays and invoices in weekend are not the same"
   ]
  },
  {
   "cell_type": "code",
   "execution_count": 120,
   "id": "820a4a21",
   "metadata": {},
   "outputs": [],
   "source": [
    "rev_end = weekend_data.groupby('date', as_index=False)['total'].sum()\n",
    "rev_work = workday_data.groupby('date', as_index=False)['total'].sum()"
   ]
  },
  {
   "cell_type": "code",
   "execution_count": 121,
   "id": "d82dcb7c",
   "metadata": {},
   "outputs": [
    {
     "name": "stdout",
     "output_type": "stream",
     "text": [
      "Null hypothesis rejected: the distribution is not normal. To check if there is significant difference a non-parametric test will be used.\n",
      "p-value:0.43\n",
      "Failed to reject the null hypothesis: there is no reason to consider that there is a difference between the conditions\n"
     ]
    }
   ],
   "source": [
    "testing_diff(A=rev_end['total'], B=rev_work['total'], alpha=0.05)"
   ]
  },
  {
   "cell_type": "markdown",
   "id": "4911ea4c",
   "metadata": {},
   "source": [
    "In contrast to the assumption that customers spend more during the weekend - as we expected to see expressed in greater quantity, greater average purchase size, or greater total daily expense; we found no support to any of the hypothesis. Meaning that there is no significant difference between the amount of items bought, average purchse size or daily revenue."
   ]
  },
  {
   "cell_type": "markdown",
   "id": "42b21194",
   "metadata": {},
   "source": [
    "### Seasonal products are more profitable than products sold throughout the year\n",
    "\n",
    "We will devide the data to items that were sold all the year (12 months) and to those who weren't and compare the average item revenue."
   ]
  },
  {
   "cell_type": "markdown",
   "id": "b3de7d41",
   "metadata": {},
   "source": [
    "#### Hypothesis:\n",
    "\n",
    "H0- The average monthly revenue per item of items sold all year long are the same as the revenue of items sold in less than 12 months\n",
    "\n",
    "H1- The average monthly revenue per item of items sold all year long are not the same as the revenue of items sold in less than 12 months\n"
   ]
  },
  {
   "cell_type": "code",
   "execution_count": 122,
   "id": "57a3174f",
   "metadata": {},
   "outputs": [],
   "source": [
    "monthly_item_rev=filtered_data.groupby(['month', 'stock_num'], as_index=False)['total'].sum()"
   ]
  },
  {
   "cell_type": "code",
   "execution_count": 123,
   "id": "d851be80",
   "metadata": {},
   "outputs": [],
   "source": [
    "months_item_count = monthly_item_rev.groupby('stock_num')['month'].nunique()\n",
    "sold_all_year = months_item_count[months_item_count == 12].index\n",
    "\n",
    "all_year_items = monthly_item_rev[monthly_item_rev['stock_num'].isin(sold_all_year)].reset_index(drop=True)\n",
    "monthly_items = monthly_item_rev[~monthly_item_rev['stock_num'].isin(sold_all_year)].reset_index(drop=True)"
   ]
  },
  {
   "cell_type": "code",
   "execution_count": 124,
   "id": "a52580bd",
   "metadata": {},
   "outputs": [
    {
     "data": {
      "text/plain": [
       "12384"
      ]
     },
     "execution_count": 124,
     "metadata": {},
     "output_type": "execute_result"
    }
   ],
   "source": [
    "monthly_items.shape[0]"
   ]
  },
  {
   "cell_type": "code",
   "execution_count": 125,
   "id": "e378f620",
   "metadata": {},
   "outputs": [
    {
     "data": {
      "text/plain": [
       "15240"
      ]
     },
     "execution_count": 125,
     "metadata": {},
     "output_type": "execute_result"
    }
   ],
   "source": [
    "all_year_items.shape[0]"
   ]
  },
  {
   "cell_type": "code",
   "execution_count": 126,
   "id": "28805e75",
   "metadata": {},
   "outputs": [
    {
     "name": "stdout",
     "output_type": "stream",
     "text": [
      "Null hypothesis rejected: the distribution is not normal. To check if there is significant difference a non-parametric test will be used.\n",
      "p-value:0.0\n",
      "Rejecting the null hypothesis: there is a significant difference between the conditions.\n"
     ]
    }
   ],
   "source": [
    "testing_diff(A=monthly_items['total'], B=all_year_items['total'], alpha=0.05)"
   ]
  },
  {
   "cell_type": "code",
   "execution_count": 127,
   "id": "27b8fdcc",
   "metadata": {},
   "outputs": [
    {
     "name": "stdout",
     "output_type": "stream",
     "text": [
      "Average revenue of items sold less than 12 months:197.79.\n",
      "Average revenue of items sold all year long:328.21.\n"
     ]
    }
   ],
   "source": [
    "print(f'Average revenue of items sold less than 12 months:{round(monthly_items.total.mean(),2)}.\\nAverage revenue of items sold all year long:{round(all_year_items.total.mean(),2)}.')"
   ]
  },
  {
   "cell_type": "markdown",
   "id": "6b2d64af",
   "metadata": {},
   "source": [
    "There is a significant difference in the average monthly revenue for items, when we compare items that were sold only few months to those sold all year. This signals that although we know that the sales are higher around November, it is not due to seasonal items (because we see that average revenue for regular items is significantly higher) but probably because customers buy more."
   ]
  },
  {
   "cell_type": "markdown",
   "id": "0aca1f39",
   "metadata": {},
   "source": [
    "### Difference in average price between best selling and least selling items"
   ]
  },
  {
   "cell_type": "markdown",
   "id": "5ba98c5d",
   "metadata": {},
   "source": [
    "We learned earlier that there is a negative relationship between quantity and price, and that not all the best selling items are also the most profitable (meaning that these items probably cost less). Now we will check the hypothesis that the best selling items are significantly cheaper than the least selling items.\n",
    "Untill now we defined the least and best selling items as the lowest and highest 15 items in terms of quantity sold, but this amount is too small for the analysis, so we will define now the best and least selling items as those that are in the first and third quantiles. "
   ]
  },
  {
   "cell_type": "code",
   "execution_count": 128,
   "id": "ff97c731",
   "metadata": {},
   "outputs": [],
   "source": [
    "#calculating average unit price \n",
    "items_df['price']= items_df['total']/items_df['quantity']\n",
    "items_df['price']=items_df['price'].fillna(0)"
   ]
  },
  {
   "cell_type": "markdown",
   "id": "c5319752",
   "metadata": {},
   "source": [
    "#### Hypothesis:\n",
    "\n",
    "H0- The average price of best selling items is the same as the average price of least selling items\n",
    "\n",
    "H1- The average price of best selling items is not the same as the average price of least selling items\n"
   ]
  },
  {
   "cell_type": "code",
   "execution_count": 129,
   "id": "a9a09f7a",
   "metadata": {},
   "outputs": [],
   "source": [
    "Q1 = items_df['quantity'].quantile(0.25)\n",
    "Q3 = items_df['quantity'].quantile(0.75)"
   ]
  },
  {
   "cell_type": "code",
   "execution_count": 130,
   "id": "d861ae8c",
   "metadata": {},
   "outputs": [],
   "source": [
    "best_quant = items_df[items_df['quantity']>=Q3].reset_index(drop=True)\n",
    "least_quant = items_df[items_df['quantity']<=Q1].reset_index(drop=True)"
   ]
  },
  {
   "cell_type": "code",
   "execution_count": 131,
   "id": "9bd37d7f",
   "metadata": {},
   "outputs": [
    {
     "data": {
      "text/plain": [
       "813"
      ]
     },
     "execution_count": 131,
     "metadata": {},
     "output_type": "execute_result"
    }
   ],
   "source": [
    "best_quant.shape[0]"
   ]
  },
  {
   "cell_type": "code",
   "execution_count": 132,
   "id": "7229cdc0",
   "metadata": {},
   "outputs": [
    {
     "data": {
      "text/plain": [
       "817"
      ]
     },
     "execution_count": 132,
     "metadata": {},
     "output_type": "execute_result"
    }
   ],
   "source": [
    "least_quant.shape[0]"
   ]
  },
  {
   "cell_type": "code",
   "execution_count": 133,
   "id": "b8081358",
   "metadata": {},
   "outputs": [
    {
     "name": "stdout",
     "output_type": "stream",
     "text": [
      "Null hypothesis rejected: the distribution is not normal. To check if there is significant difference a non-parametric test will be used.\n",
      "p-value:0.0\n",
      "Rejecting the null hypothesis: there is a significant difference between the conditions.\n"
     ]
    }
   ],
   "source": [
    "testing_diff(A=best_quant['price'], B=least_quant['price'], alpha=0.05)"
   ]
  },
  {
   "cell_type": "code",
   "execution_count": 134,
   "id": "696e57c2",
   "metadata": {},
   "outputs": [
    {
     "data": {
      "image/png": "[encoded data removed]",
      "text/plain": [
       "<Figure size 432x288 with 2 Axes>"
      ]
     },
     "metadata": {
      "needs_background": "light"
     },
     "output_type": "display_data"
    }
   ],
   "source": [
    "fig, (ax1, ax2) = plt.subplots(ncols=2)\n",
    "ax= best_quant[['price']].boxplot(showmeans=True,\n",
    "                showbox=True, showfliers=False,ax=ax1)\n",
    "least_quant[['price']].boxplot(showmeans=True,\n",
    "           showbox=True, showfliers=False, ax=ax2)\n",
    "ax1.set_title('Best selling')\n",
    "ax2.set_title('Least selling')\n",
    "plt.show()"
   ]
  },
  {
   "cell_type": "markdown",
   "id": "69903752",
   "metadata": {},
   "source": [
    "The 25% highest items in terms of quantity sold are significantly different in their average price per unit, compared to the items with 25% lowest quantity values. We see that the best selling items are much lower in their average price (1.8) compared to the least selling (4.1). But is the average price significant also between most profitable and least profitable?"
   ]
  },
  {
   "cell_type": "markdown",
   "id": "c8eb8b41",
   "metadata": {},
   "source": [
    "### Difference in average price between most and least profitable items"
   ]
  },
  {
   "cell_type": "markdown",
   "id": "c89099f2",
   "metadata": {},
   "source": [
    "#### Hypothesis:\n",
    "\n",
    "H0- The average price of most profitable items is the same as the average price of least profitable items\n",
    "\n",
    "H1- The average price of most profitable items is not the same as the average price of least profitable items"
   ]
  },
  {
   "cell_type": "code",
   "execution_count": 135,
   "id": "9eef25bb",
   "metadata": {},
   "outputs": [],
   "source": [
    "Q1_profit = items_df['total'].quantile(0.25)\n",
    "Q3_profit = items_df['total'].quantile(0.75)"
   ]
  },
  {
   "cell_type": "code",
   "execution_count": 136,
   "id": "b3c55989",
   "metadata": {},
   "outputs": [],
   "source": [
    "best_profit = items_df[items_df['total']>=Q3].reset_index(drop=True)\n",
    "least_profit = items_df[items_df['total']<=Q1].reset_index(drop=True)"
   ]
  },
  {
   "cell_type": "code",
   "execution_count": 137,
   "id": "da44cb3c",
   "metadata": {},
   "outputs": [
    {
     "name": "stdout",
     "output_type": "stream",
     "text": [
      "Null hypothesis rejected: the distribution is not normal. To check if there is significant difference a non-parametric test will be used.\n",
      "p-value:0.0\n",
      "Rejecting the null hypothesis: there is a significant difference between the conditions.\n"
     ]
    }
   ],
   "source": [
    "testing_diff(A=best_profit['price'], B=least_profit['price'], alpha=0.05)"
   ]
  },
  {
   "cell_type": "code",
   "execution_count": 138,
   "id": "d92b1491",
   "metadata": {},
   "outputs": [
    {
     "data": {
      "image/png": "[encoded data removed]",
      "text/plain": [
       "<Figure size 432x288 with 2 Axes>"
      ]
     },
     "metadata": {
      "needs_background": "light"
     },
     "output_type": "display_data"
    }
   ],
   "source": [
    "fig, (ax11, ax22) = plt.subplots(ncols=2)\n",
    "ax= best_profit[['price']].boxplot(showmeans=True,\n",
    "                showbox=True, showfliers=False,ax=ax11)\n",
    "least_profit[['price']].boxplot(showmeans=True,\n",
    "           showbox=True, showfliers=False, ax=ax22)\n",
    "ax11.set_title('Best selling')\n",
    "ax22.set_title('Least selling')\n",
    "plt.show()"
   ]
  },
  {
   "cell_type": "markdown",
   "id": "e13cef16",
   "metadata": {},
   "source": [
    "The 25% most profitable items  are significantly different in their average price per unit, compared to the 25% of items with lowest revenue values. But this time we see different picture - the average price of most profitable items (3.5) is higher than the average price for the least profitable items (3.02). Although the monetary difference is small, we see that lower price (like in the most selling items) does not nesecerilly signal rentability."
   ]
  },
  {
   "cell_type": "code",
   "execution_count": 139,
   "id": "0b7d9ad9",
   "metadata": {},
   "outputs": [],
   "source": [
    "#filtered_data.to_csv('ecommerce_us_filtered.csv', index=False)"
   ]
  },
  {
   "cell_type": "markdown",
   "id": "72a60f85",
   "metadata": {},
   "source": [
    "## Conclusions"
   ]
  },
  {
   "cell_type": "markdown",
   "id": "675bf993",
   "metadata": {},
   "source": [
    "The original data included 541909 rows of items bought in different invoice, we then changed datatypes, corrected wrong values, detected missing values and duplicates. 110 rows including missing description,customerid and unitprice, and invoices made before December 18' and after November 19' were filtered out in order to analyze high quality data on exectly one year long.\n",
    "* There is a negative correlation between price and quantity, but it is changing over time and is less negative near the end of the year, close to the holidays.\n",
    "* In average customers spend 15 USD per item type.\n",
    "* The monthly total revenue of the store is higher almost twice in the last three months, compared to the months before.\n",
    "We suggest that the positive change in the negative correlation between the variables over time is not because customers buy more expensive items, or buy less cheap ones, but they simply buy bigger variety and higher amounts of items that results in higher total spend.\n",
    "Studying the items, we analyzed the best selling and least selling items, the most and least profitable, the items that are most often being repurchased in average and in total and the relationship between all these groups.\n",
    "* The best selling items are mainly decoration items and bags, with Jumbo bag red retrospot as best seller, that was purchased 27996 times.\n",
    "* The least selling items are those that were returned or refunded more times than they were sold.\n",
    "* The most profitable item - Regency cakestand 3 tier, that its' revenue was 122,079 USD, and was twice higher than the third most profitable item, was not included in the best selling items. In contrast, most of the other profitable items were included in best selling list too.  \n",
    "* Items that are repurchased by customers are repurchased in average 2.7 timesby each customer and in total are purchased in average in 58 different orders. Almost half of the 15 repurchased items with highest counts of invoices are items that do not appear in the 15 most profitable or 15 most selling items. \n",
    "* All items that are most often repurchased by same customers - in average 9 times a year, are not the most profitable or most selling.\n",
    "There is an overlap between best sellers, most profitable items but its partial and it is not necessarily mean that the best sellers are the worthy - customers are willing to pay more on some items, these items are the most profitable for the store because they do not take many place and their revenue is high. Additionally, there are items that are popular by specific segments of customers that choose to buy them again and again in different occasions, since they satisfy a need for some sub-group of the customers, it is worth to sell them because loyal customers that come to buy them will buy more items in the same purchase. \n",
    "* The highest association is for Roses regency teacup and saucer with Green regency teacup and saucer, and between Jumbo bag pink polkadot with Jumbo bag red retrospot. We suggest to put discount like 1+1 on these items and increase the total invoice sum.\n",
    "* No difference was found regarding the average order size, average purchase cost and daily total revenue between orders made on weekends and orders made on weekdays.\n",
    "* There is a significant difference in the average monthly revenue for items between items that were sold only few months to items sold all year. Meaning that although the sales are higher around November, it is not due to seasonal items sold but probably because customers buy more.\n",
    "* There is significant difference in average price per unit between the 25% most frequntly sold items and 25% least frequently sold. The best selling items are much lower in their average price (1.8) compared to the least selling (4.1). \n",
    "* There is a significant dofference in average price per unit between the 25% most profitable items and 25% least profitable items.The average price of most profitable items (3.5) is higher than the average price for the least profitable items (3.02). \n",
    "\n",
    "### Recommendations:\n",
    "We recommend the store to analyze the least profitable and least selling items in order to check if it was due to low quality, low demand and consider taking them off the shelves.\n",
    "Since we see that high quantity sold resulted many times in the highest total revenues for items we suggest to add more versions of these products. \n",
    "Further analysis is needed to identify more profitable items that weren't sold many times (meaning that the price per unit is high) and to offer small discounts in them - these discounts may convince customers that a sensitive to price but are willing to buy the products, to purchase them.\n",
    "Additionaly, we suggest the store to store more information about its customers to learn if there are specific charectaristics that could help it to provide customized discounts and offers for customers with different needs - as we see in the analysis of the repurchased items. "
   ]
  }
 ],
 "metadata": {
  "kernelspec": {
   "display_name": "Python 3",
   "language": "python",
   "name": "python3"
  },
  "language_info": {
   "codemirror_mode": {
    "name": "ipython",
    "version": 3
   },
   "file_extension": ".py",
   "mimetype": "text/x-python",
   "name": "python",
   "nbconvert_exporter": "python",
   "pygments_lexer": "ipython3",
   "version": "3.8.8"
  }
 },
 "nbformat": 4,
 "nbformat_minor": 5
}
