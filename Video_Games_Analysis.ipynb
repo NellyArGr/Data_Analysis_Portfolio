{
 "cells": [
  {
   "cell_type": "markdown",
   "id": "f0aff862",
   "metadata": {},
   "source": [
    "# Which games are more popular than others?\n",
    "\n",
    "In the following project we are going to analyze the data of an online games store including user and expert reviews, generes, platforms and sales, in order to identify patterns that determine whether a game succeeds or not and use it to plan advertising plans.We will compare sales between platforms and genres in total and per region, to learn what are the most successful plaforms and genres we should promote on the next year."
   ]
  },
  {
   "cell_type": "markdown",
   "id": "276f3690",
   "metadata": {},
   "source": [
    "## Intialization"
   ]
  },
  {
   "cell_type": "code",
   "execution_count": 1,
   "id": "c9de89aa",
   "metadata": {},
   "outputs": [],
   "source": [
    "# Loading all the libraries\n",
    "import pandas as pd\n",
    "import matplotlib.pyplot as plt \n",
    "import datetime as dt\n",
    "import numpy as np\n",
    "import seaborn as sns\n",
    "from scipy import stats as st\n",
    "import warnings\n",
    "warnings.filterwarnings('ignore')"
   ]
  },
  {
   "cell_type": "markdown",
   "id": "71d8ec75",
   "metadata": {},
   "source": [
    "## Loading the data"
   ]
  },
  {
   "cell_type": "code",
   "execution_count": 3,
   "id": "5193c601",
   "metadata": {},
   "outputs": [],
   "source": [
    "#loading the data\n",
    "try:\n",
    "    df=pd.read_csv(\"C:/Users/NELLY/Downloads/moved_games.csv\")\n",
    "except:\n",
    "    df=pd.read_csv('/datasets/games.csv')\n"
   ]
  },
  {
   "cell_type": "code",
   "execution_count": 4,
   "id": "8dcb0007",
   "metadata": {},
   "outputs": [
    {
     "name": "stdout",
     "output_type": "stream",
     "text": [
      "<class 'pandas.core.frame.DataFrame'>\n",
      "RangeIndex: 16715 entries, 0 to 16714\n",
      "Data columns (total 11 columns):\n",
      " #   Column           Non-Null Count  Dtype  \n",
      "---  ------           --------------  -----  \n",
      " 0   Name             16713 non-null  object \n",
      " 1   Platform         16715 non-null  object \n",
      " 2   Year_of_Release  16446 non-null  float64\n",
      " 3   Genre            16713 non-null  object \n",
      " 4   NA_sales         16715 non-null  float64\n",
      " 5   EU_sales         16715 non-null  float64\n",
      " 6   JP_sales         16715 non-null  float64\n",
      " 7   Other_sales      16715 non-null  float64\n",
      " 8   Critic_Score     8137 non-null   float64\n",
      " 9   User_Score       10014 non-null  object \n",
      " 10  Rating           9949 non-null   object \n",
      "dtypes: float64(6), object(5)\n",
      "memory usage: 1.4+ MB\n"
     ]
    }
   ],
   "source": [
    "df.info()"
   ]
  },
  {
   "cell_type": "code",
   "execution_count": 5,
   "id": "81595372",
   "metadata": {},
   "outputs": [
    {
     "data": {
      "text/html": [
       "<div>\n",
       "<style scoped>\n",
       "    .dataframe tbody tr th:only-of-type {\n",
       "        vertical-align: middle;\n",
       "    }\n",
       "\n",
       "    .dataframe tbody tr th {\n",
       "        vertical-align: top;\n",
       "    }\n",
       "\n",
       "    .dataframe thead th {\n",
       "        text-align: right;\n",
       "    }\n",
       "</style>\n",
       "<table border=\"1\" class=\"dataframe\">\n",
       "  <thead>\n",
       "    <tr style=\"text-align: right;\">\n",
       "      <th></th>\n",
       "      <th>Name</th>\n",
       "      <th>Platform</th>\n",
       "      <th>Year_of_Release</th>\n",
       "      <th>Genre</th>\n",
       "      <th>NA_sales</th>\n",
       "      <th>EU_sales</th>\n",
       "      <th>JP_sales</th>\n",
       "      <th>Other_sales</th>\n",
       "      <th>Critic_Score</th>\n",
       "      <th>User_Score</th>\n",
       "      <th>Rating</th>\n",
       "    </tr>\n",
       "  </thead>\n",
       "  <tbody>\n",
       "    <tr>\n",
       "      <th>0</th>\n",
       "      <td>Wii Sports</td>\n",
       "      <td>Wii</td>\n",
       "      <td>2006.0</td>\n",
       "      <td>Sports</td>\n",
       "      <td>41.36</td>\n",
       "      <td>28.96</td>\n",
       "      <td>3.77</td>\n",
       "      <td>8.45</td>\n",
       "      <td>76.0</td>\n",
       "      <td>8</td>\n",
       "      <td>E</td>\n",
       "    </tr>\n",
       "    <tr>\n",
       "      <th>1</th>\n",
       "      <td>Super Mario Bros.</td>\n",
       "      <td>NES</td>\n",
       "      <td>1985.0</td>\n",
       "      <td>Platform</td>\n",
       "      <td>29.08</td>\n",
       "      <td>3.58</td>\n",
       "      <td>6.81</td>\n",
       "      <td>0.77</td>\n",
       "      <td>NaN</td>\n",
       "      <td>NaN</td>\n",
       "      <td>NaN</td>\n",
       "    </tr>\n",
       "    <tr>\n",
       "      <th>2</th>\n",
       "      <td>Mario Kart Wii</td>\n",
       "      <td>Wii</td>\n",
       "      <td>2008.0</td>\n",
       "      <td>Racing</td>\n",
       "      <td>15.68</td>\n",
       "      <td>12.76</td>\n",
       "      <td>3.79</td>\n",
       "      <td>3.29</td>\n",
       "      <td>82.0</td>\n",
       "      <td>8.3</td>\n",
       "      <td>E</td>\n",
       "    </tr>\n",
       "    <tr>\n",
       "      <th>3</th>\n",
       "      <td>Wii Sports Resort</td>\n",
       "      <td>Wii</td>\n",
       "      <td>2009.0</td>\n",
       "      <td>Sports</td>\n",
       "      <td>15.61</td>\n",
       "      <td>10.93</td>\n",
       "      <td>3.28</td>\n",
       "      <td>2.95</td>\n",
       "      <td>80.0</td>\n",
       "      <td>8</td>\n",
       "      <td>E</td>\n",
       "    </tr>\n",
       "    <tr>\n",
       "      <th>4</th>\n",
       "      <td>Pokemon Red/Pokemon Blue</td>\n",
       "      <td>GB</td>\n",
       "      <td>1996.0</td>\n",
       "      <td>Role-Playing</td>\n",
       "      <td>11.27</td>\n",
       "      <td>8.89</td>\n",
       "      <td>10.22</td>\n",
       "      <td>1.00</td>\n",
       "      <td>NaN</td>\n",
       "      <td>NaN</td>\n",
       "      <td>NaN</td>\n",
       "    </tr>\n",
       "    <tr>\n",
       "      <th>5</th>\n",
       "      <td>Tetris</td>\n",
       "      <td>GB</td>\n",
       "      <td>1989.0</td>\n",
       "      <td>Puzzle</td>\n",
       "      <td>23.20</td>\n",
       "      <td>2.26</td>\n",
       "      <td>4.22</td>\n",
       "      <td>0.58</td>\n",
       "      <td>NaN</td>\n",
       "      <td>NaN</td>\n",
       "      <td>NaN</td>\n",
       "    </tr>\n",
       "    <tr>\n",
       "      <th>6</th>\n",
       "      <td>New Super Mario Bros.</td>\n",
       "      <td>DS</td>\n",
       "      <td>2006.0</td>\n",
       "      <td>Platform</td>\n",
       "      <td>11.28</td>\n",
       "      <td>9.14</td>\n",
       "      <td>6.50</td>\n",
       "      <td>2.88</td>\n",
       "      <td>89.0</td>\n",
       "      <td>8.5</td>\n",
       "      <td>E</td>\n",
       "    </tr>\n",
       "    <tr>\n",
       "      <th>7</th>\n",
       "      <td>Wii Play</td>\n",
       "      <td>Wii</td>\n",
       "      <td>2006.0</td>\n",
       "      <td>Misc</td>\n",
       "      <td>13.96</td>\n",
       "      <td>9.18</td>\n",
       "      <td>2.93</td>\n",
       "      <td>2.84</td>\n",
       "      <td>58.0</td>\n",
       "      <td>6.6</td>\n",
       "      <td>E</td>\n",
       "    </tr>\n",
       "    <tr>\n",
       "      <th>8</th>\n",
       "      <td>New Super Mario Bros. Wii</td>\n",
       "      <td>Wii</td>\n",
       "      <td>2009.0</td>\n",
       "      <td>Platform</td>\n",
       "      <td>14.44</td>\n",
       "      <td>6.94</td>\n",
       "      <td>4.70</td>\n",
       "      <td>2.24</td>\n",
       "      <td>87.0</td>\n",
       "      <td>8.4</td>\n",
       "      <td>E</td>\n",
       "    </tr>\n",
       "    <tr>\n",
       "      <th>9</th>\n",
       "      <td>Duck Hunt</td>\n",
       "      <td>NES</td>\n",
       "      <td>1984.0</td>\n",
       "      <td>Shooter</td>\n",
       "      <td>26.93</td>\n",
       "      <td>0.63</td>\n",
       "      <td>0.28</td>\n",
       "      <td>0.47</td>\n",
       "      <td>NaN</td>\n",
       "      <td>NaN</td>\n",
       "      <td>NaN</td>\n",
       "    </tr>\n",
       "  </tbody>\n",
       "</table>\n",
       "</div>"
      ],
      "text/plain": [
       "                        Name Platform  Year_of_Release         Genre  \\\n",
       "0                 Wii Sports      Wii           2006.0        Sports   \n",
       "1          Super Mario Bros.      NES           1985.0      Platform   \n",
       "2             Mario Kart Wii      Wii           2008.0        Racing   \n",
       "3          Wii Sports Resort      Wii           2009.0        Sports   \n",
       "4   Pokemon Red/Pokemon Blue       GB           1996.0  Role-Playing   \n",
       "5                     Tetris       GB           1989.0        Puzzle   \n",
       "6      New Super Mario Bros.       DS           2006.0      Platform   \n",
       "7                   Wii Play      Wii           2006.0          Misc   \n",
       "8  New Super Mario Bros. Wii      Wii           2009.0      Platform   \n",
       "9                  Duck Hunt      NES           1984.0       Shooter   \n",
       "\n",
       "   NA_sales  EU_sales  JP_sales  Other_sales  Critic_Score User_Score Rating  \n",
       "0     41.36     28.96      3.77         8.45          76.0          8      E  \n",
       "1     29.08      3.58      6.81         0.77           NaN        NaN    NaN  \n",
       "2     15.68     12.76      3.79         3.29          82.0        8.3      E  \n",
       "3     15.61     10.93      3.28         2.95          80.0          8      E  \n",
       "4     11.27      8.89     10.22         1.00           NaN        NaN    NaN  \n",
       "5     23.20      2.26      4.22         0.58           NaN        NaN    NaN  \n",
       "6     11.28      9.14      6.50         2.88          89.0        8.5      E  \n",
       "7     13.96      9.18      2.93         2.84          58.0        6.6      E  \n",
       "8     14.44      6.94      4.70         2.24          87.0        8.4      E  \n",
       "9     26.93      0.63      0.28         0.47           NaN        NaN    NaN  "
      ]
     },
     "execution_count": 5,
     "metadata": {},
     "output_type": "execute_result"
    }
   ],
   "source": [
    "df.head(10)"
   ]
  },
  {
   "cell_type": "code",
   "execution_count": 6,
   "id": "59c18641",
   "metadata": {},
   "outputs": [],
   "source": [
    "#df.columns"
   ]
  },
  {
   "cell_type": "markdown",
   "id": "ffc3ed8b",
   "metadata": {},
   "source": [
    "1. From the data above we see that the dataframe includes 16,715 rows.\n",
    "2. There are missing values on the columns: Name, Year_of_release, Genre,User_Score, Critic_score, Rating; where the last two variables mentioned have the biggest rate of missing values. We will investigate possible reasons for the missing values and fill them with other values if it is appropriate.\n",
    "3. The column names are with capital letters, to reduce the chance for typing mistakes, we will change the variable names.\n",
    "4. The variable - Year_of_release is a float64 type and needed to be changed to a datetime type.\n",
    "5. The variable - user_score  is an object type and needed to be changed to a float type.\n",
    "6. The critic scores are x/100 while user scores are x/10, to ease the work with these variable we'll change the ratio of user scores to be up to 100 like critic's.\n",
    "7. There is a need for new column for summing the annual sales from all the continents."
   ]
  },
  {
   "cell_type": "markdown",
   "id": "fa0bb454",
   "metadata": {},
   "source": [
    "## Preparing the data"
   ]
  },
  {
   "cell_type": "code",
   "execution_count": 7,
   "id": "1352b578",
   "metadata": {},
   "outputs": [],
   "source": [
    "#changing the column names to lowercase:\n",
    "df.columns = df.columns.str.lower()"
   ]
  },
  {
   "cell_type": "code",
   "execution_count": 8,
   "id": "a97a73a5",
   "metadata": {},
   "outputs": [
    {
     "data": {
      "text/plain": [
       "array([2006., 1985., 2008., 2009., 1996., 1989., 1984., 2005., 1999.,\n",
       "       2007., 2010., 2013., 2004., 1990., 1988., 2002., 2001., 2011.,\n",
       "       1998., 2015., 2012., 2014., 1992., 1997., 1993., 1994., 1982.,\n",
       "       2016., 2003., 1986., 2000.,   nan, 1995., 1991., 1981., 1987.,\n",
       "       1980., 1983.])"
      ]
     },
     "execution_count": 8,
     "metadata": {},
     "output_type": "execute_result"
    }
   ],
   "source": [
    "df['year_of_release'].unique()"
   ]
  },
  {
   "cell_type": "code",
   "execution_count": 9,
   "id": "a082eef1",
   "metadata": {},
   "outputs": [],
   "source": [
    "#changing data type of year_of_relaese column:\n",
    "df['year_of_release'] = pd.to_datetime(df['year_of_release'], format='%Y').dt.year"
   ]
  },
  {
   "cell_type": "code",
   "execution_count": 10,
   "id": "3951205e",
   "metadata": {},
   "outputs": [
    {
     "data": {
      "text/html": [
       "<div>\n",
       "<style scoped>\n",
       "    .dataframe tbody tr th:only-of-type {\n",
       "        vertical-align: middle;\n",
       "    }\n",
       "\n",
       "    .dataframe tbody tr th {\n",
       "        vertical-align: top;\n",
       "    }\n",
       "\n",
       "    .dataframe thead th {\n",
       "        text-align: right;\n",
       "    }\n",
       "</style>\n",
       "<table border=\"1\" class=\"dataframe\">\n",
       "  <thead>\n",
       "    <tr style=\"text-align: right;\">\n",
       "      <th></th>\n",
       "      <th>name</th>\n",
       "      <th>platform</th>\n",
       "      <th>year_of_release</th>\n",
       "      <th>genre</th>\n",
       "      <th>na_sales</th>\n",
       "      <th>eu_sales</th>\n",
       "      <th>jp_sales</th>\n",
       "      <th>other_sales</th>\n",
       "      <th>critic_score</th>\n",
       "      <th>user_score</th>\n",
       "      <th>rating</th>\n",
       "    </tr>\n",
       "  </thead>\n",
       "  <tbody>\n",
       "    <tr>\n",
       "      <th>659</th>\n",
       "      <td>NaN</td>\n",
       "      <td>GEN</td>\n",
       "      <td>1993.0</td>\n",
       "      <td>NaN</td>\n",
       "      <td>1.78</td>\n",
       "      <td>0.53</td>\n",
       "      <td>0.00</td>\n",
       "      <td>0.08</td>\n",
       "      <td>NaN</td>\n",
       "      <td>NaN</td>\n",
       "      <td>NaN</td>\n",
       "    </tr>\n",
       "    <tr>\n",
       "      <th>14244</th>\n",
       "      <td>NaN</td>\n",
       "      <td>GEN</td>\n",
       "      <td>1993.0</td>\n",
       "      <td>NaN</td>\n",
       "      <td>0.00</td>\n",
       "      <td>0.00</td>\n",
       "      <td>0.03</td>\n",
       "      <td>0.00</td>\n",
       "      <td>NaN</td>\n",
       "      <td>NaN</td>\n",
       "      <td>NaN</td>\n",
       "    </tr>\n",
       "  </tbody>\n",
       "</table>\n",
       "</div>"
      ],
      "text/plain": [
       "      name platform  year_of_release genre  na_sales  eu_sales  jp_sales  \\\n",
       "659    NaN      GEN           1993.0   NaN      1.78      0.53      0.00   \n",
       "14244  NaN      GEN           1993.0   NaN      0.00      0.00      0.03   \n",
       "\n",
       "       other_sales  critic_score user_score rating  \n",
       "659           0.08           NaN        NaN    NaN  \n",
       "14244         0.00           NaN        NaN    NaN  "
      ]
     },
     "execution_count": 10,
     "metadata": {},
     "output_type": "execute_result"
    }
   ],
   "source": [
    "#fillimg missing values in name column\n",
    "df[df['name'].isna()] \n",
    "df[df['genre'].isna()] "
   ]
  },
  {
   "cell_type": "markdown",
   "id": "0ddb4c62",
   "metadata": {},
   "source": [
    "There are only two rows with missing 'name' value, both are released on 1993 year.\n",
    "we see that the missing values in genre variable are on the same rows of missing values in 'name'. \n",
    "It is problematic to assume game's name or genre by the scarce information we have, and these are only 2 rows, so it is better to remove them from the data."
   ]
  },
  {
   "cell_type": "code",
   "execution_count": 11,
   "id": "8f64c73d",
   "metadata": {},
   "outputs": [
    {
     "data": {
      "text/html": [
       "<div>\n",
       "<style scoped>\n",
       "    .dataframe tbody tr th:only-of-type {\n",
       "        vertical-align: middle;\n",
       "    }\n",
       "\n",
       "    .dataframe tbody tr th {\n",
       "        vertical-align: top;\n",
       "    }\n",
       "\n",
       "    .dataframe thead th {\n",
       "        text-align: right;\n",
       "    }\n",
       "</style>\n",
       "<table border=\"1\" class=\"dataframe\">\n",
       "  <thead>\n",
       "    <tr style=\"text-align: right;\">\n",
       "      <th></th>\n",
       "      <th>name</th>\n",
       "      <th>platform</th>\n",
       "      <th>year_of_release</th>\n",
       "      <th>genre</th>\n",
       "      <th>na_sales</th>\n",
       "      <th>eu_sales</th>\n",
       "      <th>jp_sales</th>\n",
       "      <th>other_sales</th>\n",
       "      <th>critic_score</th>\n",
       "      <th>user_score</th>\n",
       "      <th>rating</th>\n",
       "    </tr>\n",
       "  </thead>\n",
       "  <tbody>\n",
       "    <tr>\n",
       "      <th>0</th>\n",
       "      <td>Wii Sports</td>\n",
       "      <td>Wii</td>\n",
       "      <td>2006.0</td>\n",
       "      <td>Sports</td>\n",
       "      <td>41.36</td>\n",
       "      <td>28.96</td>\n",
       "      <td>3.77</td>\n",
       "      <td>8.45</td>\n",
       "      <td>76.0</td>\n",
       "      <td>8</td>\n",
       "      <td>E</td>\n",
       "    </tr>\n",
       "    <tr>\n",
       "      <th>1</th>\n",
       "      <td>Super Mario Bros.</td>\n",
       "      <td>NES</td>\n",
       "      <td>1985.0</td>\n",
       "      <td>Platform</td>\n",
       "      <td>29.08</td>\n",
       "      <td>3.58</td>\n",
       "      <td>6.81</td>\n",
       "      <td>0.77</td>\n",
       "      <td>NaN</td>\n",
       "      <td>NaN</td>\n",
       "      <td>NaN</td>\n",
       "    </tr>\n",
       "    <tr>\n",
       "      <th>2</th>\n",
       "      <td>Mario Kart Wii</td>\n",
       "      <td>Wii</td>\n",
       "      <td>2008.0</td>\n",
       "      <td>Racing</td>\n",
       "      <td>15.68</td>\n",
       "      <td>12.76</td>\n",
       "      <td>3.79</td>\n",
       "      <td>3.29</td>\n",
       "      <td>82.0</td>\n",
       "      <td>8.3</td>\n",
       "      <td>E</td>\n",
       "    </tr>\n",
       "    <tr>\n",
       "      <th>3</th>\n",
       "      <td>Wii Sports Resort</td>\n",
       "      <td>Wii</td>\n",
       "      <td>2009.0</td>\n",
       "      <td>Sports</td>\n",
       "      <td>15.61</td>\n",
       "      <td>10.93</td>\n",
       "      <td>3.28</td>\n",
       "      <td>2.95</td>\n",
       "      <td>80.0</td>\n",
       "      <td>8</td>\n",
       "      <td>E</td>\n",
       "    </tr>\n",
       "    <tr>\n",
       "      <th>4</th>\n",
       "      <td>Pokemon Red/Pokemon Blue</td>\n",
       "      <td>GB</td>\n",
       "      <td>1996.0</td>\n",
       "      <td>Role-Playing</td>\n",
       "      <td>11.27</td>\n",
       "      <td>8.89</td>\n",
       "      <td>10.22</td>\n",
       "      <td>1.00</td>\n",
       "      <td>NaN</td>\n",
       "      <td>NaN</td>\n",
       "      <td>NaN</td>\n",
       "    </tr>\n",
       "    <tr>\n",
       "      <th>...</th>\n",
       "      <td>...</td>\n",
       "      <td>...</td>\n",
       "      <td>...</td>\n",
       "      <td>...</td>\n",
       "      <td>...</td>\n",
       "      <td>...</td>\n",
       "      <td>...</td>\n",
       "      <td>...</td>\n",
       "      <td>...</td>\n",
       "      <td>...</td>\n",
       "      <td>...</td>\n",
       "    </tr>\n",
       "    <tr>\n",
       "      <th>16708</th>\n",
       "      <td>Samurai Warriors: Sanada Maru</td>\n",
       "      <td>PS3</td>\n",
       "      <td>2016.0</td>\n",
       "      <td>Action</td>\n",
       "      <td>0.00</td>\n",
       "      <td>0.00</td>\n",
       "      <td>0.01</td>\n",
       "      <td>0.00</td>\n",
       "      <td>NaN</td>\n",
       "      <td>NaN</td>\n",
       "      <td>NaN</td>\n",
       "    </tr>\n",
       "    <tr>\n",
       "      <th>16709</th>\n",
       "      <td>LMA Manager 2007</td>\n",
       "      <td>X360</td>\n",
       "      <td>2006.0</td>\n",
       "      <td>Sports</td>\n",
       "      <td>0.00</td>\n",
       "      <td>0.01</td>\n",
       "      <td>0.00</td>\n",
       "      <td>0.00</td>\n",
       "      <td>NaN</td>\n",
       "      <td>NaN</td>\n",
       "      <td>NaN</td>\n",
       "    </tr>\n",
       "    <tr>\n",
       "      <th>16710</th>\n",
       "      <td>Haitaka no Psychedelica</td>\n",
       "      <td>PSV</td>\n",
       "      <td>2016.0</td>\n",
       "      <td>Adventure</td>\n",
       "      <td>0.00</td>\n",
       "      <td>0.00</td>\n",
       "      <td>0.01</td>\n",
       "      <td>0.00</td>\n",
       "      <td>NaN</td>\n",
       "      <td>NaN</td>\n",
       "      <td>NaN</td>\n",
       "    </tr>\n",
       "    <tr>\n",
       "      <th>16711</th>\n",
       "      <td>Spirits &amp; Spells</td>\n",
       "      <td>GBA</td>\n",
       "      <td>2003.0</td>\n",
       "      <td>Platform</td>\n",
       "      <td>0.01</td>\n",
       "      <td>0.00</td>\n",
       "      <td>0.00</td>\n",
       "      <td>0.00</td>\n",
       "      <td>NaN</td>\n",
       "      <td>NaN</td>\n",
       "      <td>NaN</td>\n",
       "    </tr>\n",
       "    <tr>\n",
       "      <th>16712</th>\n",
       "      <td>Winning Post 8 2016</td>\n",
       "      <td>PSV</td>\n",
       "      <td>2016.0</td>\n",
       "      <td>Simulation</td>\n",
       "      <td>0.00</td>\n",
       "      <td>0.00</td>\n",
       "      <td>0.01</td>\n",
       "      <td>0.00</td>\n",
       "      <td>NaN</td>\n",
       "      <td>NaN</td>\n",
       "      <td>NaN</td>\n",
       "    </tr>\n",
       "  </tbody>\n",
       "</table>\n",
       "<p>16713 rows × 11 columns</p>\n",
       "</div>"
      ],
      "text/plain": [
       "                                name platform  year_of_release         genre  \\\n",
       "0                         Wii Sports      Wii           2006.0        Sports   \n",
       "1                  Super Mario Bros.      NES           1985.0      Platform   \n",
       "2                     Mario Kart Wii      Wii           2008.0        Racing   \n",
       "3                  Wii Sports Resort      Wii           2009.0        Sports   \n",
       "4           Pokemon Red/Pokemon Blue       GB           1996.0  Role-Playing   \n",
       "...                              ...      ...              ...           ...   \n",
       "16708  Samurai Warriors: Sanada Maru      PS3           2016.0        Action   \n",
       "16709               LMA Manager 2007     X360           2006.0        Sports   \n",
       "16710        Haitaka no Psychedelica      PSV           2016.0     Adventure   \n",
       "16711               Spirits & Spells      GBA           2003.0      Platform   \n",
       "16712            Winning Post 8 2016      PSV           2016.0    Simulation   \n",
       "\n",
       "       na_sales  eu_sales  jp_sales  other_sales  critic_score user_score  \\\n",
       "0         41.36     28.96      3.77         8.45          76.0          8   \n",
       "1         29.08      3.58      6.81         0.77           NaN        NaN   \n",
       "2         15.68     12.76      3.79         3.29          82.0        8.3   \n",
       "3         15.61     10.93      3.28         2.95          80.0          8   \n",
       "4         11.27      8.89     10.22         1.00           NaN        NaN   \n",
       "...         ...       ...       ...          ...           ...        ...   \n",
       "16708      0.00      0.00      0.01         0.00           NaN        NaN   \n",
       "16709      0.00      0.01      0.00         0.00           NaN        NaN   \n",
       "16710      0.00      0.00      0.01         0.00           NaN        NaN   \n",
       "16711      0.01      0.00      0.00         0.00           NaN        NaN   \n",
       "16712      0.00      0.00      0.01         0.00           NaN        NaN   \n",
       "\n",
       "      rating  \n",
       "0          E  \n",
       "1        NaN  \n",
       "2          E  \n",
       "3          E  \n",
       "4        NaN  \n",
       "...      ...  \n",
       "16708    NaN  \n",
       "16709    NaN  \n",
       "16710    NaN  \n",
       "16711    NaN  \n",
       "16712    NaN  \n",
       "\n",
       "[16713 rows x 11 columns]"
      ]
     },
     "execution_count": 11,
     "metadata": {},
     "output_type": "execute_result"
    }
   ],
   "source": [
    "df.dropna(subset=['genre', 'name'], inplace=True)\n",
    "df.reset_index(drop=True)"
   ]
  },
  {
   "cell_type": "code",
   "execution_count": 12,
   "id": "fcff2670",
   "metadata": {},
   "outputs": [
    {
     "data": {
      "text/plain": [
       "year_of_release\n",
       "False    16567\n",
       "True       146\n",
       "Name: count, dtype: int64"
      ]
     },
     "execution_count": 12,
     "metadata": {},
     "output_type": "execute_result"
    }
   ],
   "source": [
    "#filling missing values in year of release value:\n",
    "#There are 269 missing values which we will fill with median year of each name and platform\n",
    "df['year_of_release'] = df.groupby('name')['year_of_release'].transform(lambda grp: grp.fillna(np.floor(grp.median())))\n",
    "#checking if there are still missing values:\n",
    "df['year_of_release'].isna().value_counts()"
   ]
  },
  {
   "cell_type": "markdown",
   "id": "e8e98f04",
   "metadata": {},
   "source": [
    "We still have 146 missing values but do not have a proper way to fill them, so we'll leave them as missing values."
   ]
  },
  {
   "cell_type": "code",
   "execution_count": 13,
   "id": "f9eacfba",
   "metadata": {},
   "outputs": [],
   "source": [
    "#creating new variable for total sales:\n",
    "df['total_sales'] = df[['na_sales','eu_sales','jp_sales','other_sales']].sum(axis=1)"
   ]
  },
  {
   "cell_type": "code",
   "execution_count": 14,
   "id": "d749c209",
   "metadata": {},
   "outputs": [
    {
     "data": {
      "image/png": "[encoded data removed]",
      "text/plain": [
       "<Figure size 432x288 with 1 Axes>"
      ]
     },
     "metadata": {
      "needs_background": "light"
     },
     "output_type": "display_data"
    },
    {
     "data": {
      "image/png": "[encoded data removed]",
      "text/plain": [
       "<Figure size 432x288 with 1 Axes>"
      ]
     },
     "metadata": {
      "needs_background": "light"
     },
     "output_type": "display_data"
    }
   ],
   "source": [
    "#Before changing user_score data type we will check if there is a string value that caused this situation:\n",
    "df['user_score'].unique()\n",
    "#we see that there is a value 'tbd' we'll want to check how many times it is repeated in the data and\n",
    "#if it is related to some other column, such as the year of release:\n",
    "sns.boxplot(data= df[df['user_score']== 'tbd'], x='year_of_release', showfliers=False)\n",
    "plt.show()\n",
    "sns.boxplot(data= df[df['user_score']== 'tbd'], x='total_sales', showfliers=False)\n",
    "plt.show()"
   ]
  },
  {
   "cell_type": "markdown",
   "id": "8036ed1a",
   "metadata": {},
   "source": [
    "We see that there are 'tbd' values almost every year, meaning that it is not happening because of the year a game released.\n",
    "Another option is the hypothesis whether if there not a lot of sales of the game, meaning that few players use the game,\n",
    "thus, fewer players rank the game and there are not enough users to provide a user_score for the game. Regarding this option, we see that the total sales of the games are pretty low, but we can't be sure for 100% percent is it the cause."
   ]
  },
  {
   "cell_type": "markdown",
   "id": "b9b58bbf",
   "metadata": {},
   "source": [
    "Since user score 'tbd' is found 2,424 times but it seems that it is not related to a specific other charactaristic, we will replace the value with a numeric identifieble value so we could change the data type but also follow these rows and not analyze them."
   ]
  },
  {
   "cell_type": "code",
   "execution_count": 15,
   "id": "6b4449dd",
   "metadata": {},
   "outputs": [],
   "source": [
    "df.loc[df['user_score']=='tbd' ,'user_score']=-1"
   ]
  },
  {
   "cell_type": "code",
   "execution_count": 16,
   "id": "a4ceba5e",
   "metadata": {},
   "outputs": [
    {
     "data": {
      "text/plain": [
       "array(['8', nan, '8.3', '8.5', '6.6', '8.4', '8.6', '7.7', '6.3', '7.4',\n",
       "       '8.2', '9', '7.9', '8.1', '8.7', '7.1', '3.4', '5.3', '4.8', '3.2',\n",
       "       '8.9', '6.4', '7.8', '7.5', '2.6', '7.2', '9.2', '7', '7.3', '4.3',\n",
       "       '7.6', '5.7', '5', '9.1', '6.5', -1, '8.8', '6.9', '9.4', '6.8',\n",
       "       '6.1', '6.7', '5.4', '4', '4.9', '4.5', '9.3', '6.2', '4.2', '6',\n",
       "       '3.7', '4.1', '5.8', '5.6', '5.5', '4.4', '4.6', '5.9', '3.9',\n",
       "       '3.1', '2.9', '5.2', '3.3', '4.7', '5.1', '3.5', '2.5', '1.9', '3',\n",
       "       '2.7', '2.2', '2', '9.5', '2.1', '3.6', '2.8', '1.8', '3.8', '0',\n",
       "       '1.6', '9.6', '2.4', '1.7', '1.1', '0.3', '1.5', '0.7', '1.2',\n",
       "       '2.3', '0.5', '1.3', '0.2', '0.6', '1.4', '0.9', '1', '9.7'],\n",
       "      dtype=object)"
      ]
     },
     "execution_count": 16,
     "metadata": {},
     "output_type": "execute_result"
    }
   ],
   "source": [
    "df['user_score'].unique()"
   ]
  },
  {
   "cell_type": "code",
   "execution_count": 17,
   "id": "54d45f68",
   "metadata": {},
   "outputs": [],
   "source": [
    "df[\"user_score\"] = pd.to_numeric(df[\"user_score\"])"
   ]
  },
  {
   "cell_type": "code",
   "execution_count": 18,
   "id": "59ae08c1",
   "metadata": {},
   "outputs": [
    {
     "data": {
      "text/plain": [
       "0.4"
      ]
     },
     "execution_count": 18,
     "metadata": {},
     "output_type": "execute_result"
    }
   ],
   "source": [
    "round(len(df[df['user_score'].isna()])/df.shape[0], 2)"
   ]
  },
  {
   "cell_type": "markdown",
   "id": "be2f721a",
   "metadata": {},
   "source": [
    "The missing values in user_score variable are 40% of the data and will be analyzed later so it is better to not change them artificially. "
   ]
  },
  {
   "cell_type": "code",
   "execution_count": 19,
   "id": "ceaa2501",
   "metadata": {
    "scrolled": true
   },
   "outputs": [
    {
     "name": "stdout",
     "output_type": "stream",
     "text": [
      "<class 'pandas.core.frame.DataFrame'>\n",
      "Index: 16713 entries, 0 to 16714\n",
      "Data columns (total 12 columns):\n",
      " #   Column           Non-Null Count  Dtype  \n",
      "---  ------           --------------  -----  \n",
      " 0   name             16713 non-null  object \n",
      " 1   platform         16713 non-null  object \n",
      " 2   year_of_release  16567 non-null  float64\n",
      " 3   genre            16713 non-null  object \n",
      " 4   na_sales         16713 non-null  float64\n",
      " 5   eu_sales         16713 non-null  float64\n",
      " 6   jp_sales         16713 non-null  float64\n",
      " 7   other_sales      16713 non-null  float64\n",
      " 8   critic_score     8137 non-null   float64\n",
      " 9   user_score       10014 non-null  float64\n",
      " 10  rating           9949 non-null   object \n",
      " 11  total_sales      16713 non-null  float64\n",
      "dtypes: float64(8), object(4)\n",
      "memory usage: 1.7+ MB\n"
     ]
    }
   ],
   "source": [
    "#now, to ease the future analyses and comparisons between user and critic scores, we will multiply the user_score by 10\n",
    "df['user_score']= df['user_score']*10\n",
    "df.head(10)\n",
    "df.info()"
   ]
  },
  {
   "cell_type": "code",
   "execution_count": 20,
   "id": "8c58be5f",
   "metadata": {},
   "outputs": [
    {
     "data": {
      "text/plain": [
       "0.51"
      ]
     },
     "execution_count": 20,
     "metadata": {},
     "output_type": "execute_result"
    }
   ],
   "source": [
    "round(len(df[df['critic_score'].isna()])/df.shape[0], 2)"
   ]
  },
  {
   "cell_type": "markdown",
   "id": "db29523f",
   "metadata": {},
   "source": [
    "The missing values in critic_score variable are 51% of the data and will be analyzed later so it is better to not change them artificially. "
   ]
  },
  {
   "cell_type": "code",
   "execution_count": 21,
   "id": "d80a3235",
   "metadata": {},
   "outputs": [
    {
     "data": {
      "text/plain": [
       "array(['E', nan, 'M', 'T', 'E10+', 'K-A', 'AO', 'EC', 'RP'], dtype=object)"
      ]
     },
     "execution_count": 21,
     "metadata": {},
     "output_type": "execute_result"
    }
   ],
   "source": [
    "#Focusing on 'rating' variable\n",
    "df['rating'].unique()"
   ]
  },
  {
   "cell_type": "code",
   "execution_count": 22,
   "id": "6ef41ded",
   "metadata": {},
   "outputs": [],
   "source": [
    "#first we will change 'K-A' values to 'E' because they mean the same thing:\n",
    "df.loc[df['rating']=='K-A' ,'rating']='E'"
   ]
  },
  {
   "cell_type": "code",
   "execution_count": 23,
   "id": "31f08e39",
   "metadata": {},
   "outputs": [
    {
     "data": {
      "text/plain": [
       "rating\n",
       "False    10386\n",
       "True      6327\n",
       "Name: count, dtype: int64"
      ]
     },
     "execution_count": 23,
     "metadata": {},
     "output_type": "execute_result"
    }
   ],
   "source": [
    "#to fill the missing values in rating we will use the most common value of each game name:\n",
    "df['rating'] = df.groupby(['name'])['rating'].transform(lambda grp: grp.fillna(grp.mode().max()))\n",
    "#checking if there are still missing values:\n",
    "df['rating'].isna().value_counts()"
   ]
  },
  {
   "cell_type": "markdown",
   "id": "4710bc84",
   "metadata": {},
   "source": [
    "We still have 6,327 rows with missing rating values but we don't have a good estimator to fill the values with, other than game's name. We will fill the missing values with 'no rating' value"
   ]
  },
  {
   "cell_type": "code",
   "execution_count": 24,
   "id": "3f4721be",
   "metadata": {},
   "outputs": [
    {
     "data": {
      "text/plain": [
       "rating\n",
       "False    16713\n",
       "Name: count, dtype: int64"
      ]
     },
     "execution_count": 24,
     "metadata": {},
     "output_type": "execute_result"
    }
   ],
   "source": [
    "df['rating'].fillna('no rating', inplace=True)\n",
    "#checking if there are still missing values:\n",
    "df['rating'].isna().value_counts()"
   ]
  },
  {
   "cell_type": "code",
   "execution_count": 25,
   "id": "e1c5eca9",
   "metadata": {},
   "outputs": [
    {
     "data": {
      "text/plain": [
       "array(['E', 'no rating', 'M', 'T', 'E10+', 'AO', 'EC', 'RP'], dtype=object)"
      ]
     },
     "execution_count": 25,
     "metadata": {},
     "output_type": "execute_result"
    }
   ],
   "source": [
    "df['rating'].unique()"
   ]
  },
  {
   "cell_type": "code",
   "execution_count": 26,
   "id": "8bc33e16",
   "metadata": {},
   "outputs": [
    {
     "name": "stdout",
     "output_type": "stream",
     "text": [
      "<class 'pandas.core.frame.DataFrame'>\n",
      "Index: 16713 entries, 0 to 16714\n",
      "Data columns (total 12 columns):\n",
      " #   Column           Non-Null Count  Dtype  \n",
      "---  ------           --------------  -----  \n",
      " 0   name             16713 non-null  object \n",
      " 1   platform         16713 non-null  object \n",
      " 2   year_of_release  16567 non-null  float64\n",
      " 3   genre            16713 non-null  object \n",
      " 4   na_sales         16713 non-null  float64\n",
      " 5   eu_sales         16713 non-null  float64\n",
      " 6   jp_sales         16713 non-null  float64\n",
      " 7   other_sales      16713 non-null  float64\n",
      " 8   critic_score     8137 non-null   float64\n",
      " 9   user_score       10014 non-null  float64\n",
      " 10  rating           16713 non-null  object \n",
      " 11  total_sales      16713 non-null  float64\n",
      "dtypes: float64(8), object(4)\n",
      "memory usage: 1.7+ MB\n"
     ]
    }
   ],
   "source": [
    "#checking for duplicated rows:\n",
    "df.duplicated().value_counts()\n",
    "df.info()"
   ]
  },
  {
   "cell_type": "markdown",
   "id": "dc688588",
   "metadata": {},
   "source": [
    "Our data have now 16,713 rows, missing values of name and genre were filtered out, missing values of critic' and user' score rating and year_of_release were filled with the most appropriate values or were left as missing values. All the variables have the right data type and there are no duplicates."
   ]
  },
  {
   "cell_type": "code",
   "execution_count": 27,
   "id": "7861cf04",
   "metadata": {},
   "outputs": [
    {
     "data": {
      "text/html": [
       "<div>\n",
       "<style scoped>\n",
       "    .dataframe tbody tr th:only-of-type {\n",
       "        vertical-align: middle;\n",
       "    }\n",
       "\n",
       "    .dataframe tbody tr th {\n",
       "        vertical-align: top;\n",
       "    }\n",
       "\n",
       "    .dataframe thead th {\n",
       "        text-align: right;\n",
       "    }\n",
       "</style>\n",
       "<table border=\"1\" class=\"dataframe\">\n",
       "  <thead>\n",
       "    <tr style=\"text-align: right;\">\n",
       "      <th></th>\n",
       "      <th>name</th>\n",
       "      <th>platform</th>\n",
       "      <th>year_of_release</th>\n",
       "      <th>genre</th>\n",
       "      <th>na_sales</th>\n",
       "      <th>eu_sales</th>\n",
       "      <th>jp_sales</th>\n",
       "      <th>other_sales</th>\n",
       "      <th>critic_score</th>\n",
       "      <th>user_score</th>\n",
       "      <th>rating</th>\n",
       "      <th>total_sales</th>\n",
       "    </tr>\n",
       "  </thead>\n",
       "  <tbody>\n",
       "    <tr>\n",
       "      <th>604</th>\n",
       "      <td>Madden NFL 13</td>\n",
       "      <td>PS3</td>\n",
       "      <td>2012.0</td>\n",
       "      <td>Sports</td>\n",
       "      <td>2.11</td>\n",
       "      <td>0.22</td>\n",
       "      <td>0.00</td>\n",
       "      <td>0.23</td>\n",
       "      <td>83.0</td>\n",
       "      <td>55.0</td>\n",
       "      <td>E</td>\n",
       "      <td>2.56</td>\n",
       "    </tr>\n",
       "    <tr>\n",
       "      <th>1745</th>\n",
       "      <td>Sonic the Hedgehog</td>\n",
       "      <td>PS3</td>\n",
       "      <td>2006.0</td>\n",
       "      <td>Platform</td>\n",
       "      <td>0.41</td>\n",
       "      <td>0.06</td>\n",
       "      <td>0.04</td>\n",
       "      <td>0.66</td>\n",
       "      <td>43.0</td>\n",
       "      <td>41.0</td>\n",
       "      <td>E10+</td>\n",
       "      <td>1.17</td>\n",
       "    </tr>\n",
       "    <tr>\n",
       "      <th>4127</th>\n",
       "      <td>Sonic the Hedgehog</td>\n",
       "      <td>PS3</td>\n",
       "      <td>2006.0</td>\n",
       "      <td>Platform</td>\n",
       "      <td>0.00</td>\n",
       "      <td>0.48</td>\n",
       "      <td>0.00</td>\n",
       "      <td>0.00</td>\n",
       "      <td>43.0</td>\n",
       "      <td>41.0</td>\n",
       "      <td>E10+</td>\n",
       "      <td>0.48</td>\n",
       "    </tr>\n",
       "    <tr>\n",
       "      <th>16230</th>\n",
       "      <td>Madden NFL 13</td>\n",
       "      <td>PS3</td>\n",
       "      <td>2012.0</td>\n",
       "      <td>Sports</td>\n",
       "      <td>0.00</td>\n",
       "      <td>0.01</td>\n",
       "      <td>0.00</td>\n",
       "      <td>0.00</td>\n",
       "      <td>83.0</td>\n",
       "      <td>55.0</td>\n",
       "      <td>E</td>\n",
       "      <td>0.01</td>\n",
       "    </tr>\n",
       "  </tbody>\n",
       "</table>\n",
       "</div>"
      ],
      "text/plain": [
       "                     name platform  year_of_release     genre  na_sales  \\\n",
       "604         Madden NFL 13      PS3           2012.0    Sports      2.11   \n",
       "1745   Sonic the Hedgehog      PS3           2006.0  Platform      0.41   \n",
       "4127   Sonic the Hedgehog      PS3           2006.0  Platform      0.00   \n",
       "16230       Madden NFL 13      PS3           2012.0    Sports      0.00   \n",
       "\n",
       "       eu_sales  jp_sales  other_sales  critic_score  user_score rating  \\\n",
       "604        0.22      0.00         0.23          83.0        55.0      E   \n",
       "1745       0.06      0.04         0.66          43.0        41.0   E10+   \n",
       "4127       0.48      0.00         0.00          43.0        41.0   E10+   \n",
       "16230      0.01      0.00         0.00          83.0        55.0      E   \n",
       "\n",
       "       total_sales  \n",
       "604           2.56  \n",
       "1745          1.17  \n",
       "4127          0.48  \n",
       "16230         0.01  "
      ]
     },
     "execution_count": 27,
     "metadata": {},
     "output_type": "execute_result"
    }
   ],
   "source": [
    "# Reviewer's code\n",
    "\n",
    "df[df[['name', 'platform', 'year_of_release']].duplicated(keep=False)]"
   ]
  },
  {
   "cell_type": "markdown",
   "id": "6bfd7396",
   "metadata": {},
   "source": [
    "## Analyze the data"
   ]
  },
  {
   "cell_type": "code",
   "execution_count": 28,
   "id": "7ba88c5d",
   "metadata": {},
   "outputs": [
    {
     "data": {
      "text/html": [
       "<div>\n",
       "<style scoped>\n",
       "    .dataframe tbody tr th:only-of-type {\n",
       "        vertical-align: middle;\n",
       "    }\n",
       "\n",
       "    .dataframe tbody tr th {\n",
       "        vertical-align: top;\n",
       "    }\n",
       "\n",
       "    .dataframe thead th {\n",
       "        text-align: right;\n",
       "    }\n",
       "</style>\n",
       "<table border=\"1\" class=\"dataframe\">\n",
       "  <thead>\n",
       "    <tr style=\"text-align: right;\">\n",
       "      <th></th>\n",
       "      <th>count</th>\n",
       "    </tr>\n",
       "    <tr>\n",
       "      <th>year_of_release</th>\n",
       "      <th></th>\n",
       "    </tr>\n",
       "  </thead>\n",
       "  <tbody>\n",
       "    <tr>\n",
       "      <th>1980.0</th>\n",
       "      <td>9</td>\n",
       "    </tr>\n",
       "    <tr>\n",
       "      <th>1981.0</th>\n",
       "      <td>46</td>\n",
       "    </tr>\n",
       "    <tr>\n",
       "      <th>1982.0</th>\n",
       "      <td>36</td>\n",
       "    </tr>\n",
       "    <tr>\n",
       "      <th>1983.0</th>\n",
       "      <td>17</td>\n",
       "    </tr>\n",
       "    <tr>\n",
       "      <th>1984.0</th>\n",
       "      <td>14</td>\n",
       "    </tr>\n",
       "    <tr>\n",
       "      <th>1985.0</th>\n",
       "      <td>14</td>\n",
       "    </tr>\n",
       "    <tr>\n",
       "      <th>1986.0</th>\n",
       "      <td>21</td>\n",
       "    </tr>\n",
       "    <tr>\n",
       "      <th>1987.0</th>\n",
       "      <td>16</td>\n",
       "    </tr>\n",
       "    <tr>\n",
       "      <th>1988.0</th>\n",
       "      <td>15</td>\n",
       "    </tr>\n",
       "    <tr>\n",
       "      <th>1989.0</th>\n",
       "      <td>17</td>\n",
       "    </tr>\n",
       "    <tr>\n",
       "      <th>1990.0</th>\n",
       "      <td>16</td>\n",
       "    </tr>\n",
       "    <tr>\n",
       "      <th>1991.0</th>\n",
       "      <td>41</td>\n",
       "    </tr>\n",
       "    <tr>\n",
       "      <th>1992.0</th>\n",
       "      <td>43</td>\n",
       "    </tr>\n",
       "    <tr>\n",
       "      <th>1993.0</th>\n",
       "      <td>60</td>\n",
       "    </tr>\n",
       "    <tr>\n",
       "      <th>1994.0</th>\n",
       "      <td>121</td>\n",
       "    </tr>\n",
       "    <tr>\n",
       "      <th>1995.0</th>\n",
       "      <td>219</td>\n",
       "    </tr>\n",
       "    <tr>\n",
       "      <th>1996.0</th>\n",
       "      <td>263</td>\n",
       "    </tr>\n",
       "    <tr>\n",
       "      <th>1997.0</th>\n",
       "      <td>289</td>\n",
       "    </tr>\n",
       "    <tr>\n",
       "      <th>1998.0</th>\n",
       "      <td>379</td>\n",
       "    </tr>\n",
       "    <tr>\n",
       "      <th>1999.0</th>\n",
       "      <td>340</td>\n",
       "    </tr>\n",
       "    <tr>\n",
       "      <th>2000.0</th>\n",
       "      <td>351</td>\n",
       "    </tr>\n",
       "    <tr>\n",
       "      <th>2001.0</th>\n",
       "      <td>486</td>\n",
       "    </tr>\n",
       "    <tr>\n",
       "      <th>2002.0</th>\n",
       "      <td>844</td>\n",
       "    </tr>\n",
       "    <tr>\n",
       "      <th>2003.0</th>\n",
       "      <td>784</td>\n",
       "    </tr>\n",
       "    <tr>\n",
       "      <th>2004.0</th>\n",
       "      <td>765</td>\n",
       "    </tr>\n",
       "    <tr>\n",
       "      <th>2005.0</th>\n",
       "      <td>948</td>\n",
       "    </tr>\n",
       "    <tr>\n",
       "      <th>2006.0</th>\n",
       "      <td>1019</td>\n",
       "    </tr>\n",
       "    <tr>\n",
       "      <th>2007.0</th>\n",
       "      <td>1202</td>\n",
       "    </tr>\n",
       "    <tr>\n",
       "      <th>2008.0</th>\n",
       "      <td>1441</td>\n",
       "    </tr>\n",
       "    <tr>\n",
       "      <th>2009.0</th>\n",
       "      <td>1430</td>\n",
       "    </tr>\n",
       "    <tr>\n",
       "      <th>2010.0</th>\n",
       "      <td>1269</td>\n",
       "    </tr>\n",
       "    <tr>\n",
       "      <th>2011.0</th>\n",
       "      <td>1153</td>\n",
       "    </tr>\n",
       "    <tr>\n",
       "      <th>2012.0</th>\n",
       "      <td>662</td>\n",
       "    </tr>\n",
       "    <tr>\n",
       "      <th>2013.0</th>\n",
       "      <td>548</td>\n",
       "    </tr>\n",
       "    <tr>\n",
       "      <th>2014.0</th>\n",
       "      <td>581</td>\n",
       "    </tr>\n",
       "    <tr>\n",
       "      <th>2015.0</th>\n",
       "      <td>606</td>\n",
       "    </tr>\n",
       "    <tr>\n",
       "      <th>2016.0</th>\n",
       "      <td>502</td>\n",
       "    </tr>\n",
       "  </tbody>\n",
       "</table>\n",
       "</div>"
      ],
      "text/plain": [
       "                 count\n",
       "year_of_release       \n",
       "1980.0               9\n",
       "1981.0              46\n",
       "1982.0              36\n",
       "1983.0              17\n",
       "1984.0              14\n",
       "1985.0              14\n",
       "1986.0              21\n",
       "1987.0              16\n",
       "1988.0              15\n",
       "1989.0              17\n",
       "1990.0              16\n",
       "1991.0              41\n",
       "1992.0              43\n",
       "1993.0              60\n",
       "1994.0             121\n",
       "1995.0             219\n",
       "1996.0             263\n",
       "1997.0             289\n",
       "1998.0             379\n",
       "1999.0             340\n",
       "2000.0             351\n",
       "2001.0             486\n",
       "2002.0             844\n",
       "2003.0             784\n",
       "2004.0             765\n",
       "2005.0             948\n",
       "2006.0            1019\n",
       "2007.0            1202\n",
       "2008.0            1441\n",
       "2009.0            1430\n",
       "2010.0            1269\n",
       "2011.0            1153\n",
       "2012.0             662\n",
       "2013.0             548\n",
       "2014.0             581\n",
       "2015.0             606\n",
       "2016.0             502"
      ]
     },
     "execution_count": 28,
     "metadata": {},
     "output_type": "execute_result"
    }
   ],
   "source": [
    "count_year = df.pivot_table(values='name', index= 'year_of_release', aggfunc='count').rename(columns={'name':'count'})\n",
    "count_year"
   ]
  },
  {
   "cell_type": "code",
   "execution_count": 29,
   "id": "e8d9614e",
   "metadata": {},
   "outputs": [
    {
     "data": {
      "image/png": "[encoded data removed]",
      "text/plain": [
       "<Figure size 1440x864 with 1 Axes>"
      ]
     },
     "metadata": {
      "needs_background": "light"
     },
     "output_type": "display_data"
    }
   ],
   "source": [
    "# Checking how many games were released in each year:\n",
    "count_year.plot(kind='bar', figsize=(20,12),legend=False)\n",
    "plt.title('Games released over the years')\n",
    "plt.ylabel('Count')\n",
    "plt.xlabel('Years')\n",
    "plt.show()\n"
   ]
  },
  {
   "cell_type": "markdown",
   "id": "0f325d05",
   "metadata": {},
   "source": [
    "We see that the number of game releasing every year grows gradually. Only from 1993 there are more than 50 games released every year, which allows us to analyze only 1993 and later. We will ommit the data before 1993:"
   ]
  },
  {
   "cell_type": "code",
   "execution_count": 30,
   "id": "0b38ac69",
   "metadata": {},
   "outputs": [
    {
     "name": "stdout",
     "output_type": "stream",
     "text": [
      "<class 'pandas.core.frame.DataFrame'>\n",
      "RangeIndex: 16262 entries, 0 to 16261\n",
      "Data columns (total 12 columns):\n",
      " #   Column           Non-Null Count  Dtype  \n",
      "---  ------           --------------  -----  \n",
      " 0   name             16262 non-null  object \n",
      " 1   platform         16262 non-null  object \n",
      " 2   year_of_release  16262 non-null  float64\n",
      " 3   genre            16262 non-null  object \n",
      " 4   na_sales         16262 non-null  float64\n",
      " 5   eu_sales         16262 non-null  float64\n",
      " 6   jp_sales         16262 non-null  float64\n",
      " 7   other_sales      16262 non-null  float64\n",
      " 8   critic_score     8072 non-null   float64\n",
      " 9   user_score       9931 non-null   float64\n",
      " 10  rating           16262 non-null  object \n",
      " 11  total_sales      16262 non-null  float64\n",
      "dtypes: float64(8), object(4)\n",
      "memory usage: 1.5+ MB\n"
     ]
    }
   ],
   "source": [
    "ommited_df= df[df['year_of_release']>1992.0].reset_index(drop=True)\n",
    "ommited_df.info()"
   ]
  },
  {
   "cell_type": "code",
   "execution_count": null,
   "id": "b9b40f4e",
   "metadata": {},
   "outputs": [
    {
     "data": {
      "text/html": [
       "<div>\n",
       "<style scoped>\n",
       "    .dataframe tbody tr th:only-of-type {\n",
       "        vertical-align: middle;\n",
       "    }\n",
       "\n",
       "    .dataframe tbody tr th {\n",
       "        vertical-align: top;\n",
       "    }\n",
       "\n",
       "    .dataframe thead th {\n",
       "        text-align: right;\n",
       "    }\n",
       "</style>\n",
       "<table border=\"1\" class=\"dataframe\">\n",
       "  <thead>\n",
       "    <tr style=\"text-align: right;\">\n",
       "      <th></th>\n",
       "      <th>name</th>\n",
       "      <th>platform</th>\n",
       "      <th>year_of_release</th>\n",
       "      <th>genre</th>\n",
       "      <th>na_sales</th>\n",
       "      <th>eu_sales</th>\n",
       "      <th>jp_sales</th>\n",
       "      <th>other_sales</th>\n",
       "      <th>critic_score</th>\n",
       "      <th>user_score</th>\n",
       "      <th>rating</th>\n",
       "      <th>total_sales</th>\n",
       "    </tr>\n",
       "  </thead>\n",
       "  <tbody>\n",
       "    <tr>\n",
       "      <th>0</th>\n",
       "      <td>Wii Sports</td>\n",
       "      <td>Wii</td>\n",
       "      <td>2006.0</td>\n",
       "      <td>Sports</td>\n",
       "      <td>41.36</td>\n",
       "      <td>28.96</td>\n",
       "      <td>3.77</td>\n",
       "      <td>8.45</td>\n",
       "      <td>76.0</td>\n",
       "      <td>80.0</td>\n",
       "      <td>E</td>\n",
       "      <td>82.54</td>\n",
       "    </tr>\n",
       "    <tr>\n",
       "      <th>1</th>\n",
       "      <td>Mario Kart Wii</td>\n",
       "      <td>Wii</td>\n",
       "      <td>2008.0</td>\n",
       "      <td>Racing</td>\n",
       "      <td>15.68</td>\n",
       "      <td>12.76</td>\n",
       "      <td>3.79</td>\n",
       "      <td>3.29</td>\n",
       "      <td>82.0</td>\n",
       "      <td>83.0</td>\n",
       "      <td>E</td>\n",
       "      <td>35.52</td>\n",
       "    </tr>\n",
       "    <tr>\n",
       "      <th>2</th>\n",
       "      <td>Wii Sports Resort</td>\n",
       "      <td>Wii</td>\n",
       "      <td>2009.0</td>\n",
       "      <td>Sports</td>\n",
       "      <td>15.61</td>\n",
       "      <td>10.93</td>\n",
       "      <td>3.28</td>\n",
       "      <td>2.95</td>\n",
       "      <td>80.0</td>\n",
       "      <td>80.0</td>\n",
       "      <td>E</td>\n",
       "      <td>32.77</td>\n",
       "    </tr>\n",
       "    <tr>\n",
       "      <th>3</th>\n",
       "      <td>Pokemon Red/Pokemon Blue</td>\n",
       "      <td>GB</td>\n",
       "      <td>1996.0</td>\n",
       "      <td>Role-Playing</td>\n",
       "      <td>11.27</td>\n",
       "      <td>8.89</td>\n",
       "      <td>10.22</td>\n",
       "      <td>1.00</td>\n",
       "      <td>NaN</td>\n",
       "      <td>NaN</td>\n",
       "      <td>no rating</td>\n",
       "      <td>31.38</td>\n",
       "    </tr>\n",
       "    <tr>\n",
       "      <th>4</th>\n",
       "      <td>New Super Mario Bros.</td>\n",
       "      <td>DS</td>\n",
       "      <td>2006.0</td>\n",
       "      <td>Platform</td>\n",
       "      <td>11.28</td>\n",
       "      <td>9.14</td>\n",
       "      <td>6.50</td>\n",
       "      <td>2.88</td>\n",
       "      <td>89.0</td>\n",
       "      <td>85.0</td>\n",
       "      <td>E</td>\n",
       "      <td>29.80</td>\n",
       "    </tr>\n",
       "  </tbody>\n",
       "</table>\n",
       "</div>"
      ],
      "text/plain": [
       "                       name platform  year_of_release         genre  na_sales  \\\n",
       "0                Wii Sports      Wii           2006.0        Sports     41.36   \n",
       "1            Mario Kart Wii      Wii           2008.0        Racing     15.68   \n",
       "2         Wii Sports Resort      Wii           2009.0        Sports     15.61   \n",
       "3  Pokemon Red/Pokemon Blue       GB           1996.0  Role-Playing     11.27   \n",
       "4     New Super Mario Bros.       DS           2006.0      Platform     11.28   \n",
       "\n",
       "   eu_sales  jp_sales  other_sales  critic_score  user_score     rating  \\\n",
       "0     28.96      3.77         8.45          76.0        80.0          E   \n",
       "1     12.76      3.79         3.29          82.0        83.0          E   \n",
       "2     10.93      3.28         2.95          80.0        80.0          E   \n",
       "3      8.89     10.22         1.00           NaN         NaN  no rating   \n",
       "4      9.14      6.50         2.88          89.0        85.0          E   \n",
       "\n",
       "   total_sales  \n",
       "0        82.54  \n",
       "1        35.52  \n",
       "2        32.77  \n",
       "3        31.38  \n",
       "4        29.80  "
      ]
     },
     "execution_count": 31,
     "metadata": {},
     "output_type": "execute_result"
    }
   ],
   "source": [
    "ommited_df.head()"
   ]
  },
  {
   "cell_type": "code",
   "execution_count": null,
   "id": "c3b37648",
   "metadata": {},
   "outputs": [],
   "source": [
    "# Checking total sales in each platform:\n",
    "platforms = ommited_df.groupby(['platform'])['total_sales'].agg('sum').sort_values().reset_index()\n",
    "platforms\n"
   ]
  },
  {
   "cell_type": "code",
   "execution_count": null,
   "id": "ddc52928",
   "metadata": {},
   "outputs": [],
   "source": [
    "fig=plt.figure(figsize=(20,5))\n",
    "sns.barplot(x=\"platform\", y='total_sales', data=platforms)\n",
    "plt.title('Total sales per platform')\n",
    "plt.ylabel('Sales in millions')\n",
    "plt.xlabel('Platforms')\n",
    "plt.show()\n"
   ]
  },
  {
   "cell_type": "markdown",
   "id": "9d6421dd",
   "metadata": {},
   "source": [
    "PS2, X360, PS3 and Wii are the platforms with the biggest amount of sales with more than 900 milion dollars. we'll check now how their sales looked over the years:"
   ]
  },
  {
   "cell_type": "code",
   "execution_count": null,
   "id": "7b53db43",
   "metadata": {},
   "outputs": [],
   "source": [
    "# Reviewer's code\n",
    "\n",
    "list(platforms.sort_values(by='total_sales')['platform'].tail(4))"
   ]
  },
  {
   "cell_type": "code",
   "execution_count": null,
   "id": "02bd950d",
   "metadata": {},
   "outputs": [],
   "source": [
    "# Reviewer's code\n",
    "\n",
    "l = list(platforms.sort_values(by='total_sales')['platform'].tail(4))\n",
    "\n",
    "(ommited_df.query('platform in @l').groupby(['platform', 'year_of_release'])['total_sales'].agg('sum')\n",
    " .sort_values().reset_index().rename(columns={'total_sales':'total sales', 'year_of_release': 'year of release'})\n",
    ")"
   ]
  },
  {
   "cell_type": "code",
   "execution_count": null,
   "id": "64096928",
   "metadata": {},
   "outputs": [],
   "source": [
    "#creating a list of the 4 biggest platforms:\n",
    "l = list(platforms.sort_values(by='total_sales')['platform'].tail(4))\n",
    "#building a data frame for the four biggest plaforms:\n",
    "sale_platforms = ommited_df.query('platform in @l').groupby(['platform', 'year_of_release'])['total_sales'].agg('sum').sort_values().reset_index().rename(columns={'total_sales':'total sales', 'year_of_release': 'year of release'})\n",
    "#sale_platforms\n"
   ]
  },
  {
   "cell_type": "code",
   "execution_count": null,
   "id": "96637009",
   "metadata": {},
   "outputs": [],
   "source": [
    "fig=plt.figure(figsize=(20,10))\n",
    "\n",
    "sns.barplot(data=sale_platforms, x=\"year of release\",y='total sales', hue=\"platform\")\n",
    "plt.title('Sales over the years per platform')\n",
    "plt.ylabel('Sales in millions')\n",
    "plt.xlabel('Years')\n",
    "plt.show()\n"
   ]
  },
  {
   "cell_type": "markdown",
   "id": "d122a8a5",
   "metadata": {},
   "source": [
    "Focusing on the four platforms with biggest overall sales we can see that they are considerably new, only PS2 was launched in 2000 and the others, 5-6 years later. All the platforms show a bell curve, with a peak in sales (2002-2004 for PS2, 2009 for Wii, 2010 for X360 and 2011 for PS3) that is followed by a clear decline in sales. There is a clear pattern of purchase behavior of the users - every platform is launched, it takes for most of the cases a few years to reach a peak in sales and then it becomes less innovative and cool and displaced by a newer, more advanced platform and less users buy the platform until it is coming off the shelves. Based on these platforms the life span of platforms is 10-11 years, and it takes 3-5 years to get to the top and 4-5 years to fade.\n",
    "Also we can see that when less platforms are sold in the same time, the sales are higher. "
   ]
  },
  {
   "cell_type": "markdown",
   "id": "cef5630c",
   "metadata": {},
   "source": [
    "To understand more clearly what is the life span of platforms we'll focus on plaforms that were popular on the past. We will pick platforms that are not the four mentioned above, bot their total sales over the years are above the median."
   ]
  },
  {
   "cell_type": "code",
   "execution_count": null,
   "id": "afa85ac6",
   "metadata": {},
   "outputs": [],
   "source": [
    "median =platforms['total_sales'].median()\n",
    "median"
   ]
  },
  {
   "cell_type": "code",
   "execution_count": null,
   "id": "e6946cbe",
   "metadata": {},
   "outputs": [],
   "source": [
    "#creating a list of the platforms that have above the median total sales but are not the 4 highest:\n",
    "other_platforms = platforms.query('total_sales > @median & platform not in @l')['platform'].tolist()\n",
    "#other_platforms\n",
    "#creating a new df with data on sales for the chosen platforms\n",
    "sale_other_platforms = ommited_df.query('platform in @other_platforms').groupby(['platform', 'year_of_release'])['total_sales'].agg('sum').sort_values().reset_index()\n",
    "#sale_other_platforms"
   ]
  },
  {
   "cell_type": "code",
   "execution_count": null,
   "id": "b3214d4c",
   "metadata": {},
   "outputs": [],
   "source": [
    "#creating a list of the platforms that have sales in 2016 to ommit these platforms from the analysis\n",
    "dead_plat_list = sale_other_platforms.query('year_of_release == 2016.0')['platform'].tolist()\n",
    "#dead_plat_list\n",
    "#creating a filtered df with data on the chosen platforms\n",
    "sale_dead_platforms = sale_other_platforms.query('platform not in @dead_plat_list').sort_values(by=['year_of_release']).reset_index(drop=True)\n",
    "sale_dead_platforms"
   ]
  },
  {
   "cell_type": "code",
   "execution_count": null,
   "id": "b5e36c22",
   "metadata": {},
   "outputs": [],
   "source": [
    "print(f\" The average life span of a platform for popular platforms is:  {round(sale_dead_platforms.groupby('platform')['platform'].value_counts().mean(),2)} years.\")\n"
   ]
  },
  {
   "cell_type": "code",
   "execution_count": null,
   "id": "e1227bdb",
   "metadata": {},
   "outputs": [],
   "source": [
    "#we want to check how the life span of all the platforms look like, to understand the data better:\n",
    "plat_life_span=ommited_df.groupby(['platform', 'year_of_release'])['total_sales'].agg('sum').sort_values().reset_index()\n",
    "plat_life_span.groupby('platform')['platform'].value_counts().describe()"
   ]
  },
  {
   "cell_type": "code",
   "execution_count": null,
   "id": "6d705073",
   "metadata": {},
   "outputs": [],
   "source": [
    "fig=plt.figure(figsize=(20,10))\n",
    "\n",
    "sns.barplot(data=sale_other_platforms, x=\"year_of_release\",y='total_sales')\n",
    "plt.title('Sales over the years per platform - other successful platforms')\n",
    "plt.ylabel('Sales in millions')\n",
    "plt.xlabel('Years')\n",
    "plt.show()\n"
   ]
  },
  {
   "cell_type": "markdown",
   "id": "3021c3bd",
   "metadata": {},
   "source": [
    "The average life span of popular platforms from the past is 9 years while the average across all the platforms is 7 years. We take into acount that this mean value includes considerably new platforms that released in the last years so they have low values, and also outliers that have extreme values. We are interested in most recent data which will give us the best estimation to users' preferences, we can see from the bar plot that from 2010 users' behavior is changing in it is resulted by the sales numbers. Half of average popular platform lifetime is 5 years, so further calculations we will only use data from 2012.0 and further."
   ]
  },
  {
   "cell_type": "code",
   "execution_count": null,
   "id": "73d51698",
   "metadata": {},
   "outputs": [],
   "source": [
    "ommited_df2=ommited_df[ommited_df['year_of_release']>2011.0].reset_index(drop=True)\n",
    "#ommited_df2.info()"
   ]
  },
  {
   "cell_type": "code",
   "execution_count": null,
   "id": "4b2f11c1",
   "metadata": {},
   "outputs": [],
   "source": [
    "sales_all_plat= ommited_df2.pivot_table(values= 'total_sales', columns='platform', index='year_of_release', aggfunc='sum' )\n",
    "sales_all_plat"
   ]
  },
  {
   "cell_type": "markdown",
   "id": "50970d69",
   "metadata": {},
   "source": [
    "We can see in the table above, that even though we analyze data from only the past 5 years, there are still platforms that do not have data from the past years, probably because they already were taken off the shelves. Thus, DS platform won't take into account in the next steps but PSP will because we only don't have the data for the past year, and we know that it still did not end so there is a chance that it still sold. "
   ]
  },
  {
   "cell_type": "code",
   "execution_count": null,
   "id": "bd52e944",
   "metadata": {},
   "outputs": [],
   "source": [
    "#filtering the irrelevant columns\n",
    "sales_filt_plat = sales_all_plat.drop(['DS'], axis = 1).plot(figsize=(14,7), style='o-',title=\"Sales over the years per platform\", xlabel='Year', ylabel='Sales in millions')\n",
    "sales_filt_plat\n",
    "plt.show()"
   ]
  },
  {
   "cell_type": "markdown",
   "id": "5b980707",
   "metadata": {},
   "source": [
    "From the graph and the table above we can see that most of the platforms have a some decline in sales on the 2013-2016 years, for some of them it is a steap continuos decline(X360, PS3,Wii) and for some it is more moderate(PSP,PSV,WiiU, PC, 3DS).\n",
    "Despite the seen pattern of shrinking, we point out PS4 and XOne platforms as potentially profitable since both of them were released 4 years ago and comparing to the average duration they are still 'young' and their sales on the last year stand out compared to ther platforms. Adittionaly to them, we want to investigate 3DS platform which shows a moderate decline in sales but still is more profitable than the rest of the platforms in 2015-2016 years. Now we will focus on these 3 potential platforms and compare them to the results from the bigger df."
   ]
  },
  {
   "cell_type": "code",
   "execution_count": null,
   "id": "96810782",
   "metadata": {},
   "outputs": [],
   "source": [
    "#filtering the data with chosen platforms\n",
    "games_filt_plat = ommited_df2.query('platform ==\"PS4\" | platform == \"XOne\" | platform == \"3DS\"').reset_index(drop=True)\n",
    "#games_filt_plat\n",
    "#creating df of games in each platform and total sales\n",
    "games = games_filt_plat.groupby(['name', 'platform'])['total_sales'].agg('sum').sort_values().reset_index()\n",
    "#games"
   ]
  },
  {
   "cell_type": "code",
   "execution_count": null,
   "id": "5f9ff535",
   "metadata": {},
   "outputs": [],
   "source": [
    "platform_total_sales = games.pivot_table(values='total_sales', index='platform',  aggfunc= ['mean', 'median', 'var','std', 'min', 'max'] )\n",
    "platform_total_sales.columns = platform_total_sales.columns.droplevel(1)\n",
    "platform_total_sales"
   ]
  },
  {
   "cell_type": "code",
   "execution_count": null,
   "id": "9607f05c",
   "metadata": {},
   "outputs": [],
   "source": [
    "fig=plt.figure(figsize=(20,5))\n",
    "sns.boxplot(data=games, x=\"platform\", y=\"total_sales\", showfliers=False)\n",
    "plt.show()"
   ]
  },
  {
   "cell_type": "markdown",
   "id": "0d4e019e",
   "metadata": {},
   "source": [
    "We see that PS4 has the highest average value of sales per game, but XOne has the highest median value and its variance is much smaller. The sales in each platform do not distributed normally and are skewed to the right, meaning that there are very high values in some games that affect the average revenue value per game."
   ]
  },
  {
   "cell_type": "code",
   "execution_count": null,
   "id": "4a76a336",
   "metadata": {},
   "outputs": [],
   "source": [
    "#creating df of sales per games across all platforms\n",
    "games_all_plat = ommited_df2.groupby(['name', 'platform'])['total_sales'].agg('sum').sort_values().reset_index()\n",
    "#games_all_plat\n",
    "fig=plt.figure(figsize=(20,5))\n",
    "sns.boxplot(data=games_all_plat, x=\"platform\", y=\"total_sales\", showfliers=False)\n",
    "plt.show()"
   ]
  },
  {
   "cell_type": "code",
   "execution_count": null,
   "id": "ad907ae4",
   "metadata": {},
   "outputs": [],
   "source": [
    "all_platform_total_sales = games_all_plat.pivot_table(values='total_sales', index='platform',  aggfunc= ['mean', 'median', 'var','std', 'min', 'max'] )\n",
    "all_platform_total_sales.columns = all_platform_total_sales.columns.droplevel(1)\n",
    "all_platform_total_sales"
   ]
  },
  {
   "cell_type": "markdown",
   "id": "72f4f2a3",
   "metadata": {},
   "source": [
    "Looking on all the platforms,we can see that the average game sales is pretty different between platforms, meaning that the platform has some effect on the game sales. The sales in each platform do not distributed normally and are skewed to the right, meaning that there are very high values in some games that affect the average revenue value per game in the platform."
   ]
  },
  {
   "cell_type": "markdown",
   "id": "cc1f427d",
   "metadata": {},
   "source": [
    "To understand the possible effect of user and professional reviews on the sales, we will focus on PS4 platform which has the highest average sales per game and shows the highest sales in total in 2016."
   ]
  },
  {
   "cell_type": "code",
   "execution_count": null,
   "id": "3e571c33",
   "metadata": {},
   "outputs": [],
   "source": [
    "ps4_reviews = ommited_df2.loc[(ommited_df2['platform']== \"PS4\") & (ommited_df2['critic_score'].notnull()) & (ommited_df2['user_score'].notnull()), ['critic_score', 'user_score', 'total_sales'] ].reset_index(drop=True)\n",
    "#ps4_reviews"
   ]
  },
  {
   "cell_type": "code",
   "execution_count": null,
   "id": "dd60152c",
   "metadata": {},
   "outputs": [],
   "source": [
    "fig=plt.figure(figsize=(14,7))\n",
    "sns.scatterplot(data=ps4_reviews, x='user_score', y=\"total_sales\")\n",
    "plt.title('Sales by user scores in PS4')\n",
    "plt.ylabel('Sales in millions')\n",
    "plt.xlabel('User scores')\n",
    "plt.show()"
   ]
  },
  {
   "cell_type": "code",
   "execution_count": null,
   "id": "029ef645",
   "metadata": {},
   "outputs": [],
   "source": [
    "fig=plt.figure(figsize=(14,7))\n",
    "sns.scatterplot(data=ps4_reviews, x='critic_score', y=\"total_sales\")\n",
    "plt.title('Sales by critic scores in PS4')\n",
    "plt.ylabel('Sales in millions')\n",
    "plt.xlabel('Critic scores')\n",
    "plt.show()"
   ]
  },
  {
   "cell_type": "code",
   "execution_count": null,
   "id": "d9bb635b",
   "metadata": {},
   "outputs": [],
   "source": [
    "ps4_reviews.corr()"
   ]
  },
  {
   "cell_type": "markdown",
   "id": "622a539d",
   "metadata": {},
   "source": [
    "Based on the scatterplots and the correlation matrix we can say that user reviews have small negative correlation  of -0.01 with sales, meaning that the user scores do not affect (almost) at all the sales of games in the platform. In contrast, there is a small positive corrleation of 0.41 between the professional reviews and the sales, meaning that an increase in one point in critic's review will lead to an increase of 0.41 units of sales. Next we will compare the results to those calculated on two chosen platforms - we chose XOne and PS3 instead of XOne and 3DS, because a check on the amount of the specific games in 3DS platform showed too small data to analyze and PS3 was popular in the past so it is a good replacement."
   ]
  },
  {
   "cell_type": "code",
   "execution_count": null,
   "id": "b5387b66",
   "metadata": {},
   "outputs": [],
   "source": [
    "#creating a list of the games in the platform to compare them:\n",
    "games_list = ommited_df2.query('platform== \"PS4\"')['name'].unique().tolist()\n",
    "#games_list"
   ]
  },
  {
   "cell_type": "code",
   "execution_count": null,
   "id": "e73bc915",
   "metadata": {},
   "outputs": [],
   "source": [
    "fig=plt.figure(figsize=(14,7))\n",
    "sns.scatterplot(data=ommited_df2.query('(platform ==\"XOne\"| platform==\"PS3\") & name in @games_list'), x='critic_score', y=\"total_sales\", hue='platform')\n",
    "plt.title('Sales by critic scores in XOne and PS3 platforms')\n",
    "plt.ylabel('Sales in millions')\n",
    "plt.xlabel('Critic scores')\n",
    "plt.show()"
   ]
  },
  {
   "cell_type": "code",
   "execution_count": null,
   "id": "fbb57460",
   "metadata": {},
   "outputs": [],
   "source": [
    "fig=plt.figure(figsize=(14,7))\n",
    "sns.scatterplot(data=ommited_df2.query('(platform ==\"XOne\"| platform==\"PS3\") & name in @games_list'), x='user_score', y=\"total_sales\", hue='platform')\n",
    "plt.title('Sales by user scores in XOne and PS3 platforms')\n",
    "plt.ylabel('Sales in millions')\n",
    "plt.xlabel('User scores')\n",
    "plt.show()"
   ]
  },
  {
   "cell_type": "code",
   "execution_count": null,
   "id": "98aa144c",
   "metadata": {},
   "outputs": [],
   "source": [
    "ommited_df2.query('platform ==\"XOne\" & name in @games_list')[['user_score', 'critic_score', 'total_sales']].corr()"
   ]
  },
  {
   "cell_type": "code",
   "execution_count": null,
   "id": "ef6c772b",
   "metadata": {},
   "outputs": [],
   "source": [
    "ommited_df2.query('platform==\"PS3\" & name in @games_list')[['user_score', 'critic_score', 'total_sales']].corr()"
   ]
  },
  {
   "cell_type": "markdown",
   "id": "b2372e04",
   "metadata": {},
   "source": [
    "Analyzing the data on the same games in the other two platforms who are profitable too, shows a bit different picture. In case of XOne platform, user reviews have small positive correlation  of 0.05 with sales, meaning that the user scores affect very little, but positively, on the sales of games in this platform; and in the case of PS3 we see a small positive correlation of 0.15 between user's score and sales, it is much stronger correlation than in XOne or PS4 but overall still considered as weak relationship between the variables.\n",
    "In XOne there is a moderate positive corrleation of 0.4 between the professional reviews and the sales, meaning that an increase in one point in critic's review will lead to an increase of 0.4 units of sales, a bit smaller result of 0.37 represented in PS3 platform.These correlations are similar to the correlation in PS4 platform. Although there are differences, it can be said that the conclusions are alike - user reviews almost do not affect the sales while critic' reviews do."
   ]
  },
  {
   "cell_type": "code",
   "execution_count": null,
   "id": "4f2921ed",
   "metadata": {},
   "outputs": [],
   "source": [
    "game_by_genre = ommited_df2.pivot_table(index='genre', values='total_sales', aggfunc=['count', 'sum', 'mean'])\n",
    "game_by_genre.columns = game_by_genre.columns.droplevel(1)\n",
    "#game_by_genre"
   ]
  },
  {
   "cell_type": "code",
   "execution_count": null,
   "id": "fc47f848",
   "metadata": {},
   "outputs": [],
   "source": [
    "game_by_genre.sort_values(by=['count']).plot(kind='bar', y='count', ylabel='Count of games', xlabel='Genre', title='Number of games per genre', legend=False)\n",
    "plt.show()"
   ]
  },
  {
   "cell_type": "markdown",
   "id": "58d29e9e",
   "metadata": {},
   "source": [
    "We see that most of the games released are related to 'action' genre which has significantly bigger amount compared to other categories. After action, the next genres with high numbers of games released are 'role-playing' and 'adventure' genres."
   ]
  },
  {
   "cell_type": "code",
   "execution_count": null,
   "id": "d070cf65",
   "metadata": {},
   "outputs": [],
   "source": [
    "game_by_genre.sort_values(by=['sum']).plot(kind='bar', y='sum', ylabel='Sales in millions', xlabel='Genre', title='Sales per genre', legend=False)\n",
    "plt.show()"
   ]
  },
  {
   "cell_type": "markdown",
   "id": "1f5c540e",
   "metadata": {},
   "source": [
    "We see that 'Action' genre not only has the highest amount of games but also is the most profitable.'Shooter'genre also has great revenue and is the second highest, followed by 'role-playing'. "
   ]
  },
  {
   "cell_type": "code",
   "execution_count": null,
   "id": "4c726ee5",
   "metadata": {},
   "outputs": [],
   "source": [
    "game_by_genre.sort_values(by=['mean']).plot(kind='bar', y='mean', ylabel='Sales in millions', xlabel='Genre', title='Average game sales per genre', legend=False)\n",
    "plt.show()"
   ]
  },
  {
   "cell_type": "markdown",
   "id": "1eb60314",
   "metadata": {},
   "source": [
    "'Shooter', 'platform' and 'sports' genres have high revenue but the number of games released under the genres is not so high, meaning that even though the amount of games released is not very high - these games are very profitable and popular; in contrast to 'action' genre or 'role-playing' that their sales are not so big compared to the amount of games released.  "
   ]
  },
  {
   "cell_type": "markdown",
   "id": "7a0e8198",
   "metadata": {},
   "source": [
    "### Creating regional user profile "
   ]
  },
  {
   "cell_type": "code",
   "execution_count": null,
   "id": "74217999",
   "metadata": {},
   "outputs": [],
   "source": [
    "sales_eu_plat=ommited_df2.pivot_table(values= 'eu_sales', columns='platform', aggfunc='sum' ).T.sort_values(by=['eu_sales'], ascending=False).head(5)\n",
    "#sales_eu_plat"
   ]
  },
  {
   "cell_type": "code",
   "execution_count": null,
   "id": "e542bf8d",
   "metadata": {},
   "outputs": [],
   "source": [
    "sales_jp_plat_y= ommited_df2.pivot_table(values= 'jp_sales', columns='platform', aggfunc='sum' ).T.sort_values(by=['jp_sales'], ascending=False).head(5)\n",
    "#sales_jp_plat_y"
   ]
  },
  {
   "cell_type": "code",
   "execution_count": null,
   "id": "1cb5635d",
   "metadata": {},
   "outputs": [],
   "source": [
    "sales_na_plat_y= ommited_df2.pivot_table(values= 'na_sales', columns='platform', aggfunc='sum' ).T.sort_values(by=['na_sales'], ascending=False).head(5)\n",
    "#sales_na_plat_y"
   ]
  },
  {
   "cell_type": "code",
   "execution_count": null,
   "id": "afb0e08e",
   "metadata": {},
   "outputs": [],
   "source": [
    "from functools import reduce\n",
    "data_frames = [sales_na_plat_y,  sales_jp_plat_y,sales_eu_plat] \n",
    "platforms_merged = reduce(lambda  left,right: pd.merge(left,right,on=['platform'], how='outer'), data_frames)\n",
    "platforms_merged"
   ]
  },
  {
   "cell_type": "markdown",
   "id": "ccb18cee",
   "metadata": {},
   "source": [
    "We can see that PS4, 3DS, PS3 are in the top 5 platforms in all the regions, but other platforms such as WiiU, XOne, X360, PSV are popular in one or two regions but not in all of them. Additionally, we can see that there are very big differences in sales between the first and the fifth best platforms in each region. Most of these platforms were highlighted earlier as potentially profitable platforms or 'young' platforms with under the average duration. Next we'll look how their sales varies between regions."
   ]
  },
  {
   "cell_type": "code",
   "execution_count": null,
   "id": "d92cfcba",
   "metadata": {},
   "outputs": [],
   "source": [
    "platforms_merged.plot(figsize=(14,7),kind='bar', ylabel='Sales in millions', xlabel='Platform', title='Sales of top platforms by region')\n",
    "plt.show()"
   ]
  },
  {
   "cell_type": "code",
   "execution_count": null,
   "id": "f98d4216",
   "metadata": {},
   "outputs": [],
   "source": [
    "\n",
    "platforms_merged.plot(figsize=(14,7),kind='pie',subplots=True, title='Top platforms market share by region',layout=(1, 3), legend=False, autopct='%1.0f%%')\n",
    "plt.show()\n"
   ]
  },
  {
   "cell_type": "markdown",
   "id": "80d3d8d9",
   "metadata": {},
   "source": [
    "We see that the sales of every platforms are different between regions - other than PS3 which has similar market share in all the regions (20-26%), PS4 succeed in EU and NA regions (22-34%) but not so much in JP (9%) and on the opposite - 3DS has more than half of the market share in JP but only 10% in EU and NA regions. XOne and X360 that succeed the most in NA and then in EU, are not in the top 5 in JP; and WiiU and PSV which have 20% of the market in JP are not in the top 5 of EU region nor NA region.\n",
    "Overall we see that EU region and NA are more similar in user's buying behavior and buy all kinds of platforms while JP users show different behavior  - they and are more specific in their preferences and buy mainly the 3DS platform. Next we'll try to understand if there are differences in genre preferences between regions:"
   ]
  },
  {
   "cell_type": "markdown",
   "id": "97b826d7",
   "metadata": {},
   "source": [
    "Assuming that top five genres are the genres that the ratio between their amount and revenue are the highest, we'll take the genres with the highest average values in each region."
   ]
  },
  {
   "cell_type": "code",
   "execution_count": null,
   "id": "674b4cc3",
   "metadata": {},
   "outputs": [],
   "source": [
    "#creating table of sales and avg sales by genre in eu region:\n",
    "sales_eu_genre=ommited_df2.pivot_table(values= 'eu_sales', index='genre', aggfunc=['mean', 'sum'] )\n",
    "sales_eu_genre.columns =sales_eu_genre.columns.droplevel(1)\n",
    "#sorting by mean to find top 5\n",
    "sales_eu_genre = sales_eu_genre.sort_values(by=['mean'], ascending=False).head(5)\n",
    "sales_eu_genre=sales_eu_genre[['sum']].rename(columns={'sum':'eu_sales'})\n",
    "sales_eu_genre"
   ]
  },
  {
   "cell_type": "code",
   "execution_count": null,
   "id": "d18bdea7",
   "metadata": {},
   "outputs": [],
   "source": [
    "#creating table of sales and avg sales by genre in na region:\n",
    "sales_na_genre=ommited_df2.pivot_table(values= 'na_sales', index='genre', aggfunc=['mean', 'sum'] )\n",
    "sales_na_genre.columns =sales_na_genre.columns.droplevel(1)\n",
    "#sorting by mean to find top 5\n",
    "sales_na_genre = sales_na_genre.sort_values(by=['mean'], ascending=False).head(5)\n",
    "sales_na_genre=sales_na_genre[['sum']].rename(columns={'sum':'na_sales'})\n",
    "#sales_na_genre"
   ]
  },
  {
   "cell_type": "code",
   "execution_count": null,
   "id": "c9550127",
   "metadata": {},
   "outputs": [],
   "source": [
    "#creating table of sales and avg sales by genre in jp region:\n",
    "sales_jp_genre=ommited_df2.pivot_table(values= 'jp_sales', index='genre', aggfunc=['mean', 'sum'] )\n",
    "sales_jp_genre.columns =sales_jp_genre.columns.droplevel(1)\n",
    "#sorting by mean to find top 5\n",
    "sales_jp_genre = sales_jp_genre.sort_values(by=['mean'], ascending=False).head(5)\n",
    "sales_jp_genre=sales_jp_genre[['sum']].rename(columns={'sum':'jp_sales'})\n",
    "#sales_jp_genre"
   ]
  },
  {
   "cell_type": "code",
   "execution_count": null,
   "id": "643c973b",
   "metadata": {},
   "outputs": [],
   "source": [
    "data_frames2 = [sales_na_genre, sales_jp_genre,sales_eu_genre] \n",
    "genres_merged = reduce(lambda  left,right: pd.merge(left,right,on=['genre'], how='outer'), data_frames2)\n",
    "genres_merged"
   ]
  },
  {
   "cell_type": "markdown",
   "id": "38049a98",
   "metadata": {},
   "source": [
    "We can see that platform genre is the only one who is in the top 5 genres in all the regions. The genres 'shooter', 'sports', 'fighting' and 'simulation' are in the top 5 in 2 regions and 'misc', 'role-playing', 'puzzle' and 'racing' are in the top in only one of the regions. \n",
    "Unlike the platforms earlier, we see more variety in prefered genres between regions. "
   ]
  },
  {
   "cell_type": "code",
   "execution_count": null,
   "id": "06fcba80",
   "metadata": {},
   "outputs": [],
   "source": [
    "genres_merged.plot(figsize=(14,7),kind='bar', ylabel='Sales in millions', xlabel='Genre', title='Sales of top genres by region')\n",
    "plt.show()"
   ]
  },
  {
   "cell_type": "code",
   "execution_count": null,
   "id": "5d8f74dc",
   "metadata": {},
   "outputs": [],
   "source": [
    "genres_merged.plot(subplots=True,figsize=(20,7),kind='pie', title='Top genres market share by region', legend=False, autopct='%1.0f%%')\n",
    "plt.show()"
   ]
  },
  {
   "cell_type": "markdown",
   "id": "2df565d2",
   "metadata": {},
   "source": [
    "We see that the sales of every genre are different between regions - other than Platform which has similar market share in all the regions (8-9%), Shooter and Sports succeed in EU and NA regions (46-47% and 26-28% respectively) but not in JP and on the opposite - Role-playing has almost 70% the market share in JP but is not in the top 5 in EU and NA regions. Simulation genre has 6-11% of the market in JP and EU and Fighting has 6-10% in JP and NA. Puzzle genre is popular only in JP, Racing only in EU and Misc only in NA. \n",
    "Overall we see that EU region and NA are a bit more similar in user's buying behavior compared to JP users who are more specific in their preferences and buy mainly the Role-playing genre games. But here we see that there differences in preferences between all the regions. Next we'll try to look how ESRB ratings affect the sales in every region:"
   ]
  },
  {
   "cell_type": "code",
   "execution_count": null,
   "id": "6a99e1a9",
   "metadata": {},
   "outputs": [],
   "source": [
    "ersb_regions = ommited_df2.pivot_table(columns='rating', values=['na_sales', 'jp_sales', 'eu_sales'], aggfunc=['sum'])\n",
    "ersb_regions.columns = ersb_regions.columns.droplevel(0)\n",
    "ersb_regions= ersb_regions.T\n",
    "ersb_regions"
   ]
  },
  {
   "cell_type": "code",
   "execution_count": null,
   "id": "9a3c7195",
   "metadata": {},
   "outputs": [],
   "source": [
    "ersb_regions.plot(figsize=(14,7),kind='bar', ylabel='Sales in millions', xlabel='ESRB Rating', title='Sales by ESRB ratings in regions')\n",
    "plt.show()"
   ]
  },
  {
   "cell_type": "markdown",
   "id": "85cc6b8a",
   "metadata": {},
   "source": [
    "We see that all regions buy games rated by all the labels. \n",
    "Here we see the same pattern seen above - NA users spend more than other users in total, and EU spend less than them but show similar pattern of behavior; meaning that the ranking maybe affects the sales overall, but this effect is the same for both regions. Intrestingly, EU and NA highest sales are in 'mature' rated games compared to all other ratings. In contrast, JP users buy mostly games that are not rated and after that games for teens ('T') or for everyone ('E'). "
   ]
  },
  {
   "cell_type": "markdown",
   "id": "2d5dadb2",
   "metadata": {},
   "source": [
    "### Testing hypotheses:\n",
    "1. Xbox One user ratings Vs. PC  user ratings:\n",
    "\n",
    "H0- the avarage ratings of users of Xbox One and PC are equal.\n",
    "H1- the average ratings of usersof Xbox One and PC are not equal.\n",
    "alpha will set as 5%\n",
    "We will check the hypothesis in a two-tailed t-test, we will check the assumption regarding group's variances because we cannot be sure that these are the same users and maybe their ratings do not have the same variance."
   ]
  },
  {
   "cell_type": "code",
   "execution_count": null,
   "id": "d618d9a0",
   "metadata": {},
   "outputs": [],
   "source": [
    "alpha=0.05\n",
    "user_xbox = ommited_df2.query('platform== \"XOne\" & user_score<=100.0 &user_score>=0.0')['user_score'].reset_index(drop=True)\n",
    "user_pc = ommited_df2.query('platform== \"PC\" & user_score<=100.0 &user_score>=0.0')['user_score'].reset_index(drop=True)"
   ]
  },
  {
   "cell_type": "code",
   "execution_count": null,
   "id": "a99b5503",
   "metadata": {},
   "outputs": [],
   "source": [
    "user_xbox.describe()"
   ]
  },
  {
   "cell_type": "code",
   "execution_count": null,
   "id": "7164eff9",
   "metadata": {},
   "outputs": [],
   "source": [
    "user_pc.describe()"
   ]
  },
  {
   "cell_type": "code",
   "execution_count": null,
   "id": "f04583f1",
   "metadata": {},
   "outputs": [],
   "source": [
    "# Test the hypothesis\n",
    "if np.var(user_xbox, ddof=1)== np.var(user_pc, ddof=1):\n",
    "    results = st.ttest_ind(user_xbox, user_pc, equal_var=True)\n",
    "else: \n",
    "    results = st.ttest_ind(user_xbox, user_pc, equal_var=False)\n",
    "print('p-value:', results.pvalue)\n",
    "if results.pvalue < alpha:\n",
    "    print(\"We reject the null hypothesis, meaning that the average users' scores of Xbox One and PC platforms are significantly differnt in 95%.\")\n",
    "else:\n",
    "    print(\"We can't reject the null hypothesis, meaning that the average users' scores of Xbox One and PC platforms are equal in 95%.\")\n"
   ]
  },
  {
   "cell_type": "markdown",
   "id": "9798771a",
   "metadata": {},
   "source": [
    "2. Action genre' user ratings Vs. sports genre' user ratings:\n",
    "*Altough the hypothesis is written as a check of difference, the statistical test assumes as a null hypothesis an equal means.*\n",
    "H0- the avarage ratings of users of Action genre and Sports genre are equal.\n",
    "H1- the average ratings of users of Action genre and Sports genre are not equal.\n",
    "alpha will set as 5%\n",
    "We will check the hypothesis in a two-tailed t-test, we will check the assumption regarding group's variances because we cannot be sure that these are the same users and maybe their ratings do not have the same variance."
   ]
  },
  {
   "cell_type": "code",
   "execution_count": null,
   "id": "abe9f92d",
   "metadata": {},
   "outputs": [],
   "source": [
    "user_action = ommited_df2.query('genre== \"Action\" & user_score<=100.0 &user_score>=0.0')['user_score'].reset_index(drop=True)\n",
    "user_sports = ommited_df2.query('genre== \"Sports\" & user_score<=100.0 &user_score>=0.0')['user_score'].reset_index(drop=True)"
   ]
  },
  {
   "cell_type": "code",
   "execution_count": null,
   "id": "dded340f",
   "metadata": {},
   "outputs": [],
   "source": [
    "user_action.describe()"
   ]
  },
  {
   "cell_type": "code",
   "execution_count": null,
   "id": "f469c561",
   "metadata": {},
   "outputs": [],
   "source": [
    "user_sports.describe()"
   ]
  },
  {
   "cell_type": "code",
   "execution_count": null,
   "id": "b3f4aa6f",
   "metadata": {},
   "outputs": [],
   "source": [
    "# Test the hypotheses\n",
    "if np.var(user_action, ddof=1)== np.var(user_sports, ddof=1):\n",
    "    results = st.ttest_ind(user_action, user_sports, equal_var=True)\n",
    "else: \n",
    "    results = st.ttest_ind(user_action, user_sports, equal_var=False)\n",
    "print('p-value:', results.pvalue)\n",
    "if results.pvalue < alpha:\n",
    "    print(\"We reject the null hypothesis, meaning that the average users' scores of sports and action genres are not significantly equal in 95%.\")\n",
    "else:\n",
    "    print(\"We can't reject the null hypothesis, meaning that the average users' scores of sports and action genres are equal in 95%.\")\n"
   ]
  },
  {
   "cell_type": "markdown",
   "id": "4809becb",
   "metadata": {},
   "source": [
    "### Final conclusions:"
   ]
  },
  {
   "cell_type": "markdown",
   "id": "4a68debc",
   "metadata": {},
   "source": [
    "After fixing wrong data types and fill missing values, we have found that before 1993 there were not many games released every year, so we filtered the data. We have learned that in general the average life span of games is 7 years and 9 in case of popular games, for that reason we analyzed only data from 2012, which is half of average life time in order to make clearer prediction for 2017 year.\n",
    "\n",
    "1. Analyzing the platforms led to a finding of the most profitable platforms for 2016 - PS4 and XOne which are only 4 years old, meaning that theoretically their peak has not come yet; and 3DS which is in a moderate decline in sales but still has more revenue compared to the rest.\n",
    "2. A small positive correlation was found between critic's score and game's sales, but not between user's score and sales. \n",
    "3. The most profitable genres in average are 'Shooter', 'platform' and 'sports' , the most profitable genres are action, shooter and role-playing.\n",
    "4. Users in Japan present different preferences compared to users in North America or Europe, their highest selling platform is 3DS which has the biggest market share without any competition, in contrast to NA and EU that prefer the PS4, PS3 or X360 after that.\n",
    "5. This difference is presented in genre preferences too - JP region prefers heavily 'Role-Playing' genre games, compared to EU and NA which buy mostly 'Shooter' and 'Sports' games. \n",
    "6. JP users buy mainly  games that have no ESRB rating while EU and NA buy more mature or eveyone rated games. \n",
    "7. The average user score of Xbox One is not significantly different compared to scores given to PC platform. In contrast, the  average scores of action genre and sports genre are significantly different in alpha=5%.\n",
    "#### Planning the next year campaigns should take into account the differences between regions and to advertise and promote 3DS platform, not labeled and mainly role-playing games for JP users, in contrast to EU and NA users that should see more promotions on PS4 or XOne platforms, 'everyone' or 'mature' labeled, and mainly shooter and sport games. Additionally, it will be wise to promote to all the regions 'Platform' genre game which have high rate of sales-amount, and is in the top 5 of all the regions;  and to promote other games that achieve high critic's rates due to the positive correlation that was found. "
   ]
  }
 ],
 "metadata": {
  "kernelspec": {
   "display_name": "Python 3",
   "language": "python",
   "name": "python3"
  },
  "language_info": {
   "codemirror_mode": {
    "name": "ipython",
    "version": 3
   },
   "file_extension": ".py",
   "mimetype": "text/x-python",
   "name": "python",
   "nbconvert_exporter": "python",
   "pygments_lexer": "ipython3",
   "version": "3.8.8"
  },
  "toc": {
   "base_numbering": 1,
   "nav_menu": {},
   "number_sections": true,
   "sideBar": true,
   "skip_h1_title": true,
   "title_cell": "Table of Contents",
   "title_sidebar": "Contents",
   "toc_cell": false,
   "toc_position": {
    "height": "calc(100% - 180px)",
    "left": "10px",
    "top": "150px",
    "width": "211.8px"
   },
   "toc_section_display": true,
   "toc_window_display": true
  }
 },
 "nbformat": 4,
 "nbformat_minor": 5
}
