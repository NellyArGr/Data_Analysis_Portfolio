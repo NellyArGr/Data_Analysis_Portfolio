{
 "cells": [
  {
   "cell_type": "markdown",
   "id": "4ec693dd",
   "metadata": {},
   "source": [
    "---"
   ]
  },
  {
   "cell_type": "markdown",
   "id": "c3cc114e",
   "metadata": {},
   "source": [
    "###### In the next project, the data of Yandex Afisha in June 17' till May 18' will be analyzed in order to learn how product users behave in matters of duration and frequency of usage or shopping, how the revenue and the marketing costs are changing over time and between sources. The aim of the project is to gain knowledge about the business metrics of the product and provide suggestions based on data. "
   ]
  },
  {
   "cell_type": "markdown",
   "id": "9d2d1853",
   "metadata": {},
   "source": [
    "### Download and prepare the data"
   ]
  },
  {
   "cell_type": "code",
   "execution_count": 1,
   "id": "506766cf",
   "metadata": {},
   "outputs": [
    {
     "name": "stderr",
     "output_type": "stream",
     "text": [
      "C:\\Users\\NELLY\\anaconda3\\lib\\site-packages\\scipy\\__init__.py:146: UserWarning: A NumPy version >=1.16.5 and <1.23.0 is required for this version of SciPy (detected version 1.24.3\n",
      "  warnings.warn(f\"A NumPy version >={np_minversion} and <{np_maxversion}\"\n"
     ]
    }
   ],
   "source": [
    "import pandas as pd\n",
    "import matplotlib.pyplot as plt \n",
    "import datetime as dt\n",
    "import numpy as np\n",
    "import seaborn as sns\n",
    "import warnings\n",
    "warnings.filterwarnings('ignore')"
   ]
  },
  {
   "cell_type": "code",
   "execution_count": 2,
   "id": "b357e269",
   "metadata": {},
   "outputs": [
    {
     "data": {
      "text/html": [
       "<div>\n",
       "<style scoped>\n",
       "    .dataframe tbody tr th:only-of-type {\n",
       "        vertical-align: middle;\n",
       "    }\n",
       "\n",
       "    .dataframe tbody tr th {\n",
       "        vertical-align: top;\n",
       "    }\n",
       "\n",
       "    .dataframe thead th {\n",
       "        text-align: right;\n",
       "    }\n",
       "</style>\n",
       "<table border=\"1\" class=\"dataframe\">\n",
       "  <thead>\n",
       "    <tr style=\"text-align: right;\">\n",
       "      <th></th>\n",
       "      <th>Device</th>\n",
       "      <th>End Ts</th>\n",
       "      <th>Source Id</th>\n",
       "      <th>Start Ts</th>\n",
       "      <th>Uid</th>\n",
       "    </tr>\n",
       "  </thead>\n",
       "  <tbody>\n",
       "    <tr>\n",
       "      <th>0</th>\n",
       "      <td>touch</td>\n",
       "      <td>2017-12-20 17:38:00</td>\n",
       "      <td>4</td>\n",
       "      <td>2017-12-20 17:20:00</td>\n",
       "      <td>16879256277535980062</td>\n",
       "    </tr>\n",
       "    <tr>\n",
       "      <th>1</th>\n",
       "      <td>desktop</td>\n",
       "      <td>2018-02-19 17:21:00</td>\n",
       "      <td>2</td>\n",
       "      <td>2018-02-19 16:53:00</td>\n",
       "      <td>104060357244891740</td>\n",
       "    </tr>\n",
       "    <tr>\n",
       "      <th>2</th>\n",
       "      <td>touch</td>\n",
       "      <td>2017-07-01 01:54:00</td>\n",
       "      <td>5</td>\n",
       "      <td>2017-07-01 01:54:00</td>\n",
       "      <td>7459035603376831527</td>\n",
       "    </tr>\n",
       "    <tr>\n",
       "      <th>3</th>\n",
       "      <td>desktop</td>\n",
       "      <td>2018-05-20 11:23:00</td>\n",
       "      <td>9</td>\n",
       "      <td>2018-05-20 10:59:00</td>\n",
       "      <td>16174680259334210214</td>\n",
       "    </tr>\n",
       "    <tr>\n",
       "      <th>4</th>\n",
       "      <td>desktop</td>\n",
       "      <td>2017-12-27 14:06:00</td>\n",
       "      <td>3</td>\n",
       "      <td>2017-12-27 14:06:00</td>\n",
       "      <td>9969694820036681168</td>\n",
       "    </tr>\n",
       "  </tbody>\n",
       "</table>\n",
       "</div>"
      ],
      "text/plain": [
       "    Device               End Ts  Source Id             Start Ts  \\\n",
       "0    touch  2017-12-20 17:38:00          4  2017-12-20 17:20:00   \n",
       "1  desktop  2018-02-19 17:21:00          2  2018-02-19 16:53:00   \n",
       "2    touch  2017-07-01 01:54:00          5  2017-07-01 01:54:00   \n",
       "3  desktop  2018-05-20 11:23:00          9  2018-05-20 10:59:00   \n",
       "4  desktop  2017-12-27 14:06:00          3  2017-12-27 14:06:00   \n",
       "\n",
       "                    Uid  \n",
       "0  16879256277535980062  \n",
       "1    104060357244891740  \n",
       "2   7459035603376831527  \n",
       "3  16174680259334210214  \n",
       "4   9969694820036681168  "
      ]
     },
     "execution_count": 2,
     "metadata": {},
     "output_type": "execute_result"
    }
   ],
   "source": [
    "try:\n",
    "    visits= pd.read_csv('C:/Users/NELLY/Downloads/visits_log_us.csv')\n",
    "except:\n",
    "    visits= pd.read_csv('/datasets/visits_log_us.csv')\n",
    "visits.head()"
   ]
  },
  {
   "cell_type": "code",
   "execution_count": 3,
   "id": "24d9e8e3",
   "metadata": {},
   "outputs": [
    {
     "name": "stdout",
     "output_type": "stream",
     "text": [
      "<class 'pandas.core.frame.DataFrame'>\n",
      "RangeIndex: 359400 entries, 0 to 359399\n",
      "Data columns (total 5 columns):\n",
      " #   Column     Non-Null Count   Dtype \n",
      "---  ------     --------------   ----- \n",
      " 0   Device     359400 non-null  object\n",
      " 1   End Ts     359400 non-null  object\n",
      " 2   Source Id  359400 non-null  int64 \n",
      " 3   Start Ts   359400 non-null  object\n",
      " 4   Uid        359400 non-null  uint64\n",
      "dtypes: int64(1), object(3), uint64(1)\n",
      "memory usage: 13.7+ MB\n"
     ]
    }
   ],
   "source": [
    "visits.info()"
   ]
  },
  {
   "cell_type": "markdown",
   "id": "d056aad5",
   "metadata": {},
   "source": [
    "Visits table includes information about users' logs on website visits, first we will change the variable names to lower case. We see that there are no missing values but the date columns need to be changed to a date datatype. Additionaly, we will check how many unique values 'Device' column includes, and if there are a few, we'll change its type to a category. "
   ]
  },
  {
   "cell_type": "code",
   "execution_count": 4,
   "id": "b43ce1b9",
   "metadata": {},
   "outputs": [],
   "source": [
    "#changing the column names to lowercase:\n",
    "visits.columns = visits.columns.str.lower()\n",
    "#changing datatypes to datetime:\n",
    "visits['start ts'] =  pd.to_datetime(visits['start ts'])\n",
    "visits['end ts'] =  pd.to_datetime(visits['end ts']) "
   ]
  },
  {
   "cell_type": "code",
   "execution_count": 5,
   "id": "75ddb79f",
   "metadata": {},
   "outputs": [],
   "source": [
    "visits['device'].value_counts()\n",
    "#Changing the data type to categorical b/c there are only two unique values:\n",
    "visits['device'] = visits['device'].astype('category') "
   ]
  },
  {
   "cell_type": "code",
   "execution_count": 6,
   "id": "fe915a7f",
   "metadata": {},
   "outputs": [
    {
     "data": {
      "text/plain": [
       "False    359400\n",
       "Name: count, dtype: int64"
      ]
     },
     "execution_count": 6,
     "metadata": {},
     "output_type": "execute_result"
    }
   ],
   "source": [
    "#checking duplicates\n",
    "visits.duplicated().value_counts()"
   ]
  },
  {
   "cell_type": "code",
   "execution_count": 7,
   "id": "69073b26",
   "metadata": {},
   "outputs": [
    {
     "data": {
      "text/html": [
       "<div>\n",
       "<style scoped>\n",
       "    .dataframe tbody tr th:only-of-type {\n",
       "        vertical-align: middle;\n",
       "    }\n",
       "\n",
       "    .dataframe tbody tr th {\n",
       "        vertical-align: top;\n",
       "    }\n",
       "\n",
       "    .dataframe thead th {\n",
       "        text-align: right;\n",
       "    }\n",
       "</style>\n",
       "<table border=\"1\" class=\"dataframe\">\n",
       "  <thead>\n",
       "    <tr style=\"text-align: right;\">\n",
       "      <th></th>\n",
       "      <th>Buy Ts</th>\n",
       "      <th>Revenue</th>\n",
       "      <th>Uid</th>\n",
       "    </tr>\n",
       "  </thead>\n",
       "  <tbody>\n",
       "    <tr>\n",
       "      <th>0</th>\n",
       "      <td>2017-06-01 00:10:00</td>\n",
       "      <td>17.00</td>\n",
       "      <td>10329302124590727494</td>\n",
       "    </tr>\n",
       "    <tr>\n",
       "      <th>1</th>\n",
       "      <td>2017-06-01 00:25:00</td>\n",
       "      <td>0.55</td>\n",
       "      <td>11627257723692907447</td>\n",
       "    </tr>\n",
       "    <tr>\n",
       "      <th>2</th>\n",
       "      <td>2017-06-01 00:27:00</td>\n",
       "      <td>0.37</td>\n",
       "      <td>17903680561304213844</td>\n",
       "    </tr>\n",
       "    <tr>\n",
       "      <th>3</th>\n",
       "      <td>2017-06-01 00:29:00</td>\n",
       "      <td>0.55</td>\n",
       "      <td>16109239769442553005</td>\n",
       "    </tr>\n",
       "    <tr>\n",
       "      <th>4</th>\n",
       "      <td>2017-06-01 07:58:00</td>\n",
       "      <td>0.37</td>\n",
       "      <td>14200605875248379450</td>\n",
       "    </tr>\n",
       "  </tbody>\n",
       "</table>\n",
       "</div>"
      ],
      "text/plain": [
       "                Buy Ts  Revenue                   Uid\n",
       "0  2017-06-01 00:10:00    17.00  10329302124590727494\n",
       "1  2017-06-01 00:25:00     0.55  11627257723692907447\n",
       "2  2017-06-01 00:27:00     0.37  17903680561304213844\n",
       "3  2017-06-01 00:29:00     0.55  16109239769442553005\n",
       "4  2017-06-01 07:58:00     0.37  14200605875248379450"
      ]
     },
     "execution_count": 7,
     "metadata": {},
     "output_type": "execute_result"
    }
   ],
   "source": [
    "try:\n",
    "    orders= pd.read_csv('C:/Users/NELLY/Downloads/orders_log_us.csv')\n",
    "except:\n",
    "    orders= pd.read_csv('/datasets/orders_log_us.csv')\n",
    "    \n",
    "orders.head()\n"
   ]
  },
  {
   "cell_type": "code",
   "execution_count": 8,
   "id": "3a87224d",
   "metadata": {},
   "outputs": [
    {
     "name": "stdout",
     "output_type": "stream",
     "text": [
      "<class 'pandas.core.frame.DataFrame'>\n",
      "RangeIndex: 50415 entries, 0 to 50414\n",
      "Data columns (total 3 columns):\n",
      " #   Column   Non-Null Count  Dtype  \n",
      "---  ------   --------------  -----  \n",
      " 0   Buy Ts   50415 non-null  object \n",
      " 1   Revenue  50415 non-null  float64\n",
      " 2   Uid      50415 non-null  uint64 \n",
      "dtypes: float64(1), object(1), uint64(1)\n",
      "memory usage: 1.2+ MB\n"
     ]
    }
   ],
   "source": [
    "orders.info()"
   ]
  },
  {
   "cell_type": "markdown",
   "id": "370fb5c9",
   "metadata": {},
   "source": [
    "The order table includes data on orders, it does not include missing values but there is a need to change its variables to lowercase and to change 'Buy Ts' to a datetime type."
   ]
  },
  {
   "cell_type": "code",
   "execution_count": 9,
   "id": "6a441670",
   "metadata": {},
   "outputs": [],
   "source": [
    "#changing the column names to lowercase:\n",
    "orders.columns = orders.columns.str.lower()\n",
    "#changing datatypes to datetime:\n",
    "orders['buy ts'] =  pd.to_datetime(orders['buy ts'])"
   ]
  },
  {
   "cell_type": "code",
   "execution_count": 10,
   "id": "adc10710",
   "metadata": {},
   "outputs": [
    {
     "data": {
      "text/plain": [
       "False    50415\n",
       "Name: count, dtype: int64"
      ]
     },
     "execution_count": 10,
     "metadata": {},
     "output_type": "execute_result"
    }
   ],
   "source": [
    "#checking duplicates\n",
    "orders.duplicated().value_counts()"
   ]
  },
  {
   "cell_type": "code",
   "execution_count": 11,
   "id": "155a0e58",
   "metadata": {},
   "outputs": [
    {
     "data": {
      "text/html": [
       "<div>\n",
       "<style scoped>\n",
       "    .dataframe tbody tr th:only-of-type {\n",
       "        vertical-align: middle;\n",
       "    }\n",
       "\n",
       "    .dataframe tbody tr th {\n",
       "        vertical-align: top;\n",
       "    }\n",
       "\n",
       "    .dataframe thead th {\n",
       "        text-align: right;\n",
       "    }\n",
       "</style>\n",
       "<table border=\"1\" class=\"dataframe\">\n",
       "  <thead>\n",
       "    <tr style=\"text-align: right;\">\n",
       "      <th></th>\n",
       "      <th>source_id</th>\n",
       "      <th>dt</th>\n",
       "      <th>costs</th>\n",
       "    </tr>\n",
       "  </thead>\n",
       "  <tbody>\n",
       "    <tr>\n",
       "      <th>0</th>\n",
       "      <td>1</td>\n",
       "      <td>2017-06-01</td>\n",
       "      <td>75.20</td>\n",
       "    </tr>\n",
       "    <tr>\n",
       "      <th>1</th>\n",
       "      <td>1</td>\n",
       "      <td>2017-06-02</td>\n",
       "      <td>62.25</td>\n",
       "    </tr>\n",
       "    <tr>\n",
       "      <th>2</th>\n",
       "      <td>1</td>\n",
       "      <td>2017-06-03</td>\n",
       "      <td>36.53</td>\n",
       "    </tr>\n",
       "    <tr>\n",
       "      <th>3</th>\n",
       "      <td>1</td>\n",
       "      <td>2017-06-04</td>\n",
       "      <td>55.00</td>\n",
       "    </tr>\n",
       "    <tr>\n",
       "      <th>4</th>\n",
       "      <td>1</td>\n",
       "      <td>2017-06-05</td>\n",
       "      <td>57.08</td>\n",
       "    </tr>\n",
       "  </tbody>\n",
       "</table>\n",
       "</div>"
      ],
      "text/plain": [
       "   source_id          dt  costs\n",
       "0          1  2017-06-01  75.20\n",
       "1          1  2017-06-02  62.25\n",
       "2          1  2017-06-03  36.53\n",
       "3          1  2017-06-04  55.00\n",
       "4          1  2017-06-05  57.08"
      ]
     },
     "execution_count": 11,
     "metadata": {},
     "output_type": "execute_result"
    }
   ],
   "source": [
    "try:\n",
    "    costs= pd.read_csv('C:/Users/NELLY/Downloads/costs_us.csv')\n",
    "except:\n",
    "    costs= pd.read_csv('/datasets/costs_us.csv')\n",
    "costs.head()"
   ]
  },
  {
   "cell_type": "code",
   "execution_count": 12,
   "id": "ac0267c5",
   "metadata": {},
   "outputs": [
    {
     "name": "stdout",
     "output_type": "stream",
     "text": [
      "<class 'pandas.core.frame.DataFrame'>\n",
      "RangeIndex: 2542 entries, 0 to 2541\n",
      "Data columns (total 3 columns):\n",
      " #   Column     Non-Null Count  Dtype  \n",
      "---  ------     --------------  -----  \n",
      " 0   source_id  2542 non-null   int64  \n",
      " 1   dt         2542 non-null   object \n",
      " 2   costs      2542 non-null   float64\n",
      "dtypes: float64(1), int64(1), object(1)\n",
      "memory usage: 59.7+ KB\n"
     ]
    }
   ],
   "source": [
    "costs.info()"
   ]
  },
  {
   "cell_type": "markdown",
   "id": "82b6a997",
   "metadata": {},
   "source": [
    "Costs table includes information about marketing expenses, it does not have missing values but there is a need to change 'dt' variable to a datetime type."
   ]
  },
  {
   "cell_type": "code",
   "execution_count": 13,
   "id": "f396b64a",
   "metadata": {},
   "outputs": [],
   "source": [
    "#changing datatypes to datetime:\n",
    "costs['dt'] =  pd.to_datetime(costs['dt'])"
   ]
  },
  {
   "cell_type": "code",
   "execution_count": 14,
   "id": "95bb7098",
   "metadata": {},
   "outputs": [
    {
     "data": {
      "text/plain": [
       "False    2542\n",
       "Name: count, dtype: int64"
      ]
     },
     "execution_count": 14,
     "metadata": {},
     "output_type": "execute_result"
    }
   ],
   "source": [
    "#checking duplicates\n",
    "costs.duplicated().value_counts()"
   ]
  },
  {
   "cell_type": "markdown",
   "id": "f66acd3b",
   "metadata": {},
   "source": [
    "### Calculate metrics"
   ]
  },
  {
   "cell_type": "markdown",
   "id": "e549d917",
   "metadata": {},
   "source": [
    "### Product:"
   ]
  },
  {
   "cell_type": "markdown",
   "id": "daa6bd0b",
   "metadata": {},
   "source": [
    "#### Calculating how many customers use the product every day, week, and month"
   ]
  },
  {
   "cell_type": "code",
   "execution_count": 15,
   "id": "b44003bf",
   "metadata": {},
   "outputs": [],
   "source": [
    "#adding date, year, week and month cols:\n",
    "visits['week'] = visits['start ts'].values.astype('datetime64[W]')\n",
    "visits['month'] = visits['start ts'].values.astype('datetime64[M]')\n",
    "visits['date'] = visits['start ts'].dt.date\n",
    "visits['date']=pd.to_datetime(visits['date'])\n"
   ]
  },
  {
   "cell_type": "code",
   "execution_count": 16,
   "id": "004c25a1",
   "metadata": {},
   "outputs": [
    {
     "data": {
      "text/html": [
       "<div>\n",
       "<style scoped>\n",
       "    .dataframe tbody tr th:only-of-type {\n",
       "        vertical-align: middle;\n",
       "    }\n",
       "\n",
       "    .dataframe tbody tr th {\n",
       "        vertical-align: top;\n",
       "    }\n",
       "\n",
       "    .dataframe thead th {\n",
       "        text-align: right;\n",
       "    }\n",
       "</style>\n",
       "<table border=\"1\" class=\"dataframe\">\n",
       "  <thead>\n",
       "    <tr style=\"text-align: right;\">\n",
       "      <th></th>\n",
       "      <th>device</th>\n",
       "      <th>end ts</th>\n",
       "      <th>source id</th>\n",
       "      <th>start ts</th>\n",
       "      <th>uid</th>\n",
       "      <th>week</th>\n",
       "      <th>month</th>\n",
       "      <th>date</th>\n",
       "    </tr>\n",
       "  </thead>\n",
       "  <tbody>\n",
       "    <tr>\n",
       "      <th>0</th>\n",
       "      <td>touch</td>\n",
       "      <td>2017-12-20 17:38:00</td>\n",
       "      <td>4</td>\n",
       "      <td>2017-12-20 17:20:00</td>\n",
       "      <td>16879256277535980062</td>\n",
       "      <td>2017-12-14</td>\n",
       "      <td>2017-12-01</td>\n",
       "      <td>2017-12-20</td>\n",
       "    </tr>\n",
       "    <tr>\n",
       "      <th>1</th>\n",
       "      <td>desktop</td>\n",
       "      <td>2018-02-19 17:21:00</td>\n",
       "      <td>2</td>\n",
       "      <td>2018-02-19 16:53:00</td>\n",
       "      <td>104060357244891740</td>\n",
       "      <td>2018-02-15</td>\n",
       "      <td>2018-02-01</td>\n",
       "      <td>2018-02-19</td>\n",
       "    </tr>\n",
       "    <tr>\n",
       "      <th>2</th>\n",
       "      <td>touch</td>\n",
       "      <td>2017-07-01 01:54:00</td>\n",
       "      <td>5</td>\n",
       "      <td>2017-07-01 01:54:00</td>\n",
       "      <td>7459035603376831527</td>\n",
       "      <td>2017-06-29</td>\n",
       "      <td>2017-07-01</td>\n",
       "      <td>2017-07-01</td>\n",
       "    </tr>\n",
       "    <tr>\n",
       "      <th>3</th>\n",
       "      <td>desktop</td>\n",
       "      <td>2018-05-20 11:23:00</td>\n",
       "      <td>9</td>\n",
       "      <td>2018-05-20 10:59:00</td>\n",
       "      <td>16174680259334210214</td>\n",
       "      <td>2018-05-17</td>\n",
       "      <td>2018-05-01</td>\n",
       "      <td>2018-05-20</td>\n",
       "    </tr>\n",
       "    <tr>\n",
       "      <th>4</th>\n",
       "      <td>desktop</td>\n",
       "      <td>2017-12-27 14:06:00</td>\n",
       "      <td>3</td>\n",
       "      <td>2017-12-27 14:06:00</td>\n",
       "      <td>9969694820036681168</td>\n",
       "      <td>2017-12-21</td>\n",
       "      <td>2017-12-01</td>\n",
       "      <td>2017-12-27</td>\n",
       "    </tr>\n",
       "    <tr>\n",
       "      <th>...</th>\n",
       "      <td>...</td>\n",
       "      <td>...</td>\n",
       "      <td>...</td>\n",
       "      <td>...</td>\n",
       "      <td>...</td>\n",
       "      <td>...</td>\n",
       "      <td>...</td>\n",
       "      <td>...</td>\n",
       "    </tr>\n",
       "    <tr>\n",
       "      <th>359395</th>\n",
       "      <td>desktop</td>\n",
       "      <td>2017-07-29 19:07:19</td>\n",
       "      <td>2</td>\n",
       "      <td>2017-07-29 19:07:00</td>\n",
       "      <td>18363291481961487539</td>\n",
       "      <td>2017-07-27</td>\n",
       "      <td>2017-07-01</td>\n",
       "      <td>2017-07-29</td>\n",
       "    </tr>\n",
       "    <tr>\n",
       "      <th>359396</th>\n",
       "      <td>touch</td>\n",
       "      <td>2018-01-25 17:38:19</td>\n",
       "      <td>1</td>\n",
       "      <td>2018-01-25 17:38:00</td>\n",
       "      <td>18370831553019119586</td>\n",
       "      <td>2018-01-25</td>\n",
       "      <td>2018-01-01</td>\n",
       "      <td>2018-01-25</td>\n",
       "    </tr>\n",
       "    <tr>\n",
       "      <th>359397</th>\n",
       "      <td>desktop</td>\n",
       "      <td>2018-03-03 10:12:19</td>\n",
       "      <td>4</td>\n",
       "      <td>2018-03-03 10:12:00</td>\n",
       "      <td>18387297585500748294</td>\n",
       "      <td>2018-03-01</td>\n",
       "      <td>2018-03-01</td>\n",
       "      <td>2018-03-03</td>\n",
       "    </tr>\n",
       "    <tr>\n",
       "      <th>359398</th>\n",
       "      <td>desktop</td>\n",
       "      <td>2017-11-02 10:12:19</td>\n",
       "      <td>5</td>\n",
       "      <td>2017-11-02 10:12:00</td>\n",
       "      <td>18388616944624776485</td>\n",
       "      <td>2017-11-02</td>\n",
       "      <td>2017-11-01</td>\n",
       "      <td>2017-11-02</td>\n",
       "    </tr>\n",
       "    <tr>\n",
       "      <th>359399</th>\n",
       "      <td>touch</td>\n",
       "      <td>2017-09-10 13:13:19</td>\n",
       "      <td>2</td>\n",
       "      <td>2017-09-10 13:13:00</td>\n",
       "      <td>18396128934054549559</td>\n",
       "      <td>2017-09-07</td>\n",
       "      <td>2017-09-01</td>\n",
       "      <td>2017-09-10</td>\n",
       "    </tr>\n",
       "  </tbody>\n",
       "</table>\n",
       "<p>359400 rows × 8 columns</p>\n",
       "</div>"
      ],
      "text/plain": [
       "         device              end ts  source id            start ts  \\\n",
       "0         touch 2017-12-20 17:38:00          4 2017-12-20 17:20:00   \n",
       "1       desktop 2018-02-19 17:21:00          2 2018-02-19 16:53:00   \n",
       "2         touch 2017-07-01 01:54:00          5 2017-07-01 01:54:00   \n",
       "3       desktop 2018-05-20 11:23:00          9 2018-05-20 10:59:00   \n",
       "4       desktop 2017-12-27 14:06:00          3 2017-12-27 14:06:00   \n",
       "...         ...                 ...        ...                 ...   \n",
       "359395  desktop 2017-07-29 19:07:19          2 2017-07-29 19:07:00   \n",
       "359396    touch 2018-01-25 17:38:19          1 2018-01-25 17:38:00   \n",
       "359397  desktop 2018-03-03 10:12:19          4 2018-03-03 10:12:00   \n",
       "359398  desktop 2017-11-02 10:12:19          5 2017-11-02 10:12:00   \n",
       "359399    touch 2017-09-10 13:13:19          2 2017-09-10 13:13:00   \n",
       "\n",
       "                         uid       week      month       date  \n",
       "0       16879256277535980062 2017-12-14 2017-12-01 2017-12-20  \n",
       "1         104060357244891740 2018-02-15 2018-02-01 2018-02-19  \n",
       "2        7459035603376831527 2017-06-29 2017-07-01 2017-07-01  \n",
       "3       16174680259334210214 2018-05-17 2018-05-01 2018-05-20  \n",
       "4        9969694820036681168 2017-12-21 2017-12-01 2017-12-27  \n",
       "...                      ...        ...        ...        ...  \n",
       "359395  18363291481961487539 2017-07-27 2017-07-01 2017-07-29  \n",
       "359396  18370831553019119586 2018-01-25 2018-01-01 2018-01-25  \n",
       "359397  18387297585500748294 2018-03-01 2018-03-01 2018-03-03  \n",
       "359398  18388616944624776485 2017-11-02 2017-11-01 2017-11-02  \n",
       "359399  18396128934054549559 2017-09-07 2017-09-01 2017-09-10  \n",
       "\n",
       "[359400 rows x 8 columns]"
      ]
     },
     "execution_count": 16,
     "metadata": {},
     "output_type": "execute_result"
    }
   ],
   "source": [
    "visits"
   ]
  },
  {
   "cell_type": "code",
   "execution_count": 17,
   "id": "6109631b",
   "metadata": {},
   "outputs": [
    {
     "data": {
      "image/png": "[encoded data removed]",
      "text/plain": [
       "<Figure size 648x360 with 1 Axes>"
      ]
     },
     "metadata": {
      "needs_background": "light"
     },
     "output_type": "display_data"
    }
   ],
   "source": [
    "visits_mau= visits.groupby(['month'])['uid'].nunique().reset_index()\n",
    "fig, ax = plt.subplots(figsize=(9, 5))\n",
    "plt.title(\"Number of users over months\")\n",
    "visits_mau.plot(x='month', y='uid', ax=ax)\n",
    "plt.ylabel('users')\n",
    "plt.axhline(y=visits_mau['uid'].mean(),xmin=0.0, xmax=1.0, color='b', linestyle='dashed', linewidth=1)\n",
    "plt.text(0.5, 0.5, f\"Average users amount: {int(visits_mau['uid'].mean())}\", transform=ax.transAxes)\n",
    "plt.show()\n"
   ]
  },
  {
   "cell_type": "code",
   "execution_count": 18,
   "id": "d435e378",
   "metadata": {},
   "outputs": [
    {
     "data": {
      "image/png": "[encoded data removed]",
      "text/plain": [
       "<Figure size 648x360 with 1 Axes>"
      ]
     },
     "metadata": {
      "needs_background": "light"
     },
     "output_type": "display_data"
    }
   ],
   "source": [
    "visits_wau= visits.groupby(['week'])['uid'].nunique().reset_index()\n",
    "fig, ax = plt.subplots(figsize=(9, 5))\n",
    "plt.title(\"Number of weekly users over weeks\")\n",
    "visits_wau.plot(x='week', y='uid', ax=ax)\n",
    "plt.ylabel('users')\n",
    "plt.axhline(y=visits_wau['uid'].mean(),xmin=0.0, xmax=1.0, color='b', linestyle='dashed', linewidth=1)\n",
    "plt.text(0.5, 0.4, f\"Average users amount: {int(visits_wau['uid'].mean())}\", transform=ax.transAxes)\n",
    "plt.show()"
   ]
  },
  {
   "cell_type": "code",
   "execution_count": 19,
   "id": "24b17833",
   "metadata": {},
   "outputs": [
    {
     "data": {
      "image/png": "[encoded data removed]",
      "text/plain": [
       "<Figure size 648x360 with 1 Axes>"
      ]
     },
     "metadata": {
      "needs_background": "light"
     },
     "output_type": "display_data"
    }
   ],
   "source": [
    "visits_dau= visits.groupby(['date'])['uid'].nunique().reset_index()\n",
    "fig, ax = plt.subplots(figsize=(9, 5))\n",
    "plt.title(\"Number of daily users over time\")\n",
    "visits_dau.plot(x='date', y='uid', ax=ax)\n",
    "plt.ylabel('users')\n",
    "plt.axhline(y=visits_dau['uid'].mean(),xmin=0.0, xmax=1.0, color='b', linestyle='dashed', linewidth=1)\n",
    "plt.text(0.4, 0.25, f\"Average users amount: {int(visits_dau['uid'].mean())}\", transform=ax.transAxes)\n",
    "plt.show()"
   ]
  },
  {
   "cell_type": "markdown",
   "id": "6da710b6",
   "metadata": {},
   "source": [
    "We see that just from August 2017 there was a constant rising in the number of users until November-December and from then a moderate decline. In April 18' we see a sudden drop, seems like in a specific week or few days."
   ]
  },
  {
   "cell_type": "markdown",
   "id": "7e718084",
   "metadata": {},
   "source": [
    "#### Calculating customers' number of sessions per day"
   ]
  },
  {
   "cell_type": "code",
   "execution_count": 20,
   "id": "d4742c79",
   "metadata": {},
   "outputs": [
    {
     "data": {
      "image/png": "[encoded data removed]",
      "text/plain": [
       "<Figure size 648x360 with 1 Axes>"
      ]
     },
     "metadata": {
      "needs_background": "light"
     },
     "output_type": "display_data"
    }
   ],
   "source": [
    "visits_day= visits.groupby(['date'])[['uid','source id']].agg({'uid':'nunique', 'source id':'count'}).reset_index()\n",
    "visits_day['avg_sessions']=visits_day['source id']/visits_day['uid']\n",
    "fig, ax = plt.subplots(figsize=(9, 5))\n",
    "plt.title(\"Average of sessions per day over time\")\n",
    "visits_day.plot(x='date', y='avg_sessions', ax=ax)\n",
    "plt.ylabel('Sessions')\n",
    "plt.axhline(y=round(sum(visits_day['source id'])/sum(visits_day['uid']),2),xmin=0.0, xmax=1.0, color='b', linestyle='dashed', linewidth=1)\n",
    "plt.text(0.2, 0.5, f\"Average sessions: {round(sum(visits_day['source id'])/sum(visits_day['uid']),2)}\", transform=ax.transAxes)\n",
    "plt.show()"
   ]
  },
  {
   "cell_type": "markdown",
   "id": "ef51aa28",
   "metadata": {},
   "source": [
    "Similarly to the trends seen in DAW, MAU and WAU, we see a peak in December 17' and a drop around April 18'. This means that in these dates, not only that the amount of users increased/decreased, but also the number of sessions each user had each day."
   ]
  },
  {
   "cell_type": "markdown",
   "id": "097245b1",
   "metadata": {},
   "source": [
    "#### Calculating customers' session lengths"
   ]
  },
  {
   "cell_type": "code",
   "execution_count": 21,
   "id": "4c095931",
   "metadata": {},
   "outputs": [],
   "source": [
    "#creating a variable of duration of session:\n",
    "visits['session_dur_sec'] = (visits['end ts'] - visits['start ts']).dt.seconds"
   ]
  },
  {
   "cell_type": "code",
   "execution_count": 22,
   "id": "aa049a18",
   "metadata": {},
   "outputs": [
    {
     "data": {
      "image/png": "[encoded data removed]",
      "text/plain": [
       "<Figure size 432x288 with 1 Axes>"
      ]
     },
     "metadata": {
      "needs_background": "light"
     },
     "output_type": "display_data"
    }
   ],
   "source": [
    "visits['session_dur_sec'].hist(bins=100, range=(0,2000))\n",
    "plt.title('Session duration in seconds')\n",
    "plt.show()"
   ]
  },
  {
   "cell_type": "code",
   "execution_count": 23,
   "id": "a79cfd9e",
   "metadata": {},
   "outputs": [
    {
     "data": {
      "text/plain": [
       "count    359400.000000\n",
       "mean        643.506489\n",
       "std        1016.334786\n",
       "min           0.000000\n",
       "25%         120.000000\n",
       "50%         300.000000\n",
       "75%         840.000000\n",
       "max       84480.000000\n",
       "Name: session_dur_sec, dtype: float64"
      ]
     },
     "execution_count": 23,
     "metadata": {},
     "output_type": "execute_result"
    }
   ],
   "source": [
    "visits['session_dur_sec'].describe()"
   ]
  },
  {
   "cell_type": "code",
   "execution_count": 24,
   "id": "0b019d76",
   "metadata": {},
   "outputs": [
    {
     "data": {
      "text/plain": [
       "0.15"
      ]
     },
     "execution_count": 24,
     "metadata": {},
     "output_type": "execute_result"
    }
   ],
   "source": [
    "visits['session_dur_sec'].mode() #mode is 60 seconds\n",
    "round(len(visits[visits['session_dur_sec']==60])/visits.shape[0],2) #only 15% of the data is 60 seconds"
   ]
  },
  {
   "cell_type": "code",
   "execution_count": 25,
   "id": "0665ccc2",
   "metadata": {},
   "outputs": [
    {
     "name": "stdout",
     "output_type": "stream",
     "text": [
      "The average session length is: \n",
      "300.0\n"
     ]
    }
   ],
   "source": [
    "print(f\"The average session length is: \\n{visits['session_dur_sec'].median()}\")"
   ]
  },
  {
   "cell_type": "markdown",
   "id": "417d07a9",
   "metadata": {},
   "source": [
    "We can see that the distribution of session duration is not normal - its extremely skewed and the median value is less than half of the average value. On the other hand, the most common value is 60 seconds and constitutes only 15% of the values, while the values vary a lot, for that reason, we choose the median as a metric for the ASL."
   ]
  },
  {
   "cell_type": "markdown",
   "id": "266569b7",
   "metadata": {},
   "source": [
    "#### What's the user retention rate?\n",
    "The period that was chosen for users' retention rate is in month, since initial check showed that users use the product for long periods and presenting its metrics in short periods like weeks will be too much detailed. "
   ]
  },
  {
   "cell_type": "code",
   "execution_count": 26,
   "id": "13a25efc",
   "metadata": {},
   "outputs": [],
   "source": [
    "#creating a table with user's first activity date:\n",
    "first_activity_date = visits.groupby(['uid'])['date'].min().reset_index()\n",
    "first_activity_date.columns = ['uid', 'first_session']\n",
    "first_activity_date.head()\n",
    "#adding the values to the df:\n",
    "visits = visits.merge(first_activity_date, on='uid', how='inner')\n",
    "#visits.head()"
   ]
  },
  {
   "cell_type": "code",
   "execution_count": 27,
   "id": "01609a58",
   "metadata": {},
   "outputs": [],
   "source": [
    "#creating columns for the 1st day of the week of the activity and of the first recorded activity:\n",
    "visits['first_activity_month'] = visits['first_session'].values.astype('datetime64[M]')\n",
    "#creating column for the lifetime in cohort\n",
    "visits['cohort_lifetime'] = ((visits['month'] - visits['first_activity_month'])/ np.timedelta64(1, 'M')).round()\n",
    "visits['cohort_lifetime'] = visits['cohort_lifetime'].astype(int)\n",
    "\n"
   ]
  },
  {
   "cell_type": "code",
   "execution_count": 28,
   "id": "ac1a9018",
   "metadata": {},
   "outputs": [
    {
     "data": {
      "text/html": [
       "<div>\n",
       "<style scoped>\n",
       "    .dataframe tbody tr th:only-of-type {\n",
       "        vertical-align: middle;\n",
       "    }\n",
       "\n",
       "    .dataframe tbody tr th {\n",
       "        vertical-align: top;\n",
       "    }\n",
       "\n",
       "    .dataframe thead th {\n",
       "        text-align: right;\n",
       "    }\n",
       "</style>\n",
       "<table border=\"1\" class=\"dataframe\">\n",
       "  <thead>\n",
       "    <tr style=\"text-align: right;\">\n",
       "      <th></th>\n",
       "      <th>device</th>\n",
       "      <th>end ts</th>\n",
       "      <th>source id</th>\n",
       "      <th>start ts</th>\n",
       "      <th>uid</th>\n",
       "      <th>week</th>\n",
       "      <th>month</th>\n",
       "      <th>date</th>\n",
       "      <th>session_dur_sec</th>\n",
       "      <th>first_session</th>\n",
       "      <th>first_activity_month</th>\n",
       "      <th>cohort_lifetime</th>\n",
       "    </tr>\n",
       "  </thead>\n",
       "  <tbody>\n",
       "    <tr>\n",
       "      <th>0</th>\n",
       "      <td>touch</td>\n",
       "      <td>2017-12-20 17:38:00</td>\n",
       "      <td>4</td>\n",
       "      <td>2017-12-20 17:20:00</td>\n",
       "      <td>16879256277535980062</td>\n",
       "      <td>2017-12-14</td>\n",
       "      <td>2017-12-01</td>\n",
       "      <td>2017-12-20</td>\n",
       "      <td>1080</td>\n",
       "      <td>2017-12-20</td>\n",
       "      <td>2017-12-01</td>\n",
       "      <td>0</td>\n",
       "    </tr>\n",
       "    <tr>\n",
       "      <th>1</th>\n",
       "      <td>desktop</td>\n",
       "      <td>2018-02-19 17:21:00</td>\n",
       "      <td>2</td>\n",
       "      <td>2018-02-19 16:53:00</td>\n",
       "      <td>104060357244891740</td>\n",
       "      <td>2018-02-15</td>\n",
       "      <td>2018-02-01</td>\n",
       "      <td>2018-02-19</td>\n",
       "      <td>1680</td>\n",
       "      <td>2018-02-19</td>\n",
       "      <td>2018-02-01</td>\n",
       "      <td>0</td>\n",
       "    </tr>\n",
       "    <tr>\n",
       "      <th>2</th>\n",
       "      <td>touch</td>\n",
       "      <td>2017-07-01 01:54:00</td>\n",
       "      <td>5</td>\n",
       "      <td>2017-07-01 01:54:00</td>\n",
       "      <td>7459035603376831527</td>\n",
       "      <td>2017-06-29</td>\n",
       "      <td>2017-07-01</td>\n",
       "      <td>2017-07-01</td>\n",
       "      <td>0</td>\n",
       "      <td>2017-07-01</td>\n",
       "      <td>2017-07-01</td>\n",
       "      <td>0</td>\n",
       "    </tr>\n",
       "    <tr>\n",
       "      <th>3</th>\n",
       "      <td>desktop</td>\n",
       "      <td>2018-05-20 11:23:00</td>\n",
       "      <td>9</td>\n",
       "      <td>2018-05-20 10:59:00</td>\n",
       "      <td>16174680259334210214</td>\n",
       "      <td>2018-05-17</td>\n",
       "      <td>2018-05-01</td>\n",
       "      <td>2018-05-20</td>\n",
       "      <td>1440</td>\n",
       "      <td>2018-03-09</td>\n",
       "      <td>2018-03-01</td>\n",
       "      <td>2</td>\n",
       "    </tr>\n",
       "    <tr>\n",
       "      <th>4</th>\n",
       "      <td>desktop</td>\n",
       "      <td>2018-03-09 20:33:00</td>\n",
       "      <td>4</td>\n",
       "      <td>2018-03-09 20:05:00</td>\n",
       "      <td>16174680259334210214</td>\n",
       "      <td>2018-03-08</td>\n",
       "      <td>2018-03-01</td>\n",
       "      <td>2018-03-09</td>\n",
       "      <td>1680</td>\n",
       "      <td>2018-03-09</td>\n",
       "      <td>2018-03-01</td>\n",
       "      <td>0</td>\n",
       "    </tr>\n",
       "  </tbody>\n",
       "</table>\n",
       "</div>"
      ],
      "text/plain": [
       "    device              end ts  source id            start ts  \\\n",
       "0    touch 2017-12-20 17:38:00          4 2017-12-20 17:20:00   \n",
       "1  desktop 2018-02-19 17:21:00          2 2018-02-19 16:53:00   \n",
       "2    touch 2017-07-01 01:54:00          5 2017-07-01 01:54:00   \n",
       "3  desktop 2018-05-20 11:23:00          9 2018-05-20 10:59:00   \n",
       "4  desktop 2018-03-09 20:33:00          4 2018-03-09 20:05:00   \n",
       "\n",
       "                    uid       week      month       date  session_dur_sec  \\\n",
       "0  16879256277535980062 2017-12-14 2017-12-01 2017-12-20             1080   \n",
       "1    104060357244891740 2018-02-15 2018-02-01 2018-02-19             1680   \n",
       "2   7459035603376831527 2017-06-29 2017-07-01 2017-07-01                0   \n",
       "3  16174680259334210214 2018-05-17 2018-05-01 2018-05-20             1440   \n",
       "4  16174680259334210214 2018-03-08 2018-03-01 2018-03-09             1680   \n",
       "\n",
       "  first_session first_activity_month  cohort_lifetime  \n",
       "0    2017-12-20           2017-12-01                0  \n",
       "1    2018-02-19           2018-02-01                0  \n",
       "2    2017-07-01           2017-07-01                0  \n",
       "3    2018-03-09           2018-03-01                2  \n",
       "4    2018-03-09           2018-03-01                0  "
      ]
     },
     "execution_count": 28,
     "metadata": {},
     "output_type": "execute_result"
    }
   ],
   "source": [
    "visits.head()"
   ]
  },
  {
   "cell_type": "code",
   "execution_count": 29,
   "id": "0d8cea8f",
   "metadata": {},
   "outputs": [],
   "source": [
    "#creating table with count of users in each month and lifetime\n",
    "cohorts = visits.pivot_table(index='first_activity_month',columns='cohort_lifetime',values='uid',aggfunc='nunique')\n",
    "#cohorts"
   ]
  },
  {
   "cell_type": "code",
   "execution_count": 30,
   "id": "7e6ea3b5",
   "metadata": {},
   "outputs": [],
   "source": [
    "retention=cohorts.iloc[:,0:].div(cohorts[0], axis=0)\n",
    "#retention"
   ]
  },
  {
   "cell_type": "code",
   "execution_count": 31,
   "id": "a95be6e6",
   "metadata": {},
   "outputs": [
    {
     "data": {
      "image/png": "[encoded data removed]",
      "text/plain": [
       "<Figure size 936x648 with 2 Axes>"
      ]
     },
     "metadata": {
      "needs_background": "light"
     },
     "output_type": "display_data"
    }
   ],
   "source": [
    "# the first line just formats cohort into a str for a nicer output\n",
    "retention.index=retention.index.astype(str)\n",
    "plt.figure(figsize=(13, 9))\n",
    "sns.heatmap(retention, annot=True, fmt='.1%', linewidths=1, linecolor='grey',  vmax=0.1, cbar_kws= {'orientation': 'horizontal'}).set(title = 'Retention Rate')\n",
    "plt.show()"
   ]
  },
  {
   "cell_type": "markdown",
   "id": "6b7a6c0b",
   "metadata": {},
   "source": [
    "Overall, the retention rates are low, we see a big drop from 0 cohort lifetime to first cohort lifetime, but the numbers are steady meaning that the product has loyal users that keep using it even after almost a year.\n",
    "The first month retention rate is inconsistent and there are three cohorts that do not use at all the product in the first month, but use it again on the second month.\n",
    "The second month retention rate is decreasing for each new cohort, with exception for Sep-2017 cohort, meaning that user behavior is changing with every new cohort."
   ]
  },
  {
   "cell_type": "markdown",
   "id": "408b74af",
   "metadata": {},
   "source": [
    "###### In summary, there are 907 daily users which use the product in 987 sessions, meaning that some of the users use the product more than one time a day. The sessions vary a lot in their length but the average session length is 300 seconds. The users of the app are loyal to the product but only few of the initial users keep on using it after their first month. Users from different cohorts (which started using the app in different months) show different user behavior, expressed in decreasing retention rate. "
   ]
  },
  {
   "cell_type": "markdown",
   "id": "a041b6ab",
   "metadata": {},
   "source": [
    "### Sales:"
   ]
  },
  {
   "cell_type": "markdown",
   "id": "c35bc540",
   "metadata": {},
   "source": [
    "#### Calculating customers' conversion duration"
   ]
  },
  {
   "cell_type": "code",
   "execution_count": 32,
   "id": "3640bf10",
   "metadata": {},
   "outputs": [
    {
     "data": {
      "text/plain": [
       "36523"
      ]
     },
     "execution_count": 32,
     "metadata": {},
     "output_type": "execute_result"
    }
   ],
   "source": [
    "orders['uid'].nunique()"
   ]
  },
  {
   "cell_type": "markdown",
   "id": "3d1b318e",
   "metadata": {},
   "source": [
    "The difference between number of orders (50,415) and the unique id's (36,523) meaning that there are users who made more than one order. Next, we will create tables with user's first activity, first order time and information about the orders. By joining them to visits table we will have the relevant information to answer the question above. "
   ]
  },
  {
   "cell_type": "code",
   "execution_count": 33,
   "id": "f4ede154",
   "metadata": {},
   "outputs": [],
   "source": [
    "first_activity_time = visits.groupby(['uid'])['start ts'].min().reset_index()\n",
    "first_order_time = orders.groupby(['uid']).agg({'buy ts':'min'}).reset_index()\n",
    "first_order_time = first_order_time.rename(columns={'buy ts': 'first_order_time'})\n"
   ]
  },
  {
   "cell_type": "code",
   "execution_count": 34,
   "id": "08e15ba7",
   "metadata": {},
   "outputs": [
    {
     "data": {
      "text/plain": [
       "228169"
      ]
     },
     "execution_count": 34,
     "metadata": {},
     "output_type": "execute_result"
    }
   ],
   "source": [
    "first_activity_time.shape[0] #228169"
   ]
  },
  {
   "cell_type": "code",
   "execution_count": 35,
   "id": "230cdf76",
   "metadata": {},
   "outputs": [
    {
     "data": {
      "text/plain": [
       "36523"
      ]
     },
     "execution_count": 35,
     "metadata": {},
     "output_type": "execute_result"
    }
   ],
   "source": [
    "first_order_time.shape[0] #36523"
   ]
  },
  {
   "cell_type": "code",
   "execution_count": 36,
   "id": "d6b71b33",
   "metadata": {},
   "outputs": [
    {
     "data": {
      "text/plain": [
       "0.16"
      ]
     },
     "execution_count": 36,
     "metadata": {},
     "output_type": "execute_result"
    }
   ],
   "source": [
    "#the share of paying users from all the users:\n",
    "round(first_order_time.shape[0]/first_activity_time.shape[0],2)"
   ]
  },
  {
   "cell_type": "code",
   "execution_count": 37,
   "id": "22506320",
   "metadata": {},
   "outputs": [],
   "source": [
    "conversion = pd.merge(first_activity_time, first_order_time, on='uid')\n",
    "conversion['conversion']=((pd.to_datetime(conversion['first_order_time'])-pd.to_datetime(conversion['start ts']))/np.timedelta64(1,'D')).astype('int')\n",
    "#conversion"
   ]
  },
  {
   "cell_type": "code",
   "execution_count": 38,
   "id": "be24780d",
   "metadata": {},
   "outputs": [
    {
     "data": {
      "image/png": "[encoded data removed]",
      "text/plain": [
       "<Figure size 432x288 with 1 Axes>"
      ]
     },
     "metadata": {
      "needs_background": "light"
     },
     "output_type": "display_data"
    }
   ],
   "source": [
    "conversion['conversion'].hist()\n",
    "plt.ylabel('Orders')\n",
    "plt.xlabel('Days')\n",
    "plt.title('Distribution of Number of days for registration by users')\n",
    "plt.show()"
   ]
  },
  {
   "cell_type": "code",
   "execution_count": 39,
   "id": "972824c5",
   "metadata": {},
   "outputs": [
    {
     "data": {
      "text/plain": [
       "count    36523.000000\n",
       "mean        16.729869\n",
       "std         46.959088\n",
       "min          0.000000\n",
       "25%          0.000000\n",
       "50%          0.000000\n",
       "75%          2.000000\n",
       "max        363.000000\n",
       "Name: conversion, dtype: float64"
      ]
     },
     "execution_count": 39,
     "metadata": {},
     "output_type": "execute_result"
    }
   ],
   "source": [
    "conversion['conversion'].describe()"
   ]
  },
  {
   "cell_type": "markdown",
   "id": "1c6c88db",
   "metadata": {},
   "source": [
    "We can see that the time between registration (the date of starting first use in the product) and first purchase varies a lot between users - in average it takes them 16 days, but for half of them it takes less than a day. "
   ]
  },
  {
   "cell_type": "markdown",
   "id": "4617a177",
   "metadata": {},
   "source": [
    "#### Calculating customers' order frequency\n",
    "To answer the question we will analyze the average amount of orders by user per monthly cohort."
   ]
  },
  {
   "cell_type": "code",
   "execution_count": 40,
   "id": "8c28f978",
   "metadata": {},
   "outputs": [],
   "source": [
    "orders=orders.merge(first_order_time, on='uid')"
   ]
  },
  {
   "cell_type": "code",
   "execution_count": 41,
   "id": "2ce893d6",
   "metadata": {},
   "outputs": [],
   "source": [
    "orders['first_order_month']=orders['first_order_time'].values.astype('datetime64[M]')\n",
    "orders['month']=orders['buy ts'].values.astype('datetime64[M]')"
   ]
  },
  {
   "cell_type": "code",
   "execution_count": 42,
   "id": "e34c3a4a",
   "metadata": {},
   "outputs": [],
   "source": [
    "#creating a table with num of users in each cohort (ordered for the first time in that month):\n",
    "cohort_sizes = orders.groupby('first_order_month').agg({'uid': 'nunique'}).reset_index()\n",
    "cohort_sizes.columns=['first_order_month','cohort_size']\n",
    "#cohort_sizes.head()"
   ]
  },
  {
   "cell_type": "code",
   "execution_count": 43,
   "id": "40e1a1cb",
   "metadata": {},
   "outputs": [],
   "source": [
    "#calculating number of purchases for cohort and month\n",
    "cohort=orders.groupby(['first_order_month','month'])['revenue'].count().reset_index()\n",
    "cohort.columns=['first_order_month','month','orders']\n",
    "#merge cohort with cohort size\n",
    "cohort=cohort.merge(cohort_sizes,on=['first_order_month'])\n",
    "cohort['age'] = ((cohort['month'] - cohort['first_order_month']) / np.timedelta64(1,'M')).round()\n",
    "\n",
    "\n",
    "cohort['orders_per_user']=cohort['orders']/cohort['cohort_size']\n",
    "#cohort.head()"
   ]
  },
  {
   "cell_type": "code",
   "execution_count": 44,
   "id": "92a8cfcd",
   "metadata": {},
   "outputs": [
    {
     "data": {
      "text/html": [
       "<div>\n",
       "<style scoped>\n",
       "    .dataframe tbody tr th:only-of-type {\n",
       "        vertical-align: middle;\n",
       "    }\n",
       "\n",
       "    .dataframe tbody tr th {\n",
       "        vertical-align: top;\n",
       "    }\n",
       "\n",
       "    .dataframe thead th {\n",
       "        text-align: right;\n",
       "    }\n",
       "</style>\n",
       "<table border=\"1\" class=\"dataframe\">\n",
       "  <thead>\n",
       "    <tr style=\"text-align: right;\">\n",
       "      <th>age</th>\n",
       "      <th>0.0</th>\n",
       "      <th>1.0</th>\n",
       "      <th>2.0</th>\n",
       "      <th>3.0</th>\n",
       "      <th>4.0</th>\n",
       "      <th>5.0</th>\n",
       "      <th>6.0</th>\n",
       "      <th>7.0</th>\n",
       "      <th>8.0</th>\n",
       "      <th>9.0</th>\n",
       "      <th>10.0</th>\n",
       "      <th>11.0</th>\n",
       "    </tr>\n",
       "    <tr>\n",
       "      <th>first_order_month</th>\n",
       "      <th></th>\n",
       "      <th></th>\n",
       "      <th></th>\n",
       "      <th></th>\n",
       "      <th></th>\n",
       "      <th></th>\n",
       "      <th></th>\n",
       "      <th></th>\n",
       "      <th></th>\n",
       "      <th></th>\n",
       "      <th></th>\n",
       "      <th></th>\n",
       "    </tr>\n",
       "  </thead>\n",
       "  <tbody>\n",
       "    <tr>\n",
       "      <th>2017-06-01</th>\n",
       "      <td>1.16</td>\n",
       "      <td>0.09</td>\n",
       "      <td>0.09</td>\n",
       "      <td>0.11</td>\n",
       "      <td>0.14</td>\n",
       "      <td>0.11</td>\n",
       "      <td>0.14</td>\n",
       "      <td>0.09</td>\n",
       "      <td>0.1</td>\n",
       "      <td>0.08</td>\n",
       "      <td>0.05</td>\n",
       "      <td>0.04</td>\n",
       "    </tr>\n",
       "    <tr>\n",
       "      <th>2017-07-01</th>\n",
       "      <td>1.14</td>\n",
       "      <td>0.05</td>\n",
       "      <td>0.06</td>\n",
       "      <td>0.05</td>\n",
       "      <td>0.04</td>\n",
       "      <td>0.04</td>\n",
       "      <td>0.03</td>\n",
       "      <td>0.03</td>\n",
       "      <td>0.03</td>\n",
       "      <td>0.01</td>\n",
       "      <td>0.03</td>\n",
       "      <td></td>\n",
       "    </tr>\n",
       "    <tr>\n",
       "      <th>2017-08-01</th>\n",
       "      <td>1.12</td>\n",
       "      <td>0.08</td>\n",
       "      <td>0.07</td>\n",
       "      <td>0.06</td>\n",
       "      <td>0.06</td>\n",
       "      <td>0.05</td>\n",
       "      <td>0.04</td>\n",
       "      <td>0.06</td>\n",
       "      <td>0.03</td>\n",
       "      <td>0.03</td>\n",
       "      <td></td>\n",
       "      <td></td>\n",
       "    </tr>\n",
       "    <tr>\n",
       "      <th>2017-09-01</th>\n",
       "      <td>1.14</td>\n",
       "      <td>0.08</td>\n",
       "      <td>0.06</td>\n",
       "      <td>0.06</td>\n",
       "      <td>0.03</td>\n",
       "      <td>0.04</td>\n",
       "      <td>0.04</td>\n",
       "      <td>0.02</td>\n",
       "      <td>0.02</td>\n",
       "      <td></td>\n",
       "      <td></td>\n",
       "      <td></td>\n",
       "    </tr>\n",
       "    <tr>\n",
       "      <th>2017-10-01</th>\n",
       "      <td>1.14</td>\n",
       "      <td>0.07</td>\n",
       "      <td>0.04</td>\n",
       "      <td>0.03</td>\n",
       "      <td>0.03</td>\n",
       "      <td>0.02</td>\n",
       "      <td>0.02</td>\n",
       "      <td>0.03</td>\n",
       "      <td></td>\n",
       "      <td></td>\n",
       "      <td></td>\n",
       "      <td></td>\n",
       "    </tr>\n",
       "    <tr>\n",
       "      <th>2017-11-01</th>\n",
       "      <td>1.18</td>\n",
       "      <td>0.1</td>\n",
       "      <td>0.04</td>\n",
       "      <td>0.05</td>\n",
       "      <td>0.03</td>\n",
       "      <td>0.01</td>\n",
       "      <td>0.02</td>\n",
       "      <td></td>\n",
       "      <td></td>\n",
       "      <td></td>\n",
       "      <td></td>\n",
       "      <td></td>\n",
       "    </tr>\n",
       "    <tr>\n",
       "      <th>2017-12-01</th>\n",
       "      <td>1.15</td>\n",
       "      <td>0.06</td>\n",
       "      <td>0.05</td>\n",
       "      <td>0.04</td>\n",
       "      <td>0.02</td>\n",
       "      <td>0.02</td>\n",
       "      <td></td>\n",
       "      <td></td>\n",
       "      <td></td>\n",
       "      <td></td>\n",
       "      <td></td>\n",
       "      <td></td>\n",
       "    </tr>\n",
       "    <tr>\n",
       "      <th>2018-01-01</th>\n",
       "      <td>1.12</td>\n",
       "      <td>0.07</td>\n",
       "      <td>0.05</td>\n",
       "      <td>0.02</td>\n",
       "      <td>0.02</td>\n",
       "      <td></td>\n",
       "      <td></td>\n",
       "      <td></td>\n",
       "      <td></td>\n",
       "      <td></td>\n",
       "      <td></td>\n",
       "      <td></td>\n",
       "    </tr>\n",
       "    <tr>\n",
       "      <th>2018-02-01</th>\n",
       "      <td>1.12</td>\n",
       "      <td>0.06</td>\n",
       "      <td>0.02</td>\n",
       "      <td>0.02</td>\n",
       "      <td></td>\n",
       "      <td></td>\n",
       "      <td></td>\n",
       "      <td></td>\n",
       "      <td></td>\n",
       "      <td></td>\n",
       "      <td></td>\n",
       "      <td></td>\n",
       "    </tr>\n",
       "    <tr>\n",
       "      <th>2018-03-01</th>\n",
       "      <td>1.17</td>\n",
       "      <td>0.05</td>\n",
       "      <td>0.05</td>\n",
       "      <td></td>\n",
       "      <td></td>\n",
       "      <td></td>\n",
       "      <td></td>\n",
       "      <td></td>\n",
       "      <td></td>\n",
       "      <td></td>\n",
       "      <td></td>\n",
       "      <td></td>\n",
       "    </tr>\n",
       "    <tr>\n",
       "      <th>2018-04-01</th>\n",
       "      <td>1.10</td>\n",
       "      <td>0.09</td>\n",
       "      <td></td>\n",
       "      <td></td>\n",
       "      <td></td>\n",
       "      <td></td>\n",
       "      <td></td>\n",
       "      <td></td>\n",
       "      <td></td>\n",
       "      <td></td>\n",
       "      <td></td>\n",
       "      <td></td>\n",
       "    </tr>\n",
       "    <tr>\n",
       "      <th>2018-05-01</th>\n",
       "      <td>1.09</td>\n",
       "      <td></td>\n",
       "      <td></td>\n",
       "      <td></td>\n",
       "      <td></td>\n",
       "      <td></td>\n",
       "      <td></td>\n",
       "      <td></td>\n",
       "      <td></td>\n",
       "      <td></td>\n",
       "      <td></td>\n",
       "      <td></td>\n",
       "    </tr>\n",
       "    <tr>\n",
       "      <th>2018-06-01</th>\n",
       "      <td>1.00</td>\n",
       "      <td></td>\n",
       "      <td></td>\n",
       "      <td></td>\n",
       "      <td></td>\n",
       "      <td></td>\n",
       "      <td></td>\n",
       "      <td></td>\n",
       "      <td></td>\n",
       "      <td></td>\n",
       "      <td></td>\n",
       "      <td></td>\n",
       "    </tr>\n",
       "  </tbody>\n",
       "</table>\n",
       "</div>"
      ],
      "text/plain": [
       "age                0.0   1.0   2.0   3.0   4.0   5.0   6.0   7.0   8.0   9.0   \\\n",
       "first_order_month                                                               \n",
       "2017-06-01         1.16  0.09  0.09  0.11  0.14  0.11  0.14  0.09   0.1  0.08   \n",
       "2017-07-01         1.14  0.05  0.06  0.05  0.04  0.04  0.03  0.03  0.03  0.01   \n",
       "2017-08-01         1.12  0.08  0.07  0.06  0.06  0.05  0.04  0.06  0.03  0.03   \n",
       "2017-09-01         1.14  0.08  0.06  0.06  0.03  0.04  0.04  0.02  0.02         \n",
       "2017-10-01         1.14  0.07  0.04  0.03  0.03  0.02  0.02  0.03               \n",
       "2017-11-01         1.18   0.1  0.04  0.05  0.03  0.01  0.02                     \n",
       "2017-12-01         1.15  0.06  0.05  0.04  0.02  0.02                           \n",
       "2018-01-01         1.12  0.07  0.05  0.02  0.02                                 \n",
       "2018-02-01         1.12  0.06  0.02  0.02                                       \n",
       "2018-03-01         1.17  0.05  0.05                                             \n",
       "2018-04-01         1.10  0.09                                                   \n",
       "2018-05-01         1.09                                                         \n",
       "2018-06-01         1.00                                                         \n",
       "\n",
       "age                10.0  11.0  \n",
       "first_order_month              \n",
       "2017-06-01         0.05  0.04  \n",
       "2017-07-01         0.03        \n",
       "2017-08-01                     \n",
       "2017-09-01                     \n",
       "2017-10-01                     \n",
       "2017-11-01                     \n",
       "2017-12-01                     \n",
       "2018-01-01                     \n",
       "2018-02-01                     \n",
       "2018-03-01                     \n",
       "2018-04-01                     \n",
       "2018-05-01                     \n",
       "2018-06-01                     "
      ]
     },
     "execution_count": 44,
     "metadata": {},
     "output_type": "execute_result"
    }
   ],
   "source": [
    "cohort_piv=cohort.pivot_table(index='first_order_month', columns='age',values='orders_per_user',aggfunc='sum')\n",
    "\n",
    "cohort_piv.round(2).fillna('')"
   ]
  },
  {
   "cell_type": "markdown",
   "id": "769d795e",
   "metadata": {},
   "source": [
    "We see that overall most of the users that ordered at least once, will not order again, as we can see by the table above."
   ]
  },
  {
   "cell_type": "markdown",
   "id": "1efdb2fd",
   "metadata": {},
   "source": [
    "#### Calculating customers' average purchase size\n",
    "To answer the question and the next after, we will create a table with the information about revenues, number of orders and initial cohort members' number in each age (months)."
   ]
  },
  {
   "cell_type": "code",
   "execution_count": 45,
   "id": "d049955f",
   "metadata": {},
   "outputs": [
    {
     "data": {
      "text/plain": [
       "count    50415.000000\n",
       "mean         4.999647\n",
       "std         21.818359\n",
       "min          0.000000\n",
       "25%          1.220000\n",
       "50%          2.500000\n",
       "75%          4.890000\n",
       "max       2633.280000\n",
       "Name: revenue, dtype: float64"
      ]
     },
     "execution_count": 45,
     "metadata": {},
     "output_type": "execute_result"
    }
   ],
   "source": [
    "orders['revenue'].describe()"
   ]
  },
  {
   "cell_type": "code",
   "execution_count": 46,
   "id": "9607b0df",
   "metadata": {},
   "outputs": [
    {
     "data": {
      "text/html": [
       "<div>\n",
       "<style scoped>\n",
       "    .dataframe tbody tr th:only-of-type {\n",
       "        vertical-align: middle;\n",
       "    }\n",
       "\n",
       "    .dataframe tbody tr th {\n",
       "        vertical-align: top;\n",
       "    }\n",
       "\n",
       "    .dataframe thead th {\n",
       "        text-align: right;\n",
       "    }\n",
       "</style>\n",
       "<table border=\"1\" class=\"dataframe\">\n",
       "  <thead>\n",
       "    <tr style=\"text-align: right;\">\n",
       "      <th></th>\n",
       "      <th>first_order_month</th>\n",
       "      <th>month</th>\n",
       "      <th>mean</th>\n",
       "      <th>sum</th>\n",
       "      <th>age</th>\n",
       "    </tr>\n",
       "  </thead>\n",
       "  <tbody>\n",
       "    <tr>\n",
       "      <th>0</th>\n",
       "      <td>2017-06-01</td>\n",
       "      <td>2017-06-01</td>\n",
       "      <td>4.060106</td>\n",
       "      <td>9557.49</td>\n",
       "      <td>0.0</td>\n",
       "    </tr>\n",
       "    <tr>\n",
       "      <th>1</th>\n",
       "      <td>2017-06-01</td>\n",
       "      <td>2017-07-01</td>\n",
       "      <td>5.547006</td>\n",
       "      <td>981.82</td>\n",
       "      <td>1.0</td>\n",
       "    </tr>\n",
       "    <tr>\n",
       "      <th>2</th>\n",
       "      <td>2017-06-01</td>\n",
       "      <td>2017-08-01</td>\n",
       "      <td>5.088161</td>\n",
       "      <td>885.34</td>\n",
       "      <td>2.0</td>\n",
       "    </tr>\n",
       "    <tr>\n",
       "      <th>3</th>\n",
       "      <td>2017-06-01</td>\n",
       "      <td>2017-09-01</td>\n",
       "      <td>8.545575</td>\n",
       "      <td>1931.30</td>\n",
       "      <td>3.0</td>\n",
       "    </tr>\n",
       "    <tr>\n",
       "      <th>4</th>\n",
       "      <td>2017-06-01</td>\n",
       "      <td>2017-10-01</td>\n",
       "      <td>7.084178</td>\n",
       "      <td>2068.58</td>\n",
       "      <td>4.0</td>\n",
       "    </tr>\n",
       "  </tbody>\n",
       "</table>\n",
       "</div>"
      ],
      "text/plain": [
       "  first_order_month      month      mean      sum  age\n",
       "0        2017-06-01 2017-06-01  4.060106  9557.49  0.0\n",
       "1        2017-06-01 2017-07-01  5.547006   981.82  1.0\n",
       "2        2017-06-01 2017-08-01  5.088161   885.34  2.0\n",
       "3        2017-06-01 2017-09-01  8.545575  1931.30  3.0\n",
       "4        2017-06-01 2017-10-01  7.084178  2068.58  4.0"
      ]
     },
     "execution_count": 46,
     "metadata": {},
     "output_type": "execute_result"
    }
   ],
   "source": [
    "avg_cohort=orders.groupby(['first_order_month','month'])['revenue'].agg({'mean','sum'}).reset_index()\n",
    "avg_cohort['age'] = ((avg_cohort['month'] - avg_cohort['first_order_month']) / np.timedelta64(1,'M')).round()\n",
    "avg_cohort.head()"
   ]
  },
  {
   "cell_type": "code",
   "execution_count": 47,
   "id": "14327a80",
   "metadata": {},
   "outputs": [
    {
     "data": {
      "text/html": [
       "<div>\n",
       "<style scoped>\n",
       "    .dataframe tbody tr th:only-of-type {\n",
       "        vertical-align: middle;\n",
       "    }\n",
       "\n",
       "    .dataframe tbody tr th {\n",
       "        vertical-align: top;\n",
       "    }\n",
       "\n",
       "    .dataframe thead tr th {\n",
       "        text-align: left;\n",
       "    }\n",
       "\n",
       "    .dataframe thead tr:last-of-type th {\n",
       "        text-align: right;\n",
       "    }\n",
       "</style>\n",
       "<table border=\"1\" class=\"dataframe\">\n",
       "  <thead>\n",
       "    <tr>\n",
       "      <th></th>\n",
       "      <th colspan=\"12\" halign=\"left\">mean</th>\n",
       "    </tr>\n",
       "    <tr>\n",
       "      <th>age</th>\n",
       "      <th>0.0</th>\n",
       "      <th>1.0</th>\n",
       "      <th>2.0</th>\n",
       "      <th>3.0</th>\n",
       "      <th>4.0</th>\n",
       "      <th>5.0</th>\n",
       "      <th>6.0</th>\n",
       "      <th>7.0</th>\n",
       "      <th>8.0</th>\n",
       "      <th>9.0</th>\n",
       "      <th>10.0</th>\n",
       "      <th>11.0</th>\n",
       "    </tr>\n",
       "    <tr>\n",
       "      <th>first_order_month</th>\n",
       "      <th></th>\n",
       "      <th></th>\n",
       "      <th></th>\n",
       "      <th></th>\n",
       "      <th></th>\n",
       "      <th></th>\n",
       "      <th></th>\n",
       "      <th></th>\n",
       "      <th></th>\n",
       "      <th></th>\n",
       "      <th></th>\n",
       "      <th></th>\n",
       "    </tr>\n",
       "  </thead>\n",
       "  <tbody>\n",
       "    <tr>\n",
       "      <th>2017-06-01</th>\n",
       "      <td>4.06</td>\n",
       "      <td>5.55</td>\n",
       "      <td>5.09</td>\n",
       "      <td>8.55</td>\n",
       "      <td>7.08</td>\n",
       "      <td>6.83</td>\n",
       "      <td>6.97</td>\n",
       "      <td>6.76</td>\n",
       "      <td>5.28</td>\n",
       "      <td>8.01</td>\n",
       "      <td>12.04</td>\n",
       "      <td>6.04</td>\n",
       "    </tr>\n",
       "    <tr>\n",
       "      <th>2017-07-01</th>\n",
       "      <td>5.29</td>\n",
       "      <td>6.45</td>\n",
       "      <td>9.99</td>\n",
       "      <td>6.64</td>\n",
       "      <td>4.72</td>\n",
       "      <td>3.66</td>\n",
       "      <td>3.79</td>\n",
       "      <td>5.45</td>\n",
       "      <td>5.35</td>\n",
       "      <td>11.79</td>\n",
       "      <td>5.65</td>\n",
       "      <td></td>\n",
       "    </tr>\n",
       "    <tr>\n",
       "      <th>2017-08-01</th>\n",
       "      <td>4.72</td>\n",
       "      <td>5.99</td>\n",
       "      <td>6.28</td>\n",
       "      <td>6.62</td>\n",
       "      <td>7.96</td>\n",
       "      <td>6.27</td>\n",
       "      <td>5.89</td>\n",
       "      <td>7.11</td>\n",
       "      <td>8.7</td>\n",
       "      <td>5.6</td>\n",
       "      <td></td>\n",
       "      <td></td>\n",
       "    </tr>\n",
       "    <tr>\n",
       "      <th>2017-09-01</th>\n",
       "      <td>4.97</td>\n",
       "      <td>13.17</td>\n",
       "      <td>8.35</td>\n",
       "      <td>62.57</td>\n",
       "      <td>15.43</td>\n",
       "      <td>15.32</td>\n",
       "      <td>16.77</td>\n",
       "      <td>11.21</td>\n",
       "      <td>7.79</td>\n",
       "      <td></td>\n",
       "      <td></td>\n",
       "      <td></td>\n",
       "    </tr>\n",
       "    <tr>\n",
       "      <th>2017-10-01</th>\n",
       "      <td>4.37</td>\n",
       "      <td>7.41</td>\n",
       "      <td>5.13</td>\n",
       "      <td>5.59</td>\n",
       "      <td>5.1</td>\n",
       "      <td>5.07</td>\n",
       "      <td>4.28</td>\n",
       "      <td>4.01</td>\n",
       "      <td></td>\n",
       "      <td></td>\n",
       "      <td></td>\n",
       "      <td></td>\n",
       "    </tr>\n",
       "    <tr>\n",
       "      <th>2017-11-01</th>\n",
       "      <td>4.37</td>\n",
       "      <td>4.1</td>\n",
       "      <td>4.47</td>\n",
       "      <td>6.28</td>\n",
       "      <td>4.44</td>\n",
       "      <td>3.73</td>\n",
       "      <td>4.6</td>\n",
       "      <td></td>\n",
       "      <td></td>\n",
       "      <td></td>\n",
       "      <td></td>\n",
       "      <td></td>\n",
       "    </tr>\n",
       "    <tr>\n",
       "      <th>2017-12-01</th>\n",
       "      <td>4.11</td>\n",
       "      <td>4.23</td>\n",
       "      <td>20.07</td>\n",
       "      <td>26.08</td>\n",
       "      <td>15.95</td>\n",
       "      <td>14.11</td>\n",
       "      <td></td>\n",
       "      <td></td>\n",
       "      <td></td>\n",
       "      <td></td>\n",
       "      <td></td>\n",
       "      <td></td>\n",
       "    </tr>\n",
       "    <tr>\n",
       "      <th>2018-01-01</th>\n",
       "      <td>3.69</td>\n",
       "      <td>4.44</td>\n",
       "      <td>6.45</td>\n",
       "      <td>7.52</td>\n",
       "      <td>2.71</td>\n",
       "      <td></td>\n",
       "      <td></td>\n",
       "      <td></td>\n",
       "      <td></td>\n",
       "      <td></td>\n",
       "      <td></td>\n",
       "      <td></td>\n",
       "    </tr>\n",
       "    <tr>\n",
       "      <th>2018-02-01</th>\n",
       "      <td>3.71</td>\n",
       "      <td>4.58</td>\n",
       "      <td>3.45</td>\n",
       "      <td>3.87</td>\n",
       "      <td></td>\n",
       "      <td></td>\n",
       "      <td></td>\n",
       "      <td></td>\n",
       "      <td></td>\n",
       "      <td></td>\n",
       "      <td></td>\n",
       "      <td></td>\n",
       "    </tr>\n",
       "    <tr>\n",
       "      <th>2018-03-01</th>\n",
       "      <td>4.14</td>\n",
       "      <td>5.97</td>\n",
       "      <td>6.33</td>\n",
       "      <td></td>\n",
       "      <td></td>\n",
       "      <td></td>\n",
       "      <td></td>\n",
       "      <td></td>\n",
       "      <td></td>\n",
       "      <td></td>\n",
       "      <td></td>\n",
       "      <td></td>\n",
       "    </tr>\n",
       "    <tr>\n",
       "      <th>2018-04-01</th>\n",
       "      <td>4.25</td>\n",
       "      <td>6.2</td>\n",
       "      <td></td>\n",
       "      <td></td>\n",
       "      <td></td>\n",
       "      <td></td>\n",
       "      <td></td>\n",
       "      <td></td>\n",
       "      <td></td>\n",
       "      <td></td>\n",
       "      <td></td>\n",
       "      <td></td>\n",
       "    </tr>\n",
       "    <tr>\n",
       "      <th>2018-05-01</th>\n",
       "      <td>4.29</td>\n",
       "      <td></td>\n",
       "      <td></td>\n",
       "      <td></td>\n",
       "      <td></td>\n",
       "      <td></td>\n",
       "      <td></td>\n",
       "      <td></td>\n",
       "      <td></td>\n",
       "      <td></td>\n",
       "      <td></td>\n",
       "      <td></td>\n",
       "    </tr>\n",
       "    <tr>\n",
       "      <th>2018-06-01</th>\n",
       "      <td>3.42</td>\n",
       "      <td></td>\n",
       "      <td></td>\n",
       "      <td></td>\n",
       "      <td></td>\n",
       "      <td></td>\n",
       "      <td></td>\n",
       "      <td></td>\n",
       "      <td></td>\n",
       "      <td></td>\n",
       "      <td></td>\n",
       "      <td></td>\n",
       "    </tr>\n",
       "  </tbody>\n",
       "</table>\n",
       "</div>"
      ],
      "text/plain": [
       "                   mean                                                   \\\n",
       "age                0.0    1.0    2.0    3.0    4.0    5.0    6.0    7.0    \n",
       "first_order_month                                                          \n",
       "2017-06-01         4.06   5.55   5.09   8.55   7.08   6.83   6.97   6.76   \n",
       "2017-07-01         5.29   6.45   9.99   6.64   4.72   3.66   3.79   5.45   \n",
       "2017-08-01         4.72   5.99   6.28   6.62   7.96   6.27   5.89   7.11   \n",
       "2017-09-01         4.97  13.17   8.35  62.57  15.43  15.32  16.77  11.21   \n",
       "2017-10-01         4.37   7.41   5.13   5.59    5.1   5.07   4.28   4.01   \n",
       "2017-11-01         4.37    4.1   4.47   6.28   4.44   3.73    4.6          \n",
       "2017-12-01         4.11   4.23  20.07  26.08  15.95  14.11                 \n",
       "2018-01-01         3.69   4.44   6.45   7.52   2.71                        \n",
       "2018-02-01         3.71   4.58   3.45   3.87                               \n",
       "2018-03-01         4.14   5.97   6.33                                      \n",
       "2018-04-01         4.25    6.2                                             \n",
       "2018-05-01         4.29                                                    \n",
       "2018-06-01         3.42                                                    \n",
       "\n",
       "                                             \n",
       "age                8.0    9.0    10.0  11.0  \n",
       "first_order_month                            \n",
       "2017-06-01         5.28   8.01  12.04  6.04  \n",
       "2017-07-01         5.35  11.79   5.65        \n",
       "2017-08-01          8.7    5.6               \n",
       "2017-09-01         7.79                      \n",
       "2017-10-01                                   \n",
       "2017-11-01                                   \n",
       "2017-12-01                                   \n",
       "2018-01-01                                   \n",
       "2018-02-01                                   \n",
       "2018-03-01                                   \n",
       "2018-04-01                                   \n",
       "2018-05-01                                   \n",
       "2018-06-01                                   "
      ]
     },
     "execution_count": 47,
     "metadata": {},
     "output_type": "execute_result"
    }
   ],
   "source": [
    "#mean of revenue of each order, every month, per cohort:\n",
    "avg_cohort_piv1=avg_cohort.pivot_table(index='first_order_month',columns='age',values='mean',aggfunc=['mean'])\n",
    "avg_cohort_piv1.round(2).fillna('')\n"
   ]
  },
  {
   "cell_type": "code",
   "execution_count": 48,
   "id": "0e4ce569",
   "metadata": {},
   "outputs": [
    {
     "data": {
      "text/html": [
       "<div>\n",
       "<style scoped>\n",
       "    .dataframe tbody tr th:only-of-type {\n",
       "        vertical-align: middle;\n",
       "    }\n",
       "\n",
       "    .dataframe tbody tr th {\n",
       "        vertical-align: top;\n",
       "    }\n",
       "\n",
       "    .dataframe thead tr th {\n",
       "        text-align: left;\n",
       "    }\n",
       "\n",
       "    .dataframe thead tr:last-of-type th {\n",
       "        text-align: right;\n",
       "    }\n",
       "</style>\n",
       "<table border=\"1\" class=\"dataframe\">\n",
       "  <thead>\n",
       "    <tr>\n",
       "      <th></th>\n",
       "      <th colspan=\"12\" halign=\"left\">sum</th>\n",
       "    </tr>\n",
       "    <tr>\n",
       "      <th>age</th>\n",
       "      <th>0.0</th>\n",
       "      <th>1.0</th>\n",
       "      <th>2.0</th>\n",
       "      <th>3.0</th>\n",
       "      <th>4.0</th>\n",
       "      <th>5.0</th>\n",
       "      <th>6.0</th>\n",
       "      <th>7.0</th>\n",
       "      <th>8.0</th>\n",
       "      <th>9.0</th>\n",
       "      <th>10.0</th>\n",
       "      <th>11.0</th>\n",
       "    </tr>\n",
       "    <tr>\n",
       "      <th>first_order_month</th>\n",
       "      <th></th>\n",
       "      <th></th>\n",
       "      <th></th>\n",
       "      <th></th>\n",
       "      <th></th>\n",
       "      <th></th>\n",
       "      <th></th>\n",
       "      <th></th>\n",
       "      <th></th>\n",
       "      <th></th>\n",
       "      <th></th>\n",
       "      <th></th>\n",
       "    </tr>\n",
       "  </thead>\n",
       "  <tbody>\n",
       "    <tr>\n",
       "      <th>2017-06-01</th>\n",
       "      <td>9557.49</td>\n",
       "      <td>981.82</td>\n",
       "      <td>885.34</td>\n",
       "      <td>1931.3</td>\n",
       "      <td>2068.58</td>\n",
       "      <td>1487.92</td>\n",
       "      <td>1922.74</td>\n",
       "      <td>1176.56</td>\n",
       "      <td>1119.15</td>\n",
       "      <td>1225.51</td>\n",
       "      <td>1155.66</td>\n",
       "      <td>519.62</td>\n",
       "    </tr>\n",
       "    <tr>\n",
       "      <th>2017-07-01</th>\n",
       "      <td>11557.65</td>\n",
       "      <td>644.61</td>\n",
       "      <td>1199.05</td>\n",
       "      <td>690.31</td>\n",
       "      <td>339.97</td>\n",
       "      <td>300.08</td>\n",
       "      <td>231.16</td>\n",
       "      <td>272.72</td>\n",
       "      <td>310.05</td>\n",
       "      <td>282.96</td>\n",
       "      <td>299.36</td>\n",
       "      <td></td>\n",
       "    </tr>\n",
       "    <tr>\n",
       "      <th>2017-08-01</th>\n",
       "      <td>7228.83</td>\n",
       "      <td>646.63</td>\n",
       "      <td>628.12</td>\n",
       "      <td>536.05</td>\n",
       "      <td>676.85</td>\n",
       "      <td>388.45</td>\n",
       "      <td>288.61</td>\n",
       "      <td>554.86</td>\n",
       "      <td>400.33</td>\n",
       "      <td>257.53</td>\n",
       "      <td></td>\n",
       "      <td></td>\n",
       "    </tr>\n",
       "    <tr>\n",
       "      <th>2017-09-01</th>\n",
       "      <td>14568.53</td>\n",
       "      <td>2884.49</td>\n",
       "      <td>1344.52</td>\n",
       "      <td>10261.52</td>\n",
       "      <td>1033.84</td>\n",
       "      <td>1670.08</td>\n",
       "      <td>1810.85</td>\n",
       "      <td>627.57</td>\n",
       "      <td>474.92</td>\n",
       "      <td></td>\n",
       "      <td></td>\n",
       "      <td></td>\n",
       "    </tr>\n",
       "    <tr>\n",
       "      <th>2017-10-01</th>\n",
       "      <td>21716.20</td>\n",
       "      <td>2325.21</td>\n",
       "      <td>830.65</td>\n",
       "      <td>682.01</td>\n",
       "      <td>657.77</td>\n",
       "      <td>522.37</td>\n",
       "      <td>368.1</td>\n",
       "      <td>501.14</td>\n",
       "      <td></td>\n",
       "      <td></td>\n",
       "      <td></td>\n",
       "      <td></td>\n",
       "    </tr>\n",
       "    <tr>\n",
       "      <th>2017-11-01</th>\n",
       "      <td>21036.26</td>\n",
       "      <td>1629.27</td>\n",
       "      <td>814.39</td>\n",
       "      <td>1326.13</td>\n",
       "      <td>604.04</td>\n",
       "      <td>219.88</td>\n",
       "      <td>469.02</td>\n",
       "      <td></td>\n",
       "      <td></td>\n",
       "      <td></td>\n",
       "      <td></td>\n",
       "      <td></td>\n",
       "    </tr>\n",
       "    <tr>\n",
       "      <th>2017-12-01</th>\n",
       "      <td>20767.49</td>\n",
       "      <td>1141.22</td>\n",
       "      <td>4054.7</td>\n",
       "      <td>4669.1</td>\n",
       "      <td>1371.57</td>\n",
       "      <td>1481.66</td>\n",
       "      <td></td>\n",
       "      <td></td>\n",
       "      <td></td>\n",
       "      <td></td>\n",
       "      <td></td>\n",
       "      <td></td>\n",
       "    </tr>\n",
       "    <tr>\n",
       "      <th>2018-01-01</th>\n",
       "      <td>13949.50</td>\n",
       "      <td>994.22</td>\n",
       "      <td>1026.34</td>\n",
       "      <td>481.59</td>\n",
       "      <td>211.48</td>\n",
       "      <td></td>\n",
       "      <td></td>\n",
       "      <td></td>\n",
       "      <td></td>\n",
       "      <td></td>\n",
       "      <td></td>\n",
       "      <td></td>\n",
       "    </tr>\n",
       "    <tr>\n",
       "      <th>2018-02-01</th>\n",
       "      <td>15177.16</td>\n",
       "      <td>1015.98</td>\n",
       "      <td>286.66</td>\n",
       "      <td>270.7</td>\n",
       "      <td></td>\n",
       "      <td></td>\n",
       "      <td></td>\n",
       "      <td></td>\n",
       "      <td></td>\n",
       "      <td></td>\n",
       "      <td></td>\n",
       "      <td></td>\n",
       "    </tr>\n",
       "    <tr>\n",
       "      <th>2018-03-01</th>\n",
       "      <td>17095.49</td>\n",
       "      <td>1063.05</td>\n",
       "      <td>1114.87</td>\n",
       "      <td></td>\n",
       "      <td></td>\n",
       "      <td></td>\n",
       "      <td></td>\n",
       "      <td></td>\n",
       "      <td></td>\n",
       "      <td></td>\n",
       "      <td></td>\n",
       "      <td></td>\n",
       "    </tr>\n",
       "    <tr>\n",
       "      <th>2018-04-01</th>\n",
       "      <td>10600.69</td>\n",
       "      <td>1209.92</td>\n",
       "      <td></td>\n",
       "      <td></td>\n",
       "      <td></td>\n",
       "      <td></td>\n",
       "      <td></td>\n",
       "      <td></td>\n",
       "      <td></td>\n",
       "      <td></td>\n",
       "      <td></td>\n",
       "      <td></td>\n",
       "    </tr>\n",
       "    <tr>\n",
       "      <th>2018-05-01</th>\n",
       "      <td>13925.76</td>\n",
       "      <td></td>\n",
       "      <td></td>\n",
       "      <td></td>\n",
       "      <td></td>\n",
       "      <td></td>\n",
       "      <td></td>\n",
       "      <td></td>\n",
       "      <td></td>\n",
       "      <td></td>\n",
       "      <td></td>\n",
       "      <td></td>\n",
       "    </tr>\n",
       "    <tr>\n",
       "      <th>2018-06-01</th>\n",
       "      <td>3.42</td>\n",
       "      <td></td>\n",
       "      <td></td>\n",
       "      <td></td>\n",
       "      <td></td>\n",
       "      <td></td>\n",
       "      <td></td>\n",
       "      <td></td>\n",
       "      <td></td>\n",
       "      <td></td>\n",
       "      <td></td>\n",
       "      <td></td>\n",
       "    </tr>\n",
       "  </tbody>\n",
       "</table>\n",
       "</div>"
      ],
      "text/plain": [
       "                        sum                                                \\\n",
       "age                    0.0      1.0      2.0       3.0      4.0      5.0    \n",
       "first_order_month                                                           \n",
       "2017-06-01          9557.49   981.82   885.34    1931.3  2068.58  1487.92   \n",
       "2017-07-01         11557.65   644.61  1199.05    690.31   339.97   300.08   \n",
       "2017-08-01          7228.83   646.63   628.12    536.05   676.85   388.45   \n",
       "2017-09-01         14568.53  2884.49  1344.52  10261.52  1033.84  1670.08   \n",
       "2017-10-01         21716.20  2325.21   830.65    682.01   657.77   522.37   \n",
       "2017-11-01         21036.26  1629.27   814.39   1326.13   604.04   219.88   \n",
       "2017-12-01         20767.49  1141.22   4054.7    4669.1  1371.57  1481.66   \n",
       "2018-01-01         13949.50   994.22  1026.34    481.59   211.48            \n",
       "2018-02-01         15177.16  1015.98   286.66     270.7                     \n",
       "2018-03-01         17095.49  1063.05  1114.87                               \n",
       "2018-04-01         10600.69  1209.92                                        \n",
       "2018-05-01         13925.76                                                 \n",
       "2018-06-01             3.42                                                 \n",
       "\n",
       "                                                                        \n",
       "age                   6.0      7.0      8.0      9.0      10.0    11.0  \n",
       "first_order_month                                                       \n",
       "2017-06-01         1922.74  1176.56  1119.15  1225.51  1155.66  519.62  \n",
       "2017-07-01          231.16   272.72   310.05   282.96   299.36          \n",
       "2017-08-01          288.61   554.86   400.33   257.53                   \n",
       "2017-09-01         1810.85   627.57   474.92                            \n",
       "2017-10-01           368.1   501.14                                     \n",
       "2017-11-01          469.02                                              \n",
       "2017-12-01                                                              \n",
       "2018-01-01                                                              \n",
       "2018-02-01                                                              \n",
       "2018-03-01                                                              \n",
       "2018-04-01                                                              \n",
       "2018-05-01                                                              \n",
       "2018-06-01                                                              "
      ]
     },
     "execution_count": 48,
     "metadata": {},
     "output_type": "execute_result"
    }
   ],
   "source": [
    "#summing the revenue in each month per cohort\n",
    "avg_cohort_piv2=avg_cohort.pivot_table(index='first_order_month',columns='age',values='sum',aggfunc=['sum'])\n",
    "avg_cohort_piv2.round(2).fillna('')"
   ]
  },
  {
   "cell_type": "markdown",
   "id": "52d4af14",
   "metadata": {},
   "source": [
    "We see that although that most of the purchases are made in the first month, their average price is smaller than most of the purchases that happen in later months.\n",
    "We assume that the reason the overall average purchase price is smaller than most of the monthly average values is due to the relatively large part of the orders in the first month (age 0) out of all the orders.\n",
    "Although the avg purchase size incline, the total amount of money spend is getting smaller, meaning that over the time, the amount of orders and their total price is getting smaller, the users that order keep ordering around twice a month and their orders' price is steady."
   ]
  },
  {
   "cell_type": "markdown",
   "id": "490ed20d",
   "metadata": {},
   "source": [
    "##### Checking the revenue by sources:\n",
    "In order to estimate which source was the most profitable we'll mark the orders with user's source from his first session. The plot will be represented on the next step, compared to marketing expenses."
   ]
  },
  {
   "cell_type": "code",
   "execution_count": 49,
   "id": "0f0af8f5",
   "metadata": {},
   "outputs": [],
   "source": [
    "first_device = visits.loc[visits['first_session']==visits['date'],['uid', 'source id','start ts']].reset_index(drop = True)\n",
    "first_device = first_device.sort_values(by=['uid', 'start ts']).reset_index(drop = True)\n",
    "first_device=first_device.drop_duplicates(subset=['uid'], keep='first').reset_index(drop = True)\n",
    "#first_device"
   ]
  },
  {
   "cell_type": "code",
   "execution_count": 50,
   "id": "ebb35cf6",
   "metadata": {},
   "outputs": [],
   "source": [
    "orders= orders.merge(first_device[['uid', 'source id']], on='uid')"
   ]
  },
  {
   "cell_type": "code",
   "execution_count": 51,
   "id": "bd911c54",
   "metadata": {},
   "outputs": [
    {
     "data": {
      "text/html": [
       "<div>\n",
       "<style scoped>\n",
       "    .dataframe tbody tr th:only-of-type {\n",
       "        vertical-align: middle;\n",
       "    }\n",
       "\n",
       "    .dataframe tbody tr th {\n",
       "        vertical-align: top;\n",
       "    }\n",
       "\n",
       "    .dataframe thead th {\n",
       "        text-align: right;\n",
       "    }\n",
       "</style>\n",
       "<table border=\"1\" class=\"dataframe\">\n",
       "  <thead>\n",
       "    <tr style=\"text-align: right;\">\n",
       "      <th>month</th>\n",
       "      <th>2017-06-01</th>\n",
       "      <th>2017-07-01</th>\n",
       "      <th>2017-08-01</th>\n",
       "      <th>2017-09-01</th>\n",
       "      <th>2017-10-01</th>\n",
       "      <th>2017-11-01</th>\n",
       "      <th>2017-12-01</th>\n",
       "      <th>2018-01-01</th>\n",
       "      <th>2018-02-01</th>\n",
       "      <th>2018-03-01</th>\n",
       "      <th>2018-04-01</th>\n",
       "      <th>2018-05-01</th>\n",
       "      <th>2018-06-01</th>\n",
       "    </tr>\n",
       "    <tr>\n",
       "      <th>source id</th>\n",
       "      <th></th>\n",
       "      <th></th>\n",
       "      <th></th>\n",
       "      <th></th>\n",
       "      <th></th>\n",
       "      <th></th>\n",
       "      <th></th>\n",
       "      <th></th>\n",
       "      <th></th>\n",
       "      <th></th>\n",
       "      <th></th>\n",
       "      <th></th>\n",
       "      <th></th>\n",
       "    </tr>\n",
       "  </thead>\n",
       "  <tbody>\n",
       "    <tr>\n",
       "      <th>1</th>\n",
       "      <td>1378.70</td>\n",
       "      <td>1581.68</td>\n",
       "      <td>1441.49</td>\n",
       "      <td>3071.61</td>\n",
       "      <td>3621.82</td>\n",
       "      <td>3519.48</td>\n",
       "      <td>2748.37</td>\n",
       "      <td>2554.82</td>\n",
       "      <td>2351.09</td>\n",
       "      <td>3878.77</td>\n",
       "      <td>2446.64</td>\n",
       "      <td>2496.08</td>\n",
       "      <td>NaN</td>\n",
       "    </tr>\n",
       "    <tr>\n",
       "      <th>2</th>\n",
       "      <td>1043.68</td>\n",
       "      <td>1868.91</td>\n",
       "      <td>929.02</td>\n",
       "      <td>2410.18</td>\n",
       "      <td>5316.79</td>\n",
       "      <td>4613.10</td>\n",
       "      <td>4662.11</td>\n",
       "      <td>2973.36</td>\n",
       "      <td>6565.50</td>\n",
       "      <td>7911.99</td>\n",
       "      <td>3431.50</td>\n",
       "      <td>5197.47</td>\n",
       "      <td>NaN</td>\n",
       "    </tr>\n",
       "    <tr>\n",
       "      <th>3</th>\n",
       "      <td>2804.34</td>\n",
       "      <td>3197.79</td>\n",
       "      <td>1964.97</td>\n",
       "      <td>4658.87</td>\n",
       "      <td>6125.14</td>\n",
       "      <td>6471.03</td>\n",
       "      <td>6045.60</td>\n",
       "      <td>4716.02</td>\n",
       "      <td>4989.16</td>\n",
       "      <td>5177.40</td>\n",
       "      <td>3407.30</td>\n",
       "      <td>4953.62</td>\n",
       "      <td>NaN</td>\n",
       "    </tr>\n",
       "    <tr>\n",
       "      <th>4</th>\n",
       "      <td>1959.84</td>\n",
       "      <td>2883.29</td>\n",
       "      <td>1813.08</td>\n",
       "      <td>3100.69</td>\n",
       "      <td>6004.19</td>\n",
       "      <td>7144.39</td>\n",
       "      <td>7526.25</td>\n",
       "      <td>4523.82</td>\n",
       "      <td>5676.16</td>\n",
       "      <td>6781.78</td>\n",
       "      <td>4623.62</td>\n",
       "      <td>4656.30</td>\n",
       "      <td>3.42</td>\n",
       "    </tr>\n",
       "    <tr>\n",
       "      <th>5</th>\n",
       "      <td>1898.89</td>\n",
       "      <td>2582.94</td>\n",
       "      <td>2125.74</td>\n",
       "      <td>4448.01</td>\n",
       "      <td>5537.52</td>\n",
       "      <td>3977.43</td>\n",
       "      <td>14408.75</td>\n",
       "      <td>3961.83</td>\n",
       "      <td>5061.78</td>\n",
       "      <td>3727.48</td>\n",
       "      <td>2343.26</td>\n",
       "      <td>2550.39</td>\n",
       "      <td>NaN</td>\n",
       "    </tr>\n",
       "    <tr>\n",
       "      <th>7</th>\n",
       "      <td>NaN</td>\n",
       "      <td>NaN</td>\n",
       "      <td>1.22</td>\n",
       "      <td>NaN</td>\n",
       "      <td>NaN</td>\n",
       "      <td>NaN</td>\n",
       "      <td>NaN</td>\n",
       "      <td>NaN</td>\n",
       "      <td>NaN</td>\n",
       "      <td>NaN</td>\n",
       "      <td>NaN</td>\n",
       "      <td>NaN</td>\n",
       "      <td>NaN</td>\n",
       "    </tr>\n",
       "    <tr>\n",
       "      <th>9</th>\n",
       "      <td>242.69</td>\n",
       "      <td>237.27</td>\n",
       "      <td>296.77</td>\n",
       "      <td>459.87</td>\n",
       "      <td>809.52</td>\n",
       "      <td>728.41</td>\n",
       "      <td>650.01</td>\n",
       "      <td>382.75</td>\n",
       "      <td>578.55</td>\n",
       "      <td>677.66</td>\n",
       "      <td>319.24</td>\n",
       "      <td>376.66</td>\n",
       "      <td>NaN</td>\n",
       "    </tr>\n",
       "    <tr>\n",
       "      <th>10</th>\n",
       "      <td>229.35</td>\n",
       "      <td>187.59</td>\n",
       "      <td>186.49</td>\n",
       "      <td>196.28</td>\n",
       "      <td>572.72</td>\n",
       "      <td>616.09</td>\n",
       "      <td>347.51</td>\n",
       "      <td>304.53</td>\n",
       "      <td>338.30</td>\n",
       "      <td>679.51</td>\n",
       "      <td>286.50</td>\n",
       "      <td>505.46</td>\n",
       "      <td>NaN</td>\n",
       "    </tr>\n",
       "  </tbody>\n",
       "</table>\n",
       "</div>"
      ],
      "text/plain": [
       "month      2017-06-01  2017-07-01  2017-08-01  2017-09-01  2017-10-01  \\\n",
       "source id                                                               \n",
       "1             1378.70     1581.68     1441.49     3071.61     3621.82   \n",
       "2             1043.68     1868.91      929.02     2410.18     5316.79   \n",
       "3             2804.34     3197.79     1964.97     4658.87     6125.14   \n",
       "4             1959.84     2883.29     1813.08     3100.69     6004.19   \n",
       "5             1898.89     2582.94     2125.74     4448.01     5537.52   \n",
       "7                 NaN         NaN        1.22         NaN         NaN   \n",
       "9              242.69      237.27      296.77      459.87      809.52   \n",
       "10             229.35      187.59      186.49      196.28      572.72   \n",
       "\n",
       "month      2017-11-01  2017-12-01  2018-01-01  2018-02-01  2018-03-01  \\\n",
       "source id                                                               \n",
       "1             3519.48     2748.37     2554.82     2351.09     3878.77   \n",
       "2             4613.10     4662.11     2973.36     6565.50     7911.99   \n",
       "3             6471.03     6045.60     4716.02     4989.16     5177.40   \n",
       "4             7144.39     7526.25     4523.82     5676.16     6781.78   \n",
       "5             3977.43    14408.75     3961.83     5061.78     3727.48   \n",
       "7                 NaN         NaN         NaN         NaN         NaN   \n",
       "9              728.41      650.01      382.75      578.55      677.66   \n",
       "10             616.09      347.51      304.53      338.30      679.51   \n",
       "\n",
       "month      2018-04-01  2018-05-01  2018-06-01  \n",
       "source id                                      \n",
       "1             2446.64     2496.08         NaN  \n",
       "2             3431.50     5197.47         NaN  \n",
       "3             3407.30     4953.62         NaN  \n",
       "4             4623.62     4656.30        3.42  \n",
       "5             2343.26     2550.39         NaN  \n",
       "7                 NaN         NaN         NaN  \n",
       "9              319.24      376.66         NaN  \n",
       "10             286.50      505.46         NaN  "
      ]
     },
     "execution_count": 51,
     "metadata": {},
     "output_type": "execute_result"
    }
   ],
   "source": [
    "source_orders=orders.pivot_table(index='month', columns='source id', values='revenue', aggfunc='sum')\n",
    "source_orders.T\n"
   ]
  },
  {
   "cell_type": "markdown",
   "id": "baeb7c40",
   "metadata": {},
   "source": [
    "We see that sources 1-5 present same revenue values in most of the months, while source 7 has almost no orders (and no revenue) and sources 9-10 present low performance."
   ]
  },
  {
   "cell_type": "markdown",
   "id": "d57d6b30",
   "metadata": {},
   "source": [
    "#### Calculating customers' lifetime value"
   ]
  },
  {
   "cell_type": "code",
   "execution_count": 52,
   "id": "a353db04",
   "metadata": {},
   "outputs": [
    {
     "data": {
      "text/html": [
       "<div>\n",
       "<style scoped>\n",
       "    .dataframe tbody tr th:only-of-type {\n",
       "        vertical-align: middle;\n",
       "    }\n",
       "\n",
       "    .dataframe tbody tr th {\n",
       "        vertical-align: top;\n",
       "    }\n",
       "\n",
       "    .dataframe thead th {\n",
       "        text-align: right;\n",
       "    }\n",
       "</style>\n",
       "<table border=\"1\" class=\"dataframe\">\n",
       "  <thead>\n",
       "    <tr style=\"text-align: right;\">\n",
       "      <th></th>\n",
       "      <th>first_order_month</th>\n",
       "      <th>month</th>\n",
       "      <th>revenue</th>\n",
       "      <th>cohort_size</th>\n",
       "      <th>age</th>\n",
       "      <th>ltv</th>\n",
       "    </tr>\n",
       "  </thead>\n",
       "  <tbody>\n",
       "    <tr>\n",
       "      <th>0</th>\n",
       "      <td>2017-06-01</td>\n",
       "      <td>2017-06-01</td>\n",
       "      <td>9557.49</td>\n",
       "      <td>2023</td>\n",
       "      <td>0.0</td>\n",
       "      <td>4.724414</td>\n",
       "    </tr>\n",
       "    <tr>\n",
       "      <th>1</th>\n",
       "      <td>2017-06-01</td>\n",
       "      <td>2017-07-01</td>\n",
       "      <td>981.82</td>\n",
       "      <td>2023</td>\n",
       "      <td>1.0</td>\n",
       "      <td>0.485329</td>\n",
       "    </tr>\n",
       "    <tr>\n",
       "      <th>2</th>\n",
       "      <td>2017-06-01</td>\n",
       "      <td>2017-08-01</td>\n",
       "      <td>885.34</td>\n",
       "      <td>2023</td>\n",
       "      <td>2.0</td>\n",
       "      <td>0.437637</td>\n",
       "    </tr>\n",
       "    <tr>\n",
       "      <th>3</th>\n",
       "      <td>2017-06-01</td>\n",
       "      <td>2017-09-01</td>\n",
       "      <td>1931.30</td>\n",
       "      <td>2023</td>\n",
       "      <td>3.0</td>\n",
       "      <td>0.954671</td>\n",
       "    </tr>\n",
       "    <tr>\n",
       "      <th>4</th>\n",
       "      <td>2017-06-01</td>\n",
       "      <td>2017-10-01</td>\n",
       "      <td>2068.58</td>\n",
       "      <td>2023</td>\n",
       "      <td>4.0</td>\n",
       "      <td>1.022531</td>\n",
       "    </tr>\n",
       "    <tr>\n",
       "      <th>...</th>\n",
       "      <td>...</td>\n",
       "      <td>...</td>\n",
       "      <td>...</td>\n",
       "      <td>...</td>\n",
       "      <td>...</td>\n",
       "      <td>...</td>\n",
       "    </tr>\n",
       "    <tr>\n",
       "      <th>74</th>\n",
       "      <td>2018-03-01</td>\n",
       "      <td>2018-05-01</td>\n",
       "      <td>1114.87</td>\n",
       "      <td>3533</td>\n",
       "      <td>2.0</td>\n",
       "      <td>0.315559</td>\n",
       "    </tr>\n",
       "    <tr>\n",
       "      <th>75</th>\n",
       "      <td>2018-04-01</td>\n",
       "      <td>2018-04-01</td>\n",
       "      <td>10600.69</td>\n",
       "      <td>2276</td>\n",
       "      <td>0.0</td>\n",
       "      <td>4.657597</td>\n",
       "    </tr>\n",
       "    <tr>\n",
       "      <th>76</th>\n",
       "      <td>2018-04-01</td>\n",
       "      <td>2018-05-01</td>\n",
       "      <td>1209.92</td>\n",
       "      <td>2276</td>\n",
       "      <td>1.0</td>\n",
       "      <td>0.531599</td>\n",
       "    </tr>\n",
       "    <tr>\n",
       "      <th>77</th>\n",
       "      <td>2018-05-01</td>\n",
       "      <td>2018-05-01</td>\n",
       "      <td>13925.76</td>\n",
       "      <td>2988</td>\n",
       "      <td>0.0</td>\n",
       "      <td>4.660562</td>\n",
       "    </tr>\n",
       "    <tr>\n",
       "      <th>78</th>\n",
       "      <td>2018-06-01</td>\n",
       "      <td>2018-06-01</td>\n",
       "      <td>3.42</td>\n",
       "      <td>1</td>\n",
       "      <td>0.0</td>\n",
       "      <td>3.420000</td>\n",
       "    </tr>\n",
       "  </tbody>\n",
       "</table>\n",
       "<p>79 rows × 6 columns</p>\n",
       "</div>"
      ],
      "text/plain": [
       "   first_order_month      month   revenue  cohort_size  age       ltv\n",
       "0         2017-06-01 2017-06-01   9557.49         2023  0.0  4.724414\n",
       "1         2017-06-01 2017-07-01    981.82         2023  1.0  0.485329\n",
       "2         2017-06-01 2017-08-01    885.34         2023  2.0  0.437637\n",
       "3         2017-06-01 2017-09-01   1931.30         2023  3.0  0.954671\n",
       "4         2017-06-01 2017-10-01   2068.58         2023  4.0  1.022531\n",
       "..               ...        ...       ...          ...  ...       ...\n",
       "74        2018-03-01 2018-05-01   1114.87         3533  2.0  0.315559\n",
       "75        2018-04-01 2018-04-01  10600.69         2276  0.0  4.657597\n",
       "76        2018-04-01 2018-05-01   1209.92         2276  1.0  0.531599\n",
       "77        2018-05-01 2018-05-01  13925.76         2988  0.0  4.660562\n",
       "78        2018-06-01 2018-06-01      3.42            1  0.0  3.420000\n",
       "\n",
       "[79 rows x 6 columns]"
      ]
     },
     "execution_count": 52,
     "metadata": {},
     "output_type": "execute_result"
    }
   ],
   "source": [
    "ltv_cohort=orders.groupby(['first_order_month','month'])['revenue'].sum().reset_index()\n",
    "ltv_cohort.columns = ['first_order_month','month','revenue']\n",
    "#merge with the cohort size\n",
    "ltv_cohort=ltv_cohort.merge(cohort_sizes,on=['first_order_month'])\n",
    "ltv_cohort['age']=((ltv_cohort['month'] - ltv_cohort['first_order_month']) / np.timedelta64(1,'M')).round()\n",
    "ltv_cohort['ltv']=ltv_cohort['revenue']/ltv_cohort['cohort_size']\n",
    "ltv_cohort"
   ]
  },
  {
   "cell_type": "code",
   "execution_count": 53,
   "id": "a0c723fa",
   "metadata": {},
   "outputs": [],
   "source": [
    "ltv_cohort['ltv']=ltv_cohort['revenue']/ltv_cohort['cohort_size']\n",
    "#ltv_cohort"
   ]
  },
  {
   "cell_type": "code",
   "execution_count": 54,
   "id": "4fbfc66e",
   "metadata": {},
   "outputs": [
    {
     "data": {
      "image/png": "[encoded data removed]",
      "text/plain": [
       "<Figure size 936x648 with 2 Axes>"
      ]
     },
     "metadata": {
      "needs_background": "light"
     },
     "output_type": "display_data"
    }
   ],
   "source": [
    "ltv_cohort_piv=ltv_cohort.pivot_table(index='first_order_month', columns='age',values='ltv',aggfunc='sum').cumsum(axis=1)\n",
    "plt.figure(figsize=(13, 9))\n",
    "ltv_cohort_piv.index=ltv_cohort_piv.index.astype(str)\n",
    "sns.heatmap(ltv_cohort_piv, annot=True, fmt='.2f', linewidths=1, linecolor='grey', cbar_kws= {'orientation': 'horizontal'} ).set(title ='Life Time Value')\n",
    "plt.show()"
   ]
  },
  {
   "cell_type": "markdown",
   "id": "1b7b0e65",
   "metadata": {},
   "source": [
    "We see that the LTV of the customers varies a bit between cohorts, the first the fourth cohort are very different from the others and their users' LTV grows each month. Now, we will check if there is a difference in LTV between different sources. "
   ]
  },
  {
   "cell_type": "code",
   "execution_count": 55,
   "id": "ed0d4f59",
   "metadata": {},
   "outputs": [
    {
     "data": {
      "text/html": [
       "<div>\n",
       "<style scoped>\n",
       "    .dataframe tbody tr th:only-of-type {\n",
       "        vertical-align: middle;\n",
       "    }\n",
       "\n",
       "    .dataframe tbody tr th {\n",
       "        vertical-align: top;\n",
       "    }\n",
       "\n",
       "    .dataframe thead th {\n",
       "        text-align: right;\n",
       "    }\n",
       "</style>\n",
       "<table border=\"1\" class=\"dataframe\">\n",
       "  <thead>\n",
       "    <tr style=\"text-align: right;\">\n",
       "      <th></th>\n",
       "      <th>source</th>\n",
       "      <th>ltv</th>\n",
       "    </tr>\n",
       "  </thead>\n",
       "  <tbody>\n",
       "    <tr>\n",
       "      <th>0</th>\n",
       "      <td>1</td>\n",
       "      <td>10.724577</td>\n",
       "    </tr>\n",
       "    <tr>\n",
       "      <th>1</th>\n",
       "      <td>2</td>\n",
       "      <td>13.383802</td>\n",
       "    </tr>\n",
       "    <tr>\n",
       "      <th>2</th>\n",
       "      <td>3</td>\n",
       "      <td>5.204931</td>\n",
       "    </tr>\n",
       "    <tr>\n",
       "      <th>3</th>\n",
       "      <td>4</td>\n",
       "      <td>5.506685</td>\n",
       "    </tr>\n",
       "    <tr>\n",
       "      <th>4</th>\n",
       "      <td>5</td>\n",
       "      <td>7.592558</td>\n",
       "    </tr>\n",
       "    <tr>\n",
       "      <th>5</th>\n",
       "      <td>7</td>\n",
       "      <td>1.220000</td>\n",
       "    </tr>\n",
       "    <tr>\n",
       "      <th>6</th>\n",
       "      <td>9</td>\n",
       "      <td>5.293566</td>\n",
       "    </tr>\n",
       "    <tr>\n",
       "      <th>7</th>\n",
       "      <td>10</td>\n",
       "      <td>3.348631</td>\n",
       "    </tr>\n",
       "  </tbody>\n",
       "</table>\n",
       "</div>"
      ],
      "text/plain": [
       "   source        ltv\n",
       "0       1  10.724577\n",
       "1       2  13.383802\n",
       "2       3   5.204931\n",
       "3       4   5.506685\n",
       "4       5   7.592558\n",
       "5       7   1.220000\n",
       "6       9   5.293566\n",
       "7      10   3.348631"
      ]
     },
     "execution_count": 55,
     "metadata": {},
     "output_type": "execute_result"
    }
   ],
   "source": [
    "ltv_per_source=orders.groupby(['source id'])[['uid','revenue']].agg({'uid':'nunique','revenue':'sum'}).reset_index()\n",
    "ltv_per_source.columns=['source','buyers','revenue']\n",
    "ltv_per_source['ltv']=ltv_per_source['revenue']/ltv_per_source['buyers']\n",
    "ltv_per_source[['source', 'ltv']]"
   ]
  },
  {
   "cell_type": "markdown",
   "id": "f5e8677d",
   "metadata": {},
   "source": [
    "Sources 1 and 2 have the highest lifetime values while source 7 has the lowest."
   ]
  },
  {
   "cell_type": "markdown",
   "id": "8898e735",
   "metadata": {},
   "source": [
    "##### In summary, the great majority of the users that order do it within the first 24 hours, but most of them do not order again. The buyers are divided by monthly cohorts that behave pretty much the same except for the first and fourth cohort which show higher rates of customer lifetime value and higher average order rates as time passes. Over time, the average amount of revenue is getting smaller  but the average revenue per order grows, meaning that users that keep using the product are increasing the amount they spend in each order. Looking on the sales through the sources that led the users to the product,  we see that in terms of  revenue, source 7 does not produce sales almost at all, source 1-5 shoew similar performance and sources 9-10 show low performance. In terms of LTV, sources 1 and 2 have much higher values than other sources."
   ]
  },
  {
   "cell_type": "markdown",
   "id": "f9ec80b9",
   "metadata": {},
   "source": [
    "### Marketing"
   ]
  },
  {
   "cell_type": "markdown",
   "id": "8a88f54e",
   "metadata": {},
   "source": [
    "#### Calculating amount of money spent\n"
   ]
  },
  {
   "cell_type": "code",
   "execution_count": 56,
   "id": "5dba9dfb",
   "metadata": {},
   "outputs": [],
   "source": [
    "costs['month'] = costs['dt'].values.astype('datetime64[M]')"
   ]
  },
  {
   "cell_type": "code",
   "execution_count": 57,
   "id": "2e9896a8",
   "metadata": {},
   "outputs": [],
   "source": [
    "monthly_sales= orders.groupby('month')['revenue'].sum().reset_index()\n",
    "monthly_costs= costs.groupby('month')['costs'].sum().reset_index()\n",
    "monthly_sales_costs=pd.merge(monthly_costs, monthly_sales, on='month')\n",
    "#monthly_sales_costs.head()"
   ]
  },
  {
   "cell_type": "code",
   "execution_count": 58,
   "id": "d944a0da",
   "metadata": {},
   "outputs": [],
   "source": [
    "buyers_per_month = orders.groupby(['first_order_month'])['uid'].nunique().reset_index()\n",
    "buyers_per_month.columns=['cost_month', 'buyers']\n",
    "#buyers_per_month.head()"
   ]
  },
  {
   "cell_type": "code",
   "execution_count": 59,
   "id": "b7538d25",
   "metadata": {},
   "outputs": [],
   "source": [
    "monthly_costs.columns= ['cost_month', 'marketing_costs']"
   ]
  },
  {
   "cell_type": "code",
   "execution_count": 60,
   "id": "2f8e188f",
   "metadata": {},
   "outputs": [
    {
     "data": {
      "text/html": [
       "<div>\n",
       "<style scoped>\n",
       "    .dataframe tbody tr th:only-of-type {\n",
       "        vertical-align: middle;\n",
       "    }\n",
       "\n",
       "    .dataframe tbody tr th {\n",
       "        vertical-align: top;\n",
       "    }\n",
       "\n",
       "    .dataframe thead th {\n",
       "        text-align: right;\n",
       "    }\n",
       "</style>\n",
       "<table border=\"1\" class=\"dataframe\">\n",
       "  <thead>\n",
       "    <tr style=\"text-align: right;\">\n",
       "      <th></th>\n",
       "      <th>cost_month</th>\n",
       "      <th>marketing_costs</th>\n",
       "      <th>buyers</th>\n",
       "      <th>CAC</th>\n",
       "    </tr>\n",
       "  </thead>\n",
       "  <tbody>\n",
       "    <tr>\n",
       "      <th>0</th>\n",
       "      <td>2017-06-01</td>\n",
       "      <td>18015.00</td>\n",
       "      <td>2023</td>\n",
       "      <td>8.905091</td>\n",
       "    </tr>\n",
       "    <tr>\n",
       "      <th>1</th>\n",
       "      <td>2017-07-01</td>\n",
       "      <td>18240.59</td>\n",
       "      <td>1923</td>\n",
       "      <td>9.485486</td>\n",
       "    </tr>\n",
       "    <tr>\n",
       "      <th>2</th>\n",
       "      <td>2017-08-01</td>\n",
       "      <td>14790.54</td>\n",
       "      <td>1370</td>\n",
       "      <td>10.796015</td>\n",
       "    </tr>\n",
       "    <tr>\n",
       "      <th>3</th>\n",
       "      <td>2017-09-01</td>\n",
       "      <td>24368.91</td>\n",
       "      <td>2581</td>\n",
       "      <td>9.441654</td>\n",
       "    </tr>\n",
       "    <tr>\n",
       "      <th>4</th>\n",
       "      <td>2017-10-01</td>\n",
       "      <td>36322.88</td>\n",
       "      <td>4340</td>\n",
       "      <td>8.369327</td>\n",
       "    </tr>\n",
       "  </tbody>\n",
       "</table>\n",
       "</div>"
      ],
      "text/plain": [
       "  cost_month  marketing_costs  buyers        CAC\n",
       "0 2017-06-01         18015.00    2023   8.905091\n",
       "1 2017-07-01         18240.59    1923   9.485486\n",
       "2 2017-08-01         14790.54    1370  10.796015\n",
       "3 2017-09-01         24368.91    2581   9.441654\n",
       "4 2017-10-01         36322.88    4340   8.369327"
      ]
     },
     "execution_count": 60,
     "metadata": {},
     "output_type": "execute_result"
    }
   ],
   "source": [
    "CAC_per_month=monthly_costs.merge(buyers_per_month,how='left',on=['cost_month'])\n",
    "CAC_per_month['CAC']=CAC_per_month['marketing_costs']/CAC_per_month['buyers']\n",
    "CAC_per_month.head()"
   ]
  },
  {
   "cell_type": "code",
   "execution_count": 61,
   "id": "d159f288",
   "metadata": {},
   "outputs": [],
   "source": [
    "source_costs = costs.groupby(['source_id','month'])['costs'].sum().reset_index()\n",
    "source_cost = costs.pivot_table(values='costs', index='month', columns='source_id', aggfunc='sum')"
   ]
  },
  {
   "cell_type": "code",
   "execution_count": 62,
   "id": "40ffa432",
   "metadata": {},
   "outputs": [
    {
     "name": "stdout",
     "output_type": "stream",
     "text": [
      " The total marketing costs are 329131.62\n",
      " Costs Vs. Revenue by month: \n",
      " \n"
     ]
    },
    {
     "data": {
      "image/png": "[encoded data removed]",
      "text/plain": [
       "<Figure size 432x288 with 1 Axes>"
      ]
     },
     "metadata": {
      "needs_background": "light"
     },
     "output_type": "display_data"
    },
    {
     "name": "stdout",
     "output_type": "stream",
     "text": [
      "The customer acquisition costs over time:\n"
     ]
    },
    {
     "data": {
      "image/png": "[encoded data removed]",
      "text/plain": [
       "<Figure size 432x288 with 1 Axes>"
      ]
     },
     "metadata": {
      "needs_background": "light"
     },
     "output_type": "display_data"
    },
    {
     "name": "stdout",
     "output_type": "stream",
     "text": [
      " The total marketing costs for every source: \n",
      " source_id        1         2          3        4        5        9        10\n",
      "costs      20833.27  42806.04  141321.63  61073.6  51757.1  5517.49  5822.49 \n"
     ]
    },
    {
     "data": {
      "image/png": "[encoded data removed]",
      "text/plain": [
       "<Figure size 792x504 with 1 Axes>"
      ]
     },
     "metadata": {
      "needs_background": "light"
     },
     "output_type": "display_data"
    },
    {
     "data": {
      "image/png": "[encoded data removed]",
      "text/plain": [
       "<Figure size 792x504 with 1 Axes>"
      ]
     },
     "metadata": {
      "needs_background": "light"
     },
     "output_type": "display_data"
    }
   ],
   "source": [
    "print(f\" The total marketing costs are {costs['costs'].sum()}\\n Costs Vs. Revenue by month: \\n \")\n",
    "monthly_sales_costs.plot(x='month', xlabel='Months',title='Marketing costs and sales by month', ylabel='Dollars')\n",
    "plt.show()\n",
    "print(f\"The customer acquisition costs over time:\")\n",
    "CAC_per_month[['cost_month', 'CAC']].plot(x='cost_month')\n",
    "plt.xlabel('Month')\n",
    "plt.ylabel('Dollars')\n",
    "plt.show()\n",
    "print(f\" The total marketing costs for every source: \\n {source_costs.pivot_table(values='costs', columns='source_id', aggfunc='sum')} \")\n",
    "source_cost_plt= source_cost.plot(figsize=(11,7), style='o-',title=\"Monthly marketing costs per source\", xlabel='Month', ylabel='Dollars')\n",
    "source_orders.plot(figsize=(11,7), style='o-',title=\"Monthly revenue per source\", xlabel='Month', ylabel='Dollars')\n",
    "plt.show()"
   ]
  },
  {
   "cell_type": "markdown",
   "id": "7cf50969",
   "metadata": {},
   "source": [
    "We see that the marketing costs are higher than the sales overall, but in the popular months they are close to be balanced, this template is seen in the overall CAC graph - the highest costs are around July-August 17' where the marketing costs are not that high but the buyers' amount is low and the revenue is low too; in later months there are inclines and declines that are affected by the marketing costs and the number of buyers.\n",
    "We see that the marketing costs for source num. 3 are much higher compared to all other sources. Interestingly, when comparing the marketing costs with revenue per source, we see that source num. 3 doesn't show the best revenue as expected, compared to the marketing expenses, and we see a steep incline in the revenue through source 5 in the most popular months."
   ]
  },
  {
   "cell_type": "markdown",
   "id": "5d4b6ac0",
   "metadata": {},
   "source": [
    "#### customer acquisition from each of the sources cost"
   ]
  },
  {
   "cell_type": "code",
   "execution_count": 63,
   "id": "2f753355",
   "metadata": {},
   "outputs": [],
   "source": [
    "source_costs.columns = ['source','cost_month', 'marketing_costs']\n",
    "#source_costs"
   ]
  },
  {
   "cell_type": "code",
   "execution_count": 64,
   "id": "51a774bc",
   "metadata": {},
   "outputs": [],
   "source": [
    "buyers_per_month_source=orders.groupby(['first_order_month', 'source id'])['uid'].nunique().reset_index()\n",
    "buyers_per_month_source.columns=['cost_month','source','buyers']\n",
    "#buyers_per_month_source.head()"
   ]
  },
  {
   "cell_type": "code",
   "execution_count": 65,
   "id": "ca149149",
   "metadata": {},
   "outputs": [],
   "source": [
    "cac_per_month_source = source_costs.merge(buyers_per_month_source, on=['cost_month', 'source'])\n",
    "cac_per_month_source['cac'] = cac_per_month_source['marketing_costs']/cac_per_month_source['buyers']\n",
    "#cac_per_month_source.head()\n",
    "cac_per_source = cac_per_month_source.groupby(['source'])[['marketing_costs', 'buyers']].sum()\n",
    "cac_per_source['cac']= cac_per_source['marketing_costs']/cac_per_source['buyers']\n"
   ]
  },
  {
   "cell_type": "code",
   "execution_count": 66,
   "id": "95eee4a4",
   "metadata": {},
   "outputs": [
    {
     "name": "stdout",
     "output_type": "stream",
     "text": [
      " The customer aquisition cost per source: \n",
      "               cac\n",
      "source           \n",
      "1        7.186364\n",
      "2       12.209367\n",
      "3       13.493901\n",
      "4        5.932356\n",
      "5        7.467479\n",
      "9        5.071222\n",
      "10       4.381106\n"
     ]
    },
    {
     "data": {
      "image/png": "[encoded data removed]",
      "text/plain": [
       "<Figure size 432x288 with 1 Axes>"
      ]
     },
     "metadata": {
      "needs_background": "light"
     },
     "output_type": "display_data"
    }
   ],
   "source": [
    "print(f\" The customer aquisition cost per source: \\n {cac_per_source[['cac']]}\")\n",
    "palette = sns.color_palette(\"mako_r\",7)\n",
    "sns.lineplot(data=cac_per_month_source, x=\"cost_month\", y=\"cac\", hue='source',  palette=palette)\n",
    "plt.title('CAC per source over time')\n",
    "plt.xlabel('Month')\n",
    "plt.ylabel('CAC')\n",
    "plt.show()"
   ]
  },
  {
   "cell_type": "markdown",
   "id": "dfd097f0",
   "metadata": {},
   "source": [
    "As seen earlier, source 3 and 2 have highest CAC overall and through all the months, meaning that the marketing costs compared to number of users that order in each month is higher than this ratio in other sources."
   ]
  },
  {
   "cell_type": "markdown",
   "id": "1da7dccd",
   "metadata": {},
   "source": [
    "#### ROI"
   ]
  },
  {
   "cell_type": "code",
   "execution_count": 67,
   "id": "4336e7bb",
   "metadata": {},
   "outputs": [],
   "source": [
    "CAC_per_month_ROI=CAC_per_month[['cost_month','CAC']]\n",
    "CAC_per_month_ROI.columns=['first_order_month','CAC']\n",
    "#CAC_per_month_ROI"
   ]
  },
  {
   "cell_type": "code",
   "execution_count": 68,
   "id": "4868f6a4",
   "metadata": {},
   "outputs": [
    {
     "data": {
      "text/html": [
       "<div>\n",
       "<style scoped>\n",
       "    .dataframe tbody tr th:only-of-type {\n",
       "        vertical-align: middle;\n",
       "    }\n",
       "\n",
       "    .dataframe tbody tr th {\n",
       "        vertical-align: top;\n",
       "    }\n",
       "\n",
       "    .dataframe thead th {\n",
       "        text-align: right;\n",
       "    }\n",
       "</style>\n",
       "<table border=\"1\" class=\"dataframe\">\n",
       "  <thead>\n",
       "    <tr style=\"text-align: right;\">\n",
       "      <th></th>\n",
       "      <th>first_order_month</th>\n",
       "      <th>month</th>\n",
       "      <th>revenue</th>\n",
       "      <th>cohort_size</th>\n",
       "      <th>age</th>\n",
       "      <th>ltv</th>\n",
       "      <th>CAC</th>\n",
       "    </tr>\n",
       "  </thead>\n",
       "  <tbody>\n",
       "    <tr>\n",
       "      <th>0</th>\n",
       "      <td>2017-06-01</td>\n",
       "      <td>2017-06-01</td>\n",
       "      <td>9557.49</td>\n",
       "      <td>2023</td>\n",
       "      <td>0.0</td>\n",
       "      <td>4.724414</td>\n",
       "      <td>8.905091</td>\n",
       "    </tr>\n",
       "    <tr>\n",
       "      <th>1</th>\n",
       "      <td>2017-06-01</td>\n",
       "      <td>2017-07-01</td>\n",
       "      <td>981.82</td>\n",
       "      <td>2023</td>\n",
       "      <td>1.0</td>\n",
       "      <td>0.485329</td>\n",
       "      <td>8.905091</td>\n",
       "    </tr>\n",
       "    <tr>\n",
       "      <th>2</th>\n",
       "      <td>2017-06-01</td>\n",
       "      <td>2017-08-01</td>\n",
       "      <td>885.34</td>\n",
       "      <td>2023</td>\n",
       "      <td>2.0</td>\n",
       "      <td>0.437637</td>\n",
       "      <td>8.905091</td>\n",
       "    </tr>\n",
       "    <tr>\n",
       "      <th>3</th>\n",
       "      <td>2017-06-01</td>\n",
       "      <td>2017-09-01</td>\n",
       "      <td>1931.30</td>\n",
       "      <td>2023</td>\n",
       "      <td>3.0</td>\n",
       "      <td>0.954671</td>\n",
       "      <td>8.905091</td>\n",
       "    </tr>\n",
       "    <tr>\n",
       "      <th>4</th>\n",
       "      <td>2017-06-01</td>\n",
       "      <td>2017-10-01</td>\n",
       "      <td>2068.58</td>\n",
       "      <td>2023</td>\n",
       "      <td>4.0</td>\n",
       "      <td>1.022531</td>\n",
       "      <td>8.905091</td>\n",
       "    </tr>\n",
       "  </tbody>\n",
       "</table>\n",
       "</div>"
      ],
      "text/plain": [
       "  first_order_month      month  revenue  cohort_size  age       ltv       CAC\n",
       "0        2017-06-01 2017-06-01  9557.49         2023  0.0  4.724414  8.905091\n",
       "1        2017-06-01 2017-07-01   981.82         2023  1.0  0.485329  8.905091\n",
       "2        2017-06-01 2017-08-01   885.34         2023  2.0  0.437637  8.905091\n",
       "3        2017-06-01 2017-09-01  1931.30         2023  3.0  0.954671  8.905091\n",
       "4        2017-06-01 2017-10-01  2068.58         2023  4.0  1.022531  8.905091"
      ]
     },
     "execution_count": 68,
     "metadata": {},
     "output_type": "execute_result"
    }
   ],
   "source": [
    "ROI = ltv_cohort.merge(CAC_per_month_ROI,on=['first_order_month'],how='left')\n",
    "ROI.head()"
   ]
  },
  {
   "cell_type": "code",
   "execution_count": 69,
   "id": "bd908715",
   "metadata": {},
   "outputs": [],
   "source": [
    "ROI['ROI']=ROI['ltv']/ROI['CAC']\n",
    "roi_piv = ROI.pivot_table(index='first_order_month', columns='age', values='ROI', aggfunc='mean').cumsum(axis=1).round(2) \n",
    "#roi_piv"
   ]
  },
  {
   "cell_type": "code",
   "execution_count": 70,
   "id": "7de83e5a",
   "metadata": {},
   "outputs": [
    {
     "data": {
      "image/png": "[encoded data removed]",
      "text/plain": [
       "<Figure size 936x648 with 2 Axes>"
      ]
     },
     "metadata": {
      "needs_background": "light"
     },
     "output_type": "display_data"
    }
   ],
   "source": [
    "roi_piv.index=roi_piv.index.astype(str)\n",
    "plt.figure(figsize=(13, 9))\n",
    "sns.heatmap(roi_piv, annot=True, fmt='.2f', linewidths=1, linecolor='grey', cbar_kws= {'orientation': 'horizontal'} ).set(title ='ROI per cohort')\n",
    "plt.show()"
   ]
  },
  {
   "cell_type": "markdown",
   "id": "4fd47b0a",
   "metadata": {},
   "source": [
    "We see that return of investment happens only in two cohorts and only after few months. In the first 3 months the cohorts behave the same and only at age 3 and later, we start to see differences in terms of ROI. Now we will check if there are differences in ROI between sources:"
   ]
  },
  {
   "cell_type": "code",
   "execution_count": 71,
   "id": "8c5b06a0",
   "metadata": {},
   "outputs": [
    {
     "data": {
      "text/html": [
       "<div>\n",
       "<style scoped>\n",
       "    .dataframe tbody tr th:only-of-type {\n",
       "        vertical-align: middle;\n",
       "    }\n",
       "\n",
       "    .dataframe tbody tr th {\n",
       "        vertical-align: top;\n",
       "    }\n",
       "\n",
       "    .dataframe thead th {\n",
       "        text-align: right;\n",
       "    }\n",
       "</style>\n",
       "<table border=\"1\" class=\"dataframe\">\n",
       "  <thead>\n",
       "    <tr style=\"text-align: right;\">\n",
       "      <th></th>\n",
       "      <th>source</th>\n",
       "      <th>marketing_costs</th>\n",
       "    </tr>\n",
       "  </thead>\n",
       "  <tbody>\n",
       "    <tr>\n",
       "      <th>0</th>\n",
       "      <td>1</td>\n",
       "      <td>20833.27</td>\n",
       "    </tr>\n",
       "    <tr>\n",
       "      <th>1</th>\n",
       "      <td>2</td>\n",
       "      <td>42806.04</td>\n",
       "    </tr>\n",
       "    <tr>\n",
       "      <th>2</th>\n",
       "      <td>3</td>\n",
       "      <td>141321.63</td>\n",
       "    </tr>\n",
       "    <tr>\n",
       "      <th>3</th>\n",
       "      <td>4</td>\n",
       "      <td>61073.60</td>\n",
       "    </tr>\n",
       "    <tr>\n",
       "      <th>4</th>\n",
       "      <td>5</td>\n",
       "      <td>51757.10</td>\n",
       "    </tr>\n",
       "    <tr>\n",
       "      <th>5</th>\n",
       "      <td>9</td>\n",
       "      <td>5517.49</td>\n",
       "    </tr>\n",
       "    <tr>\n",
       "      <th>6</th>\n",
       "      <td>10</td>\n",
       "      <td>5822.49</td>\n",
       "    </tr>\n",
       "  </tbody>\n",
       "</table>\n",
       "</div>"
      ],
      "text/plain": [
       "   source  marketing_costs\n",
       "0       1         20833.27\n",
       "1       2         42806.04\n",
       "2       3        141321.63\n",
       "3       4         61073.60\n",
       "4       5         51757.10\n",
       "5       9          5517.49\n",
       "6      10          5822.49"
      ]
     },
     "execution_count": 71,
     "metadata": {},
     "output_type": "execute_result"
    }
   ],
   "source": [
    "costs_per_source = source_costs.groupby('source')['marketing_costs'].sum().reset_index()\n",
    "costs_per_source"
   ]
  },
  {
   "cell_type": "code",
   "execution_count": 72,
   "id": "bc8444ed",
   "metadata": {},
   "outputs": [
    {
     "data": {
      "text/html": [
       "<div>\n",
       "<style scoped>\n",
       "    .dataframe tbody tr th:only-of-type {\n",
       "        vertical-align: middle;\n",
       "    }\n",
       "\n",
       "    .dataframe tbody tr th {\n",
       "        vertical-align: top;\n",
       "    }\n",
       "\n",
       "    .dataframe thead th {\n",
       "        text-align: right;\n",
       "    }\n",
       "</style>\n",
       "<table border=\"1\" class=\"dataframe\">\n",
       "  <thead>\n",
       "    <tr style=\"text-align: right;\">\n",
       "      <th></th>\n",
       "      <th>source</th>\n",
       "      <th>marketing_costs</th>\n",
       "      <th>buyers</th>\n",
       "      <th>revenue</th>\n",
       "      <th>ltv</th>\n",
       "      <th>cac</th>\n",
       "      <th>roi</th>\n",
       "    </tr>\n",
       "  </thead>\n",
       "  <tbody>\n",
       "    <tr>\n",
       "      <th>0</th>\n",
       "      <td>1</td>\n",
       "      <td>20833.27</td>\n",
       "      <td>2899</td>\n",
       "      <td>31090.55</td>\n",
       "      <td>10.724577</td>\n",
       "      <td>7.186364</td>\n",
       "      <td>1.492351</td>\n",
       "    </tr>\n",
       "    <tr>\n",
       "      <th>1</th>\n",
       "      <td>2</td>\n",
       "      <td>42806.04</td>\n",
       "      <td>3506</td>\n",
       "      <td>46923.61</td>\n",
       "      <td>13.383802</td>\n",
       "      <td>12.209367</td>\n",
       "      <td>1.096191</td>\n",
       "    </tr>\n",
       "    <tr>\n",
       "      <th>2</th>\n",
       "      <td>3</td>\n",
       "      <td>141321.63</td>\n",
       "      <td>10473</td>\n",
       "      <td>54511.24</td>\n",
       "      <td>5.204931</td>\n",
       "      <td>13.493901</td>\n",
       "      <td>0.385725</td>\n",
       "    </tr>\n",
       "    <tr>\n",
       "      <th>3</th>\n",
       "      <td>4</td>\n",
       "      <td>61073.60</td>\n",
       "      <td>10296</td>\n",
       "      <td>56696.83</td>\n",
       "      <td>5.506685</td>\n",
       "      <td>5.931779</td>\n",
       "      <td>0.928336</td>\n",
       "    </tr>\n",
       "    <tr>\n",
       "      <th>4</th>\n",
       "      <td>5</td>\n",
       "      <td>51757.10</td>\n",
       "      <td>6931</td>\n",
       "      <td>52624.02</td>\n",
       "      <td>7.592558</td>\n",
       "      <td>7.467479</td>\n",
       "      <td>1.016750</td>\n",
       "    </tr>\n",
       "    <tr>\n",
       "      <th>5</th>\n",
       "      <td>9</td>\n",
       "      <td>5517.49</td>\n",
       "      <td>1088</td>\n",
       "      <td>5759.40</td>\n",
       "      <td>5.293566</td>\n",
       "      <td>5.071222</td>\n",
       "      <td>1.043844</td>\n",
       "    </tr>\n",
       "    <tr>\n",
       "      <th>6</th>\n",
       "      <td>10</td>\n",
       "      <td>5822.49</td>\n",
       "      <td>1329</td>\n",
       "      <td>4450.33</td>\n",
       "      <td>3.348631</td>\n",
       "      <td>4.381106</td>\n",
       "      <td>0.764335</td>\n",
       "    </tr>\n",
       "  </tbody>\n",
       "</table>\n",
       "</div>"
      ],
      "text/plain": [
       "   source  marketing_costs  buyers   revenue        ltv        cac       roi\n",
       "0       1         20833.27    2899  31090.55  10.724577   7.186364  1.492351\n",
       "1       2         42806.04    3506  46923.61  13.383802  12.209367  1.096191\n",
       "2       3        141321.63   10473  54511.24   5.204931  13.493901  0.385725\n",
       "3       4         61073.60   10296  56696.83   5.506685   5.931779  0.928336\n",
       "4       5         51757.10    6931  52624.02   7.592558   7.467479  1.016750\n",
       "5       9          5517.49    1088   5759.40   5.293566   5.071222  1.043844\n",
       "6      10          5822.49    1329   4450.33   3.348631   4.381106  0.764335"
      ]
     },
     "execution_count": 72,
     "metadata": {},
     "output_type": "execute_result"
    }
   ],
   "source": [
    "roi_per_source=costs_per_source.merge(ltv_per_source, on='source')\n",
    "roi_per_source['cac']=roi_per_source['marketing_costs']/roi_per_source['buyers']\n",
    "roi_per_source['roi']=roi_per_source['ltv']/roi_per_source['cac']\n",
    "roi_per_source"
   ]
  },
  {
   "cell_type": "code",
   "execution_count": 73,
   "id": "2a7716b1",
   "metadata": {},
   "outputs": [
    {
     "data": {
      "image/png": "[encoded data removed]",
      "text/plain": [
       "<Figure size 576x432 with 1 Axes>"
      ]
     },
     "metadata": {
      "needs_background": "light"
     },
     "output_type": "display_data"
    }
   ],
   "source": [
    "fig= plt.subplots(figsize=(8, 6))\n",
    "chart = sns.barplot(data=roi_per_source[['source', 'roi']], x='source', y='roi')\n",
    "plt.title('ROI per source')\n",
    "chart.set_xticklabels(chart.get_xticklabels())\n",
    "for p in chart.patches:\n",
    "    chart.annotate(\"{:,.2f}\".format(p.get_height(), '.2f'), (p.get_x() + p.get_width() / 2., p.get_height()), ha = 'center', va = 'center', xytext = (0, 10), textcoords = 'offset points')\n",
    "\n",
    "plt.show()"
   ]
  },
  {
   "cell_type": "markdown",
   "id": "96fe1ecd",
   "metadata": {},
   "source": [
    "As seen in the graph, the source with the highest rate of return of investment in source 1, after him source 2 (that showed earlier high ltv score), then sources 9,5,4,10 and the lowest is source number 3. Source 7 ommited from the data because the company did not pay for marketing in this channel. "
   ]
  },
  {
   "cell_type": "markdown",
   "id": "cf7e502e",
   "metadata": {},
   "source": [
    "##### In summary: \n",
    "The users of the product have a bit more than 1 session a day in average, each session duration varies but the median value is one minute. Due to its purpose and the date in the databases, users were devided by monthly cohorts, most of the cohorts act in the same manner but the first and fourth cohorts present different user behavior that leads to higher rates of LTV and ROI. Although most of the users order from the product within their first day of usage, their ROI becomes positive only after few months of usage. A few source were highlighted during the analysis: source 3 had the highest marketing costs, source 5 had a significant peak and considerably high values of revenues, source 2 had high customer acquisition costs but showed, with source 1, the highest return of investment rates.\n",
    "###### We would suggest the company keep investing in sources 2 and 5, source 2 shows high LTV value, meaning that through the lifetime of the customers they bring high revenues to the company. Although the customer acquisition costs are high, the revenue these customers bring makes the investment worth it. Source 5 shows also good ROI but considered better than the other sources because its total revenues much higher compared to other sources with ROI>1."
   ]
  }
 ],
 "metadata": {
  "kernelspec": {
   "display_name": "Python 3",
   "language": "python",
   "name": "python3"
  },
  "language_info": {
   "codemirror_mode": {
    "name": "ipython",
    "version": 3
   },
   "file_extension": ".py",
   "mimetype": "text/x-python",
   "name": "python",
   "nbconvert_exporter": "python",
   "pygments_lexer": "ipython3",
   "version": "3.8.8"
  },
  "toc": {
   "base_numbering": 1,
   "nav_menu": {},
   "number_sections": true,
   "sideBar": true,
   "skip_h1_title": true,
   "title_cell": "Table of Contents",
   "title_sidebar": "Contents",
   "toc_cell": false,
   "toc_position": {},
   "toc_section_display": true,
   "toc_window_display": false
  }
 },
 "nbformat": 4,
 "nbformat_minor": 5
}
